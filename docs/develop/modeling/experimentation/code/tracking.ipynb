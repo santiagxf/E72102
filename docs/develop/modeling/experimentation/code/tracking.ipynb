{
  "cells": [
    {
      "cell_type": "markdown",
      "metadata": {
        "id": "8qPBlJDHwucz"
      },
      "source": [
        "Experimentos y ejecuciones en modelos de aprendizaje automático\n",
        "==============================================================="
      ]
    },
    {
      "cell_type": "markdown",
      "metadata": {
        "id": "PM02vWO4wuc5"
      },
      "source": [
        "## Introducción\n",
        "\n",
        "El seguimiento (o tracking) de experimentos de aprendizaje automático es el proceso de organizar, registrar y analizar los resultados de los procesos de entrenamiento y evaluación de modelos. El objetivo es obtener información que pueda usarse para mejorar modelos futuros y tomar mejores decisiones sobre qué algoritmos y parámetros a usar.\n",
        "\n",
        "### Beneficios\n",
        "\n",
        "Hay muchos beneficios al usar herramientas de tracking de experimentos de aprendizaje automático, particularmente:\n",
        "\n",
        "- Ayuda a comprender el rendimiento de los modelos.\n",
        "- Ayuda a comparar differentes modelos y encontrar los hiperparámetros correctos.\n",
        "- Posibilita la automatización de experimentos.\n",
        "- Posibilita la reproducibilidad de los resultados.\n",
        "\n",
        "### Conceptos\n",
        "\n",
        "La mayoria de las herramientas de seguimiento utilizan 6 conceptos fundamentales:\n",
        "\n",
        "- **Experimentos:** Representan el problema que queremos resolver. Los experimentos en general se identifican con un nombre y sirven de contenedor de todas las ejecuciones de nuestras iteraciones de aprendizaje automático.\n",
        "- **Ejecuciones (runs o trials):** Es cada de la iteraciones dentro del proceso de desarrollo, incluyendo el proceso de preprocesamiento de datos, entrenamiento de modelos, y evaluación. En simples terminos, cualquier operación que es necesaria para generar y/o evaluar nuestro modelo de aprendizaje automático se sucede dentro de una ejecución.\n",
        "- **Parametros:** Representan cada uno de los valores que nuestro proceso de aprendizaje automático utiliza cómo configuración para el proceso de aprendizaje. Los hiperparámetros son casos típicos.\n",
        "- **Métricas:** Representan cada una de las métricas que podemos utilizar para comparar o evaluar los resultados de la ejecución.\n",
        "- **Modelos:** Representan cada uno de los modelos de aprendizaje automático que fueron generados durante la ejecución.\n",
        "- **Artefactos:** Cualquier otro archivo que es generado como parte del proceso y que nos interesa mantener bajo control (source control) a los efectos de auditoria y reproducibilidad.\n",
        "\n",
        "\n",
        "### Herramientas\n",
        "\n",
        "Existen multiples herramientas en el mercado para el siguimiento de experimentos. Algunas de las más populares incluye:\n",
        "\n",
        "- Herramientas incorporadas en nubes públicas:\n",
        "\n",
        "  - Azure Machine Learning\n",
        "  - AWS SageMaker\n",
        "  - GCP Vertex AI\n",
        "\n",
        "- Herramientas especificas:\n",
        "\n",
        "  - MLflow\n",
        "  - Weights & Biases\n",
        "  - Comet\n",
        "  - ClearML\n",
        "\n",
        "En este ejemplo, utilizaremos la herramienta Comet por el simple hecho de que es gratuita y tiene una curva de aprendizaje muy baja."
      ]
    },
    {
      "cell_type": "markdown",
      "metadata": {
        "id": "PjoSE6qawuc6"
      },
      "source": [
        "## Seguimiento del proceso de entrenando para el problema censo de la UCI"
      ]
    },
    {
      "cell_type": "markdown",
      "metadata": {
        "id": "CWmaFc37wuc8"
      },
      "source": [
        "### Instalación"
      ]
    },
    {
      "cell_type": "markdown",
      "source": [
        "Instalemos las librerias que necesitamos para resolver nuestro problema:"
      ],
      "metadata": {
        "id": "k1KQjsT9m9gL"
      }
    },
    {
      "cell_type": "code",
      "execution_count": 1,
      "metadata": {
        "id": "CRlKo48owuc_",
        "outputId": "e04ec862-46ec-46ec-95c1-50c04efd85d4",
        "colab": {
          "base_uri": "https://localhost:8080/"
        }
      },
      "outputs": [
        {
          "output_type": "stream",
          "name": "stdout",
          "text": [
            "\u001b[?25l     \u001b[90m━━━━━━━━━━━━━━━━━━━━━━━━━━━━━━━━━━━━━━━━\u001b[0m \u001b[32m0.0/100.3 kB\u001b[0m \u001b[31m?\u001b[0m eta \u001b[36m-:--:--\u001b[0m\r\u001b[2K     \u001b[90m━━━━━━━━━━━━━━━━━━━━━━━━━━━━━━━━━━━━━━━\u001b[0m \u001b[32m100.3/100.3 kB\u001b[0m \u001b[31m3.3 MB/s\u001b[0m eta \u001b[36m0:00:00\u001b[0m\n",
            "\u001b[?25h"
          ]
        }
      ],
      "source": [
        "!wget https://raw.githubusercontent.com/santiagxf/E72102/master/docs/develop/modeling/experimentation/code/tuning_bayesian.txt \\\n",
        "    --quiet --no-clobber\n",
        "!pip install -r tuning_bayesian.txt --quiet"
      ]
    },
    {
      "cell_type": "markdown",
      "source": [
        "Adicionalmente, instalaremos la libreria de Comet:"
      ],
      "metadata": {
        "id": "pbaipmSenCxJ"
      }
    },
    {
      "cell_type": "code",
      "source": [
        "%pip install comet_ml --quiet"
      ],
      "metadata": {
        "colab": {
          "base_uri": "https://localhost:8080/"
        },
        "id": "Z4jhvJw5VAAv",
        "outputId": "1fec36f9-56bf-42c6-fa67-474ae18d8151"
      },
      "execution_count": 2,
      "outputs": [
        {
          "output_type": "stream",
          "name": "stdout",
          "text": [
            "\u001b[2K     \u001b[90m━━━━━━━━━━━━━━━━━━━━━━━━━━━━━━━━━━━━━━━\u001b[0m \u001b[32m534.7/534.7 kB\u001b[0m \u001b[31m9.6 MB/s\u001b[0m eta \u001b[36m0:00:00\u001b[0m\n",
            "\u001b[2K     \u001b[90m━━━━━━━━━━━━━━━━━━━━━━━━━━━━━━━━━━━━━━━━\u001b[0m \u001b[32m18.1/18.1 MB\u001b[0m \u001b[31m74.1 MB/s\u001b[0m eta \u001b[36m0:00:00\u001b[0m\n",
            "\u001b[2K     \u001b[90m━━━━━━━━━━━━━━━━━━━━━━━━━━━━━━━━━━━━━━━━\u001b[0m \u001b[32m3.3/3.3 MB\u001b[0m \u001b[31m87.8 MB/s\u001b[0m eta \u001b[36m0:00:00\u001b[0m\n",
            "\u001b[2K     \u001b[90m━━━━━━━━━━━━━━━━━━━━━━━━━━━━━━━━━━━━━━━━\u001b[0m \u001b[32m54.5/54.5 kB\u001b[0m \u001b[31m4.9 MB/s\u001b[0m eta \u001b[36m0:00:00\u001b[0m\n",
            "\u001b[2K     \u001b[90m━━━━━━━━━━━━━━━━━━━━━━━━━━━━━━━━━━━━━━\u001b[0m \u001b[32m206.7/206.7 kB\u001b[0m \u001b[31m19.2 MB/s\u001b[0m eta \u001b[36m0:00:00\u001b[0m\n",
            "\u001b[2K     \u001b[90m━━━━━━━━━━━━━━━━━━━━━━━━━━━━━━━━━━━━━━\u001b[0m \u001b[32m137.9/137.9 kB\u001b[0m \u001b[31m12.4 MB/s\u001b[0m eta \u001b[36m0:00:00\u001b[0m\n",
            "\u001b[2K     \u001b[90m━━━━━━━━━━━━━━━━━━━━━━━━━━━━━━━━━━━━━━━━\u001b[0m \u001b[32m54.3/54.3 kB\u001b[0m \u001b[31m4.7 MB/s\u001b[0m eta \u001b[36m0:00:00\u001b[0m\n",
            "\u001b[2K     \u001b[90m━━━━━━━━━━━━━━━━━━━━━━━━━━━━━━━━━━━━━━\u001b[0m \u001b[32m510.1/510.1 kB\u001b[0m \u001b[31m31.2 MB/s\u001b[0m eta \u001b[36m0:00:00\u001b[0m\n",
            "\u001b[2K     \u001b[90m━━━━━━━━━━━━━━━━━━━━━━━━━━━━━━━━━━━━━━━\u001b[0m \u001b[32m123.6/123.6 kB\u001b[0m \u001b[31m8.2 MB/s\u001b[0m eta \u001b[36m0:00:00\u001b[0m\n",
            "\u001b[2K     \u001b[90m━━━━━━━━━━━━━━━━━━━━━━━━━━━━━━━━━━━━━━━━\u001b[0m \u001b[32m83.5/83.5 kB\u001b[0m \u001b[31m7.3 MB/s\u001b[0m eta \u001b[36m0:00:00\u001b[0m\n",
            "\u001b[?25h  Preparing metadata (setup.py) ... \u001b[?25l\u001b[?25hdone\n",
            "\u001b[2K     \u001b[90m━━━━━━━━━━━━━━━━━━━━━━━━━━━━━━━━━━━━━━━\u001b[0m \u001b[32m184.3/184.3 kB\u001b[0m \u001b[31m9.8 MB/s\u001b[0m eta \u001b[36m0:00:00\u001b[0m\n",
            "\u001b[2K     \u001b[90m━━━━━━━━━━━━━━━━━━━━━━━━━━━━━━━━━━━━━━\u001b[0m \u001b[32m224.5/224.5 kB\u001b[0m \u001b[31m14.2 MB/s\u001b[0m eta \u001b[36m0:00:00\u001b[0m\n",
            "\u001b[2K     \u001b[90m━━━━━━━━━━━━━━━━━━━━━━━━━━━━━━━━━━━━━━━\u001b[0m \u001b[32m148.1/148.1 kB\u001b[0m \u001b[31m5.7 MB/s\u001b[0m eta \u001b[36m0:00:00\u001b[0m\n",
            "\u001b[2K     \u001b[90m━━━━━━━━━━━━━━━━━━━━━━━━━━━━━━━━━━━━━━━━\u001b[0m \u001b[32m79.5/79.5 kB\u001b[0m \u001b[31m5.5 MB/s\u001b[0m eta \u001b[36m0:00:00\u001b[0m\n",
            "\u001b[2K     \u001b[90m━━━━━━━━━━━━━━━━━━━━━━━━━━━━━━━━━━━━━━━━\u001b[0m \u001b[32m78.7/78.7 kB\u001b[0m \u001b[31m6.0 MB/s\u001b[0m eta \u001b[36m0:00:00\u001b[0m\n",
            "\u001b[2K     \u001b[90m━━━━━━━━━━━━━━━━━━━━━━━━━━━━━━━━━━━━━━━━\u001b[0m \u001b[32m82.7/82.7 kB\u001b[0m \u001b[31m5.8 MB/s\u001b[0m eta \u001b[36m0:00:00\u001b[0m\n",
            "\u001b[?25h  Preparing metadata (setup.py) ... \u001b[?25l\u001b[?25hdone\n",
            "\u001b[2K     \u001b[90m━━━━━━━━━━━━━━━━━━━━━━━━━━━━━━━━━━━━━━━━\u001b[0m \u001b[32m62.7/62.7 kB\u001b[0m \u001b[31m3.7 MB/s\u001b[0m eta \u001b[36m0:00:00\u001b[0m\n",
            "\u001b[2K     \u001b[90m━━━━━━━━━━━━━━━━━━━━━━━━━━━━━━━━━━━━━━━━\u001b[0m \u001b[32m62.6/62.6 kB\u001b[0m \u001b[31m3.3 MB/s\u001b[0m eta \u001b[36m0:00:00\u001b[0m\n",
            "\u001b[?25h  Building wheel for databricks-cli (setup.py) ... \u001b[?25l\u001b[?25hdone\n",
            "\u001b[31mERROR: pip's dependency resolver does not currently take into account all the packages that are installed. This behaviour is the source of the following dependency conflicts.\n",
            "google-colab 1.0.0 requires requests==2.27.1, but you have requests 2.31.0 which is incompatible.\u001b[0m\u001b[31m\n",
            "\u001b[0m"
          ]
        }
      ]
    },
    {
      "cell_type": "markdown",
      "metadata": {
        "id": "CyWscZCQwudE"
      },
      "source": [
        "### Sobre el conjunto de datos del censo UCI\n",
        "\n",
        "El conjunto de datos del censo de la UCI es un conjunto de datos en el que cada registro representa a una persona. Cada registro contiene 14 columnas que describen a una una sola persona, de la base de datos del censo de Estados Unidos de 1994. Esto incluye información como la edad, el estado civil y el nivel educativo. La tarea es determinar si una persona tiene un ingreso alto (definido como ganar más de $50 mil al año). Esta tarea, dado el tipo de datos que utiliza, se usa a menudo en el estudio de equidad, en parte debido a los atributos comprensibles del conjunto de datos, incluidos algunos que contienen tipos sensibles como la edad y el género, y en parte también porque comprende una tarea claramente del mundo real."
      ]
    },
    {
      "cell_type": "markdown",
      "metadata": {
        "id": "OnHZuGLSwudG"
      },
      "source": [
        "Descargamos el conjunto de datos"
      ]
    },
    {
      "cell_type": "code",
      "execution_count": 3,
      "metadata": {
        "id": "PcnArrfQwudH"
      },
      "outputs": [],
      "source": [
        "!wget https://santiagxf.blob.core.windows.net/public/datasets/uci_census.zip \\\n",
        "    --quiet --no-clobber\n",
        "!mkdir -p datasets/uci_census\n",
        "!unzip -qq uci_census.zip -d datasets/uci_census"
      ]
    },
    {
      "cell_type": "markdown",
      "metadata": {
        "id": "0ZO-pj3WwudI"
      },
      "source": [
        "Lo importamos"
      ]
    },
    {
      "cell_type": "code",
      "execution_count": 16,
      "metadata": {
        "id": "sn4kODTMwudI"
      },
      "outputs": [],
      "source": [
        "import pandas as pd\n",
        "import numpy as np\n",
        "\n",
        "train = pd.read_csv('datasets/uci_census/data/adult-train.csv')\n",
        "test = pd.read_csv('datasets/uci_census/data/adult-test.csv')"
      ]
    },
    {
      "cell_type": "markdown",
      "source": [
        "### Configurando Comet en nuestro notebook"
      ],
      "metadata": {
        "id": "QnYxyGpWfO7m"
      }
    },
    {
      "cell_type": "code",
      "source": [
        "import comet_ml\n",
        "\n",
        "experiment = comet_ml.Experiment(\n",
        "    api_key=\"XXXXXXXXXXX\",\n",
        "    project_name = \"uci-adults-income\",\n",
        "    workspace=\"santiagxf\"\n",
        ")"
      ],
      "metadata": {
        "colab": {
          "base_uri": "https://localhost:8080/"
        },
        "id": "OcnIIfpOebz6",
        "outputId": "37d3e4ca-e1ff-4aad-a3e9-3eb1561d5c9e"
      },
      "execution_count": 17,
      "outputs": [
        {
          "output_type": "stream",
          "name": "stderr",
          "text": [
            "\u001b[1;38;5;214mCOMET WARNING:\u001b[0m As you are running in a Jupyter environment, you will need to call `experiment.end()` when finished to ensure all metrics and code are logged before exiting.\n",
            "\u001b[1;38;5;39mCOMET INFO:\u001b[0m Couldn't find a Git repository in '/content' nor in any parent directory. Set `COMET_GIT_DIRECTORY` if your Git Repository is elsewhere.\n",
            "\u001b[1;38;5;39mCOMET INFO:\u001b[0m Experiment is live on comet.com https://www.comet.com/santiagxf/uci-adults-income/b3d5899ad13b4fefa6da6498072a5ae1\n",
            "\n"
          ]
        }
      ]
    },
    {
      "cell_type": "markdown",
      "metadata": {
        "id": "MMG5UhjewudK"
      },
      "source": [
        "### Creando el modelo\n",
        "\n",
        "En este ejemplo, crearemos un modelo muy sencillo con el cual trabajar."
      ]
    },
    {
      "cell_type": "markdown",
      "metadata": {
        "id": "gdNPtv-KwudK"
      },
      "source": [
        "Preparando nuestros conjuntos de datos"
      ]
    },
    {
      "cell_type": "code",
      "execution_count": 18,
      "metadata": {
        "id": "EhLsyUphwudL"
      },
      "outputs": [],
      "source": [
        "X_train = train.drop(['income'], axis=1)\n",
        "y_train = train['income'].to_numpy()\n",
        "X_test = test.drop(['income'], axis=1)\n",
        "y_test = test['income'].to_numpy()"
      ]
    },
    {
      "cell_type": "code",
      "execution_count": 19,
      "metadata": {
        "id": "oZiFns7SwudL"
      },
      "outputs": [],
      "source": [
        "classes = train['income'].unique().tolist()\n",
        "features = X_train.columns.values.tolist()\n",
        "categorical_features = X_train.dtypes[X_train.dtypes == 'object'].index.tolist()"
      ]
    },
    {
      "cell_type": "markdown",
      "metadata": {
        "id": "6HzsWIV1wudM"
      },
      "source": [
        "Realizaremos un pequeño preprocesamiento antes de entrenar el modelo:\n",
        "\n",
        "- Imputaremos los valores faltantes de las caracteristicas numéricas con la media\n",
        "- Imputaremos los valores faltantes de las caracteristicas categóricas con el valor `?`\n",
        "- Escalaremos los valores numericos utilizando un `StandardScaler`\n",
        "- Codificaremos las variables categóricas utilizando `OneHotEncoder`"
      ]
    },
    {
      "cell_type": "code",
      "execution_count": 20,
      "metadata": {
        "id": "374RsZu0wudM"
      },
      "outputs": [],
      "source": [
        "from typing import Tuple, List\n",
        "\n",
        "import sklearn\n",
        "from sklearn.pipeline import Pipeline\n",
        "from sklearn.impute import SimpleImputer\n",
        "from sklearn.preprocessing import StandardScaler, OneHotEncoder\n",
        "from sklearn.compose import ColumnTransformer\n",
        "\n",
        "\n",
        "def prepare(X: pd.DataFrame) -> Tuple[np.ndarray, sklearn.compose.ColumnTransformer]:\n",
        "    pipe_cfg = {\n",
        "        'num_cols': X.dtypes[X.dtypes == 'int64'].index.values.tolist(),\n",
        "        'cat_cols': X.dtypes[X.dtypes == 'object'].index.values.tolist(),\n",
        "    }\n",
        "\n",
        "    num_pipe = Pipeline([\n",
        "        ('num_imputer', SimpleImputer(strategy='median')),\n",
        "        ('num_scaler', StandardScaler())\n",
        "    ])\n",
        "\n",
        "    cat_pipe = Pipeline([\n",
        "        ('cat_imputer', SimpleImputer(strategy='constant', fill_value='?')),\n",
        "        ('cat_encoder', OneHotEncoder(handle_unknown='ignore', sparse_output=False))\n",
        "    ])\n",
        "\n",
        "    transformations = ColumnTransformer([\n",
        "        ('num_pipe', num_pipe, pipe_cfg['num_cols']),\n",
        "        ('cat_pipe', cat_pipe, pipe_cfg['cat_cols'])\n",
        "    ])\n",
        "    X = transformations.fit_transform(X)\n",
        "\n",
        "    return X, transformations\n",
        "\n",
        "\n",
        "X_train_transformed, transformations = prepare(X_train)\n",
        "X_test_transformed = transformations.transform(X_test)"
      ]
    },
    {
      "cell_type": "markdown",
      "metadata": {
        "id": "81atQ7WUwudN"
      },
      "source": [
        "Entrenamos un modelo basado en `lightgbm`"
      ]
    },
    {
      "cell_type": "code",
      "execution_count": 21,
      "metadata": {
        "id": "u2MVdIhKwudN"
      },
      "outputs": [],
      "source": [
        "from lightgbm import LGBMClassifier\n",
        "\n",
        "with experiment.train():\n",
        "    clf = LGBMClassifier(n_estimators=5)\n",
        "    model = clf.fit(X_train_transformed, y_train)"
      ]
    },
    {
      "cell_type": "markdown",
      "source": [
        "Podemos revisar la performance del modelo:"
      ],
      "metadata": {
        "id": "Lwr57cbqJRuN"
      }
    },
    {
      "cell_type": "code",
      "source": [
        "from sklearn.metrics import classification_report\n",
        "\n",
        "with experiment.test():\n",
        "    predictions = model.predict(X_test_transformed)\n",
        "    print(classification_report(y_test, predictions))\n",
        "    for key, value in classification_report(y_test, predictions, output_dict=True).items():\n",
        "        if key == \"accuracy\":\n",
        "            experiment.log_metric(key, value)\n",
        "        else:\n",
        "            experiment.log_metrics(value, prefix=f\"{key}\")"
      ],
      "metadata": {
        "colab": {
          "base_uri": "https://localhost:8080/"
        },
        "id": "kMNf-9RkJTme",
        "outputId": "4315cbeb-c4b9-4539-8a42-f576322aae68"
      },
      "execution_count": 23,
      "outputs": [
        {
          "output_type": "stream",
          "name": "stdout",
          "text": [
            "              precision    recall  f1-score   support\n",
            "\n",
            "       <=50K       0.81      1.00      0.90     12435\n",
            "        >50K       0.98      0.25      0.40      3846\n",
            "\n",
            "    accuracy                           0.82     16281\n",
            "   macro avg       0.90      0.63      0.65     16281\n",
            "weighted avg       0.85      0.82      0.78     16281\n",
            "\n"
          ]
        }
      ]
    },
    {
      "cell_type": "markdown",
      "source": [
        "### Finalizando la ejecución del experimento"
      ],
      "metadata": {
        "id": "hQRzBj31nXgZ"
      }
    },
    {
      "cell_type": "code",
      "source": [
        "experiment.end()"
      ],
      "metadata": {
        "colab": {
          "base_uri": "https://localhost:8080/"
        },
        "id": "nrR0ZH-tfYVr",
        "outputId": "8606b362-bae4-477c-b3eb-a809c3b3d560"
      },
      "execution_count": 24,
      "outputs": [
        {
          "output_type": "stream",
          "name": "stderr",
          "text": [
            "\u001b[1;38;5;39mCOMET INFO:\u001b[0m ---------------------------------------------------------------------------------------\n",
            "\u001b[1;38;5;39mCOMET INFO:\u001b[0m Comet.ml Experiment Summary\n",
            "\u001b[1;38;5;39mCOMET INFO:\u001b[0m ---------------------------------------------------------------------------------------\n",
            "\u001b[1;38;5;39mCOMET INFO:\u001b[0m   Data:\n",
            "\u001b[1;38;5;39mCOMET INFO:\u001b[0m     display_summary_level : 1\n",
            "\u001b[1;38;5;39mCOMET INFO:\u001b[0m     url                   : https://www.comet.com/santiagxf/uci-adults-income/b3d5899ad13b4fefa6da6498072a5ae1\n",
            "\u001b[1;38;5;39mCOMET INFO:\u001b[0m   Metrics:\n",
            "\u001b[1;38;5;39mCOMET INFO:\u001b[0m     test_<=50K_f1-score         : 0.8955966677485665\n",
            "\u001b[1;38;5;39mCOMET INFO:\u001b[0m     test_<=50K_precision        : 0.8118870145154963\n",
            "\u001b[1;38;5;39mCOMET INFO:\u001b[0m     test_<=50K_recall           : 0.9985524728588661\n",
            "\u001b[1;38;5;39mCOMET INFO:\u001b[0m     test_<=50K_support          : 12435\n",
            "\u001b[1;38;5;39mCOMET INFO:\u001b[0m     test_>50K_f1-score          : 0.4009931719428926\n",
            "\u001b[1;38;5;39mCOMET INFO:\u001b[0m     test_>50K_precision         : 0.9817629179331308\n",
            "\u001b[1;38;5;39mCOMET INFO:\u001b[0m     test_>50K_recall            : 0.25195007800312014\n",
            "\u001b[1;38;5;39mCOMET INFO:\u001b[0m     test_>50K_support           : 3846\n",
            "\u001b[1;38;5;39mCOMET INFO:\u001b[0m     test_accuracy               : 0.8221853694490511\n",
            "\u001b[1;38;5;39mCOMET INFO:\u001b[0m     test_macro avg_f1-score     : 0.6482949198457295\n",
            "\u001b[1;38;5;39mCOMET INFO:\u001b[0m     test_macro avg_precision    : 0.8968249662243135\n",
            "\u001b[1;38;5;39mCOMET INFO:\u001b[0m     test_macro avg_recall       : 0.6252512754309931\n",
            "\u001b[1;38;5;39mCOMET INFO:\u001b[0m     test_macro avg_support      : 16281\n",
            "\u001b[1;38;5;39mCOMET INFO:\u001b[0m     test_weighted avg_f1-score  : 0.7787583258243221\n",
            "\u001b[1;38;5;39mCOMET INFO:\u001b[0m     test_weighted avg_precision : 0.8520161665666125\n",
            "\u001b[1;38;5;39mCOMET INFO:\u001b[0m     test_weighted avg_recall    : 0.8221853694490511\n",
            "\u001b[1;38;5;39mCOMET INFO:\u001b[0m     test_weighted avg_support   : 16281\n",
            "\u001b[1;38;5;39mCOMET INFO:\u001b[0m   Parameters:\n",
            "\u001b[1;38;5;39mCOMET INFO:\u001b[0m     add_indicator              : False\n",
            "\u001b[1;38;5;39mCOMET INFO:\u001b[0m     categories                 : auto\n",
            "\u001b[1;38;5;39mCOMET INFO:\u001b[0m     copy                       : True\n",
            "\u001b[1;38;5;39mCOMET INFO:\u001b[0m     drop                       : 1\n",
            "\u001b[1;38;5;39mCOMET INFO:\u001b[0m     dtype                      : <class 'numpy.float64'>\n",
            "\u001b[1;38;5;39mCOMET INFO:\u001b[0m     fill_value                 : ?\n",
            "\u001b[1;38;5;39mCOMET INFO:\u001b[0m     handle_unknown             : ignore\n",
            "\u001b[1;38;5;39mCOMET INFO:\u001b[0m     keep_empty_features        : False\n",
            "\u001b[1;38;5;39mCOMET INFO:\u001b[0m     max_categories             : 1\n",
            "\u001b[1;38;5;39mCOMET INFO:\u001b[0m     min_frequency              : 1\n",
            "\u001b[1;38;5;39mCOMET INFO:\u001b[0m     missing_values             : nan\n",
            "\u001b[1;38;5;39mCOMET INFO:\u001b[0m     sparse                     : deprecated\n",
            "\u001b[1;38;5;39mCOMET INFO:\u001b[0m     sparse_output              : False\n",
            "\u001b[1;38;5;39mCOMET INFO:\u001b[0m     strategy                   : constant\n",
            "\u001b[1;38;5;39mCOMET INFO:\u001b[0m     train_boosting_type        : gbdt\n",
            "\u001b[1;38;5;39mCOMET INFO:\u001b[0m     train_colsample_bytree     : 1.0\n",
            "\u001b[1;38;5;39mCOMET INFO:\u001b[0m     train_early_stopping_round : 1\n",
            "\u001b[1;38;5;39mCOMET INFO:\u001b[0m     train_learning_rate        : 0.1\n",
            "\u001b[1;38;5;39mCOMET INFO:\u001b[0m     train_max_depth            : -1\n",
            "\u001b[1;38;5;39mCOMET INFO:\u001b[0m     train_metric               : ['binary']\n",
            "\u001b[1;38;5;39mCOMET INFO:\u001b[0m     train_min_child_samples    : 20\n",
            "\u001b[1;38;5;39mCOMET INFO:\u001b[0m     train_min_child_weight     : 0.001\n",
            "\u001b[1;38;5;39mCOMET INFO:\u001b[0m     train_min_split_gain       : 0.0\n",
            "\u001b[1;38;5;39mCOMET INFO:\u001b[0m     train_n_jobs               : -1\n",
            "\u001b[1;38;5;39mCOMET INFO:\u001b[0m     train_num_iterations       : 5\n",
            "\u001b[1;38;5;39mCOMET INFO:\u001b[0m     train_num_leaves           : 31\n",
            "\u001b[1;38;5;39mCOMET INFO:\u001b[0m     train_objective            : binary\n",
            "\u001b[1;38;5;39mCOMET INFO:\u001b[0m     train_random_state         : 1\n",
            "\u001b[1;38;5;39mCOMET INFO:\u001b[0m     train_reg_alpha            : 0.0\n",
            "\u001b[1;38;5;39mCOMET INFO:\u001b[0m     train_reg_lambda           : 0.0\n",
            "\u001b[1;38;5;39mCOMET INFO:\u001b[0m     train_subsample            : 1.0\n",
            "\u001b[1;38;5;39mCOMET INFO:\u001b[0m     train_subsample_for_bin    : 200000\n",
            "\u001b[1;38;5;39mCOMET INFO:\u001b[0m     train_subsample_freq       : 0\n",
            "\u001b[1;38;5;39mCOMET INFO:\u001b[0m     train_verbose              : -1\n",
            "\u001b[1;38;5;39mCOMET INFO:\u001b[0m     verbose                    : deprecated\n",
            "\u001b[1;38;5;39mCOMET INFO:\u001b[0m     with_mean                  : True\n",
            "\u001b[1;38;5;39mCOMET INFO:\u001b[0m     with_std                   : True\n",
            "\u001b[1;38;5;39mCOMET INFO:\u001b[0m   Uploads:\n",
            "\u001b[1;38;5;39mCOMET INFO:\u001b[0m     environment details : 1\n",
            "\u001b[1;38;5;39mCOMET INFO:\u001b[0m     filename            : 1\n",
            "\u001b[1;38;5;39mCOMET INFO:\u001b[0m     installed packages  : 1\n",
            "\u001b[1;38;5;39mCOMET INFO:\u001b[0m     model graph         : 1\n",
            "\u001b[1;38;5;39mCOMET INFO:\u001b[0m     notebook            : 2\n",
            "\u001b[1;38;5;39mCOMET INFO:\u001b[0m     os packages         : 1\n",
            "\u001b[1;38;5;39mCOMET INFO:\u001b[0m     source_code         : 1\n",
            "\u001b[1;38;5;39mCOMET INFO:\u001b[0m \n",
            "\u001b[1;38;5;39mCOMET INFO:\u001b[0m Uploading 1 metrics, params and output messages\n"
          ]
        }
      ]
    }
  ],
  "metadata": {
    "language_info": {
      "name": "python"
    },
    "vscode": {
      "interpreter": {
        "hash": "c0c26a04c01997af4d3a54c44ba2029caf4208eaf3de13f3aa81bddca06af044"
      }
    },
    "colab": {
      "provenance": [],
      "toc_visible": true
    },
    "kernelspec": {
      "name": "python3",
      "display_name": "Python 3"
    }
  },
  "nbformat": 4,
  "nbformat_minor": 0
}