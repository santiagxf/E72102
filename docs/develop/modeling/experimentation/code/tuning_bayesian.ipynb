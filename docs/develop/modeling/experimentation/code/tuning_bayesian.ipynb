{
  "cells": [
    {
      "cell_type": "markdown",
      "metadata": {
        "id": "8qPBlJDHwucz"
      },
      "source": [
        "Búsqueda de hiperparámetros utilizando Optimización Bayesiana\n",
        "============================================================="
      ]
    },
    {
      "cell_type": "markdown",
      "metadata": {
        "id": "PM02vWO4wuc5"
      },
      "source": [
        "## Introducción\n",
        "\n",
        "En términos sencillos, la optimización bayesiana usa estadística bayesianas para estimar la distribución de los mejores hiperparámetros. Durante el proceso de búsqueda, el algoritmo actualiza sus creencias sobre la distribución probabilistica de los mejores hiperparámetros en función del impacto observado de cada hiperparámetro en el rendimiento del modelo. \n",
        "\n",
        "Esto le permite converger gradualmente en el conjunto óptimo de hiperparámetros mientras que realiza una exploración más eficiente al modificar los parameteros moviendolos en la dirección que mejora la performance."
      ]
    },
    {
      "cell_type": "markdown",
      "metadata": {
        "id": "PjoSE6qawuc6"
      },
      "source": [
        "## Entrenando y optimizando parámetros para el problema censo de la UCI"
      ]
    },
    {
      "cell_type": "markdown",
      "metadata": {
        "id": "CWmaFc37wuc8"
      },
      "source": [
        "### Instalación"
      ]
    },
    {
      "cell_type": "code",
      "execution_count": 2,
      "metadata": {
        "id": "CRlKo48owuc_",
        "outputId": "9e921304-ef29-4158-bb45-2b2c4ff46a99",
        "colab": {
          "base_uri": "https://localhost:8080/"
        }
      },
      "outputs": [
        {
          "output_type": "stream",
          "name": "stdout",
          "text": [
            "\u001b[?25l     \u001b[90m━━━━━━━━━━━━━━━━━━━━━━━━━━━━━━━━━━━━━━━━\u001b[0m \u001b[32m0.0/100.3 KB\u001b[0m \u001b[31m?\u001b[0m eta \u001b[36m-:--:--\u001b[0m\r\u001b[2K     \u001b[91m━━━━━━━━━━━━━━━━━━━━━━━━━━━━━━━━━━━━\u001b[0m\u001b[91m╸\u001b[0m\u001b[90m━━━\u001b[0m \u001b[32m92.2/100.3 KB\u001b[0m \u001b[31m3.5 MB/s\u001b[0m eta \u001b[36m0:00:01\u001b[0m\r\u001b[2K     \u001b[90m━━━━━━━━━━━━━━━━━━━━━━━━━━━━━━━━━━━━━━━\u001b[0m \u001b[32m100.3/100.3 KB\u001b[0m \u001b[31m2.5 MB/s\u001b[0m eta \u001b[36m0:00:00\u001b[0m\n",
            "\u001b[?25h"
          ]
        }
      ],
      "source": [
        "!wget https://raw.githubusercontent.com/santiagxf/E72102/master/docs/develop/modeling/experimentation/code/tuning_bayesian.txt \\\n",
        "    --quiet --no-clobber\n",
        "!pip install -r tuning_bayesian.txt --quiet"
      ]
    },
    {
      "cell_type": "markdown",
      "metadata": {
        "id": "CyWscZCQwudE"
      },
      "source": [
        "### Sobre el conjunto de datos del censo UCI\n",
        "\n",
        "El conjunto de datos del censo de la UCI es un conjunto de datos en el que cada registro representa a una persona. Cada registro contiene 14 columnas que describen a una una sola persona, de la base de datos del censo de Estados Unidos de 1994. Esto incluye información como la edad, el estado civil y el nivel educativo. La tarea es determinar si una persona tiene un ingreso alto (definido como ganar más de $50 mil al año). Esta tarea, dado el tipo de datos que utiliza, se usa a menudo en el estudio de equidad, en parte debido a los atributos comprensibles del conjunto de datos, incluidos algunos que contienen tipos sensibles como la edad y el género, y en parte también porque comprende una tarea claramente del mundo real."
      ]
    },
    {
      "cell_type": "markdown",
      "metadata": {
        "id": "OnHZuGLSwudG"
      },
      "source": [
        "Descargamos el conjunto de datos"
      ]
    },
    {
      "cell_type": "code",
      "execution_count": 3,
      "metadata": {
        "id": "PcnArrfQwudH"
      },
      "outputs": [],
      "source": [
        "!wget https://santiagxf.blob.core.windows.net/public/datasets/uci_census.zip \\\n",
        "    --quiet --no-clobber\n",
        "!mkdir -p datasets/uci_census\n",
        "!unzip -qq uci_census.zip -d datasets/uci_census"
      ]
    },
    {
      "cell_type": "markdown",
      "metadata": {
        "id": "0ZO-pj3WwudI"
      },
      "source": [
        "Lo importamos"
      ]
    },
    {
      "cell_type": "code",
      "execution_count": 4,
      "metadata": {
        "id": "sn4kODTMwudI"
      },
      "outputs": [],
      "source": [
        "import pandas as pd\n",
        "import numpy as np\n",
        "\n",
        "train = pd.read_csv('datasets/uci_census/data/adult-train.csv')\n",
        "test = pd.read_csv('datasets/uci_census/data/adult-test.csv')"
      ]
    },
    {
      "cell_type": "markdown",
      "metadata": {
        "id": "MMG5UhjewudK"
      },
      "source": [
        "### Creando un modelo base para luego ajustar"
      ]
    },
    {
      "cell_type": "markdown",
      "metadata": {
        "id": "gdNPtv-KwudK"
      },
      "source": [
        "Preparando nuestros conjuntos de datos"
      ]
    },
    {
      "cell_type": "code",
      "execution_count": 5,
      "metadata": {
        "id": "EhLsyUphwudL"
      },
      "outputs": [],
      "source": [
        "X_train = train.drop(['income'], axis=1)\n",
        "y_train = train['income'].to_numpy()\n",
        "X_test = test.drop(['income'], axis=1)\n",
        "y_test = test['income'].to_numpy()"
      ]
    },
    {
      "cell_type": "code",
      "execution_count": 6,
      "metadata": {
        "id": "oZiFns7SwudL"
      },
      "outputs": [],
      "source": [
        "classes = train['income'].unique().tolist()\n",
        "features = X_train.columns.values.tolist()\n",
        "categorical_features = X_train.dtypes[X_train.dtypes == 'object'].index.tolist()"
      ]
    },
    {
      "cell_type": "markdown",
      "metadata": {
        "id": "6HzsWIV1wudM"
      },
      "source": [
        "Realizaremos un pequeño preprocesamiento antes de entrenar el modelo:\n",
        "\n",
        "- Imputaremos los valores faltantes de las caracteristicas numéricas con la media\n",
        "- Imputaremos los valores faltantes de las caracteristicas categóricas con el valor `?`\n",
        "- Escalaremos los valores numericos utilizando un `StandardScaler`\n",
        "- Codificaremos las variables categóricas utilizando `OneHotEncoder`"
      ]
    },
    {
      "cell_type": "code",
      "execution_count": 7,
      "metadata": {
        "id": "374RsZu0wudM"
      },
      "outputs": [],
      "source": [
        "from typing import Tuple, List\n",
        "\n",
        "import sklearn\n",
        "from sklearn.pipeline import Pipeline\n",
        "from sklearn.impute import SimpleImputer\n",
        "from sklearn.preprocessing import StandardScaler, OneHotEncoder\n",
        "from sklearn.compose import ColumnTransformer\n",
        "\n",
        "\n",
        "def prepare(X: pd.DataFrame) -> Tuple[np.ndarray, sklearn.compose.ColumnTransformer]:\n",
        "    pipe_cfg = {\n",
        "        'num_cols': X.dtypes[X.dtypes == 'int64'].index.values.tolist(),\n",
        "        'cat_cols': X.dtypes[X.dtypes == 'object'].index.values.tolist(),\n",
        "    }\n",
        "    \n",
        "    num_pipe = Pipeline([\n",
        "        ('num_imputer', SimpleImputer(strategy='median')),\n",
        "        ('num_scaler', StandardScaler())\n",
        "    ])\n",
        "    \n",
        "    cat_pipe = Pipeline([\n",
        "        ('cat_imputer', SimpleImputer(strategy='constant', fill_value='?')),\n",
        "        ('cat_encoder', OneHotEncoder(handle_unknown='ignore', sparse_output=False))\n",
        "    ])\n",
        "    \n",
        "    transformations = ColumnTransformer([\n",
        "        ('num_pipe', num_pipe, pipe_cfg['num_cols']),\n",
        "        ('cat_pipe', cat_pipe, pipe_cfg['cat_cols'])\n",
        "    ])\n",
        "    X = transformations.fit_transform(X)\n",
        "    \n",
        "    return X, transformations\n",
        "\n",
        "\n",
        "X_train_transformed, transformations = prepare(X_train)\n",
        "X_test_transformed = transformations.transform(X_test)"
      ]
    },
    {
      "cell_type": "markdown",
      "metadata": {
        "id": "81atQ7WUwudN"
      },
      "source": [
        "Entrenamos un modelo basado en `lightgbm`"
      ]
    },
    {
      "cell_type": "code",
      "execution_count": 8,
      "metadata": {
        "id": "u2MVdIhKwudN"
      },
      "outputs": [],
      "source": [
        "from lightgbm import LGBMClassifier\n",
        "\n",
        "clf = LGBMClassifier(n_estimators=5)\n",
        "model = clf.fit(X_train_transformed, y_train)"
      ]
    },
    {
      "cell_type": "markdown",
      "metadata": {
        "id": "F62qFkc2wudO"
      },
      "source": [
        "Ejecutamos el modelo"
      ]
    },
    {
      "cell_type": "code",
      "execution_count": 9,
      "metadata": {
        "id": "ZLqpnS_rwudO"
      },
      "outputs": [],
      "source": [
        "predictions = model.predict(X_test_transformed)"
      ]
    },
    {
      "cell_type": "markdown",
      "source": [
        "Podemos revisar la performance del modelo:"
      ],
      "metadata": {
        "id": "Lwr57cbqJRuN"
      }
    },
    {
      "cell_type": "code",
      "source": [
        "from sklearn.metrics import classification_report\n",
        "\n",
        "print(classification_report(y_test, predictions))"
      ],
      "metadata": {
        "colab": {
          "base_uri": "https://localhost:8080/"
        },
        "id": "kMNf-9RkJTme",
        "outputId": "e842a224-34b9-4ad0-ae66-b4d6018bdcd3"
      },
      "execution_count": 10,
      "outputs": [
        {
          "output_type": "stream",
          "name": "stdout",
          "text": [
            "              precision    recall  f1-score   support\n",
            "\n",
            "       <=50K       0.81      1.00      0.90     12435\n",
            "        >50K       0.98      0.25      0.40      3846\n",
            "\n",
            "    accuracy                           0.82     16281\n",
            "   macro avg       0.90      0.63      0.65     16281\n",
            "weighted avg       0.85      0.82      0.78     16281\n",
            "\n"
          ]
        }
      ]
    },
    {
      "cell_type": "markdown",
      "metadata": {
        "id": "weAeZyDcwudO"
      },
      "source": [
        "### Búsqueda de hiperparámetros con rangos predefinidos"
      ]
    },
    {
      "cell_type": "markdown",
      "source": [
        "Para comenzar, utilizaremos una optimización bayesiana para buscar la mejor combinación de parámetros de una selección predefinida de valores:"
      ],
      "metadata": {
        "id": "KV5_n3euSUWm"
      }
    },
    {
      "cell_type": "code",
      "source": [
        "from skopt import BayesSearchCV"
      ],
      "metadata": {
        "id": "NyFGiBiPZeYt"
      },
      "execution_count": 11,
      "outputs": []
    },
    {
      "cell_type": "code",
      "source": [
        "parameters = {\n",
        "    \"n_estimators\": [10, 50, 100],\n",
        "    \"subsample\":[0.6, 0.8, 1],\n",
        "    \"learning_rate\":[0.01, 0.1, 0.5, 1],\n",
        "    \"gamma\":[0.01, 0.1, 1, 5],\n",
        "    \"colsample_bytree\":[0.5, 0.7, 0.9, 1],\n",
        "}"
      ],
      "metadata": {
        "id": "hwviLY5UZfFA"
      },
      "execution_count": 12,
      "outputs": []
    },
    {
      "cell_type": "code",
      "source": [
        "bayes_search = BayesSearchCV(\n",
        "    estimator=LGBMClassifier(random_state=1),\n",
        "    search_spaces=parameters,\n",
        "    n_iter=20,\n",
        "    cv=5\n",
        "  )"
      ],
      "metadata": {
        "id": "tq9gdV6WZkp5"
      },
      "execution_count": 14,
      "outputs": []
    },
    {
      "cell_type": "code",
      "source": [
        "best_model = bayes_search.fit(X_train_transformed, y_train, verbose=2)"
      ],
      "metadata": {
        "id": "eDQfS6CMZy9b"
      },
      "execution_count": 15,
      "outputs": []
    },
    {
      "cell_type": "markdown",
      "metadata": {
        "id": "gToVaGBLa7np"
      },
      "source": [
        "Ejecutamos el modelo"
      ]
    },
    {
      "cell_type": "code",
      "execution_count": 16,
      "metadata": {
        "id": "etp79VUBa7nr"
      },
      "outputs": [],
      "source": [
        "predictions = best_model.predict(X_test_transformed)"
      ]
    },
    {
      "cell_type": "markdown",
      "source": [
        "Podemos revisar la performance del modelo:"
      ],
      "metadata": {
        "id": "6eavFPl9a7nr"
      }
    },
    {
      "cell_type": "code",
      "source": [
        "from sklearn.metrics import classification_report\n",
        "\n",
        "print(classification_report(y_test, predictions))"
      ],
      "metadata": {
        "colab": {
          "base_uri": "https://localhost:8080/"
        },
        "outputId": "b8aac5e4-3bd4-478d-a9a0-7c050fe0f7bf",
        "id": "c-EUxBzfa7ns"
      },
      "execution_count": 17,
      "outputs": [
        {
          "output_type": "stream",
          "name": "stdout",
          "text": [
            "              precision    recall  f1-score   support\n",
            "\n",
            "       <=50K       0.90      0.94      0.92     12435\n",
            "        >50K       0.78      0.66      0.71      3846\n",
            "\n",
            "    accuracy                           0.87     16281\n",
            "   macro avg       0.84      0.80      0.82     16281\n",
            "weighted avg       0.87      0.87      0.87     16281\n",
            "\n"
          ]
        }
      ]
    },
    {
      "cell_type": "markdown",
      "source": [
        "### Búsqueda de hiperparámetros en rangos continuos"
      ],
      "metadata": {
        "id": "LrLM2D28fHjx"
      }
    },
    {
      "cell_type": "markdown",
      "source": [
        "El uso de valores discretos para representar un hiperparámetro en un espacio continuo no es óptimo. `Scikit-Optimize` nos permite definir un rango continuo con una distribución predefinida (como `log-uniform`) y especificar límites superior e inferior para cada hiperparámetro."
      ],
      "metadata": {
        "id": "uGcIPaqtamKi"
      }
    },
    {
      "cell_type": "code",
      "source": [
        "from skopt.space import Real, Integer\n",
        "from skopt.utils import use_named_args\n",
        "from sklearn.model_selection import cross_val_score\n",
        "\n",
        "space  = {\n",
        "    'max_depth': Integer(1, 20),\n",
        "    'learning_rate': Real(10**-5, 10**0, \"log-uniform\"),\n",
        "    'subsample': Real(0.5, 1,\"uniform\"),\n",
        "    'gamma': Real(10**-5, 10**1, \"uniform\"),\n",
        "    'alpha': Real(10**-5, 10**0, \"uniform\"),\n",
        "}"
      ],
      "metadata": {
        "id": "eWRcIyTvaaA_"
      },
      "execution_count": 18,
      "outputs": []
    },
    {
      "cell_type": "code",
      "source": [
        "bayes_search = BayesSearchCV(\n",
        "    estimator=LGBMClassifier(random_state=1),\n",
        "    search_spaces=space,\n",
        "    n_iter=20, \n",
        "    cv=5\n",
        "  )"
      ],
      "metadata": {
        "id": "0xPkVKmod92a"
      },
      "execution_count": 19,
      "outputs": []
    },
    {
      "cell_type": "code",
      "source": [
        "best_model = bayes_search.fit(X_train_transformed, y_train, verbose=2)"
      ],
      "metadata": {
        "id": "Q7I2c5Z7d92c"
      },
      "execution_count": 20,
      "outputs": []
    },
    {
      "cell_type": "markdown",
      "metadata": {
        "id": "h0lYLEhed92d"
      },
      "source": [
        "Ejecutamos el modelo"
      ]
    },
    {
      "cell_type": "code",
      "execution_count": 21,
      "metadata": {
        "id": "uZ55Osw8d92d"
      },
      "outputs": [],
      "source": [
        "predictions = best_model.predict(X_test_transformed)"
      ]
    },
    {
      "cell_type": "markdown",
      "source": [
        "Podemos revisar la performance del modelo:"
      ],
      "metadata": {
        "id": "T-FamVKYd92d"
      }
    },
    {
      "cell_type": "code",
      "source": [
        "from sklearn.metrics import classification_report\n",
        "\n",
        "print(classification_report(y_test, predictions))"
      ],
      "metadata": {
        "colab": {
          "base_uri": "https://localhost:8080/"
        },
        "outputId": "018e9620-396f-42b2-d264-2c62bbdd4596",
        "id": "mVuThvpDd92e"
      },
      "execution_count": 22,
      "outputs": [
        {
          "output_type": "stream",
          "name": "stdout",
          "text": [
            "              precision    recall  f1-score   support\n",
            "\n",
            "       <=50K       0.90      0.94      0.92     12435\n",
            "        >50K       0.78      0.65      0.71      3846\n",
            "\n",
            "    accuracy                           0.87     16281\n",
            "   macro avg       0.84      0.80      0.81     16281\n",
            "weighted avg       0.87      0.87      0.87     16281\n",
            "\n"
          ]
        }
      ]
    },
    {
      "cell_type": "markdown",
      "source": [
        "### Búsqueda de hiperparámetros con funciones de costo específicas"
      ],
      "metadata": {
        "id": "IZyAnEsVfNao"
      }
    },
    {
      "cell_type": "markdown",
      "source": [
        "Cada problema de optimización tiene una función objetivo (a veces llamada función de costo o función de error). En este ejemplo, definiremos nuestra función objetivo como el error absoluto medio, por lo que la búsqueda bayesiana intentará minimizarlo. \n",
        "\n",
        "Una vez que tenemos una función objetivo, debemos realizar la búsqueda para encontrar el conjunto de hiperparámetros que minimizan nuestro error absoluto medio. Podemos usar `gp_minimize` de `scikit-optimize` para ejecutar esta optimización."
      ],
      "metadata": {
        "id": "5-A0plStcA_A"
      }
    },
    {
      "cell_type": "code",
      "source": [
        "from skopt.space import Real, Integer\n",
        "\n",
        "space = [\n",
        "    Integer(1, 20, name='max_depth'),\n",
        "    Real(10**-5, 10**0, \"log-uniform\", name='learning_rate'),\n",
        "    Real(0.5, 1,\"uniform\", name='subsample'),\n",
        "    Real(10**-5, 10**1, \"uniform\", name='gamma'),\n",
        "    Real(10**-5, 10**0, \"uniform\", name='alpha'),\n",
        "]"
      ],
      "metadata": {
        "id": "WBHXmtZlfzzF"
      },
      "execution_count": 23,
      "outputs": []
    },
    {
      "cell_type": "markdown",
      "source": [
        "> Note como en este caso, el espacio de búsqueda se indica como una lista de valores, en lugar de como un diccionario."
      ],
      "metadata": {
        "id": "Hu9olrvCgAIw"
      }
    },
    {
      "cell_type": "markdown",
      "source": [
        "Creamos la función objetivo que necesitamos minimizar:"
      ],
      "metadata": {
        "id": "Ej7bLQu-gKZn"
      }
    },
    {
      "cell_type": "code",
      "source": [
        "from sklearn.model_selection import cross_val_score, cross_validate\n",
        "from skopt.utils import use_named_args\n",
        "import time\n",
        "\n",
        "# El decorator \"use_named_args\" le permite a la funcion objetivo\n",
        "# los parametros como un diccionario de valores.\n",
        "@use_named_args(space)\n",
        "def objective(**params):\n",
        "    global clf \n",
        "    \n",
        "    clf = LGBMClassifier(**params)\n",
        "    cv_results = cross_validate(clf, X_train_transformed, y_train, scoring=\"balanced_accuracy\", cv=5, n_jobs=-1)\n",
        "    metric = np.mean(cv_results[\"test_score\"])\n",
        "\n",
        "    print(f\"Last know value: {metric}\", end='\\r', flush=True)\n",
        "    time.sleep(1)\n",
        "    return -metric"
      ],
      "metadata": {
        "id": "h3dU_uivbaPI"
      },
      "execution_count": 95,
      "outputs": []
    },
    {
      "cell_type": "markdown",
      "source": [
        "> Tip: Puede usar `sklearn.metrics.get_scorer_names()` para obtener un listado de todas las métricas que puede especificar en el parametro `scoring`."
      ],
      "metadata": {
        "id": "kDA2O05_R9oV"
      }
    },
    {
      "cell_type": "markdown",
      "source": [
        "Ejecutamos el proceso de optimización:"
      ],
      "metadata": {
        "id": "WeojtHHoSJjl"
      }
    },
    {
      "cell_type": "code",
      "source": [
        "from skopt import gp_minimize\n",
        "\n",
        "res_gp = gp_minimize(objective, space, n_initial_points=10, n_calls=50)"
      ],
      "metadata": {
        "id": "ifWQUC6_fS5_",
        "outputId": "ae9a09ed-2ce8-4984-972e-9ecc4b47037d",
        "colab": {
          "base_uri": "https://localhost:8080/"
        }
      },
      "execution_count": 96,
      "outputs": [
        {
          "output_type": "stream",
          "name": "stdout",
          "text": []
        }
      ]
    },
    {
      "cell_type": "markdown",
      "source": [
        "Veamos la performance gráficamente:"
      ],
      "metadata": {
        "id": "uKKvmB7_RsPR"
      }
    },
    {
      "cell_type": "code",
      "source": [
        "import matplotlib.pyplot as plt\n",
        "\n",
        "plt.plot(-res_gp.func_vals)"
      ],
      "metadata": {
        "id": "m573tKbGOFu8",
        "outputId": "9498be84-ba4a-4ba8-8f98-68c2ddcbe5b8",
        "colab": {
          "base_uri": "https://localhost:8080/",
          "height": 283
        }
      },
      "execution_count": 99,
      "outputs": [
        {
          "output_type": "execute_result",
          "data": {
            "text/plain": [
              "[<matplotlib.lines.Line2D at 0x7fdd48d86af0>]"
            ]
          },
          "metadata": {},
          "execution_count": 99
        },
        {
          "output_type": "display_data",
          "data": {
            "text/plain": [
              "<Figure size 432x288 with 1 Axes>"
            ],
            "image/png": "[encoded data removed]"
          },
          "metadata": {
            "needs_background": "light"
          }
        }
      ]
    },
    {
      "cell_type": "markdown",
      "source": [
        "Una vez finalizada la búsqueda, podemos inspeccionar los mejores hiperparámetros:"
      ],
      "metadata": {
        "id": "m1bXUFSFgTti"
      }
    },
    {
      "cell_type": "code",
      "source": [
        "clf"
      ],
      "metadata": {
        "id": "kBhcZgo-gZ32",
        "outputId": "2a893271-6860-496b-aa93-5cd6d6a543e5",
        "colab": {
          "base_uri": "https://localhost:8080/",
          "height": 92
        }
      },
      "execution_count": 100,
      "outputs": [
        {
          "output_type": "execute_result",
          "data": {
            "text/plain": [
              "LGBMClassifier(alpha=1e-05, gamma=10.0, learning_rate=0.18503612539810424,\n",
              "               max_depth=7, subsample=0.989049662693893)"
            ],
            "text/html": [
              "<style>#sk-container-id-3 {color: black;background-color: white;}#sk-container-id-3 pre{padding: 0;}#sk-container-id-3 div.sk-toggleable {background-color: white;}#sk-container-id-3 label.sk-toggleable__label {cursor: pointer;display: block;width: 100%;margin-bottom: 0;padding: 0.3em;box-sizing: border-box;text-align: center;}#sk-container-id-3 label.sk-toggleable__label-arrow:before {content: \"▸\";float: left;margin-right: 0.25em;color: #696969;}#sk-container-id-3 label.sk-toggleable__label-arrow:hover:before {color: black;}#sk-container-id-3 div.sk-estimator:hover label.sk-toggleable__label-arrow:before {color: black;}#sk-container-id-3 div.sk-toggleable__content {max-height: 0;max-width: 0;overflow: hidden;text-align: left;background-color: #f0f8ff;}#sk-container-id-3 div.sk-toggleable__content pre {margin: 0.2em;color: black;border-radius: 0.25em;background-color: #f0f8ff;}#sk-container-id-3 input.sk-toggleable__control:checked~div.sk-toggleable__content {max-height: 200px;max-width: 100%;overflow: auto;}#sk-container-id-3 input.sk-toggleable__control:checked~label.sk-toggleable__label-arrow:before {content: \"▾\";}#sk-container-id-3 div.sk-estimator input.sk-toggleable__control:checked~label.sk-toggleable__label {background-color: #d4ebff;}#sk-container-id-3 div.sk-label input.sk-toggleable__control:checked~label.sk-toggleable__label {background-color: #d4ebff;}#sk-container-id-3 input.sk-hidden--visually {border: 0;clip: rect(1px 1px 1px 1px);clip: rect(1px, 1px, 1px, 1px);height: 1px;margin: -1px;overflow: hidden;padding: 0;position: absolute;width: 1px;}#sk-container-id-3 div.sk-estimator {font-family: monospace;background-color: #f0f8ff;border: 1px dotted black;border-radius: 0.25em;box-sizing: border-box;margin-bottom: 0.5em;}#sk-container-id-3 div.sk-estimator:hover {background-color: #d4ebff;}#sk-container-id-3 div.sk-parallel-item::after {content: \"\";width: 100%;border-bottom: 1px solid gray;flex-grow: 1;}#sk-container-id-3 div.sk-label:hover label.sk-toggleable__label {background-color: #d4ebff;}#sk-container-id-3 div.sk-serial::before {content: \"\";position: absolute;border-left: 1px solid gray;box-sizing: border-box;top: 0;bottom: 0;left: 50%;z-index: 0;}#sk-container-id-3 div.sk-serial {display: flex;flex-direction: column;align-items: center;background-color: white;padding-right: 0.2em;padding-left: 0.2em;position: relative;}#sk-container-id-3 div.sk-item {position: relative;z-index: 1;}#sk-container-id-3 div.sk-parallel {display: flex;align-items: stretch;justify-content: center;background-color: white;position: relative;}#sk-container-id-3 div.sk-item::before, #sk-container-id-3 div.sk-parallel-item::before {content: \"\";position: absolute;border-left: 1px solid gray;box-sizing: border-box;top: 0;bottom: 0;left: 50%;z-index: -1;}#sk-container-id-3 div.sk-parallel-item {display: flex;flex-direction: column;z-index: 1;position: relative;background-color: white;}#sk-container-id-3 div.sk-parallel-item:first-child::after {align-self: flex-end;width: 50%;}#sk-container-id-3 div.sk-parallel-item:last-child::after {align-self: flex-start;width: 50%;}#sk-container-id-3 div.sk-parallel-item:only-child::after {width: 0;}#sk-container-id-3 div.sk-dashed-wrapped {border: 1px dashed gray;margin: 0 0.4em 0.5em 0.4em;box-sizing: border-box;padding-bottom: 0.4em;background-color: white;}#sk-container-id-3 div.sk-label label {font-family: monospace;font-weight: bold;display: inline-block;line-height: 1.2em;}#sk-container-id-3 div.sk-label-container {text-align: center;}#sk-container-id-3 div.sk-container {/* jupyter's `normalize.less` sets `[hidden] { display: none; }` but bootstrap.min.css set `[hidden] { display: none !important; }` so we also need the `!important` here to be able to override the default hidden behavior on the sphinx rendered scikit-learn.org. See: https://github.com/scikit-learn/scikit-learn/issues/21755 */display: inline-block !important;position: relative;}#sk-container-id-3 div.sk-text-repr-fallback {display: none;}</style><div id=\"sk-container-id-3\" class=\"sk-top-container\"><div class=\"sk-text-repr-fallback\"><pre>LGBMClassifier(alpha=1e-05, gamma=10.0, learning_rate=0.18503612539810424,\n",
              "               max_depth=7, subsample=0.989049662693893)</pre><b>In a Jupyter environment, please rerun this cell to show the HTML representation or trust the notebook. <br />On GitHub, the HTML representation is unable to render, please try loading this page with nbviewer.org.</b></div><div class=\"sk-container\" hidden><div class=\"sk-item\"><div class=\"sk-estimator sk-toggleable\"><input class=\"sk-toggleable__control sk-hidden--visually\" id=\"sk-estimator-id-3\" type=\"checkbox\" checked><label for=\"sk-estimator-id-3\" class=\"sk-toggleable__label sk-toggleable__label-arrow\">LGBMClassifier</label><div class=\"sk-toggleable__content\"><pre>LGBMClassifier(alpha=1e-05, gamma=10.0, learning_rate=0.18503612539810424,\n",
              "               max_depth=7, subsample=0.989049662693893)</pre></div></div></div></div></div>"
            ]
          },
          "metadata": {},
          "execution_count": 100
        }
      ]
    }
  ],
  "metadata": {
    "language_info": {
      "codemirror_mode": {
        "name": "ipython",
        "version": 3
      },
      "file_extension": ".py",
      "mimetype": "text/x-python",
      "name": "python",
      "nbconvert_exporter": "python",
      "pygments_lexer": "ipython3",
      "version": "3.8.13"
    },
    "vscode": {
      "interpreter": {
        "hash": "c0c26a04c01997af4d3a54c44ba2029caf4208eaf3de13f3aa81bddca06af044"
      }
    },
    "colab": {
      "provenance": [],
      "toc_visible": true
    }
  },
  "nbformat": 4,
  "nbformat_minor": 0
}
