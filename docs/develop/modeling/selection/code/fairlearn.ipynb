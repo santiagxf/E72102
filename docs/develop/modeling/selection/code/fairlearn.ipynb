{
  "cells": [
    {
      "cell_type": "markdown",
      "metadata": {
        "id": "69a3U1UyjtSi"
      },
      "source": [
        "Análisis de atributos protegidos con fairlearn\n",
        "==============================================\n"
      ]
    },
    {
      "cell_type": "markdown",
      "metadata": {
        "id": "D84AuPJvjtSn"
      },
      "source": [
        "## ¿Que significa que un modelo sea justo?\n",
        "\n",
        "A medida que los modelos predictivos de Machine Learning avanzan más y más en nuestro día a día para decidir, informar y también actuar sobre nuestras vidas, muchas preguntas se nos aparecen sobre qué tan “justas” son tales decisiones que los sistemas toman. De particular interés es el evitar que estas decisiones terminen afectando a grupos minoritarios de forma inequitativa discriminando por género, raza, religión, etc.\n",
        "\n",
        "Un sistema basado en modelos de aprendizaje automático puede comportarse de manera injusta ante sus usuarios por diversas razones. A veces se debe a sesgos sociales reflejados en los datos de entrenamiento y en las decisiones tomadas durante el desarrollo. En otros casos, los sistemas se comportan injustamente no por sesgos sociales, sino por las características de los datos (por ejemplo, muy pocos datos sobre algún grupo de personas en particular). Puede ser difícil distinguir entre estas razones, especialmente porque no son mutuamente excluyentes y, a menudo, se exacerban entre sí.\n",
        "\n",
        "Por lo tanto, definimos si un modelo de aprendizaje automático se está comportando injustamente en términos de su impacto en las personas, es decir, en términos de daños, y no en términos de causas específicas, como sesgos sociales, o en términos de intenciones, como prejuicios.\n",
        "\n",
        "> Para una análisis más profundo sobre este tema puede ver el artículo: [¿Qué significa que un modelo sea justo?](https://santiagof.medium.com/qu%C3%A9-significa-que-un-modelo-sea-justo-793be6741b95)"
      ]
    },
    {
      "cell_type": "markdown",
      "metadata": {
        "id": "MZ4nfLeAjtSo"
      },
      "source": [
        "## ¿Que es fairlearn?"
      ]
    },
    {
      "cell_type": "markdown",
      "metadata": {
        "id": "5Jv5UeRljtSo"
      },
      "source": [
        "fairlearn es un paquete de Python que puede ayudar a evaluar y mitigar la no imparcialidad en los modelos de aprendizaje automático. Sin embargo, no pierda de vista que la equidad es un desafío fundamentalmente sociotécnico y no se puede resolver solo con herramientas tecnológicas. Dicho esto, fairlearn puede ser útil para ciertas tareas, como evaluar la injusticia a través de varias métricas, o para mitigar la injusticia observada al entrenar un modelo."
      ]
    },
    {
      "cell_type": "markdown",
      "metadata": {
        "id": "2diLOlsUjtSp"
      },
      "source": [
        "Instalamos la librerias necesarias"
      ]
    },
    {
      "cell_type": "code",
      "execution_count": 1,
      "metadata": {
        "id": "ztrf0v7ZjtSp",
        "outputId": "bcebd9c9-1914-4e94-a442-3afb25abaf52",
        "colab": {
          "base_uri": "https://localhost:8080/"
        }
      },
      "outputs": [
        {
          "output_type": "stream",
          "name": "stdout",
          "text": [
            "\u001b[?25l     \u001b[90m━━━━━━━━━━━━━━━━━━━━━━━━━━━━━━━━━━━━━━━━\u001b[0m \u001b[32m0.0/231.5 kB\u001b[0m \u001b[31m?\u001b[0m eta \u001b[36m-:--:--\u001b[0m\r\u001b[2K     \u001b[91m━━━━━━\u001b[0m\u001b[91m╸\u001b[0m\u001b[90m━━━━━━━━━━━━━━━━━━━━━━━━━━━━━━━\u001b[0m \u001b[32m41.0/231.5 kB\u001b[0m \u001b[31m952.3 kB/s\u001b[0m eta \u001b[36m0:00:01\u001b[0m\r\u001b[2K     \u001b[91m━━━━━━━━━━━━━━━━━━━━━━━━━━━━━━━━━━━━━\u001b[0m\u001b[91m╸\u001b[0m\u001b[90m━\u001b[0m \u001b[32m225.3/231.5 kB\u001b[0m \u001b[31m3.5 MB/s\u001b[0m eta \u001b[36m0:00:01\u001b[0m\r\u001b[2K     \u001b[90m━━━━━━━━━━━━━━━━━━━━━━━━━━━━━━━━━━━━━━━\u001b[0m \u001b[32m231.5/231.5 kB\u001b[0m \u001b[31m2.7 MB/s\u001b[0m eta \u001b[36m0:00:00\u001b[0m\n",
            "\u001b[?25h"
          ]
        }
      ],
      "source": [
        "!wget https://raw.githubusercontent.com/santiagxf/E72102/master/docs/develop/modeling/selection/code/fairlearn.txt \\\n",
        "    --quiet --no-clobber\n",
        "!pip install -r fairlearn.txt --quiet"
      ]
    },
    {
      "cell_type": "markdown",
      "metadata": {
        "id": "zLRciseGjtSq"
      },
      "source": [
        "## Utilizando fairlearn en el problema censo de la UCI"
      ]
    },
    {
      "cell_type": "markdown",
      "metadata": {
        "id": "KBAefjcjjtSq"
      },
      "source": [
        "### Sobre el conjunto de datos del censo UCI\n",
        "\n",
        "El conjunto de datos del censo de la UCI es un conjunto de datos en el que cada registro representa a una persona. Cada registro contiene 14 columnas que describen a una una sola persona, de la base de datos del censo de Estados Unidos de 1994. Esto incluye información como la edad, el estado civil y el nivel educativo. La tarea es determinar si una persona tiene un ingreso alto (definido como ganar más de $50 mil al año). Esta tarea, dado el tipo de datos que utiliza, se usa a menudo en el estudio de equidad, en parte debido a los atributos comprensibles del conjunto de datos, incluidos algunos que contienen tipos sensibles como la edad y el género, y en parte también porque comprende una tarea claramente del mundo real."
      ]
    },
    {
      "cell_type": "markdown",
      "metadata": {
        "id": "JL73pMzNjtSr"
      },
      "source": [
        "Descargamos el conjunto de datos"
      ]
    },
    {
      "cell_type": "code",
      "execution_count": 2,
      "metadata": {
        "id": "KpndbYYUjtSr"
      },
      "outputs": [],
      "source": [
        "!wget https://santiagxf.blob.core.windows.net/public/datasets/uci_census.zip \\\n",
        "    --quiet --no-clobber\n",
        "!mkdir -p datasets/uci_census\n",
        "!unzip -qq uci_census.zip -d datasets/uci_census"
      ]
    },
    {
      "cell_type": "markdown",
      "metadata": {
        "id": "t-yuGDirjtSr"
      },
      "source": [
        "En este ejemplo, utilizaremos el modelo entrenado en uno de los ejercicios anteriores. Para simplificar el proceso, las predicciones del modelo se cargaron y agregaron directamente en el archivo `adult-test-scored.csv`:"
      ]
    },
    {
      "cell_type": "code",
      "execution_count": 4,
      "metadata": {
        "id": "JytqUQrnjtSs"
      },
      "outputs": [],
      "source": [
        "import pandas as pd\n",
        "\n",
        "scored_dataset = pd.read_csv('datasets/uci_census/data/adult-test-scored.csv')"
      ]
    },
    {
      "cell_type": "code",
      "source": [
        "scored_dataset.head(5)"
      ],
      "metadata": {
        "id": "oM1rtUeoj4ER",
        "outputId": "256957ff-7a92-4ed6-e956-573680233838",
        "colab": {
          "base_uri": "https://localhost:8080/",
          "height": 443
        }
      },
      "execution_count": 5,
      "outputs": [
        {
          "output_type": "execute_result",
          "data": {
            "text/plain": [
              "   Unnamed: 0  age          workclass  fnlwgt   education  education-num  \\\n",
              "0           0   39          State-gov   77516   Bachelors             13   \n",
              "1           1   50   Self-emp-not-inc   83311   Bachelors             13   \n",
              "2           2   38            Private  215646     HS-grad              9   \n",
              "3           3   53            Private  234721        11th              7   \n",
              "4           4   28            Private  338409   Bachelors             13   \n",
              "\n",
              "        marital-status          occupation    relationship    race   gender  \\\n",
              "0        Never-married        Adm-clerical   Not-in-family   White     Male   \n",
              "1   Married-civ-spouse     Exec-managerial         Husband   White     Male   \n",
              "2             Divorced   Handlers-cleaners   Not-in-family   White     Male   \n",
              "3   Married-civ-spouse   Handlers-cleaners         Husband   Black     Male   \n",
              "4   Married-civ-spouse      Prof-specialty            Wife   Black   Female   \n",
              "\n",
              "   capital-gain  capital-loss  hours-per-week  native-country income  score  \n",
              "0          2174             0              40   United-States  <=50K  <=50K  \n",
              "1             0             0              13   United-States  <=50K  <=50K  \n",
              "2             0             0              40   United-States  <=50K  <=50K  \n",
              "3             0             0              40   United-States  <=50K  <=50K  \n",
              "4             0             0              40            Cuba  <=50K  <=50K  "
            ],
            "text/html": [
              "\n",
              "\n",
              "  <div id=\"df-e9f9cca6-a886-45a4-aea5-e4ac5202b8cb\">\n",
              "    <div class=\"colab-df-container\">\n",
              "      <div>\n",
              "<style scoped>\n",
              "    .dataframe tbody tr th:only-of-type {\n",
              "        vertical-align: middle;\n",
              "    }\n",
              "\n",
              "    .dataframe tbody tr th {\n",
              "        vertical-align: top;\n",
              "    }\n",
              "\n",
              "    .dataframe thead th {\n",
              "        text-align: right;\n",
              "    }\n",
              "</style>\n",
              "<table border=\"1\" class=\"dataframe\">\n",
              "  <thead>\n",
              "    <tr style=\"text-align: right;\">\n",
              "      <th></th>\n",
              "      <th>Unnamed: 0</th>\n",
              "      <th>age</th>\n",
              "      <th>workclass</th>\n",
              "      <th>fnlwgt</th>\n",
              "      <th>education</th>\n",
              "      <th>education-num</th>\n",
              "      <th>marital-status</th>\n",
              "      <th>occupation</th>\n",
              "      <th>relationship</th>\n",
              "      <th>race</th>\n",
              "      <th>gender</th>\n",
              "      <th>capital-gain</th>\n",
              "      <th>capital-loss</th>\n",
              "      <th>hours-per-week</th>\n",
              "      <th>native-country</th>\n",
              "      <th>income</th>\n",
              "      <th>score</th>\n",
              "    </tr>\n",
              "  </thead>\n",
              "  <tbody>\n",
              "    <tr>\n",
              "      <th>0</th>\n",
              "      <td>0</td>\n",
              "      <td>39</td>\n",
              "      <td>State-gov</td>\n",
              "      <td>77516</td>\n",
              "      <td>Bachelors</td>\n",
              "      <td>13</td>\n",
              "      <td>Never-married</td>\n",
              "      <td>Adm-clerical</td>\n",
              "      <td>Not-in-family</td>\n",
              "      <td>White</td>\n",
              "      <td>Male</td>\n",
              "      <td>2174</td>\n",
              "      <td>0</td>\n",
              "      <td>40</td>\n",
              "      <td>United-States</td>\n",
              "      <td>&lt;=50K</td>\n",
              "      <td>&lt;=50K</td>\n",
              "    </tr>\n",
              "    <tr>\n",
              "      <th>1</th>\n",
              "      <td>1</td>\n",
              "      <td>50</td>\n",
              "      <td>Self-emp-not-inc</td>\n",
              "      <td>83311</td>\n",
              "      <td>Bachelors</td>\n",
              "      <td>13</td>\n",
              "      <td>Married-civ-spouse</td>\n",
              "      <td>Exec-managerial</td>\n",
              "      <td>Husband</td>\n",
              "      <td>White</td>\n",
              "      <td>Male</td>\n",
              "      <td>0</td>\n",
              "      <td>0</td>\n",
              "      <td>13</td>\n",
              "      <td>United-States</td>\n",
              "      <td>&lt;=50K</td>\n",
              "      <td>&lt;=50K</td>\n",
              "    </tr>\n",
              "    <tr>\n",
              "      <th>2</th>\n",
              "      <td>2</td>\n",
              "      <td>38</td>\n",
              "      <td>Private</td>\n",
              "      <td>215646</td>\n",
              "      <td>HS-grad</td>\n",
              "      <td>9</td>\n",
              "      <td>Divorced</td>\n",
              "      <td>Handlers-cleaners</td>\n",
              "      <td>Not-in-family</td>\n",
              "      <td>White</td>\n",
              "      <td>Male</td>\n",
              "      <td>0</td>\n",
              "      <td>0</td>\n",
              "      <td>40</td>\n",
              "      <td>United-States</td>\n",
              "      <td>&lt;=50K</td>\n",
              "      <td>&lt;=50K</td>\n",
              "    </tr>\n",
              "    <tr>\n",
              "      <th>3</th>\n",
              "      <td>3</td>\n",
              "      <td>53</td>\n",
              "      <td>Private</td>\n",
              "      <td>234721</td>\n",
              "      <td>11th</td>\n",
              "      <td>7</td>\n",
              "      <td>Married-civ-spouse</td>\n",
              "      <td>Handlers-cleaners</td>\n",
              "      <td>Husband</td>\n",
              "      <td>Black</td>\n",
              "      <td>Male</td>\n",
              "      <td>0</td>\n",
              "      <td>0</td>\n",
              "      <td>40</td>\n",
              "      <td>United-States</td>\n",
              "      <td>&lt;=50K</td>\n",
              "      <td>&lt;=50K</td>\n",
              "    </tr>\n",
              "    <tr>\n",
              "      <th>4</th>\n",
              "      <td>4</td>\n",
              "      <td>28</td>\n",
              "      <td>Private</td>\n",
              "      <td>338409</td>\n",
              "      <td>Bachelors</td>\n",
              "      <td>13</td>\n",
              "      <td>Married-civ-spouse</td>\n",
              "      <td>Prof-specialty</td>\n",
              "      <td>Wife</td>\n",
              "      <td>Black</td>\n",
              "      <td>Female</td>\n",
              "      <td>0</td>\n",
              "      <td>0</td>\n",
              "      <td>40</td>\n",
              "      <td>Cuba</td>\n",
              "      <td>&lt;=50K</td>\n",
              "      <td>&lt;=50K</td>\n",
              "    </tr>\n",
              "  </tbody>\n",
              "</table>\n",
              "</div>\n",
              "      <button class=\"colab-df-convert\" onclick=\"convertToInteractive('df-e9f9cca6-a886-45a4-aea5-e4ac5202b8cb')\"\n",
              "              title=\"Convert this dataframe to an interactive table.\"\n",
              "              style=\"display:none;\">\n",
              "\n",
              "  <svg xmlns=\"http://www.w3.org/2000/svg\" height=\"24px\"viewBox=\"0 0 24 24\"\n",
              "       width=\"24px\">\n",
              "    <path d=\"M0 0h24v24H0V0z\" fill=\"none\"/>\n",
              "    <path d=\"M18.56 5.44l.94 2.06.94-2.06 2.06-.94-2.06-.94-.94-2.06-.94 2.06-2.06.94zm-11 1L8.5 8.5l.94-2.06 2.06-.94-2.06-.94L8.5 2.5l-.94 2.06-2.06.94zm10 10l.94 2.06.94-2.06 2.06-.94-2.06-.94-.94-2.06-.94 2.06-2.06.94z\"/><path d=\"M17.41 7.96l-1.37-1.37c-.4-.4-.92-.59-1.43-.59-.52 0-1.04.2-1.43.59L10.3 9.45l-7.72 7.72c-.78.78-.78 2.05 0 2.83L4 21.41c.39.39.9.59 1.41.59.51 0 1.02-.2 1.41-.59l7.78-7.78 2.81-2.81c.8-.78.8-2.07 0-2.86zM5.41 20L4 18.59l7.72-7.72 1.47 1.35L5.41 20z\"/>\n",
              "  </svg>\n",
              "      </button>\n",
              "\n",
              "\n",
              "\n",
              "    <div id=\"df-dc3781b8-0655-465e-b64c-28f9a00c8b24\">\n",
              "      <button class=\"colab-df-quickchart\" onclick=\"quickchart('df-dc3781b8-0655-465e-b64c-28f9a00c8b24')\"\n",
              "              title=\"Suggest charts.\"\n",
              "              style=\"display:none;\">\n",
              "\n",
              "<svg xmlns=\"http://www.w3.org/2000/svg\" height=\"24px\"viewBox=\"0 0 24 24\"\n",
              "     width=\"24px\">\n",
              "    <g>\n",
              "        <path d=\"M19 3H5c-1.1 0-2 .9-2 2v14c0 1.1.9 2 2 2h14c1.1 0 2-.9 2-2V5c0-1.1-.9-2-2-2zM9 17H7v-7h2v7zm4 0h-2V7h2v10zm4 0h-2v-4h2v4z\"/>\n",
              "    </g>\n",
              "</svg>\n",
              "      </button>\n",
              "    </div>\n",
              "\n",
              "<style>\n",
              "  .colab-df-quickchart {\n",
              "    background-color: #E8F0FE;\n",
              "    border: none;\n",
              "    border-radius: 50%;\n",
              "    cursor: pointer;\n",
              "    display: none;\n",
              "    fill: #1967D2;\n",
              "    height: 32px;\n",
              "    padding: 0 0 0 0;\n",
              "    width: 32px;\n",
              "  }\n",
              "\n",
              "  .colab-df-quickchart:hover {\n",
              "    background-color: #E2EBFA;\n",
              "    box-shadow: 0px 1px 2px rgba(60, 64, 67, 0.3), 0px 1px 3px 1px rgba(60, 64, 67, 0.15);\n",
              "    fill: #174EA6;\n",
              "  }\n",
              "\n",
              "  [theme=dark] .colab-df-quickchart {\n",
              "    background-color: #3B4455;\n",
              "    fill: #D2E3FC;\n",
              "  }\n",
              "\n",
              "  [theme=dark] .colab-df-quickchart:hover {\n",
              "    background-color: #434B5C;\n",
              "    box-shadow: 0px 1px 3px 1px rgba(0, 0, 0, 0.15);\n",
              "    filter: drop-shadow(0px 1px 2px rgba(0, 0, 0, 0.3));\n",
              "    fill: #FFFFFF;\n",
              "  }\n",
              "</style>\n",
              "\n",
              "    <script>\n",
              "      async function quickchart(key) {\n",
              "        const containerElement = document.querySelector('#' + key);\n",
              "        const charts = await google.colab.kernel.invokeFunction(\n",
              "            'suggestCharts', [key], {});\n",
              "      }\n",
              "    </script>\n",
              "\n",
              "      <script>\n",
              "\n",
              "function displayQuickchartButton(domScope) {\n",
              "  let quickchartButtonEl =\n",
              "    domScope.querySelector('#df-dc3781b8-0655-465e-b64c-28f9a00c8b24 button.colab-df-quickchart');\n",
              "  quickchartButtonEl.style.display =\n",
              "    google.colab.kernel.accessAllowed ? 'block' : 'none';\n",
              "}\n",
              "\n",
              "        displayQuickchartButton(document);\n",
              "      </script>\n",
              "      <style>\n",
              "    .colab-df-container {\n",
              "      display:flex;\n",
              "      flex-wrap:wrap;\n",
              "      gap: 12px;\n",
              "    }\n",
              "\n",
              "    .colab-df-convert {\n",
              "      background-color: #E8F0FE;\n",
              "      border: none;\n",
              "      border-radius: 50%;\n",
              "      cursor: pointer;\n",
              "      display: none;\n",
              "      fill: #1967D2;\n",
              "      height: 32px;\n",
              "      padding: 0 0 0 0;\n",
              "      width: 32px;\n",
              "    }\n",
              "\n",
              "    .colab-df-convert:hover {\n",
              "      background-color: #E2EBFA;\n",
              "      box-shadow: 0px 1px 2px rgba(60, 64, 67, 0.3), 0px 1px 3px 1px rgba(60, 64, 67, 0.15);\n",
              "      fill: #174EA6;\n",
              "    }\n",
              "\n",
              "    [theme=dark] .colab-df-convert {\n",
              "      background-color: #3B4455;\n",
              "      fill: #D2E3FC;\n",
              "    }\n",
              "\n",
              "    [theme=dark] .colab-df-convert:hover {\n",
              "      background-color: #434B5C;\n",
              "      box-shadow: 0px 1px 3px 1px rgba(0, 0, 0, 0.15);\n",
              "      filter: drop-shadow(0px 1px 2px rgba(0, 0, 0, 0.3));\n",
              "      fill: #FFFFFF;\n",
              "    }\n",
              "  </style>\n",
              "\n",
              "      <script>\n",
              "        const buttonEl =\n",
              "          document.querySelector('#df-e9f9cca6-a886-45a4-aea5-e4ac5202b8cb button.colab-df-convert');\n",
              "        buttonEl.style.display =\n",
              "          google.colab.kernel.accessAllowed ? 'block' : 'none';\n",
              "\n",
              "        async function convertToInteractive(key) {\n",
              "          const element = document.querySelector('#df-e9f9cca6-a886-45a4-aea5-e4ac5202b8cb');\n",
              "          const dataTable =\n",
              "            await google.colab.kernel.invokeFunction('convertToInteractive',\n",
              "                                                     [key], {});\n",
              "          if (!dataTable) return;\n",
              "\n",
              "          const docLinkHtml = 'Like what you see? Visit the ' +\n",
              "            '<a target=\"_blank\" href=https://colab.research.google.com/notebooks/data_table.ipynb>data table notebook</a>'\n",
              "            + ' to learn more about interactive tables.';\n",
              "          element.innerHTML = '';\n",
              "          dataTable['output_type'] = 'display_data';\n",
              "          await google.colab.output.renderOutput(dataTable, element);\n",
              "          const docLink = document.createElement('div');\n",
              "          docLink.innerHTML = docLinkHtml;\n",
              "          element.appendChild(docLink);\n",
              "        }\n",
              "      </script>\n",
              "    </div>\n",
              "  </div>\n"
            ]
          },
          "metadata": {},
          "execution_count": 5
        }
      ]
    },
    {
      "cell_type": "markdown",
      "source": [
        "Note como las predicciones del modelo están en la columna `score`."
      ],
      "metadata": {
        "id": "Ea5sJS08kKn1"
      }
    },
    {
      "cell_type": "markdown",
      "metadata": {
        "id": "WHD3xAUrjtSs"
      },
      "source": [
        "### Utilizando métricas para identificar paridades"
      ]
    },
    {
      "cell_type": "markdown",
      "metadata": {
        "id": "YbocSSjujtSs"
      },
      "source": [
        "Podemos utilizar algunas métricas para identificar disparidades que se encuentran directamente en nuestro conjunto de datos:\n",
        "\n",
        "- `selection_rate`: Calcula la fracción de predicciones que coninciden con el resultado \"positivo\""
      ]
    },
    {
      "cell_type": "markdown",
      "source": [
        "Primero, convertimos la variable en la que estamos interesados en computar una métrica en numérica:"
      ],
      "metadata": {
        "id": "i3y710clk7aM"
      }
    },
    {
      "cell_type": "code",
      "source": [
        "y_true = (scored_dataset['income'] == '>50K') * 1"
      ],
      "metadata": {
        "id": "2m6BjATNk5wS"
      },
      "execution_count": 6,
      "outputs": []
    },
    {
      "cell_type": "markdown",
      "source": [
        "Luego, seleccionamos el atributo que queremos discriminar:"
      ],
      "metadata": {
        "id": "ibEgg-qQlBVG"
      }
    },
    {
      "cell_type": "code",
      "source": [
        "gender = scored_dataset['gender']"
      ],
      "metadata": {
        "id": "JOuYBbfIlD6E"
      },
      "execution_count": 7,
      "outputs": []
    },
    {
      "cell_type": "markdown",
      "source": [
        "Finalmente, computamos la métrica.\n",
        "\n",
        "> Note como estamos configurando `y_true` y `y_pred` con los mismos valores. Esto lo hacemos porque estamos interesados en saber cúal es el sezgo original en el conjunto de datos (no en el modelo)."
      ],
      "metadata": {
        "id": "3rUK2U1glGOc"
      }
    },
    {
      "cell_type": "code",
      "execution_count": 8,
      "metadata": {
        "id": "MkYTCSA4jtSs",
        "outputId": "58a4b910-c80b-4b8b-89c6-489612ac0d23",
        "colab": {
          "base_uri": "https://localhost:8080/",
          "height": 472
        }
      },
      "outputs": [
        {
          "output_type": "display_data",
          "data": {
            "text/plain": [
              "<Figure size 640x480 with 1 Axes>"
            ],
            "image/png": "[encoded data removed]"
          },
          "metadata": {}
        }
      ],
      "source": [
        "from fairlearn.metrics import MetricFrame, selection_rate\n",
        "\n",
        "selection_rates = MetricFrame(metrics=selection_rate,\n",
        "                              y_true=y_true,\n",
        "                              y_pred=y_true,\n",
        "                              sensitive_features=gender)\n",
        "\n",
        "fig = selection_rates.by_group.plot.bar(\n",
        "    legend=False, rot=0,\n",
        "    title='Fraction earning over $50,000')"
      ]
    },
    {
      "cell_type": "markdown",
      "source": [
        "Podemos ver en el gráfico anterior que los hombres tienen una probabilidad más alta de ser seleccionados con la etiqueta de `> 50K` que las mujeres. Esto no significa que nuestro modelo efectivamente copie este sezgo. Sin embargo, nos da la pauta de que el modelo podría estar incentivado a copiarlo simplemente al intentar optimizar la métrica de performance sobre el conjunto de datos."
      ],
      "metadata": {
        "id": "LJvxWigZpZ3I"
      }
    },
    {
      "cell_type": "code",
      "source": [
        "selection_rates.difference()"
      ],
      "metadata": {
        "id": "LN_hXiqgrbow",
        "outputId": "a34e3a81-16b4-4a49-898d-649ba9559a5c",
        "colab": {
          "base_uri": "https://localhost:8080/"
        }
      },
      "execution_count": 9,
      "outputs": [
        {
          "output_type": "execute_result",
          "data": {
            "text/plain": [
              "0.05434109974137632"
            ]
          },
          "metadata": {},
          "execution_count": 9
        }
      ]
    },
    {
      "cell_type": "markdown",
      "metadata": {
        "id": "HDw92gHajtSs"
      },
      "source": [
        "### Evaluando la imparcialidad de un modelo"
      ]
    },
    {
      "cell_type": "markdown",
      "metadata": {
        "id": "jq8CNlAkjtSt"
      },
      "source": [
        "Veamos como podemos evaluar la imparcialidad de un modelo al seleccionar atributos donde estamos interesados que el modelo no tenga sezgos. Al igual que hicimos anteriormente, necesitamos seleccionar el atributo que queremos explorar:"
      ]
    },
    {
      "cell_type": "code",
      "execution_count": null,
      "metadata": {
        "id": "6Z57GVMpjtSt"
      },
      "outputs": [],
      "source": [
        "gender = scored_dataset['gender']"
      ]
    },
    {
      "cell_type": "markdown",
      "metadata": {
        "id": "2tj_r1gTjtSt"
      },
      "source": [
        "Necesitamos las categorias codificadas de forma numerica para trabajar con las métricas de aquí en adelante:"
      ]
    },
    {
      "cell_type": "code",
      "execution_count": null,
      "metadata": {
        "id": "SgygZZbijtSt"
      },
      "outputs": [],
      "source": [
        "y_pred = (scored_dataset['score'] == '>50K') * 1\n",
        "y_true = (scored_dataset['income'] == '>50K') * 1"
      ]
    },
    {
      "cell_type": "markdown",
      "metadata": {
        "id": "wwZ4GTYajtSt"
      },
      "source": [
        "Calculamos la métrica `accuracy`"
      ]
    },
    {
      "cell_type": "code",
      "execution_count": null,
      "metadata": {
        "id": "CYI5ehXGjtSt"
      },
      "outputs": [],
      "source": [
        "from sklearn.metrics import accuracy_score\n",
        "\n",
        "gm = MetricFrame(metrics=accuracy_score, y_true=y_true, y_pred=y_pred, sensitive_features=gender)"
      ]
    },
    {
      "cell_type": "markdown",
      "metadata": {
        "id": "Ii-3cKxPjtSu"
      },
      "source": [
        "En general, el modelo tiene la siguiente performance según la métrica `accuracy`"
      ]
    },
    {
      "cell_type": "code",
      "execution_count": null,
      "metadata": {
        "id": "wlziNhuyjtSu",
        "outputId": "58e2ff95-b4b9-4481-9823-d912e97f8e87",
        "colab": {
          "base_uri": "https://localhost:8080/"
        }
      },
      "outputs": [
        {
          "output_type": "stream",
          "name": "stdout",
          "text": [
            "0.821012868155155\n"
          ]
        }
      ],
      "source": [
        "print(gm.overall)"
      ]
    },
    {
      "cell_type": "markdown",
      "metadata": {
        "id": "Keyqr98-jtSu"
      },
      "source": [
        "Sin embargo, si examinamos la métrica para cada grupo, el valor no es el mismo:"
      ]
    },
    {
      "cell_type": "code",
      "execution_count": null,
      "metadata": {
        "id": "H2X51FvpjtSu",
        "outputId": "4ddc355a-7d34-43c1-bbc0-c2798209eb2b",
        "colab": {
          "base_uri": "https://localhost:8080/"
        }
      },
      "outputs": [
        {
          "output_type": "stream",
          "name": "stdout",
          "text": [
            "gender\n",
            " Female    0.917278\n",
            " Male      0.773428\n",
            "Name: accuracy_score, dtype: float64\n"
          ]
        }
      ],
      "source": [
        "print(gm.by_group)"
      ]
    },
    {
      "cell_type": "markdown",
      "metadata": {
        "id": "cfNTRSH5jtSu"
      },
      "source": [
        "Además, fairlearn tiene muchas otras métricas integradas, como la tasa de selección, es decir, el porcentaje de la población que tiene \"1\" como etiqueta:"
      ]
    },
    {
      "cell_type": "code",
      "execution_count": null,
      "metadata": {
        "id": "naQUfd9fjtSu",
        "outputId": "849fa3d1-fc12-422f-c907-77f600bd0433",
        "colab": {
          "base_uri": "https://localhost:8080/"
        }
      },
      "outputs": [
        {
          "output_type": "stream",
          "name": "stdout",
          "text": [
            "0.06421792942477196\n"
          ]
        }
      ],
      "source": [
        "from fairlearn.metrics import selection_rate\n",
        "\n",
        "selection_rates = MetricFrame(metrics=selection_rate,\n",
        "                              y_true=y_true,\n",
        "                              y_pred=y_pred,\n",
        "                              sensitive_features=gender)\n",
        "print(selection_rates.overall)"
      ]
    },
    {
      "cell_type": "code",
      "execution_count": null,
      "metadata": {
        "id": "rBFqNk7XjtSv",
        "outputId": "e1c91b90-3442-4b00-a81d-9c60c11e3db9",
        "colab": {
          "base_uri": "https://localhost:8080/"
        }
      },
      "outputs": [
        {
          "output_type": "stream",
          "name": "stdout",
          "text": [
            "gender\n",
            " Female    0.027853\n",
            " Male      0.082194\n",
            "Name: selection_rate, dtype: float64\n"
          ]
        }
      ],
      "source": [
        "print(selection_rates.by_group)"
      ]
    },
    {
      "cell_type": "markdown",
      "metadata": {
        "id": "gmWhiCUljtSv"
      },
      "source": [
        "Podemos rápidamente graficar estos valores junto con otras métricas interesantes:"
      ]
    },
    {
      "cell_type": "code",
      "execution_count": null,
      "metadata": {
        "id": "RlxH2NazjtSv",
        "outputId": "1ebb65fb-b02d-4d99-9e4f-8b667960f6b0",
        "colab": {
          "base_uri": "https://localhost:8080/",
          "height": 955
        }
      },
      "outputs": [
        {
          "output_type": "execute_result",
          "data": {
            "text/plain": [
              "array([[<Axes: title={'center': 'accuracy'}, xlabel='gender'>,\n",
              "        <Axes: title={'center': 'precision'}, xlabel='gender'>,\n",
              "        <Axes: title={'center': 'recall'}, xlabel='gender'>],\n",
              "       [<Axes: title={'center': 'false positive rate'}, xlabel='gender'>,\n",
              "        <Axes: title={'center': 'true positive rate'}, xlabel='gender'>,\n",
              "        <Axes: title={'center': 'selection rate'}, xlabel='gender'>],\n",
              "       [<Axes: title={'center': 'count'}, xlabel='gender'>,\n",
              "        <Axes: xlabel='gender'>, <Axes: xlabel='gender'>]], dtype=object)"
            ]
          },
          "metadata": {},
          "execution_count": 14
        },
        {
          "output_type": "display_data",
          "data": {
            "text/plain": [
              "<Figure size 1200x800 with 9 Axes>"
            ],
            "image/png": "[encoded data removed]"
          },
          "metadata": {}
        }
      ],
      "source": [
        "from fairlearn.metrics import *\n",
        "from sklearn.metrics import accuracy_score, precision_score, recall_score\n",
        "\n",
        "metrics = {\n",
        "    'accuracy': accuracy_score,\n",
        "    'precision': precision_score,\n",
        "    'recall': recall_score,\n",
        "    'false positive rate': false_positive_rate,\n",
        "    'true positive rate': true_positive_rate,\n",
        "    'selection rate': selection_rate,\n",
        "    'count': count}\n",
        "\n",
        "metric_frame = MetricFrame(metrics=metrics,\n",
        "                           y_true=y_true,\n",
        "                           y_pred=y_pred,\n",
        "                           sensitive_features=gender)\n",
        "\n",
        "metric_frame.by_group.plot.bar(\n",
        "    subplots=True,\n",
        "    layout=[3, 3],\n",
        "    legend=False,\n",
        "    figsize=[12, 8],\n",
        "    title=\"Show all metrics\",\n",
        ")"
      ]
    },
    {
      "cell_type": "markdown",
      "source": [
        "#### Métricas personalizadas\n",
        "\n",
        "<div class=\"admonition warning\">PRECAUCIÓN 😱: El tema presentado en esta sección está clasificado como avanzado. El entendimiento de este contenido es totalmente opcional.</div>\n",
        "\n",
        "En muchos casos, las métricas que queremos computar no estan en alguna librería predefinida o simplemente están muy ligadas a nuestro negocio. En tales casos, podemos computar nuestras propias métricas.\n",
        "\n",
        "En el siguiente ejemplo, mostraremos como computar el error asociado con una métrica que computamos para tener en cuenta el intervalo de confianza de la misma. Scikit-learn dispone de la métrica `balanced_accuracy_score`, pero no dispone de una forma de computar su error. En este ejemplo agregaremos una métrica llamada `balanced_accuracy_error`:\n",
        "\n",
        "> Adaptado de: https://fairlearn.org/v0.9/auto_examples/plot_credit_loan_decisions.html#mitigating-unfairness-in-ml-models"
      ],
      "metadata": {
        "id": "Mrrr-9m3r9Rb"
      }
    },
    {
      "cell_type": "code",
      "source": [
        "import numpy as np\n",
        "from sklearn.metrics import confusion_matrix, balanced_accuracy_score\n",
        "\n",
        "def compute_error_metric(metric_value, sample_size):\n",
        "    \"\"\"Compute standard error of a given metric based on the assumption of\n",
        "    normal distribution.\n",
        "\n",
        "    Parameters:\n",
        "    metric_value: Value of the metric\n",
        "    sample_size: Number of data points associated with the metric\n",
        "\n",
        "    Returns:\n",
        "    The standard error of the metric\n",
        "    \"\"\"\n",
        "    metric_value = metric_value / sample_size\n",
        "    return (\n",
        "        1.96\n",
        "        * np.sqrt(metric_value * (1.0 - metric_value))\n",
        "        / np.sqrt(sample_size)\n",
        "    )\n",
        "\n",
        "def false_positive_error(y_true, y_pred):\n",
        "    \"\"\"Compute the standard error for the false positive rate estimate.\"\"\"\n",
        "    tn, fp, fn, tp = confusion_matrix(y_true, y_pred).ravel()\n",
        "    return compute_error_metric(fp, tn + fp)\n",
        "\n",
        "\n",
        "def false_negative_error(y_true, y_pred):\n",
        "    \"\"\"Compute the standard error for the false negative rate estimate.\"\"\"\n",
        "    tn, fp, fn, tp = confusion_matrix(y_true, y_pred).ravel()\n",
        "    return compute_error_metric(fn, fn + tp)\n",
        "\n",
        "\n",
        "def balanced_accuracy_error(y_true, y_pred):\n",
        "    \"\"\"Compute the standard error for the balanced accuracy estimate.\"\"\"\n",
        "    fpr_error, fnr_error = false_positive_error(\n",
        "        y_true, y_pred\n",
        "    ), false_negative_error(y_true, y_pred)\n",
        "    return np.sqrt(fnr_error**2 + fpr_error**2) / 2"
      ],
      "metadata": {
        "id": "dacI6SfNsICO"
      },
      "execution_count": 16,
      "outputs": []
    },
    {
      "cell_type": "markdown",
      "source": [
        "Una vez que tenemos las funciones definidas, simplemente creamos un diccionario con las métricas que queremos usar, agregando nuestra nueva métrica `balanced_accuracy_error`:"
      ],
      "metadata": {
        "id": "unlDdyqpvU_q"
      }
    },
    {
      "cell_type": "code",
      "source": [
        "metrics = {\n",
        "    \"balanced_accuracy\": balanced_accuracy_score,\n",
        "    \"balanced_acc_error\": balanced_accuracy_error,\n",
        "    \"selection_rate\": selection_rate,\n",
        "}"
      ],
      "metadata": {
        "id": "E3dUVjW1ssoW"
      },
      "execution_count": 20,
      "outputs": []
    },
    {
      "cell_type": "markdown",
      "source": [
        "Construimos nuestro `MetricFrame` de la misma forma que hicimos anteriormente:"
      ],
      "metadata": {
        "id": "aYw9eImKvbpA"
      }
    },
    {
      "cell_type": "code",
      "source": [
        "metric_frame = MetricFrame(\n",
        "    metrics=metrics,\n",
        "    y_true=y_true,\n",
        "    y_pred=y_pred,\n",
        "    sensitive_features=gender\n",
        ")"
      ],
      "metadata": {
        "id": "8y6CcLX1sh_i"
      },
      "execution_count": 21,
      "outputs": []
    },
    {
      "cell_type": "markdown",
      "source": [
        "Podemos ver como la métrica se computo para cada groupo:"
      ],
      "metadata": {
        "id": "romM_CCUw1CM"
      }
    },
    {
      "cell_type": "code",
      "source": [
        "metric_frame.by_group"
      ],
      "metadata": {
        "id": "QyxKQ6_Bw3li",
        "outputId": "16063a77-05c6-4d78-fa39-de7f0a4a315f",
        "colab": {
          "base_uri": "https://localhost:8080/",
          "height": 143
        }
      },
      "execution_count": 34,
      "outputs": [
        {
          "output_type": "execute_result",
          "data": {
            "text/plain": [
              "         balanced_accuracy  balanced_acc_error  selection_rate\n",
              "gender                                                        \n",
              " Female           0.624369            0.012351        0.027853\n",
              " Male             0.630852            0.005305        0.082194"
            ],
            "text/html": [
              "\n",
              "\n",
              "  <div id=\"df-e3406c78-89a9-4918-8357-5f159d022116\">\n",
              "    <div class=\"colab-df-container\">\n",
              "      <div>\n",
              "<style scoped>\n",
              "    .dataframe tbody tr th:only-of-type {\n",
              "        vertical-align: middle;\n",
              "    }\n",
              "\n",
              "    .dataframe tbody tr th {\n",
              "        vertical-align: top;\n",
              "    }\n",
              "\n",
              "    .dataframe thead th {\n",
              "        text-align: right;\n",
              "    }\n",
              "</style>\n",
              "<table border=\"1\" class=\"dataframe\">\n",
              "  <thead>\n",
              "    <tr style=\"text-align: right;\">\n",
              "      <th></th>\n",
              "      <th>balanced_accuracy</th>\n",
              "      <th>balanced_acc_error</th>\n",
              "      <th>selection_rate</th>\n",
              "    </tr>\n",
              "    <tr>\n",
              "      <th>gender</th>\n",
              "      <th></th>\n",
              "      <th></th>\n",
              "      <th></th>\n",
              "    </tr>\n",
              "  </thead>\n",
              "  <tbody>\n",
              "    <tr>\n",
              "      <th>Female</th>\n",
              "      <td>0.624369</td>\n",
              "      <td>0.012351</td>\n",
              "      <td>0.027853</td>\n",
              "    </tr>\n",
              "    <tr>\n",
              "      <th>Male</th>\n",
              "      <td>0.630852</td>\n",
              "      <td>0.005305</td>\n",
              "      <td>0.082194</td>\n",
              "    </tr>\n",
              "  </tbody>\n",
              "</table>\n",
              "</div>\n",
              "      <button class=\"colab-df-convert\" onclick=\"convertToInteractive('df-e3406c78-89a9-4918-8357-5f159d022116')\"\n",
              "              title=\"Convert this dataframe to an interactive table.\"\n",
              "              style=\"display:none;\">\n",
              "\n",
              "  <svg xmlns=\"http://www.w3.org/2000/svg\" height=\"24px\"viewBox=\"0 0 24 24\"\n",
              "       width=\"24px\">\n",
              "    <path d=\"M0 0h24v24H0V0z\" fill=\"none\"/>\n",
              "    <path d=\"M18.56 5.44l.94 2.06.94-2.06 2.06-.94-2.06-.94-.94-2.06-.94 2.06-2.06.94zm-11 1L8.5 8.5l.94-2.06 2.06-.94-2.06-.94L8.5 2.5l-.94 2.06-2.06.94zm10 10l.94 2.06.94-2.06 2.06-.94-2.06-.94-.94-2.06-.94 2.06-2.06.94z\"/><path d=\"M17.41 7.96l-1.37-1.37c-.4-.4-.92-.59-1.43-.59-.52 0-1.04.2-1.43.59L10.3 9.45l-7.72 7.72c-.78.78-.78 2.05 0 2.83L4 21.41c.39.39.9.59 1.41.59.51 0 1.02-.2 1.41-.59l7.78-7.78 2.81-2.81c.8-.78.8-2.07 0-2.86zM5.41 20L4 18.59l7.72-7.72 1.47 1.35L5.41 20z\"/>\n",
              "  </svg>\n",
              "      </button>\n",
              "\n",
              "\n",
              "\n",
              "    <div id=\"df-f410846a-747c-4d14-9054-ba4f0e4ba4aa\">\n",
              "      <button class=\"colab-df-quickchart\" onclick=\"quickchart('df-f410846a-747c-4d14-9054-ba4f0e4ba4aa')\"\n",
              "              title=\"Suggest charts.\"\n",
              "              style=\"display:none;\">\n",
              "\n",
              "<svg xmlns=\"http://www.w3.org/2000/svg\" height=\"24px\"viewBox=\"0 0 24 24\"\n",
              "     width=\"24px\">\n",
              "    <g>\n",
              "        <path d=\"M19 3H5c-1.1 0-2 .9-2 2v14c0 1.1.9 2 2 2h14c1.1 0 2-.9 2-2V5c0-1.1-.9-2-2-2zM9 17H7v-7h2v7zm4 0h-2V7h2v10zm4 0h-2v-4h2v4z\"/>\n",
              "    </g>\n",
              "</svg>\n",
              "      </button>\n",
              "    </div>\n",
              "\n",
              "<style>\n",
              "  .colab-df-quickchart {\n",
              "    background-color: #E8F0FE;\n",
              "    border: none;\n",
              "    border-radius: 50%;\n",
              "    cursor: pointer;\n",
              "    display: none;\n",
              "    fill: #1967D2;\n",
              "    height: 32px;\n",
              "    padding: 0 0 0 0;\n",
              "    width: 32px;\n",
              "  }\n",
              "\n",
              "  .colab-df-quickchart:hover {\n",
              "    background-color: #E2EBFA;\n",
              "    box-shadow: 0px 1px 2px rgba(60, 64, 67, 0.3), 0px 1px 3px 1px rgba(60, 64, 67, 0.15);\n",
              "    fill: #174EA6;\n",
              "  }\n",
              "\n",
              "  [theme=dark] .colab-df-quickchart {\n",
              "    background-color: #3B4455;\n",
              "    fill: #D2E3FC;\n",
              "  }\n",
              "\n",
              "  [theme=dark] .colab-df-quickchart:hover {\n",
              "    background-color: #434B5C;\n",
              "    box-shadow: 0px 1px 3px 1px rgba(0, 0, 0, 0.15);\n",
              "    filter: drop-shadow(0px 1px 2px rgba(0, 0, 0, 0.3));\n",
              "    fill: #FFFFFF;\n",
              "  }\n",
              "</style>\n",
              "\n",
              "    <script>\n",
              "      async function quickchart(key) {\n",
              "        const containerElement = document.querySelector('#' + key);\n",
              "        const charts = await google.colab.kernel.invokeFunction(\n",
              "            'suggestCharts', [key], {});\n",
              "      }\n",
              "    </script>\n",
              "\n",
              "      <script>\n",
              "\n",
              "function displayQuickchartButton(domScope) {\n",
              "  let quickchartButtonEl =\n",
              "    domScope.querySelector('#df-f410846a-747c-4d14-9054-ba4f0e4ba4aa button.colab-df-quickchart');\n",
              "  quickchartButtonEl.style.display =\n",
              "    google.colab.kernel.accessAllowed ? 'block' : 'none';\n",
              "}\n",
              "\n",
              "        displayQuickchartButton(document);\n",
              "      </script>\n",
              "      <style>\n",
              "    .colab-df-container {\n",
              "      display:flex;\n",
              "      flex-wrap:wrap;\n",
              "      gap: 12px;\n",
              "    }\n",
              "\n",
              "    .colab-df-convert {\n",
              "      background-color: #E8F0FE;\n",
              "      border: none;\n",
              "      border-radius: 50%;\n",
              "      cursor: pointer;\n",
              "      display: none;\n",
              "      fill: #1967D2;\n",
              "      height: 32px;\n",
              "      padding: 0 0 0 0;\n",
              "      width: 32px;\n",
              "    }\n",
              "\n",
              "    .colab-df-convert:hover {\n",
              "      background-color: #E2EBFA;\n",
              "      box-shadow: 0px 1px 2px rgba(60, 64, 67, 0.3), 0px 1px 3px 1px rgba(60, 64, 67, 0.15);\n",
              "      fill: #174EA6;\n",
              "    }\n",
              "\n",
              "    [theme=dark] .colab-df-convert {\n",
              "      background-color: #3B4455;\n",
              "      fill: #D2E3FC;\n",
              "    }\n",
              "\n",
              "    [theme=dark] .colab-df-convert:hover {\n",
              "      background-color: #434B5C;\n",
              "      box-shadow: 0px 1px 3px 1px rgba(0, 0, 0, 0.15);\n",
              "      filter: drop-shadow(0px 1px 2px rgba(0, 0, 0, 0.3));\n",
              "      fill: #FFFFFF;\n",
              "    }\n",
              "  </style>\n",
              "\n",
              "      <script>\n",
              "        const buttonEl =\n",
              "          document.querySelector('#df-e3406c78-89a9-4918-8357-5f159d022116 button.colab-df-convert');\n",
              "        buttonEl.style.display =\n",
              "          google.colab.kernel.accessAllowed ? 'block' : 'none';\n",
              "\n",
              "        async function convertToInteractive(key) {\n",
              "          const element = document.querySelector('#df-e3406c78-89a9-4918-8357-5f159d022116');\n",
              "          const dataTable =\n",
              "            await google.colab.kernel.invokeFunction('convertToInteractive',\n",
              "                                                     [key], {});\n",
              "          if (!dataTable) return;\n",
              "\n",
              "          const docLinkHtml = 'Like what you see? Visit the ' +\n",
              "            '<a target=\"_blank\" href=https://colab.research.google.com/notebooks/data_table.ipynb>data table notebook</a>'\n",
              "            + ' to learn more about interactive tables.';\n",
              "          element.innerHTML = '';\n",
              "          dataTable['output_type'] = 'display_data';\n",
              "          await google.colab.output.renderOutput(dataTable, element);\n",
              "          const docLink = document.createElement('div');\n",
              "          docLink.innerHTML = docLinkHtml;\n",
              "          element.appendChild(docLink);\n",
              "        }\n",
              "      </script>\n",
              "    </div>\n",
              "  </div>\n"
            ]
          },
          "metadata": {},
          "execution_count": 34
        }
      ]
    },
    {
      "cell_type": "markdown",
      "source": [
        "Para visualizar mas efectivamente la métrica, utilizaremos esta función:"
      ],
      "metadata": {
        "id": "j3-4PbWMvfmh"
      }
    },
    {
      "cell_type": "code",
      "source": [
        "def plot_group_metrics_with_error_bars(metricframe, metric, error_name):\n",
        "    \"\"\"Plot the disaggregated metric for each group with an associated\n",
        "    error bar. Both metric and the error bar are provided as columns in the\n",
        "    provided MetricFrame.\n",
        "\n",
        "    Parameters\n",
        "    ----------\n",
        "    metricframe : MetricFrame\n",
        "        The MetricFrame containing the metrics and their associated\n",
        "        uncertainty quantification.\n",
        "    metric : str\n",
        "        The metric to plot\n",
        "    error_name : str\n",
        "        The associated standard error for each metric in metric\n",
        "\n",
        "    Returns\n",
        "    -------\n",
        "    Matplotlib Plot of point estimates with error bars\n",
        "    \"\"\"\n",
        "    import matplotlib.pyplot as plt\n",
        "\n",
        "    grouped_metrics = metricframe.by_group\n",
        "    point_estimates = grouped_metrics[metric]\n",
        "    error_bars = grouped_metrics[error_name]\n",
        "    lower_bounds = point_estimates - error_bars\n",
        "    upper_bounds = point_estimates + error_bars\n",
        "\n",
        "    x_axis_names = [\n",
        "        str(name) for name in error_bars.index.to_flat_index().tolist()\n",
        "    ]\n",
        "    plt.vlines(\n",
        "        x_axis_names,\n",
        "        lower_bounds,\n",
        "        upper_bounds,\n",
        "        linestyles=\"dashed\",\n",
        "        alpha=0.45,\n",
        "    )\n",
        "    plt.scatter(x_axis_names, point_estimates, s=25)\n",
        "    plt.xticks(rotation=0)\n",
        "    y_start, y_end = np.round(min(lower_bounds), decimals=2), np.round(\n",
        "        max(upper_bounds), decimals=2\n",
        "    )\n",
        "    plt.ylabel(metric)"
      ],
      "metadata": {
        "id": "HjiZ-m85tX89"
      },
      "execution_count": 29,
      "outputs": []
    },
    {
      "cell_type": "code",
      "source": [
        "plot_group_metrics_with_error_bars(\n",
        "    metric_frame, \"balanced_accuracy\", \"balanced_acc_error\"\n",
        ")"
      ],
      "metadata": {
        "id": "xBbicQUethSW",
        "outputId": "d53acfb3-5085-45f6-abfc-ab9dfd6fb865",
        "colab": {
          "base_uri": "https://localhost:8080/",
          "height": 430
        }
      },
      "execution_count": 30,
      "outputs": [
        {
          "output_type": "display_data",
          "data": {
            "text/plain": [
              "<Figure size 640x480 with 1 Axes>"
            ],
            "image/png": "[encoded data removed]"
          },
          "metadata": {}
        }
      ]
    }
  ],
  "metadata": {
    "kernelspec": {
      "display_name": "Python 3",
      "language": "python",
      "name": "python3"
    },
    "language_info": {
      "codemirror_mode": {
        "name": "ipython",
        "version": 3
      },
      "file_extension": ".py",
      "mimetype": "text/x-python",
      "name": "python",
      "nbconvert_exporter": "python",
      "pygments_lexer": "ipython3",
      "version": "3.8.11"
    },
    "colab": {
      "provenance": [],
      "toc_visible": true
    }
  },
  "nbformat": 4,
  "nbformat_minor": 0
}