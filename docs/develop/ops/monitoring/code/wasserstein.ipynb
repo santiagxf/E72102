{
  "cells": [
    {
      "cell_type": "markdown",
      "metadata": {
        "id": "yYATmsdVjT_R"
      },
      "source": [
        "Distancia de Wasserstein (desviación covariable y de concepto)\n",
        "=============================================================="
      ]
    },
    {
      "cell_type": "markdown",
      "metadata": {
        "id": "ISKW49nKjT_Y"
      },
      "source": [
        "La distancia de Wasserstein o métrica de Kantorovich-Rubinstein es una función de distancia definida entre distribuciones de probabilidad. Intuitivamente, si cada distribución se ve como una montaña de tierra, la métrica es el \"costo\" mínimo de convertir o mover una montaña de tierra para que tenga la forma y posición de la otra. El costo aquí es la cantidad de tierra que debe moverse de la montaña origen multiplicado por la distancia media que debe moverse para alcanzar la montaña objetivo. Debido a esta analogía, la métrica se conoce en informática como la distancia del movimiento de tierra.\n",
        "\n",
        "La distancia puede tomar un valor entre [0,infinito], donde 0 indica que las distribuciones son equivalentes.\n",
        "\n",
        "Para calcular esta métrica podemos utilizar la libreria ``scipy``:\n",
        "\n",
        "```python\n",
        "    from scipy.stats import wasserstein_distance\n",
        "\n",
        "    wasserstein_distance(source, target)\n",
        "```\n"
      ]
    },
    {
      "cell_type": "markdown",
      "metadata": {
        "id": "0ofqo34fjT_Z"
      },
      "source": [
        "Ejemplo:\n",
        "--------\n",
        "Para visualizar el concepto de desviación, usaremos los datos de IRIS dataset para generar lotes con distribuciones distintas de los datos. Posteriormente veremos como la performance del modelo se degrada y como podríamos detectar este hecho utilizando la distancia de Wassertein. El conjunto de datos de IRIS es parte de la biblioteca sklearn que constan de 3 tipos diferentes de longitud de pétalo y sépalo (Setosa, Versicolour y Virginica), descriptos por la longitud del sépalo, el ancho del sépalo, la longitud del pétalo y el ancho del pétalo:\n"
      ]
    },
    {
      "cell_type": "code",
      "execution_count": 1,
      "metadata": {
        "id": "6hzGeNOajT_a"
      },
      "outputs": [],
      "source": [
        "import pandas as pd\n",
        "import numpy as np\n",
        "import matplotlib.pyplot as plt\n",
        "\n",
        "from sklearn import datasets\n",
        "\n",
        "iris = datasets.load_iris()\n",
        "X = iris.data[:,:2]\n",
        "y = iris.target"
      ]
    },
    {
      "cell_type": "markdown",
      "metadata": {
        "id": "9RVA4dvljT_d"
      },
      "source": [
        "Como podemos observar, el conjunto de datos está balanceado, teniendo 50 observaciones para cada uno de los tipos de pétalos disponibles."
      ]
    },
    {
      "cell_type": "code",
      "execution_count": 2,
      "metadata": {
        "id": "xlJj9I6djT_e",
        "outputId": "68c34035-a6ce-4cf3-9f60-c9aecd5174ed",
        "colab": {
          "base_uri": "https://localhost:8080/",
          "height": 430
        }
      },
      "outputs": [
        {
          "output_type": "display_data",
          "data": {
            "text/plain": [
              "<Figure size 640x480 with 1 Axes>"
            ],
            "image/png": "[encoded data removed]"
          },
          "metadata": {}
        }
      ],
      "source": [
        "from collections import Counter\n",
        "\n",
        "def plot_distribution(y):\n",
        "    labels, q = zip(*sorted(Counter(y).items()))\n",
        "    plt.bar(labels, q)\n",
        "    plt.show()\n",
        "\n",
        "plot_distribution(y)"
      ]
    },
    {
      "cell_type": "markdown",
      "metadata": {
        "id": "nj01pEQgjT_g"
      },
      "source": [
        "Entrenaremos un modelo para resolver el problema. Primero, dividiremos los datos en conjuntos de entrenamiento y validación, como es costrumbre, para luego definir nuestro algoritmo de aprendizaje. En este caso, utilizaremos un simple SVM y lo entrenamos sobre los datos:"
      ]
    },
    {
      "cell_type": "code",
      "execution_count": 3,
      "metadata": {
        "id": "jSoZtG1DjT_h"
      },
      "outputs": [],
      "source": [
        "from sklearn import svm\n",
        "from sklearn.model_selection import train_test_split\n",
        "\n",
        "X_train, X_test, y_train, y_test = train_test_split(X, y, test_size=0.33, random_state=42, stratify=y)\n",
        "\n",
        "model = svm.SVC(C=1.0, kernel='linear', gamma=0.5, probability=True)\n",
        "model = model.fit(X_train, y_train)"
      ]
    },
    {
      "cell_type": "markdown",
      "metadata": {
        "id": "grRH0Jo9jT_j"
      },
      "source": [
        "Verificamos la performance de nuestro modelo de clasificación:"
      ]
    },
    {
      "cell_type": "code",
      "execution_count": 4,
      "metadata": {
        "id": "LbRsCCK1jT_j",
        "outputId": "11334381-c03c-4b32-e0a8-3c59b7d7c0ae",
        "colab": {
          "base_uri": "https://localhost:8080/"
        }
      },
      "outputs": [
        {
          "output_type": "stream",
          "name": "stdout",
          "text": [
            "              precision    recall  f1-score   support\n",
            "\n",
            "           0       1.00      1.00      1.00        16\n",
            "           1       0.62      0.76      0.68        17\n",
            "           2       0.69      0.53      0.60        17\n",
            "\n",
            "    accuracy                           0.76        50\n",
            "   macro avg       0.77      0.76      0.76        50\n",
            "weighted avg       0.77      0.76      0.76        50\n",
            "\n",
            "F1: 0.7566315789473684\n"
          ]
        }
      ],
      "source": [
        "from sklearn.metrics import classification_report\n",
        "from sklearn.metrics import f1_score\n",
        "\n",
        "y_pred = model.predict(X_test)\n",
        "print(classification_report(y_test, y_pred))\n",
        "print(\"F1:\",f1_score(y_test, y_pred, average='weighted'))"
      ]
    },
    {
      "cell_type": "markdown",
      "metadata": {
        "id": "O1lnG5_EjT_k"
      },
      "source": [
        "Simulando un cambio en la distribución de las clases\n",
        "----------------------------------------------------\n",
        "\n",
        "La siguiente función nos permitirá alterar la distribución de las observaciones presentes en el set de datos, es decir, generará un nuevo conjunto de datos cuyas proporciones de las observaciones estarán alteradas por el parámetro `weights` que las especifica. Este parametro es un arreglo donde el primer valor corresponde a la proporción de la clase `1 (Setosa)`, el segundo a la `2 (Versicolour)` y el tercero a la `3 (Virginica)`."
      ]
    },
    {
      "cell_type": "code",
      "execution_count": 5,
      "metadata": {
        "id": "s0YBEZ6kjT_l"
      },
      "outputs": [],
      "source": [
        "def simulate_samples(nsamples, X_source, y_source, weights):\n",
        "    totals = np.round(np.array(weights) * nsamples).astype(int)\n",
        "    indices = np.arange(y_source.size)\n",
        "    new_indices = []\n",
        "    for i, c in enumerate(np.unique(y_source)):\n",
        "        new_indices.extend(np.random.choice(indices[y_source==c], totals[i], replace=True))\n",
        "\n",
        "    y_new = y_source[new_indices]\n",
        "    X_new = X_source[new_indices,:]\n",
        "    return(X_new, y_new)"
      ]
    },
    {
      "cell_type": "markdown",
      "metadata": {
        "id": "lEN9-Y0ljT_l"
      },
      "source": [
        "Generemos un nuevo conjunto de datos con las proporciones 10%, 10% y 80%:"
      ]
    },
    {
      "cell_type": "code",
      "execution_count": 6,
      "metadata": {
        "id": "cHwvKVULjT_l",
        "outputId": "afafcbc8-977a-48cb-e230-e2db721d297f",
        "colab": {
          "base_uri": "https://localhost:8080/",
          "height": 430
        }
      },
      "outputs": [
        {
          "output_type": "display_data",
          "data": {
            "text/plain": [
              "<Figure size 640x480 with 1 Axes>"
            ],
            "image/png": "[encoded data removed]"
          },
          "metadata": {}
        }
      ],
      "source": [
        "n = 50\n",
        "weights = np.array([0.10, 0.10, 0.80]) # Nuevas distribuciones\n",
        "X_new, y_new = simulate_samples(n, X_test, y_test, weights)\n",
        "\n",
        "plot_distribution(y_new)"
      ]
    },
    {
      "cell_type": "markdown",
      "metadata": {
        "id": "Y-Cla92BjT_m"
      },
      "source": [
        "Efecto\n",
        "------\n",
        "Veamos cual es el efecto en la performance del modelo al cambiar esta distribución:"
      ]
    },
    {
      "cell_type": "code",
      "execution_count": 7,
      "metadata": {
        "id": "N71T1qWGjT_m",
        "outputId": "a1617c11-3b60-4deb-ab4a-90f7ab1c48b8",
        "colab": {
          "base_uri": "https://localhost:8080/"
        }
      },
      "outputs": [
        {
          "output_type": "stream",
          "name": "stdout",
          "text": [
            "              precision    recall  f1-score   support\n",
            "\n",
            "           0       1.00      1.00      1.00         5\n",
            "           1       0.20      0.80      0.32         5\n",
            "           2       0.96      0.60      0.74        40\n",
            "\n",
            "    accuracy                           0.66        50\n",
            "   macro avg       0.72      0.80      0.69        50\n",
            "weighted avg       0.89      0.66      0.72        50\n",
            "\n",
            "F1: 0.7227692307692307\n"
          ]
        }
      ],
      "source": [
        "y_new_pred = model.predict(X_new)\n",
        "print(classification_report(y_new, y_new_pred))\n",
        "print(\"F1:\",f1_score(y_new, y_new_pred, average='weighted'))\n"
      ]
    },
    {
      "cell_type": "markdown",
      "metadata": {
        "id": "93tL6mrGjT_m"
      },
      "source": [
        "Podemos ver que ahora la performance del modelo a decaido. Recuerdemos que la puntuación F1 original era ~0,76. lo que significa que el rendimiento de nuestro modelo se ha deteriorado como consecuncia del cambio de la distribución. Incluso, no necesariamente la performance del modelo pudo haber cambiado."
      ]
    },
    {
      "cell_type": "code",
      "execution_count": 8,
      "metadata": {
        "id": "1gTP0nJ4jT_m",
        "outputId": "b5995fbd-3ca3-4323-d8b1-065fce38c51f",
        "colab": {
          "base_uri": "https://localhost:8080/"
        }
      },
      "outputs": [
        {
          "output_type": "stream",
          "name": "stdout",
          "text": [
            "Distancia entre train y test: 0.1\n",
            "Distancia entre train y el nuevo set de datos: 0.34\n"
          ]
        }
      ],
      "source": [
        "from scipy.stats import wasserstein_distance\n",
        "\n",
        "print('Distancia entre train y test:', np.round(wasserstein_distance(X_train.flatten(), X_test.flatten()), 2))\n",
        "print('Distancia entre train y el nuevo set de datos:', np.round(wasserstein_distance(X_train.flatten(), X_new.flatten()), 2))\n"
      ]
    },
    {
      "cell_type": "markdown",
      "metadata": {
        "id": "Hn9BdmQQjT_n"
      },
      "source": [
        "Generalizando el experimento\n",
        "----------------------------\n",
        "Para ver el impacto en general, veamos como va cambiando la performance del modelo a medida que la distribución de los datos cambia (especificamente para la clase 2 - Versicolour). Para esto vamos a ir variando el porcentaje desde el 33% (original) hasta un 90%. Al mismo tiempo, computaremos la distancia de Wasserstein entre los conjuntos de datos:"
      ]
    },
    {
      "cell_type": "code",
      "execution_count": 9,
      "metadata": {
        "id": "jtNjMdgijT_n"
      },
      "outputs": [],
      "source": [
        "drifting_weights = [np.array([(1-p)/2.0, p, (1-p)/2.0]) for p in np.arange(.33, .90, .05)]\n",
        "\n",
        "n = 50\n",
        "scores = { 'proportion': [], 'f1': [], 'distance': [] }\n",
        "for weights in drifting_weights:\n",
        "    X_new, y_new = simulate_samples(n, X, y, weights)\n",
        "    y_new_pred = model.predict(X_new)\n",
        "    f1 = np.round(f1_score(y_new, y_new_pred, average='weighted'), 2)\n",
        "    proportion = np.round(weights[1], 2)\n",
        "    distance = np.round(wasserstein_distance(X_train.flatten(), X_new.flatten()), 2)\n",
        "    scores['proportion'].append(proportion)\n",
        "    scores['f1'].append(f1)\n",
        "    scores['distance'].append(distance)"
      ]
    },
    {
      "cell_type": "markdown",
      "metadata": {
        "id": "e7NxFKuVjT_n"
      },
      "source": [
        "La siguiente tabla muestra la variación de la performance del modelo a medida que variamos las proporciones de clases. Preste especial atención a que no siempre la performance del modelo se degrada, lo cual es especialmente interesante porque si estuvieramos monitoreando solamente las métricas de performance podriamos dejar de notar el cambio en la distribución de los datos."
      ]
    },
    {
      "cell_type": "code",
      "execution_count": 10,
      "metadata": {
        "id": "AuLBKEcfjT_n",
        "outputId": "37a2bf03-aa3d-4165-8673-22226a206cf2",
        "colab": {
          "base_uri": "https://localhost:8080/",
          "height": 479
        }
      },
      "outputs": [
        {
          "output_type": "stream",
          "name": "stderr",
          "text": [
            "<ipython-input-10-2bf03778c9ca>:5: FutureWarning: this method is deprecated in favour of `Styler.hide(axis=\"index\")`\n",
            "  .hide_index()\n"
          ]
        },
        {
          "output_type": "execute_result",
          "data": {
            "text/plain": [
              "<pandas.io.formats.style.Styler at 0x793f88bca800>"
            ],
            "text/html": [
              "<style type=\"text/css\">\n",
              "#T_5f5e3_row0_col2, #T_5f5e3_row1_col2 {\n",
              "  width: 10em;\n",
              "  background: linear-gradient(90deg, transparent 50.0%, lightblue 50.0%, lightblue 70.0%, transparent 70.0%);\n",
              "}\n",
              "#T_5f5e3_row2_col2 {\n",
              "  width: 10em;\n",
              "  background: linear-gradient(90deg, transparent 50.0%, lightblue 50.0%, lightblue 72.0%, transparent 72.0%);\n",
              "}\n",
              "#T_5f5e3_row3_col2 {\n",
              "  width: 10em;\n",
              "  background: linear-gradient(90deg, transparent 50.0%, lightblue 50.0%, lightblue 62.0%, transparent 62.0%);\n",
              "}\n",
              "#T_5f5e3_row4_col2, #T_5f5e3_row5_col2 {\n",
              "  width: 10em;\n",
              "  background: linear-gradient(90deg, transparent 50.0%, lightblue 50.0%, lightblue 80.0%, transparent 80.0%);\n",
              "}\n",
              "#T_5f5e3_row6_col2 {\n",
              "  width: 10em;\n",
              "  background: linear-gradient(90deg, transparent 50.0%, lightblue 50.0%, lightblue 88.0%, transparent 88.0%);\n",
              "}\n",
              "#T_5f5e3_row7_col2 {\n",
              "  width: 10em;\n",
              "  background: linear-gradient(90deg, transparent 50.0%, lightblue 50.0%, lightblue 82.0%, transparent 82.0%);\n",
              "}\n",
              "#T_5f5e3_row8_col2 {\n",
              "  width: 10em;\n",
              "  background: linear-gradient(90deg, transparent 50.0%, lightblue 50.0%, lightblue 84.0%, transparent 84.0%);\n",
              "}\n",
              "#T_5f5e3_row9_col2, #T_5f5e3_row11_col2 {\n",
              "  width: 10em;\n",
              "  background: linear-gradient(90deg, transparent 50.0%, lightblue 50.0%, lightblue 100.0%, transparent 100.0%);\n",
              "}\n",
              "#T_5f5e3_row10_col2 {\n",
              "  width: 10em;\n",
              "  background: linear-gradient(90deg, transparent 50.0%, lightblue 50.0%, lightblue 98.0%, transparent 98.0%);\n",
              "}\n",
              "</style>\n",
              "<table id=\"T_5f5e3\" class=\"dataframe\">\n",
              "  <caption>Performance</caption>\n",
              "  <thead>\n",
              "    <tr>\n",
              "      <th id=\"T_5f5e3_level0_col0\" class=\"col_heading level0 col0\" >proportion</th>\n",
              "      <th id=\"T_5f5e3_level0_col1\" class=\"col_heading level0 col1\" >f1</th>\n",
              "      <th id=\"T_5f5e3_level0_col2\" class=\"col_heading level0 col2\" >distance</th>\n",
              "    </tr>\n",
              "  </thead>\n",
              "  <tbody>\n",
              "    <tr>\n",
              "      <td id=\"T_5f5e3_row0_col0\" class=\"data row0 col0\" >0.330000</td>\n",
              "      <td id=\"T_5f5e3_row0_col1\" class=\"data row0 col1\" >0.740000</td>\n",
              "      <td id=\"T_5f5e3_row0_col2\" class=\"data row0 col2\" >0.100000</td>\n",
              "    </tr>\n",
              "    <tr>\n",
              "      <td id=\"T_5f5e3_row1_col0\" class=\"data row1 col0\" >0.380000</td>\n",
              "      <td id=\"T_5f5e3_row1_col1\" class=\"data row1 col1\" >0.840000</td>\n",
              "      <td id=\"T_5f5e3_row1_col2\" class=\"data row1 col2\" >0.100000</td>\n",
              "    </tr>\n",
              "    <tr>\n",
              "      <td id=\"T_5f5e3_row2_col0\" class=\"data row2 col0\" >0.430000</td>\n",
              "      <td id=\"T_5f5e3_row2_col1\" class=\"data row2 col1\" >0.860000</td>\n",
              "      <td id=\"T_5f5e3_row2_col2\" class=\"data row2 col2\" >0.110000</td>\n",
              "    </tr>\n",
              "    <tr>\n",
              "      <td id=\"T_5f5e3_row3_col0\" class=\"data row3 col0\" >0.480000</td>\n",
              "      <td id=\"T_5f5e3_row3_col1\" class=\"data row3 col1\" >0.760000</td>\n",
              "      <td id=\"T_5f5e3_row3_col2\" class=\"data row3 col2\" >0.060000</td>\n",
              "    </tr>\n",
              "    <tr>\n",
              "      <td id=\"T_5f5e3_row4_col0\" class=\"data row4 col0\" >0.530000</td>\n",
              "      <td id=\"T_5f5e3_row4_col1\" class=\"data row4 col1\" >0.730000</td>\n",
              "      <td id=\"T_5f5e3_row4_col2\" class=\"data row4 col2\" >0.150000</td>\n",
              "    </tr>\n",
              "    <tr>\n",
              "      <td id=\"T_5f5e3_row5_col0\" class=\"data row5 col0\" >0.580000</td>\n",
              "      <td id=\"T_5f5e3_row5_col1\" class=\"data row5 col1\" >0.770000</td>\n",
              "      <td id=\"T_5f5e3_row5_col2\" class=\"data row5 col2\" >0.150000</td>\n",
              "    </tr>\n",
              "    <tr>\n",
              "      <td id=\"T_5f5e3_row6_col0\" class=\"data row6 col0\" >0.630000</td>\n",
              "      <td id=\"T_5f5e3_row6_col1\" class=\"data row6 col1\" >0.860000</td>\n",
              "      <td id=\"T_5f5e3_row6_col2\" class=\"data row6 col2\" >0.190000</td>\n",
              "    </tr>\n",
              "    <tr>\n",
              "      <td id=\"T_5f5e3_row7_col0\" class=\"data row7 col0\" >0.680000</td>\n",
              "      <td id=\"T_5f5e3_row7_col1\" class=\"data row7 col1\" >0.820000</td>\n",
              "      <td id=\"T_5f5e3_row7_col2\" class=\"data row7 col2\" >0.160000</td>\n",
              "    </tr>\n",
              "    <tr>\n",
              "      <td id=\"T_5f5e3_row8_col0\" class=\"data row8 col0\" >0.730000</td>\n",
              "      <td id=\"T_5f5e3_row8_col1\" class=\"data row8 col1\" >0.820000</td>\n",
              "      <td id=\"T_5f5e3_row8_col2\" class=\"data row8 col2\" >0.170000</td>\n",
              "    </tr>\n",
              "    <tr>\n",
              "      <td id=\"T_5f5e3_row9_col0\" class=\"data row9 col0\" >0.780000</td>\n",
              "      <td id=\"T_5f5e3_row9_col1\" class=\"data row9 col1\" >0.770000</td>\n",
              "      <td id=\"T_5f5e3_row9_col2\" class=\"data row9 col2\" >0.250000</td>\n",
              "    </tr>\n",
              "    <tr>\n",
              "      <td id=\"T_5f5e3_row10_col0\" class=\"data row10 col0\" >0.830000</td>\n",
              "      <td id=\"T_5f5e3_row10_col1\" class=\"data row10 col1\" >0.850000</td>\n",
              "      <td id=\"T_5f5e3_row10_col2\" class=\"data row10 col2\" >0.240000</td>\n",
              "    </tr>\n",
              "    <tr>\n",
              "      <td id=\"T_5f5e3_row11_col0\" class=\"data row11 col0\" >0.880000</td>\n",
              "      <td id=\"T_5f5e3_row11_col1\" class=\"data row11 col1\" >0.810000</td>\n",
              "      <td id=\"T_5f5e3_row11_col2\" class=\"data row11 col2\" >0.250000</td>\n",
              "    </tr>\n",
              "  </tbody>\n",
              "</table>\n"
            ]
          },
          "metadata": {},
          "execution_count": 10
        }
      ],
      "source": [
        "results_df = pd.DataFrame(scores)\n",
        "\n",
        "(results_df\n",
        " .style\n",
        " .hide_index()\n",
        " .bar(color='lightblue', vmin=0, subset=['distance'], align='zero')\n",
        " .set_caption('Performance'))"
      ]
    }
  ],
  "metadata": {
    "interpreter": {
      "hash": "bea38c2984299ac640e8421861d34b2e05ee614f6236d2975c05eeb77366835f"
    },
    "kernelspec": {
      "display_name": "Python 3.8.5 64-bit ('base': conda)",
      "name": "python3"
    },
    "language_info": {
      "codemirror_mode": {
        "name": "ipython",
        "version": 3
      },
      "file_extension": ".py",
      "mimetype": "text/x-python",
      "name": "python",
      "nbconvert_exporter": "python",
      "pygments_lexer": "ipython3",
      "version": "3.8.5"
    },
    "orig_nbformat": 4,
    "colab": {
      "provenance": []
    }
  },
  "nbformat": 4,
  "nbformat_minor": 0
}