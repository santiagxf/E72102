{
  "cells": [
    {
      "cell_type": "markdown",
      "metadata": {
        "id": "QupqCPhy5X66"
      },
      "source": [
        "Verificación de calidad de datos con Great Expectations\n",
        "======================================================="
      ]
    },
    {
      "cell_type": "markdown",
      "metadata": {
        "id": "IsoazwAM5X7A"
      },
      "source": [
        "Great Expectations\n",
        "------------------\n",
        "\n",
        "`Great expentations` es una libreria en `Python` y una utilidad de linea de comandos que provee un lenguaje declarativo y flexible para describir nuestras expectativas sobre como los datos deben lucir. Permite validar y documentar la calidad de los datos para luego facilmente comunicar los resultados.\n",
        "\n",
        "Podemos instalar `Great Expectations` en `Python` como sigue:\n",
        "\n",
        "```\n",
        "pip install great_expectations\n",
        "```\n",
        "\n",
        "La librería Great Expectations’ más de 50 `expectations` ya listas para utilizar:\n",
        "\n",
        "- `expect_column_values_to_not_be_null`\n",
        "- `expect_column_values_to_match_regex`\n",
        "- `expect_column_values_to_be_unique`\n",
        "- `expect_column_values_to_match_strftime_format`\n",
        "- `expect_table_row_count_to_be_between`\n",
        "- `expect_column_median_to_be_between`\n",
        "\n",
        "Para más información sobre esta librería puede ver [su sitio web](https://docs.greatexpectations.io/docs/)."
      ]
    },
    {
      "cell_type": "markdown",
      "metadata": {
        "id": "1zG1ooiL5X7C"
      },
      "source": [
        "### Preparación del notebook"
      ]
    },
    {
      "cell_type": "markdown",
      "metadata": {
        "id": "HGZaIG3A5X7D"
      },
      "source": [
        "Instalamos las librerías necesarias:"
      ]
    },
    {
      "cell_type": "code",
      "execution_count": null,
      "metadata": {
        "id": "5nB9fmxm5X7D"
      },
      "outputs": [],
      "source": [
        "!wget https://raw.githubusercontent.com/santiagxf/E72102/master/docs/develop/prep/code/expectations.txt \\\n",
        "    --quiet --no-clobber\n",
        "!pip install -r expectations.txt --quiet"
      ]
    },
    {
      "cell_type": "code",
      "execution_count": 6,
      "metadata": {
        "id": "g0thoZjV5X7F"
      },
      "outputs": [],
      "source": [
        "import warnings\n",
        "import ruamel.yaml\n",
        "\n",
        "warnings.filterwarnings(\"ignore\")\n",
        "warnings.simplefilter('ignore', ruamel.yaml.error.UnsafeLoaderWarning)"
      ]
    },
    {
      "cell_type": "markdown",
      "source": [
        "Descargamos los conjuntos de datos:"
      ],
      "metadata": {
        "id": "Mkms0w1A6Q65"
      }
    },
    {
      "cell_type": "code",
      "source": [
        "!wget https://raw.githubusercontent.com/santiagxf/E72102/master/docs/develop/prep/code/datasets/nyc_taxi/yellow_tripdata_sample_2019-01.csv \\\n",
        "    --quiet --no-clobber --directory-prefix datasets/nyc_taxi/\n",
        "!wget https://raw.githubusercontent.com/santiagxf/E72102/master/docs/develop/prep/code/datasets/nyc_taxi/yellow_tripdata_sample_2019-02.csv \\\n",
        "    --quiet --no-clobber --directory-prefix datasets/nyc_taxi/"
      ],
      "metadata": {
        "id": "tp-GsRIK6WRH"
      },
      "execution_count": 8,
      "outputs": []
    },
    {
      "cell_type": "markdown",
      "metadata": {
        "id": "dQNsRZ7Y5X7F"
      },
      "source": [
        "Ejemplo\n",
        "-------\n",
        "Utilizaremos el conjunto de datos [NYC Taxi data](https://www1.nyc.gov/site/tlc/about/tlc-trip-record-data.page). Cada registro en los datos corresponde a un viaje en taxi y contiene información como el lugar donde se toma el taxi y el lugar donde el pasajero se baja del mismo, el monto del pago y el número de pasajeros, entre otros.\n",
        "\n",
        "Si bien este conjunto de datos es actualizado cada mes, en nuestro caso sólo utilizaremos dos archivos CSV correspondientes a 2 meses, cada uno con una muestra de 10,000 filas del conjunto Yellow Taxi Trip Records:\n",
        "\n",
        "- yellow_tripdata_sample_2019-01.csv: una muestra de los datos de taxis de enero de 2019\n",
        "\n",
        "- yellow_tripdata_sample_2019-02.csv: una muestra de los datos de taxis de febrero de 2019"
      ]
    },
    {
      "cell_type": "code",
      "execution_count": 9,
      "metadata": {
        "scrolled": true,
        "colab": {
          "base_uri": "https://localhost:8080/",
          "height": 357
        },
        "id": "7tPGg_nw5X7G",
        "outputId": "083c395f-f565-49fa-8451-3b4d73b7461c"
      },
      "outputs": [
        {
          "output_type": "execute_result",
          "data": {
            "text/plain": [
              "   vendor_id      pickup_datetime     dropoff_datetime  passenger_count  \\\n",
              "0          1  2019-01-15 03:36:12  2019-01-15 03:42:19                1   \n",
              "1          1  2019-01-25 18:20:32  2019-01-25 18:26:55                1   \n",
              "2          1  2019-01-05 06:47:31  2019-01-05 06:52:19                1   \n",
              "3          1  2019-01-09 15:08:02  2019-01-09 15:20:17                1   \n",
              "4          1  2019-01-25 18:49:51  2019-01-25 18:56:44                1   \n",
              "\n",
              "   trip_distance  rate_code_id store_and_fwd_flag  pickup_location_id  \\\n",
              "0            1.0             1                  N                 230   \n",
              "1            0.8             1                  N                 112   \n",
              "2            1.1             1                  N                 107   \n",
              "3            2.5             1                  N                 143   \n",
              "4            0.8             1                  N                 246   \n",
              "\n",
              "   dropoff_location_id  payment_type  fare_amount  extra  mta_tax  tip_amount  \\\n",
              "0                   48             1          6.5    0.5      0.5        1.95   \n",
              "1                  112             1          6.0    1.0      0.5        1.55   \n",
              "2                    4             2          6.0    0.0      0.5        0.00   \n",
              "3                  158             1         11.0    0.0      0.5        3.00   \n",
              "4                   90             1          6.5    1.0      0.5        1.65   \n",
              "\n",
              "   tolls_amount  improvement_surcharge  total_amount  congestion_surcharge  \n",
              "0           0.0                    0.3          9.75                   NaN  \n",
              "1           0.0                    0.3          9.35                   0.0  \n",
              "2           0.0                    0.3          6.80                   NaN  \n",
              "3           0.0                    0.3         14.80                   NaN  \n",
              "4           0.0                    0.3          9.95                   0.0  "
            ],
            "text/html": [
              "\n",
              "  <div id=\"df-ac6d7c17-8dfc-4941-b202-c2e0f04e9fa6\">\n",
              "    <div class=\"colab-df-container\">\n",
              "      <div>\n",
              "<style scoped>\n",
              "    .dataframe tbody tr th:only-of-type {\n",
              "        vertical-align: middle;\n",
              "    }\n",
              "\n",
              "    .dataframe tbody tr th {\n",
              "        vertical-align: top;\n",
              "    }\n",
              "\n",
              "    .dataframe thead th {\n",
              "        text-align: right;\n",
              "    }\n",
              "</style>\n",
              "<table border=\"1\" class=\"dataframe\">\n",
              "  <thead>\n",
              "    <tr style=\"text-align: right;\">\n",
              "      <th></th>\n",
              "      <th>vendor_id</th>\n",
              "      <th>pickup_datetime</th>\n",
              "      <th>dropoff_datetime</th>\n",
              "      <th>passenger_count</th>\n",
              "      <th>trip_distance</th>\n",
              "      <th>rate_code_id</th>\n",
              "      <th>store_and_fwd_flag</th>\n",
              "      <th>pickup_location_id</th>\n",
              "      <th>dropoff_location_id</th>\n",
              "      <th>payment_type</th>\n",
              "      <th>fare_amount</th>\n",
              "      <th>extra</th>\n",
              "      <th>mta_tax</th>\n",
              "      <th>tip_amount</th>\n",
              "      <th>tolls_amount</th>\n",
              "      <th>improvement_surcharge</th>\n",
              "      <th>total_amount</th>\n",
              "      <th>congestion_surcharge</th>\n",
              "    </tr>\n",
              "  </thead>\n",
              "  <tbody>\n",
              "    <tr>\n",
              "      <th>0</th>\n",
              "      <td>1</td>\n",
              "      <td>2019-01-15 03:36:12</td>\n",
              "      <td>2019-01-15 03:42:19</td>\n",
              "      <td>1</td>\n",
              "      <td>1.0</td>\n",
              "      <td>1</td>\n",
              "      <td>N</td>\n",
              "      <td>230</td>\n",
              "      <td>48</td>\n",
              "      <td>1</td>\n",
              "      <td>6.5</td>\n",
              "      <td>0.5</td>\n",
              "      <td>0.5</td>\n",
              "      <td>1.95</td>\n",
              "      <td>0.0</td>\n",
              "      <td>0.3</td>\n",
              "      <td>9.75</td>\n",
              "      <td>NaN</td>\n",
              "    </tr>\n",
              "    <tr>\n",
              "      <th>1</th>\n",
              "      <td>1</td>\n",
              "      <td>2019-01-25 18:20:32</td>\n",
              "      <td>2019-01-25 18:26:55</td>\n",
              "      <td>1</td>\n",
              "      <td>0.8</td>\n",
              "      <td>1</td>\n",
              "      <td>N</td>\n",
              "      <td>112</td>\n",
              "      <td>112</td>\n",
              "      <td>1</td>\n",
              "      <td>6.0</td>\n",
              "      <td>1.0</td>\n",
              "      <td>0.5</td>\n",
              "      <td>1.55</td>\n",
              "      <td>0.0</td>\n",
              "      <td>0.3</td>\n",
              "      <td>9.35</td>\n",
              "      <td>0.0</td>\n",
              "    </tr>\n",
              "    <tr>\n",
              "      <th>2</th>\n",
              "      <td>1</td>\n",
              "      <td>2019-01-05 06:47:31</td>\n",
              "      <td>2019-01-05 06:52:19</td>\n",
              "      <td>1</td>\n",
              "      <td>1.1</td>\n",
              "      <td>1</td>\n",
              "      <td>N</td>\n",
              "      <td>107</td>\n",
              "      <td>4</td>\n",
              "      <td>2</td>\n",
              "      <td>6.0</td>\n",
              "      <td>0.0</td>\n",
              "      <td>0.5</td>\n",
              "      <td>0.00</td>\n",
              "      <td>0.0</td>\n",
              "      <td>0.3</td>\n",
              "      <td>6.80</td>\n",
              "      <td>NaN</td>\n",
              "    </tr>\n",
              "    <tr>\n",
              "      <th>3</th>\n",
              "      <td>1</td>\n",
              "      <td>2019-01-09 15:08:02</td>\n",
              "      <td>2019-01-09 15:20:17</td>\n",
              "      <td>1</td>\n",
              "      <td>2.5</td>\n",
              "      <td>1</td>\n",
              "      <td>N</td>\n",
              "      <td>143</td>\n",
              "      <td>158</td>\n",
              "      <td>1</td>\n",
              "      <td>11.0</td>\n",
              "      <td>0.0</td>\n",
              "      <td>0.5</td>\n",
              "      <td>3.00</td>\n",
              "      <td>0.0</td>\n",
              "      <td>0.3</td>\n",
              "      <td>14.80</td>\n",
              "      <td>NaN</td>\n",
              "    </tr>\n",
              "    <tr>\n",
              "      <th>4</th>\n",
              "      <td>1</td>\n",
              "      <td>2019-01-25 18:49:51</td>\n",
              "      <td>2019-01-25 18:56:44</td>\n",
              "      <td>1</td>\n",
              "      <td>0.8</td>\n",
              "      <td>1</td>\n",
              "      <td>N</td>\n",
              "      <td>246</td>\n",
              "      <td>90</td>\n",
              "      <td>1</td>\n",
              "      <td>6.5</td>\n",
              "      <td>1.0</td>\n",
              "      <td>0.5</td>\n",
              "      <td>1.65</td>\n",
              "      <td>0.0</td>\n",
              "      <td>0.3</td>\n",
              "      <td>9.95</td>\n",
              "      <td>0.0</td>\n",
              "    </tr>\n",
              "  </tbody>\n",
              "</table>\n",
              "</div>\n",
              "      <button class=\"colab-df-convert\" onclick=\"convertToInteractive('df-ac6d7c17-8dfc-4941-b202-c2e0f04e9fa6')\"\n",
              "              title=\"Convert this dataframe to an interactive table.\"\n",
              "              style=\"display:none;\">\n",
              "        \n",
              "  <svg xmlns=\"http://www.w3.org/2000/svg\" height=\"24px\"viewBox=\"0 0 24 24\"\n",
              "       width=\"24px\">\n",
              "    <path d=\"M0 0h24v24H0V0z\" fill=\"none\"/>\n",
              "    <path d=\"M18.56 5.44l.94 2.06.94-2.06 2.06-.94-2.06-.94-.94-2.06-.94 2.06-2.06.94zm-11 1L8.5 8.5l.94-2.06 2.06-.94-2.06-.94L8.5 2.5l-.94 2.06-2.06.94zm10 10l.94 2.06.94-2.06 2.06-.94-2.06-.94-.94-2.06-.94 2.06-2.06.94z\"/><path d=\"M17.41 7.96l-1.37-1.37c-.4-.4-.92-.59-1.43-.59-.52 0-1.04.2-1.43.59L10.3 9.45l-7.72 7.72c-.78.78-.78 2.05 0 2.83L4 21.41c.39.39.9.59 1.41.59.51 0 1.02-.2 1.41-.59l7.78-7.78 2.81-2.81c.8-.78.8-2.07 0-2.86zM5.41 20L4 18.59l7.72-7.72 1.47 1.35L5.41 20z\"/>\n",
              "  </svg>\n",
              "      </button>\n",
              "      \n",
              "  <style>\n",
              "    .colab-df-container {\n",
              "      display:flex;\n",
              "      flex-wrap:wrap;\n",
              "      gap: 12px;\n",
              "    }\n",
              "\n",
              "    .colab-df-convert {\n",
              "      background-color: #E8F0FE;\n",
              "      border: none;\n",
              "      border-radius: 50%;\n",
              "      cursor: pointer;\n",
              "      display: none;\n",
              "      fill: #1967D2;\n",
              "      height: 32px;\n",
              "      padding: 0 0 0 0;\n",
              "      width: 32px;\n",
              "    }\n",
              "\n",
              "    .colab-df-convert:hover {\n",
              "      background-color: #E2EBFA;\n",
              "      box-shadow: 0px 1px 2px rgba(60, 64, 67, 0.3), 0px 1px 3px 1px rgba(60, 64, 67, 0.15);\n",
              "      fill: #174EA6;\n",
              "    }\n",
              "\n",
              "    [theme=dark] .colab-df-convert {\n",
              "      background-color: #3B4455;\n",
              "      fill: #D2E3FC;\n",
              "    }\n",
              "\n",
              "    [theme=dark] .colab-df-convert:hover {\n",
              "      background-color: #434B5C;\n",
              "      box-shadow: 0px 1px 3px 1px rgba(0, 0, 0, 0.15);\n",
              "      filter: drop-shadow(0px 1px 2px rgba(0, 0, 0, 0.3));\n",
              "      fill: #FFFFFF;\n",
              "    }\n",
              "  </style>\n",
              "\n",
              "      <script>\n",
              "        const buttonEl =\n",
              "          document.querySelector('#df-ac6d7c17-8dfc-4941-b202-c2e0f04e9fa6 button.colab-df-convert');\n",
              "        buttonEl.style.display =\n",
              "          google.colab.kernel.accessAllowed ? 'block' : 'none';\n",
              "\n",
              "        async function convertToInteractive(key) {\n",
              "          const element = document.querySelector('#df-ac6d7c17-8dfc-4941-b202-c2e0f04e9fa6');\n",
              "          const dataTable =\n",
              "            await google.colab.kernel.invokeFunction('convertToInteractive',\n",
              "                                                     [key], {});\n",
              "          if (!dataTable) return;\n",
              "\n",
              "          const docLinkHtml = 'Like what you see? Visit the ' +\n",
              "            '<a target=\"_blank\" href=https://colab.research.google.com/notebooks/data_table.ipynb>data table notebook</a>'\n",
              "            + ' to learn more about interactive tables.';\n",
              "          element.innerHTML = '';\n",
              "          dataTable['output_type'] = 'display_data';\n",
              "          await google.colab.output.renderOutput(dataTable, element);\n",
              "          const docLink = document.createElement('div');\n",
              "          docLink.innerHTML = docLinkHtml;\n",
              "          element.appendChild(docLink);\n",
              "        }\n",
              "      </script>\n",
              "    </div>\n",
              "  </div>\n",
              "  "
            ]
          },
          "metadata": {},
          "execution_count": 9
        }
      ],
      "source": [
        "import pandas as pd\n",
        "import glob\n",
        "\n",
        "df = pd.concat(map(lambda file: pd.read_csv(file), glob.glob(\"datasets/nyc_taxi/*.csv\")))\n",
        "df.head(5)"
      ]
    },
    {
      "cell_type": "markdown",
      "metadata": {
        "id": "ZMA9dkh05X7I"
      },
      "source": [
        "### Configurando Great Expectations\n",
        "\n",
        "En Great Expectations es necesario crear un contexto de datos para comenzar a trabajar. El contexto administra la configuración del proyecto en el que estamos trabajando. Para inicializar nuestro proyecto, utilizaremos el siguiente comando:"
      ]
    },
    {
      "cell_type": "code",
      "execution_count": 13,
      "metadata": {
        "colab": {
          "base_uri": "https://localhost:8080/"
        },
        "id": "2EtV996V5X7I",
        "outputId": "53a35785-e00a-44c1-c51e-4d082b569e3e"
      },
      "outputs": [
        {
          "output_type": "stream",
          "name": "stdout",
          "text": [
            "Using v3 (Batch Request) API\u001b[0m\n",
            "\u001b[36m\n",
            "  ___              _     ___                  _        _   _\n",
            " / __|_ _ ___ __ _| |_  | __|_ ___ __  ___ __| |_ __ _| |_(_)___ _ _  ___\n",
            "| (_ | '_/ -_) _` |  _| | _|\\ \\ / '_ \\/ -_) _|  _/ _` |  _| / _ \\ ' \\(_-<\n",
            " \\___|_| \\___\\__,_|\\__| |___/_\\_\\ .__/\\___\\__|\\__\\__,_|\\__|_\\___/_||_/__/\n",
            "                                |_|\n",
            "             ~ Always know what to expect from your data ~\n",
            "\u001b[0m\u001b[0m\n",
            "Let's create a new Data Context to hold your project configuration.\n",
            "\n",
            "Great Expectations will create a new directory with the following structure:\n",
            "\n",
            "    great_expectations\n",
            "    |-- great_expectations.yml\n",
            "    |-- expectations\n",
            "    |-- checkpoints\n",
            "    |-- plugins\n",
            "    |-- .gitignore\n",
            "    |-- uncommitted\n",
            "        |-- config_variables.yml\n",
            "        |-- data_docs\n",
            "        |-- validations\n",
            "\n",
            "OK to proceed? [Y/n]: \n",
            "================================================================================\n",
            "\u001b[0m\n",
            "\u001b[36mCongratulations! You are now ready to customize your Great Expectations configuration.\u001b[0m\u001b[0m\n",
            "\n",
            "\u001b[36mYou can customize your configuration in many ways. Here are some examples:\u001b[0m\n",
            "\n",
            "  \u001b[36mUse the CLI to:\u001b[0m\n",
            "    - Run `\u001b[32mgreat_expectations datasource new\u001b[0m` to connect to your data.\n",
            "    - Run `\u001b[32mgreat_expectations checkpoint new <checkpoint_name>\u001b[0m` to bundle data with Expectation Suite(s) in a Checkpoint for later re-validation.\n",
            "    - Run `\u001b[32mgreat_expectations suite --help\u001b[0m` to create, edit, list, profile Expectation Suites.\n",
            "    - Run `\u001b[32mgreat_expectations docs --help\u001b[0m` to build and manage Data Docs sites.\n",
            "\n",
            "  \u001b[36mEdit your configuration in great_expectations.yml to:\u001b[0m\n",
            "    - Move Stores to the cloud\n",
            "    - Add Slack notifications, PagerDuty alerts, etc.\n",
            "    - Customize your Data Docs\n",
            "\n",
            "\u001b[36mPlease see our documentation for more configuration options!\u001b[0m\n",
            "\u001b[0m\n",
            "\u001b[0m"
          ]
        }
      ],
      "source": [
        "!printf \"Y\\n\" | great_expectations init"
      ]
    },
    {
      "cell_type": "markdown",
      "metadata": {
        "id": "AzL7xfaM5X7J"
      },
      "source": [
        "Una vez que la librería está configurada correctamente, podemos generar uno de los objetos más utilizados en esta librería que es un `DataContext`. Este objeto nos permite interactuar con todas las funcionalidades disponibles:"
      ]
    },
    {
      "cell_type": "code",
      "execution_count": 14,
      "metadata": {
        "id": "B2tSf0NT5X7K"
      },
      "outputs": [],
      "source": [
        "import great_expectations as ge\n",
        "\n",
        "context = ge.get_context()"
      ]
    },
    {
      "cell_type": "markdown",
      "metadata": {
        "id": "l2dH92iv5X7K"
      },
      "source": [
        "### Diseñando expectativas"
      ]
    },
    {
      "cell_type": "markdown",
      "metadata": {
        "id": "YvomjyZm5X7L"
      },
      "source": [
        "Para diseñar nuestras expectativas, una de las formas más sencillas es realizarlo de forma interactiva, donde podemos ir validando las mismas a medida que las diseñamos:"
      ]
    },
    {
      "cell_type": "code",
      "execution_count": 15,
      "metadata": {
        "id": "_JOkkuJy5X7L"
      },
      "outputs": [],
      "source": [
        "gedf = ge.from_pandas(df)"
      ]
    },
    {
      "cell_type": "code",
      "execution_count": 16,
      "metadata": {
        "colab": {
          "base_uri": "https://localhost:8080/",
          "height": 357
        },
        "id": "bUR_lPWF5X7L",
        "outputId": "2b97879b-1f4b-4425-9188-2d1fd539c1f1"
      },
      "outputs": [
        {
          "output_type": "execute_result",
          "data": {
            "text/plain": [
              "   vendor_id      pickup_datetime     dropoff_datetime  passenger_count  \\\n",
              "0          1  2019-01-15 03:36:12  2019-01-15 03:42:19                1   \n",
              "1          1  2019-01-25 18:20:32  2019-01-25 18:26:55                1   \n",
              "2          1  2019-01-05 06:47:31  2019-01-05 06:52:19                1   \n",
              "3          1  2019-01-09 15:08:02  2019-01-09 15:20:17                1   \n",
              "4          1  2019-01-25 18:49:51  2019-01-25 18:56:44                1   \n",
              "\n",
              "   trip_distance  rate_code_id store_and_fwd_flag  pickup_location_id  \\\n",
              "0            1.0             1                  N                 230   \n",
              "1            0.8             1                  N                 112   \n",
              "2            1.1             1                  N                 107   \n",
              "3            2.5             1                  N                 143   \n",
              "4            0.8             1                  N                 246   \n",
              "\n",
              "   dropoff_location_id  payment_type  fare_amount  extra  mta_tax  tip_amount  \\\n",
              "0                   48             1          6.5    0.5      0.5        1.95   \n",
              "1                  112             1          6.0    1.0      0.5        1.55   \n",
              "2                    4             2          6.0    0.0      0.5        0.00   \n",
              "3                  158             1         11.0    0.0      0.5        3.00   \n",
              "4                   90             1          6.5    1.0      0.5        1.65   \n",
              "\n",
              "   tolls_amount  improvement_surcharge  total_amount  congestion_surcharge  \n",
              "0           0.0                    0.3          9.75                   NaN  \n",
              "1           0.0                    0.3          9.35                   0.0  \n",
              "2           0.0                    0.3          6.80                   NaN  \n",
              "3           0.0                    0.3         14.80                   NaN  \n",
              "4           0.0                    0.3          9.95                   0.0  "
            ],
            "text/html": [
              "\n",
              "  <div id=\"df-ad71338a-f9a2-4047-b87a-a10124b9fd52\">\n",
              "    <div class=\"colab-df-container\">\n",
              "      <div>\n",
              "<style scoped>\n",
              "    .dataframe tbody tr th:only-of-type {\n",
              "        vertical-align: middle;\n",
              "    }\n",
              "\n",
              "    .dataframe tbody tr th {\n",
              "        vertical-align: top;\n",
              "    }\n",
              "\n",
              "    .dataframe thead th {\n",
              "        text-align: right;\n",
              "    }\n",
              "</style>\n",
              "<table border=\"1\" class=\"dataframe\">\n",
              "  <thead>\n",
              "    <tr style=\"text-align: right;\">\n",
              "      <th></th>\n",
              "      <th>vendor_id</th>\n",
              "      <th>pickup_datetime</th>\n",
              "      <th>dropoff_datetime</th>\n",
              "      <th>passenger_count</th>\n",
              "      <th>trip_distance</th>\n",
              "      <th>rate_code_id</th>\n",
              "      <th>store_and_fwd_flag</th>\n",
              "      <th>pickup_location_id</th>\n",
              "      <th>dropoff_location_id</th>\n",
              "      <th>payment_type</th>\n",
              "      <th>fare_amount</th>\n",
              "      <th>extra</th>\n",
              "      <th>mta_tax</th>\n",
              "      <th>tip_amount</th>\n",
              "      <th>tolls_amount</th>\n",
              "      <th>improvement_surcharge</th>\n",
              "      <th>total_amount</th>\n",
              "      <th>congestion_surcharge</th>\n",
              "    </tr>\n",
              "  </thead>\n",
              "  <tbody>\n",
              "    <tr>\n",
              "      <th>0</th>\n",
              "      <td>1</td>\n",
              "      <td>2019-01-15 03:36:12</td>\n",
              "      <td>2019-01-15 03:42:19</td>\n",
              "      <td>1</td>\n",
              "      <td>1.0</td>\n",
              "      <td>1</td>\n",
              "      <td>N</td>\n",
              "      <td>230</td>\n",
              "      <td>48</td>\n",
              "      <td>1</td>\n",
              "      <td>6.5</td>\n",
              "      <td>0.5</td>\n",
              "      <td>0.5</td>\n",
              "      <td>1.95</td>\n",
              "      <td>0.0</td>\n",
              "      <td>0.3</td>\n",
              "      <td>9.75</td>\n",
              "      <td>NaN</td>\n",
              "    </tr>\n",
              "    <tr>\n",
              "      <th>1</th>\n",
              "      <td>1</td>\n",
              "      <td>2019-01-25 18:20:32</td>\n",
              "      <td>2019-01-25 18:26:55</td>\n",
              "      <td>1</td>\n",
              "      <td>0.8</td>\n",
              "      <td>1</td>\n",
              "      <td>N</td>\n",
              "      <td>112</td>\n",
              "      <td>112</td>\n",
              "      <td>1</td>\n",
              "      <td>6.0</td>\n",
              "      <td>1.0</td>\n",
              "      <td>0.5</td>\n",
              "      <td>1.55</td>\n",
              "      <td>0.0</td>\n",
              "      <td>0.3</td>\n",
              "      <td>9.35</td>\n",
              "      <td>0.0</td>\n",
              "    </tr>\n",
              "    <tr>\n",
              "      <th>2</th>\n",
              "      <td>1</td>\n",
              "      <td>2019-01-05 06:47:31</td>\n",
              "      <td>2019-01-05 06:52:19</td>\n",
              "      <td>1</td>\n",
              "      <td>1.1</td>\n",
              "      <td>1</td>\n",
              "      <td>N</td>\n",
              "      <td>107</td>\n",
              "      <td>4</td>\n",
              "      <td>2</td>\n",
              "      <td>6.0</td>\n",
              "      <td>0.0</td>\n",
              "      <td>0.5</td>\n",
              "      <td>0.00</td>\n",
              "      <td>0.0</td>\n",
              "      <td>0.3</td>\n",
              "      <td>6.80</td>\n",
              "      <td>NaN</td>\n",
              "    </tr>\n",
              "    <tr>\n",
              "      <th>3</th>\n",
              "      <td>1</td>\n",
              "      <td>2019-01-09 15:08:02</td>\n",
              "      <td>2019-01-09 15:20:17</td>\n",
              "      <td>1</td>\n",
              "      <td>2.5</td>\n",
              "      <td>1</td>\n",
              "      <td>N</td>\n",
              "      <td>143</td>\n",
              "      <td>158</td>\n",
              "      <td>1</td>\n",
              "      <td>11.0</td>\n",
              "      <td>0.0</td>\n",
              "      <td>0.5</td>\n",
              "      <td>3.00</td>\n",
              "      <td>0.0</td>\n",
              "      <td>0.3</td>\n",
              "      <td>14.80</td>\n",
              "      <td>NaN</td>\n",
              "    </tr>\n",
              "    <tr>\n",
              "      <th>4</th>\n",
              "      <td>1</td>\n",
              "      <td>2019-01-25 18:49:51</td>\n",
              "      <td>2019-01-25 18:56:44</td>\n",
              "      <td>1</td>\n",
              "      <td>0.8</td>\n",
              "      <td>1</td>\n",
              "      <td>N</td>\n",
              "      <td>246</td>\n",
              "      <td>90</td>\n",
              "      <td>1</td>\n",
              "      <td>6.5</td>\n",
              "      <td>1.0</td>\n",
              "      <td>0.5</td>\n",
              "      <td>1.65</td>\n",
              "      <td>0.0</td>\n",
              "      <td>0.3</td>\n",
              "      <td>9.95</td>\n",
              "      <td>0.0</td>\n",
              "    </tr>\n",
              "  </tbody>\n",
              "</table>\n",
              "</div>\n",
              "      <button class=\"colab-df-convert\" onclick=\"convertToInteractive('df-ad71338a-f9a2-4047-b87a-a10124b9fd52')\"\n",
              "              title=\"Convert this dataframe to an interactive table.\"\n",
              "              style=\"display:none;\">\n",
              "        \n",
              "  <svg xmlns=\"http://www.w3.org/2000/svg\" height=\"24px\"viewBox=\"0 0 24 24\"\n",
              "       width=\"24px\">\n",
              "    <path d=\"M0 0h24v24H0V0z\" fill=\"none\"/>\n",
              "    <path d=\"M18.56 5.44l.94 2.06.94-2.06 2.06-.94-2.06-.94-.94-2.06-.94 2.06-2.06.94zm-11 1L8.5 8.5l.94-2.06 2.06-.94-2.06-.94L8.5 2.5l-.94 2.06-2.06.94zm10 10l.94 2.06.94-2.06 2.06-.94-2.06-.94-.94-2.06-.94 2.06-2.06.94z\"/><path d=\"M17.41 7.96l-1.37-1.37c-.4-.4-.92-.59-1.43-.59-.52 0-1.04.2-1.43.59L10.3 9.45l-7.72 7.72c-.78.78-.78 2.05 0 2.83L4 21.41c.39.39.9.59 1.41.59.51 0 1.02-.2 1.41-.59l7.78-7.78 2.81-2.81c.8-.78.8-2.07 0-2.86zM5.41 20L4 18.59l7.72-7.72 1.47 1.35L5.41 20z\"/>\n",
              "  </svg>\n",
              "      </button>\n",
              "      \n",
              "  <style>\n",
              "    .colab-df-container {\n",
              "      display:flex;\n",
              "      flex-wrap:wrap;\n",
              "      gap: 12px;\n",
              "    }\n",
              "\n",
              "    .colab-df-convert {\n",
              "      background-color: #E8F0FE;\n",
              "      border: none;\n",
              "      border-radius: 50%;\n",
              "      cursor: pointer;\n",
              "      display: none;\n",
              "      fill: #1967D2;\n",
              "      height: 32px;\n",
              "      padding: 0 0 0 0;\n",
              "      width: 32px;\n",
              "    }\n",
              "\n",
              "    .colab-df-convert:hover {\n",
              "      background-color: #E2EBFA;\n",
              "      box-shadow: 0px 1px 2px rgba(60, 64, 67, 0.3), 0px 1px 3px 1px rgba(60, 64, 67, 0.15);\n",
              "      fill: #174EA6;\n",
              "    }\n",
              "\n",
              "    [theme=dark] .colab-df-convert {\n",
              "      background-color: #3B4455;\n",
              "      fill: #D2E3FC;\n",
              "    }\n",
              "\n",
              "    [theme=dark] .colab-df-convert:hover {\n",
              "      background-color: #434B5C;\n",
              "      box-shadow: 0px 1px 3px 1px rgba(0, 0, 0, 0.15);\n",
              "      filter: drop-shadow(0px 1px 2px rgba(0, 0, 0, 0.3));\n",
              "      fill: #FFFFFF;\n",
              "    }\n",
              "  </style>\n",
              "\n",
              "      <script>\n",
              "        const buttonEl =\n",
              "          document.querySelector('#df-ad71338a-f9a2-4047-b87a-a10124b9fd52 button.colab-df-convert');\n",
              "        buttonEl.style.display =\n",
              "          google.colab.kernel.accessAllowed ? 'block' : 'none';\n",
              "\n",
              "        async function convertToInteractive(key) {\n",
              "          const element = document.querySelector('#df-ad71338a-f9a2-4047-b87a-a10124b9fd52');\n",
              "          const dataTable =\n",
              "            await google.colab.kernel.invokeFunction('convertToInteractive',\n",
              "                                                     [key], {});\n",
              "          if (!dataTable) return;\n",
              "\n",
              "          const docLinkHtml = 'Like what you see? Visit the ' +\n",
              "            '<a target=\"_blank\" href=https://colab.research.google.com/notebooks/data_table.ipynb>data table notebook</a>'\n",
              "            + ' to learn more about interactive tables.';\n",
              "          element.innerHTML = '';\n",
              "          dataTable['output_type'] = 'display_data';\n",
              "          await google.colab.output.renderOutput(dataTable, element);\n",
              "          const docLink = document.createElement('div');\n",
              "          docLink.innerHTML = docLinkHtml;\n",
              "          element.appendChild(docLink);\n",
              "        }\n",
              "      </script>\n",
              "    </div>\n",
              "  </div>\n",
              "  "
            ]
          },
          "metadata": {},
          "execution_count": 16
        }
      ],
      "source": [
        "gedf.head()"
      ]
    },
    {
      "cell_type": "code",
      "execution_count": 17,
      "metadata": {
        "colab": {
          "base_uri": "https://localhost:8080/"
        },
        "id": "VV4g92vf5X7M",
        "outputId": "229bd786-af1c-4df4-a903-f95637ad3d9c"
      },
      "outputs": [
        {
          "output_type": "execute_result",
          "data": {
            "text/plain": [
              "array([1, 2, 4, 3])"
            ]
          },
          "metadata": {},
          "execution_count": 17
        }
      ],
      "source": [
        "gedf[\"payment_type\"].unique()"
      ]
    },
    {
      "cell_type": "markdown",
      "metadata": {
        "id": "sy7UwKh_5X7M"
      },
      "source": [
        "Cuando ejecutamos una expectativa, se validará inmediatamente con el conjunto de datos. El objeto que devuelve este método contendrá el resultado y una lista de valores que no cumplen con la expectativa. Esta información nos ayuda a concentrarnos en datos que no esperamos tener muy rápidamente, eliminando muchas conjeturas de la exploración de datos.\n",
        "\n",
        "Primero demosle un nombre al conjunto de expectativas que crearemos para este set de datos:"
      ]
    },
    {
      "cell_type": "code",
      "execution_count": 18,
      "metadata": {
        "id": "X_ijzZ6X5X7M"
      },
      "outputs": [],
      "source": [
        "gedf.expectation_suite_name = 'yellow_tripdata_sample_quality'"
      ]
    },
    {
      "cell_type": "markdown",
      "metadata": {
        "id": "aXB_sDCY5X7N"
      },
      "source": [
        "La siguiente expectativa indica que la cantidad de pasajeros del viaje debe ser al menos 1. Como vemos, alrededor del 7.8% de los datos no cumplen con esta expectativa y el valor `success` es `false`:"
      ]
    },
    {
      "cell_type": "code",
      "execution_count": 19,
      "metadata": {
        "colab": {
          "base_uri": "https://localhost:8080/"
        },
        "id": "62oUCMgO5X7N",
        "outputId": "5032fcf3-907b-445f-cafb-7adb3f1dccef"
      },
      "outputs": [
        {
          "output_type": "execute_result",
          "data": {
            "text/plain": [
              "{\n",
              "  \"exception_info\": {\n",
              "    \"raised_exception\": false,\n",
              "    \"exception_traceback\": null,\n",
              "    \"exception_message\": null\n",
              "  },\n",
              "  \"result\": {\n",
              "    \"element_count\": 20000,\n",
              "    \"missing_count\": 0,\n",
              "    \"missing_percent\": 0.0,\n",
              "    \"unexpected_count\": 1579,\n",
              "    \"unexpected_percent\": 7.8950000000000005,\n",
              "    \"unexpected_percent_total\": 7.8950000000000005,\n",
              "    \"unexpected_percent_nonmissing\": 7.8950000000000005,\n",
              "    \"partial_unexpected_list\": [\n",
              "      0,\n",
              "      0,\n",
              "      0,\n",
              "      0,\n",
              "      0,\n",
              "      0,\n",
              "      0,\n",
              "      0,\n",
              "      0,\n",
              "      0,\n",
              "      0,\n",
              "      0,\n",
              "      0,\n",
              "      0,\n",
              "      0,\n",
              "      0,\n",
              "      0,\n",
              "      0,\n",
              "      0,\n",
              "      0\n",
              "    ]\n",
              "  },\n",
              "  \"meta\": {},\n",
              "  \"success\": false,\n",
              "  \"expectation_config\": {\n",
              "    \"expectation_type\": \"expect_column_values_to_be_between\",\n",
              "    \"meta\": {},\n",
              "    \"kwargs\": {\n",
              "      \"column\": \"passenger_count\",\n",
              "      \"min_value\": 1,\n",
              "      \"result_format\": \"BASIC\"\n",
              "    }\n",
              "  }\n",
              "}"
            ]
          },
          "metadata": {},
          "execution_count": 19
        }
      ],
      "source": [
        "gedf.expect_column_values_to_be_between(\"passenger_count\", min_value=1)"
      ]
    },
    {
      "cell_type": "markdown",
      "metadata": {
        "id": "pbEIFg_A5X7O"
      },
      "source": [
        "Es común encontrar problemas de datos donde no es necesario garantizar el 100% de adherencia. En estos casos, considere usar un parámetro `mostly`. Este parámetro es una opción para todas las Expectativas y permite controlar el nivel de margen tolerancia en el que la expectativa podría no cumplirse. Mire como en el próximo ejemplo, el parametro `mostly` hace que la expecativa retorne `true` en la propiedad `success`:"
      ]
    },
    {
      "cell_type": "code",
      "execution_count": 20,
      "metadata": {
        "colab": {
          "base_uri": "https://localhost:8080/"
        },
        "id": "sKkP3LrL5X7O",
        "outputId": "a5c727d1-c601-49ec-f830-ded3fb9653c6"
      },
      "outputs": [
        {
          "output_type": "execute_result",
          "data": {
            "text/plain": [
              "{\n",
              "  \"exception_info\": {\n",
              "    \"raised_exception\": false,\n",
              "    \"exception_traceback\": null,\n",
              "    \"exception_message\": null\n",
              "  },\n",
              "  \"result\": {\n",
              "    \"element_count\": 20000,\n",
              "    \"missing_count\": 0,\n",
              "    \"missing_percent\": 0.0,\n",
              "    \"unexpected_count\": 1579,\n",
              "    \"unexpected_percent\": 7.8950000000000005,\n",
              "    \"unexpected_percent_total\": 7.8950000000000005,\n",
              "    \"unexpected_percent_nonmissing\": 7.8950000000000005,\n",
              "    \"partial_unexpected_list\": [\n",
              "      0,\n",
              "      0,\n",
              "      0,\n",
              "      0,\n",
              "      0,\n",
              "      0,\n",
              "      0,\n",
              "      0,\n",
              "      0,\n",
              "      0,\n",
              "      0,\n",
              "      0,\n",
              "      0,\n",
              "      0,\n",
              "      0,\n",
              "      0,\n",
              "      0,\n",
              "      0,\n",
              "      0,\n",
              "      0\n",
              "    ]\n",
              "  },\n",
              "  \"meta\": {},\n",
              "  \"success\": true,\n",
              "  \"expectation_config\": {\n",
              "    \"expectation_type\": \"expect_column_values_to_be_between\",\n",
              "    \"meta\": {},\n",
              "    \"kwargs\": {\n",
              "      \"column\": \"passenger_count\",\n",
              "      \"min_value\": 1,\n",
              "      \"mostly\": 0.9,\n",
              "      \"result_format\": \"BASIC\"\n",
              "    }\n",
              "  }\n",
              "}"
            ]
          },
          "metadata": {},
          "execution_count": 20
        }
      ],
      "source": [
        "gedf.expect_column_values_to_be_between(\"passenger_count\", min_value=1, mostly=.90)"
      ]
    },
    {
      "cell_type": "markdown",
      "metadata": {
        "id": "zAAgIy8L5X7O"
      },
      "source": [
        "Podemos también agregar documentación a nuestras expectativas para futura referencia:"
      ]
    },
    {
      "cell_type": "code",
      "execution_count": 21,
      "metadata": {
        "colab": {
          "base_uri": "https://localhost:8080/"
        },
        "id": "JhuxOEmr5X7P",
        "outputId": "638852d3-6cb4-4b44-aade-19f1a74889a5"
      },
      "outputs": [
        {
          "output_type": "execute_result",
          "data": {
            "text/plain": [
              "{\n",
              "  \"exception_info\": {\n",
              "    \"raised_exception\": false,\n",
              "    \"exception_traceback\": null,\n",
              "    \"exception_message\": null\n",
              "  },\n",
              "  \"result\": {\n",
              "    \"element_count\": 20000,\n",
              "    \"missing_count\": 0,\n",
              "    \"missing_percent\": 0.0,\n",
              "    \"unexpected_count\": 1579,\n",
              "    \"unexpected_percent\": 7.8950000000000005,\n",
              "    \"unexpected_percent_total\": 7.8950000000000005,\n",
              "    \"unexpected_percent_nonmissing\": 7.8950000000000005,\n",
              "    \"partial_unexpected_list\": [\n",
              "      0,\n",
              "      0,\n",
              "      0,\n",
              "      0,\n",
              "      0,\n",
              "      0,\n",
              "      0,\n",
              "      0,\n",
              "      0,\n",
              "      0,\n",
              "      0,\n",
              "      0,\n",
              "      0,\n",
              "      0,\n",
              "      0,\n",
              "      0,\n",
              "      0,\n",
              "      0,\n",
              "      0,\n",
              "      0\n",
              "    ]\n",
              "  },\n",
              "  \"meta\": {\n",
              "    \"notes\": {\n",
              "      \"content\": [\n",
              "        \"Todos los viajes deben tener al menos un pasajero.\"\n",
              "      ],\n",
              "      \"format\": \"markdown\",\n",
              "      \"source\": \"expectations\"\n",
              "    }\n",
              "  },\n",
              "  \"success\": false,\n",
              "  \"expectation_config\": {\n",
              "    \"expectation_type\": \"expect_column_values_to_be_between\",\n",
              "    \"meta\": {\n",
              "      \"notes\": {\n",
              "        \"content\": [\n",
              "          \"Todos los viajes deben tener al menos un pasajero.\"\n",
              "        ],\n",
              "        \"format\": \"markdown\",\n",
              "        \"source\": \"expectations\"\n",
              "      }\n",
              "    },\n",
              "    \"kwargs\": {\n",
              "      \"column\": \"passenger_count\",\n",
              "      \"min_value\": 1,\n",
              "      \"result_format\": \"BASIC\"\n",
              "    }\n",
              "  }\n",
              "}"
            ]
          },
          "metadata": {},
          "execution_count": 21
        }
      ],
      "source": [
        "gedf.expect_column_values_to_be_between(\"passenger_count\", min_value=1,     \n",
        "                                        meta = {\n",
        "                                            \"notes\": {\n",
        "                                               \"content\": [ \"Todos los viajes deben tener al menos un pasajero.\" ],\n",
        "                                               \"format\": \"markdown\",\n",
        "                                               \"source\": \"expectations\"\n",
        "                                            }\n",
        "                                        })"
      ]
    },
    {
      "cell_type": "markdown",
      "metadata": {
        "id": "C0irQlH35X7P"
      },
      "source": [
        "Creemos algunas otras expectativas:"
      ]
    },
    {
      "cell_type": "code",
      "execution_count": 22,
      "metadata": {
        "colab": {
          "base_uri": "https://localhost:8080/"
        },
        "id": "JzfC1WPn5X7P",
        "outputId": "3b9b654d-16ae-4603-ed60-57c0bec3dad1"
      },
      "outputs": [
        {
          "output_type": "stream",
          "name": "stdout",
          "text": [
            "Listo\n"
          ]
        }
      ],
      "source": [
        "gedf.expect_column_values_to_be_in_set(\"store_and_fwd_flag\", ['Y', 'N'],     \n",
        "                                        meta = {\n",
        "                                            \"notes\": {\n",
        "                                               \"content\": [ \"Acepta valores de Si y No.\" ],\n",
        "                                               \"format\": \"markdown\",\n",
        "                                               \"source\": \"expectations\"\n",
        "                                            }\n",
        "                                        })\n",
        "gedf.expect_column_values_to_be_in_set(\"payment_type\", [1, 2, 3, 4],     \n",
        "                                        meta = {\n",
        "                                            \"notes\": {\n",
        "                                               \"content\": [ \"Solo formas de pago 1, 2, 3, y 5 son validas\" ],\n",
        "                                               \"format\": \"markdown\",\n",
        "                                               \"source\": \"expectations\"\n",
        "                                            }\n",
        "                                        })\n",
        "gedf.expect_column_pair_values_A_to_be_greater_than_B(column_A=\"dropoff_datetime\", \n",
        "                                                      column_B=\"pickup_datetime\", \n",
        "                                                      or_equal=True,\n",
        "                                                      meta = {\n",
        "                                                         \"notes\": {\n",
        "                                                            \"content\": [ \"Las fechas de inicio y fin de viaje deben coincidir.\" ],\n",
        "                                                            \"format\": \"markdown\",\n",
        "                                                            \"source\": \"expectations\"\n",
        "                                                         }\n",
        "                                                      })\n",
        "\n",
        "print(\"Listo\")"
      ]
    },
    {
      "cell_type": "markdown",
      "metadata": {
        "id": "KAAOfQ3M5X7Q"
      },
      "source": [
        "Una vez que completamos nuestras expectativas, podemos extraer toda la configuración como sigue:"
      ]
    },
    {
      "cell_type": "code",
      "execution_count": 23,
      "metadata": {
        "id": "ucYSESFW5X7Q"
      },
      "outputs": [],
      "source": [
        "expectations = gedf.get_expectation_suite(discard_failed_expectations=False)"
      ]
    },
    {
      "cell_type": "markdown",
      "metadata": {
        "id": "RH-byxqp5X7R"
      },
      "source": [
        "Podemos persistir estas expectativas como un archivo `JSON` que luego podemos cargar y aplicar a nuevos lotes de datos cada vez que se realiza el proceso de preparación de datos:"
      ]
    },
    {
      "cell_type": "code",
      "execution_count": 25,
      "metadata": {
        "id": "C-F4CYxD5X7R"
      },
      "outputs": [],
      "source": [
        "import json\n",
        "import os\n",
        "\n",
        "os.makedirs(\"great_expectations/expectations/nyc_data\", exist_ok=True)\n",
        "with open(\"great_expectations/expectations/nyc_data/data_quality.json\", \"w\") as f:\n",
        "    f.write(\n",
        "        json.dumps(expectations.to_json_dict())\n",
        "    )"
      ]
    },
    {
      "cell_type": "markdown",
      "metadata": {
        "id": "Y4wO51Td5X7R"
      },
      "source": [
        "### Configurando datos como un origen de datos"
      ]
    },
    {
      "cell_type": "markdown",
      "metadata": {
        "id": "_ruXnSW35X7R"
      },
      "source": [
        "Si bien leer los datos desde un `DataFrame` de `Pandas` es práctico, si registramos este conjunto de datos como un `origen de datos` dentro de Great Expectations, podremos acceder a otras funcionalidades. "
      ]
    },
    {
      "cell_type": "markdown",
      "metadata": {
        "id": "klUGyDWF5X7R"
      },
      "source": [
        "Identificamos el directorio donde se encuentran los datos:"
      ]
    },
    {
      "cell_type": "code",
      "execution_count": 26,
      "metadata": {
        "id": "DiRsw0aD5X7R"
      },
      "outputs": [],
      "source": [
        "datasource_name = \"nyc_taxi\"\n",
        "base_data_directory = \"../datasets/nyc_taxi\""
      ]
    },
    {
      "cell_type": "markdown",
      "metadata": {
        "id": "NS4jpcA_5X7S"
      },
      "source": [
        "Configuraremos un nuevo origen de datos donde `great_expectations` podrá acceder a los datos:"
      ]
    },
    {
      "cell_type": "code",
      "execution_count": 27,
      "metadata": {
        "colab": {
          "base_uri": "https://localhost:8080/"
        },
        "id": "fzzpJZyp5X7S",
        "outputId": "ec6ab0ae-4740-4caf-98ae-b652726eb474"
      },
      "outputs": [
        {
          "output_type": "stream",
          "name": "stdout",
          "text": [
            "\n",
            "name: nyc_taxi\n",
            "class_name: Datasource\n",
            "execution_engine:\n",
            "  class_name: PandasExecutionEngine\n",
            "data_connectors:\n",
            "  nyc_taxi_data_connector:\n",
            "    class_name: InferredAssetFilesystemDataConnector\n",
            "    base_directory: ../datasets/nyc_taxi\n",
            "    default_regex:\n",
            "      group_names: \n",
            "        - data_asset_name\n",
            "        - year\n",
            "        - month\n",
            "      pattern: (.*)_(\\d{4})-(\\d{2})\\.csv\n",
            "\n"
          ]
        }
      ],
      "source": [
        "example_yaml = f\"\"\"\n",
        "name: {datasource_name}\n",
        "class_name: Datasource\n",
        "execution_engine:\n",
        "  class_name: PandasExecutionEngine\n",
        "data_connectors:\n",
        "  nyc_taxi_data_connector:\n",
        "    class_name: InferredAssetFilesystemDataConnector\n",
        "    base_directory: {base_data_directory}\n",
        "    default_regex:\n",
        "      group_names: \n",
        "        - data_asset_name\n",
        "        - year\n",
        "        - month\n",
        "      pattern: (.*)_(\\\\d{{4}})-(\\\\d{{2}})\\\\.csv\n",
        "\"\"\"\n",
        "print(example_yaml)"
      ]
    },
    {
      "cell_type": "code",
      "execution_count": 28,
      "metadata": {
        "colab": {
          "base_uri": "https://localhost:8080/"
        },
        "id": "zp3HVr0I5X7S",
        "outputId": "6ae85570-0fd2-4ee1-cd33-99d4c77d9ef6"
      },
      "outputs": [
        {
          "output_type": "stream",
          "name": "stdout",
          "text": [
            "Attempting to instantiate class from config...\n",
            "\tInstantiating as a Datasource, since class_name is Datasource\n",
            "\tSuccessfully instantiated Datasource\n",
            "\n",
            "\n",
            "ExecutionEngine class name: PandasExecutionEngine\n",
            "Data Connectors:\n",
            "\tnyc_taxi_data_connector : InferredAssetFilesystemDataConnector\n",
            "\n",
            "\tAvailable data_asset_names (1 of 1):\n",
            "\t\tyellow_tripdata_sample (2 of 2): ['yellow_tripdata_sample_2019-01.csv', 'yellow_tripdata_sample_2019-02.csv']\n",
            "\n",
            "\tUnmatched data_references (0 of 0):[]\n",
            "\n"
          ]
        },
        {
          "output_type": "execute_result",
          "data": {
            "text/plain": [
              "<great_expectations.datasource.new_datasource.Datasource at 0x7f11d2133e10>"
            ]
          },
          "metadata": {},
          "execution_count": 28
        }
      ],
      "source": [
        "context.test_yaml_config(yaml_config=example_yaml)"
      ]
    },
    {
      "cell_type": "markdown",
      "metadata": {
        "id": "Wbn2swxa5X7T"
      },
      "source": [
        "Agregamos el origen de datos:"
      ]
    },
    {
      "cell_type": "code",
      "execution_count": 29,
      "metadata": {
        "id": "zLNj5-6L5X7T"
      },
      "outputs": [],
      "source": [
        "from ruamel import yaml\n",
        "\n",
        "ds = context.add_datasource(**yaml.load(example_yaml))"
      ]
    },
    {
      "cell_type": "markdown",
      "metadata": {
        "id": "EQQiL7mR5X7T"
      },
      "source": [
        "### Creando expectativas utilizando un Profiler\n",
        "\n",
        "Un `profile` o perfil de datos es una forma de caracterizar un conjunto de datos de forma automática. Permite, utilizando una pequeña porción de datos, extraer las características que existen en este conjunto de datos para escribir las expectativas. Esto significa que esta pequeña porción de datos debe estar curada y contener las cualidades que queremos tener.\n",
        "\n",
        "> Nota: El hecho de utilizar una pequeña porción de datos en lugar de todo el set de datos completo radica en que en ambientes productivos, los conjuntos de datos podrían ser muy grandes. Es común utilizar una pequeña porción de los datos para inferir las propiedades y luego si validarlas sobre todo el conjunto de datos."
      ]
    },
    {
      "cell_type": "code",
      "execution_count": 30,
      "metadata": {
        "id": "f0g99iGs5X7T"
      },
      "outputs": [],
      "source": [
        "from great_expectations.profile.user_configurable_profiler import UserConfigurableProfiler"
      ]
    },
    {
      "cell_type": "markdown",
      "metadata": {
        "id": "cRlVJNRh5X7U"
      },
      "source": [
        "Creamos una nueva suite de expectativas"
      ]
    },
    {
      "cell_type": "code",
      "execution_count": 31,
      "metadata": {
        "id": "jo6VpHAD5X7U"
      },
      "outputs": [],
      "source": [
        "expectation_suite_name = \"nyc_data_profile\"\n",
        "suite = context.create_expectation_suite(\n",
        "    expectation_suite_name\n",
        ")"
      ]
    },
    {
      "cell_type": "markdown",
      "metadata": {
        "id": "ZqV-UpYC5X7U"
      },
      "source": [
        "Primero debemos especificar como obtener este pequeño conjunto de datos. Note como ahora especificamos el nombre del origen de datos al que queremos aplicar el perfilado:"
      ]
    },
    {
      "cell_type": "code",
      "execution_count": 32,
      "metadata": {
        "id": "yMIIE1RV5X7U"
      },
      "outputs": [],
      "source": [
        "batch_request = ge.core.batch.BatchRequest(datasource_name=\"nyc_taxi\", \n",
        "                                           data_connector_name=\"nyc_taxi_data_connector\", \n",
        "                                           data_asset_name=\"yellow_tripdata_sample\",\n",
        "                                           limit=100)"
      ]
    },
    {
      "cell_type": "markdown",
      "metadata": {
        "id": "jj2ZvL2B5X7V"
      },
      "source": [
        "Podemos obtener la muestra de datos:"
      ]
    },
    {
      "cell_type": "code",
      "execution_count": 33,
      "metadata": {
        "colab": {
          "base_uri": "https://localhost:8080/"
        },
        "id": "26_eTs4S5X7V",
        "outputId": "8c08181c-2ef9-4b39-cf21-71bcee781ebf"
      },
      "outputs": [
        {
          "output_type": "execute_result",
          "data": {
            "text/plain": [
              "[<great_expectations.core.batch.Batch at 0x7f11d23fa790>,\n",
              " <great_expectations.core.batch.Batch at 0x7f11ec507950>]"
            ]
          },
          "metadata": {},
          "execution_count": 33
        }
      ],
      "source": [
        "context.get_batch_list(batch_request=batch_request)"
      ]
    },
    {
      "cell_type": "markdown",
      "metadata": {
        "id": "gagyhkIb5X7V"
      },
      "source": [
        "Vemos que hay 2 lotes de datos disponibles:"
      ]
    },
    {
      "cell_type": "code",
      "execution_count": 34,
      "metadata": {
        "colab": {
          "base_uri": "https://localhost:8080/"
        },
        "id": "ZDQOJ6m75X7V",
        "outputId": "3f74d931-cef2-4ea0-819a-509be144f922"
      },
      "outputs": [
        {
          "output_type": "execute_result",
          "data": {
            "text/plain": [
              "{'path': '/content/great_expectations/../datasets/nyc_taxi/yellow_tripdata_sample_2019-01.csv'}"
            ]
          },
          "metadata": {},
          "execution_count": 34
        }
      ],
      "source": [
        "context.get_batch_list(batch_request=batch_request)[0].batch_spec"
      ]
    },
    {
      "cell_type": "code",
      "execution_count": 35,
      "metadata": {
        "colab": {
          "base_uri": "https://localhost:8080/"
        },
        "id": "4xv4P0yy5X7W",
        "outputId": "079c8eb0-f4d9-4a28-97af-13d012ee38f0"
      },
      "outputs": [
        {
          "output_type": "execute_result",
          "data": {
            "text/plain": [
              "{'path': '/content/great_expectations/../datasets/nyc_taxi/yellow_tripdata_sample_2019-02.csv'}"
            ]
          },
          "metadata": {},
          "execution_count": 35
        }
      ],
      "source": [
        "context.get_batch_list(batch_request=batch_request)[1].batch_spec"
      ]
    },
    {
      "cell_type": "markdown",
      "metadata": {
        "id": "6-Kv1A0-5X7W"
      },
      "source": [
        "Podemos obtener una muestra de los datos:"
      ]
    },
    {
      "cell_type": "code",
      "execution_count": 36,
      "metadata": {
        "colab": {
          "base_uri": "https://localhost:8080/",
          "height": 357
        },
        "id": "kfzIJIgh5X7W",
        "outputId": "a3c57594-8cca-4118-bdb9-a76879b79640"
      },
      "outputs": [
        {
          "output_type": "execute_result",
          "data": {
            "text/plain": [
              "   vendor_id      pickup_datetime     dropoff_datetime  passenger_count  \\\n",
              "0          1  2019-01-15 03:36:12  2019-01-15 03:42:19                1   \n",
              "1          1  2019-01-25 18:20:32  2019-01-25 18:26:55                1   \n",
              "2          1  2019-01-05 06:47:31  2019-01-05 06:52:19                1   \n",
              "3          1  2019-01-09 15:08:02  2019-01-09 15:20:17                1   \n",
              "4          1  2019-01-25 18:49:51  2019-01-25 18:56:44                1   \n",
              "\n",
              "   trip_distance  rate_code_id store_and_fwd_flag  pickup_location_id  \\\n",
              "0            1.0             1                  N                 230   \n",
              "1            0.8             1                  N                 112   \n",
              "2            1.1             1                  N                 107   \n",
              "3            2.5             1                  N                 143   \n",
              "4            0.8             1                  N                 246   \n",
              "\n",
              "   dropoff_location_id  payment_type  fare_amount  extra  mta_tax  tip_amount  \\\n",
              "0                   48             1          6.5    0.5      0.5        1.95   \n",
              "1                  112             1          6.0    1.0      0.5        1.55   \n",
              "2                    4             2          6.0    0.0      0.5        0.00   \n",
              "3                  158             1         11.0    0.0      0.5        3.00   \n",
              "4                   90             1          6.5    1.0      0.5        1.65   \n",
              "\n",
              "   tolls_amount  improvement_surcharge  total_amount  congestion_surcharge  \n",
              "0           0.0                    0.3          9.75                   NaN  \n",
              "1           0.0                    0.3          9.35                   0.0  \n",
              "2           0.0                    0.3          6.80                   NaN  \n",
              "3           0.0                    0.3         14.80                   NaN  \n",
              "4           0.0                    0.3          9.95                   0.0  "
            ],
            "text/html": [
              "\n",
              "  <div id=\"df-091b9b97-513f-41ec-96cd-916a66264e08\">\n",
              "    <div class=\"colab-df-container\">\n",
              "      <div>\n",
              "<style scoped>\n",
              "    .dataframe tbody tr th:only-of-type {\n",
              "        vertical-align: middle;\n",
              "    }\n",
              "\n",
              "    .dataframe tbody tr th {\n",
              "        vertical-align: top;\n",
              "    }\n",
              "\n",
              "    .dataframe thead th {\n",
              "        text-align: right;\n",
              "    }\n",
              "</style>\n",
              "<table border=\"1\" class=\"dataframe\">\n",
              "  <thead>\n",
              "    <tr style=\"text-align: right;\">\n",
              "      <th></th>\n",
              "      <th>vendor_id</th>\n",
              "      <th>pickup_datetime</th>\n",
              "      <th>dropoff_datetime</th>\n",
              "      <th>passenger_count</th>\n",
              "      <th>trip_distance</th>\n",
              "      <th>rate_code_id</th>\n",
              "      <th>store_and_fwd_flag</th>\n",
              "      <th>pickup_location_id</th>\n",
              "      <th>dropoff_location_id</th>\n",
              "      <th>payment_type</th>\n",
              "      <th>fare_amount</th>\n",
              "      <th>extra</th>\n",
              "      <th>mta_tax</th>\n",
              "      <th>tip_amount</th>\n",
              "      <th>tolls_amount</th>\n",
              "      <th>improvement_surcharge</th>\n",
              "      <th>total_amount</th>\n",
              "      <th>congestion_surcharge</th>\n",
              "    </tr>\n",
              "  </thead>\n",
              "  <tbody>\n",
              "    <tr>\n",
              "      <th>0</th>\n",
              "      <td>1</td>\n",
              "      <td>2019-01-15 03:36:12</td>\n",
              "      <td>2019-01-15 03:42:19</td>\n",
              "      <td>1</td>\n",
              "      <td>1.0</td>\n",
              "      <td>1</td>\n",
              "      <td>N</td>\n",
              "      <td>230</td>\n",
              "      <td>48</td>\n",
              "      <td>1</td>\n",
              "      <td>6.5</td>\n",
              "      <td>0.5</td>\n",
              "      <td>0.5</td>\n",
              "      <td>1.95</td>\n",
              "      <td>0.0</td>\n",
              "      <td>0.3</td>\n",
              "      <td>9.75</td>\n",
              "      <td>NaN</td>\n",
              "    </tr>\n",
              "    <tr>\n",
              "      <th>1</th>\n",
              "      <td>1</td>\n",
              "      <td>2019-01-25 18:20:32</td>\n",
              "      <td>2019-01-25 18:26:55</td>\n",
              "      <td>1</td>\n",
              "      <td>0.8</td>\n",
              "      <td>1</td>\n",
              "      <td>N</td>\n",
              "      <td>112</td>\n",
              "      <td>112</td>\n",
              "      <td>1</td>\n",
              "      <td>6.0</td>\n",
              "      <td>1.0</td>\n",
              "      <td>0.5</td>\n",
              "      <td>1.55</td>\n",
              "      <td>0.0</td>\n",
              "      <td>0.3</td>\n",
              "      <td>9.35</td>\n",
              "      <td>0.0</td>\n",
              "    </tr>\n",
              "    <tr>\n",
              "      <th>2</th>\n",
              "      <td>1</td>\n",
              "      <td>2019-01-05 06:47:31</td>\n",
              "      <td>2019-01-05 06:52:19</td>\n",
              "      <td>1</td>\n",
              "      <td>1.1</td>\n",
              "      <td>1</td>\n",
              "      <td>N</td>\n",
              "      <td>107</td>\n",
              "      <td>4</td>\n",
              "      <td>2</td>\n",
              "      <td>6.0</td>\n",
              "      <td>0.0</td>\n",
              "      <td>0.5</td>\n",
              "      <td>0.00</td>\n",
              "      <td>0.0</td>\n",
              "      <td>0.3</td>\n",
              "      <td>6.80</td>\n",
              "      <td>NaN</td>\n",
              "    </tr>\n",
              "    <tr>\n",
              "      <th>3</th>\n",
              "      <td>1</td>\n",
              "      <td>2019-01-09 15:08:02</td>\n",
              "      <td>2019-01-09 15:20:17</td>\n",
              "      <td>1</td>\n",
              "      <td>2.5</td>\n",
              "      <td>1</td>\n",
              "      <td>N</td>\n",
              "      <td>143</td>\n",
              "      <td>158</td>\n",
              "      <td>1</td>\n",
              "      <td>11.0</td>\n",
              "      <td>0.0</td>\n",
              "      <td>0.5</td>\n",
              "      <td>3.00</td>\n",
              "      <td>0.0</td>\n",
              "      <td>0.3</td>\n",
              "      <td>14.80</td>\n",
              "      <td>NaN</td>\n",
              "    </tr>\n",
              "    <tr>\n",
              "      <th>4</th>\n",
              "      <td>1</td>\n",
              "      <td>2019-01-25 18:49:51</td>\n",
              "      <td>2019-01-25 18:56:44</td>\n",
              "      <td>1</td>\n",
              "      <td>0.8</td>\n",
              "      <td>1</td>\n",
              "      <td>N</td>\n",
              "      <td>246</td>\n",
              "      <td>90</td>\n",
              "      <td>1</td>\n",
              "      <td>6.5</td>\n",
              "      <td>1.0</td>\n",
              "      <td>0.5</td>\n",
              "      <td>1.65</td>\n",
              "      <td>0.0</td>\n",
              "      <td>0.3</td>\n",
              "      <td>9.95</td>\n",
              "      <td>0.0</td>\n",
              "    </tr>\n",
              "  </tbody>\n",
              "</table>\n",
              "</div>\n",
              "      <button class=\"colab-df-convert\" onclick=\"convertToInteractive('df-091b9b97-513f-41ec-96cd-916a66264e08')\"\n",
              "              title=\"Convert this dataframe to an interactive table.\"\n",
              "              style=\"display:none;\">\n",
              "        \n",
              "  <svg xmlns=\"http://www.w3.org/2000/svg\" height=\"24px\"viewBox=\"0 0 24 24\"\n",
              "       width=\"24px\">\n",
              "    <path d=\"M0 0h24v24H0V0z\" fill=\"none\"/>\n",
              "    <path d=\"M18.56 5.44l.94 2.06.94-2.06 2.06-.94-2.06-.94-.94-2.06-.94 2.06-2.06.94zm-11 1L8.5 8.5l.94-2.06 2.06-.94-2.06-.94L8.5 2.5l-.94 2.06-2.06.94zm10 10l.94 2.06.94-2.06 2.06-.94-2.06-.94-.94-2.06-.94 2.06-2.06.94z\"/><path d=\"M17.41 7.96l-1.37-1.37c-.4-.4-.92-.59-1.43-.59-.52 0-1.04.2-1.43.59L10.3 9.45l-7.72 7.72c-.78.78-.78 2.05 0 2.83L4 21.41c.39.39.9.59 1.41.59.51 0 1.02-.2 1.41-.59l7.78-7.78 2.81-2.81c.8-.78.8-2.07 0-2.86zM5.41 20L4 18.59l7.72-7.72 1.47 1.35L5.41 20z\"/>\n",
              "  </svg>\n",
              "      </button>\n",
              "      \n",
              "  <style>\n",
              "    .colab-df-container {\n",
              "      display:flex;\n",
              "      flex-wrap:wrap;\n",
              "      gap: 12px;\n",
              "    }\n",
              "\n",
              "    .colab-df-convert {\n",
              "      background-color: #E8F0FE;\n",
              "      border: none;\n",
              "      border-radius: 50%;\n",
              "      cursor: pointer;\n",
              "      display: none;\n",
              "      fill: #1967D2;\n",
              "      height: 32px;\n",
              "      padding: 0 0 0 0;\n",
              "      width: 32px;\n",
              "    }\n",
              "\n",
              "    .colab-df-convert:hover {\n",
              "      background-color: #E2EBFA;\n",
              "      box-shadow: 0px 1px 2px rgba(60, 64, 67, 0.3), 0px 1px 3px 1px rgba(60, 64, 67, 0.15);\n",
              "      fill: #174EA6;\n",
              "    }\n",
              "\n",
              "    [theme=dark] .colab-df-convert {\n",
              "      background-color: #3B4455;\n",
              "      fill: #D2E3FC;\n",
              "    }\n",
              "\n",
              "    [theme=dark] .colab-df-convert:hover {\n",
              "      background-color: #434B5C;\n",
              "      box-shadow: 0px 1px 3px 1px rgba(0, 0, 0, 0.15);\n",
              "      filter: drop-shadow(0px 1px 2px rgba(0, 0, 0, 0.3));\n",
              "      fill: #FFFFFF;\n",
              "    }\n",
              "  </style>\n",
              "\n",
              "      <script>\n",
              "        const buttonEl =\n",
              "          document.querySelector('#df-091b9b97-513f-41ec-96cd-916a66264e08 button.colab-df-convert');\n",
              "        buttonEl.style.display =\n",
              "          google.colab.kernel.accessAllowed ? 'block' : 'none';\n",
              "\n",
              "        async function convertToInteractive(key) {\n",
              "          const element = document.querySelector('#df-091b9b97-513f-41ec-96cd-916a66264e08');\n",
              "          const dataTable =\n",
              "            await google.colab.kernel.invokeFunction('convertToInteractive',\n",
              "                                                     [key], {});\n",
              "          if (!dataTable) return;\n",
              "\n",
              "          const docLinkHtml = 'Like what you see? Visit the ' +\n",
              "            '<a target=\"_blank\" href=https://colab.research.google.com/notebooks/data_table.ipynb>data table notebook</a>'\n",
              "            + ' to learn more about interactive tables.';\n",
              "          element.innerHTML = '';\n",
              "          dataTable['output_type'] = 'display_data';\n",
              "          await google.colab.output.renderOutput(dataTable, element);\n",
              "          const docLink = document.createElement('div');\n",
              "          docLink.innerHTML = docLinkHtml;\n",
              "          element.appendChild(docLink);\n",
              "        }\n",
              "      </script>\n",
              "    </div>\n",
              "  </div>\n",
              "  "
            ]
          },
          "metadata": {},
          "execution_count": 36
        }
      ],
      "source": [
        "batch = context.get_batch_list(batch_request=batch_request)[0]\n",
        "batch.head()"
      ]
    },
    {
      "cell_type": "markdown",
      "metadata": {
        "id": "Bc01EK4k5X7X"
      },
      "source": [
        "Ahora instanciamos nuestro generador del perfil de los datos:"
      ]
    },
    {
      "cell_type": "code",
      "execution_count": null,
      "metadata": {
        "id": "MdWw0kPm5X7X"
      },
      "outputs": [],
      "source": [
        "profiler = UserConfigurableProfiler(profile_dataset=batch,\n",
        "                                    ignored_columns=['vendor_id'])"
      ]
    },
    {
      "cell_type": "markdown",
      "metadata": {
        "id": "vjrR-s1h5X7X"
      },
      "source": [
        "Una vez que se generó el perfil de los datos, podemos construir nuestro suite de expectativas:"
      ]
    },
    {
      "cell_type": "code",
      "execution_count": null,
      "metadata": {
        "id": "jMAqdGo35X7X"
      },
      "outputs": [],
      "source": [
        "suite = profiler.build_suite()"
      ]
    },
    {
      "cell_type": "markdown",
      "metadata": {
        "id": "6VY0uWIE5X7Y"
      },
      "source": [
        "Guardamos nuestras expectativas"
      ]
    },
    {
      "cell_type": "code",
      "execution_count": 39,
      "metadata": {
        "id": "M-Bej5ch5X7Y"
      },
      "outputs": [],
      "source": [
        "context.save_expectation_suite(suite, expectation_suite_name)"
      ]
    },
    {
      "cell_type": "markdown",
      "metadata": {
        "id": "p8CHklNr5X7Y"
      },
      "source": [
        "Inspeccionemos la suite:"
      ]
    },
    {
      "cell_type": "code",
      "execution_count": 40,
      "metadata": {
        "colab": {
          "base_uri": "https://localhost:8080/",
          "height": 35
        },
        "id": "VXr2adAJ5X7Y",
        "outputId": "1d986a7e-9aad-4720-a8e9-633ec154eb03"
      },
      "outputs": [
        {
          "output_type": "execute_result",
          "data": {
            "text/plain": [
              "'expect_table_columns_to_match_ordered_list'"
            ],
            "application/vnd.google.colaboratory.intrinsic+json": {
              "type": "string"
            }
          },
          "metadata": {},
          "execution_count": 40
        }
      ],
      "source": [
        "suite.expectations[0].expectation_type"
      ]
    },
    {
      "cell_type": "markdown",
      "metadata": {
        "id": "jhszIFIl5X7Z"
      },
      "source": [
        "Vemos que la primera expectativa creada indica que las columnas en el conjunto de datos deben ser las siguientes, y en el orden esperado:"
      ]
    },
    {
      "cell_type": "code",
      "execution_count": 41,
      "metadata": {
        "colab": {
          "base_uri": "https://localhost:8080/"
        },
        "id": "Qq-hgpUF5X7Z",
        "outputId": "edcc87e0-9d40-4ce6-e3e3-6515cbb0153a"
      },
      "outputs": [
        {
          "output_type": "execute_result",
          "data": {
            "text/plain": [
              "['vendor_id',\n",
              " 'pickup_datetime',\n",
              " 'dropoff_datetime',\n",
              " 'passenger_count',\n",
              " 'trip_distance',\n",
              " 'rate_code_id',\n",
              " 'store_and_fwd_flag',\n",
              " 'pickup_location_id',\n",
              " 'dropoff_location_id',\n",
              " 'payment_type',\n",
              " 'fare_amount',\n",
              " 'extra',\n",
              " 'mta_tax',\n",
              " 'tip_amount',\n",
              " 'tolls_amount',\n",
              " 'improvement_surcharge',\n",
              " 'total_amount',\n",
              " 'congestion_surcharge']"
            ]
          },
          "metadata": {},
          "execution_count": 41
        }
      ],
      "source": [
        "suite.expectations[0].kwargs[\"column_list\"]"
      ]
    },
    {
      "cell_type": "markdown",
      "metadata": {
        "id": "SCMvZs8S5X7Z"
      },
      "source": [
        "> **Importante:** Cuando utilizamos `profiler`, todas las expectativas se aplican a todas las columnas. Esto puede resultar en una conjunto de validaciones demasiado rígidas que son dificiles que se repitan nuevamente en un conjunto de datos. Por ejemplo, una expectativa podría forzar a que la media de una columna sea exactamente 45.3. En algunos casos esto puede ser requerido, en otros no. En general, esta técnica se utiliza para generar una expectativa base sobre la que se puede ir iterando y refinando."
      ]
    },
    {
      "cell_type": "markdown",
      "metadata": {
        "id": "oJNjsMmi5X7Z"
      },
      "source": [
        "### Construyendo la documentación de expectativas"
      ]
    },
    {
      "cell_type": "markdown",
      "metadata": {
        "id": "6PrOnjLx5X7Z"
      },
      "source": [
        "Una forma más amena de explorar estas expectativas es construyendo su documentación. Esta documentación se genera automáticamente leyendo las expectativas de los datos que se generaron. Esto es una excelente forma de comunicar a los diferentes equipos de la organización lo que pueden esperar de estos datos:"
      ]
    },
    {
      "cell_type": "code",
      "execution_count": 42,
      "metadata": {
        "colab": {
          "base_uri": "https://localhost:8080/"
        },
        "id": "pSDf2M1M5X7Z",
        "outputId": "c3a6c481-ab36-4c38-8c20-21b06513ceb6"
      },
      "outputs": [
        {
          "output_type": "stream",
          "name": "stderr",
          "text": [
            "/usr/local/lib/python3.7/dist-packages/jinja2/environment.py:1088: DeprecationWarning: 'soft_unicode' has been renamed to 'soft_str'. The old name will be removed in MarkupSafe 2.1.\n",
            "  return concat(self.root_render_func(self.new_context(vars)))\n"
          ]
        },
        {
          "output_type": "execute_result",
          "data": {
            "text/plain": [
              "{'local_site': 'file:///content/great_expectations/uncommitted/data_docs/local_site/index.html'}"
            ]
          },
          "metadata": {},
          "execution_count": 42
        }
      ],
      "source": [
        "context.build_data_docs()"
      ]
    },
    {
      "cell_type": "markdown",
      "metadata": {
        "id": "MjSXREAA5X7a"
      },
      "source": [
        "Por ejemplo, la siguiente documentación se genera automáticamente:\n",
        "\n",
        "![Sample](https://raw.githubusercontent.com/santiagxf/E72102/main/docs/develop/_images/prep_ge_sample.png)"
      ]
    },
    {
      "cell_type": "code",
      "source": [
        ""
      ],
      "metadata": {
        "id": "mOA73hMG-9YD"
      },
      "execution_count": null,
      "outputs": []
    }
  ],
  "metadata": {
    "interpreter": {
      "hash": "bea38c2984299ac640e8421861d34b2e05ee614f6236d2975c05eeb77366835f"
    },
    "kernelspec": {
      "display_name": "Python 3",
      "language": "python",
      "name": "python3"
    },
    "language_info": {
      "codemirror_mode": {
        "name": "ipython",
        "version": 3
      },
      "file_extension": ".py",
      "mimetype": "text/x-python",
      "name": "python",
      "nbconvert_exporter": "python",
      "pygments_lexer": "ipython3",
      "version": "3.8.11"
    },
    "colab": {
      "name": "expectations.ipynb",
      "provenance": []
    }
  },
  "nbformat": 4,
  "nbformat_minor": 0
}