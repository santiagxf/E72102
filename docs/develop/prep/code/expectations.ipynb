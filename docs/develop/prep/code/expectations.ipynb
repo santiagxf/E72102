{
  "cells": [
    {
      "cell_type": "markdown",
      "metadata": {
        "id": "QupqCPhy5X66"
      },
      "source": [
        "Verificación de calidad de datos con Great Expectations\n",
        "======================================================="
      ]
    },
    {
      "cell_type": "markdown",
      "source": [
        "<div class=\"admonition warning\">PRECAUCIÓN 😱: El tema presentado en esta sección está clasificado como avanzado. El entendimiento de este contenido es totalmente opcional.</div>"
      ],
      "metadata": {
        "id": "roxYP2GR_YqW"
      }
    },
    {
      "cell_type": "markdown",
      "metadata": {
        "id": "IsoazwAM5X7A"
      },
      "source": [
        "Great Expectations\n",
        "------------------\n",
        "\n",
        "`Great expentations` es una libreria en `Python` y una utilidad de linea de comandos que provee un lenguaje declarativo y flexible para describir nuestras expectativas sobre como los datos deben lucir. Permite validar y documentar la calidad de los datos para luego facilmente comunicar los resultados.\n",
        "\n",
        "Podemos instalar `Great Expectations` en `Python` como sigue:\n",
        "\n",
        "```\n",
        "pip install great_expectations\n",
        "```\n",
        "\n",
        "La librería Great Expectations’ más de 50 `expectations` ya listas para utilizar:\n",
        "\n",
        "- `expect_column_values_to_not_be_null`\n",
        "- `expect_column_values_to_match_regex`\n",
        "- `expect_column_values_to_be_unique`\n",
        "- `expect_column_values_to_match_strftime_format`\n",
        "- `expect_table_row_count_to_be_between`\n",
        "- `expect_column_median_to_be_between`\n",
        "\n",
        "Para más información sobre esta librería puede ver [su sitio web](https://docs.greatexpectations.io/docs/)."
      ]
    },
    {
      "cell_type": "markdown",
      "metadata": {
        "id": "1zG1ooiL5X7C"
      },
      "source": [
        "### Preparación del notebook"
      ]
    },
    {
      "cell_type": "markdown",
      "metadata": {
        "id": "HGZaIG3A5X7D"
      },
      "source": [
        "Instalamos las librerías necesarias:"
      ]
    },
    {
      "cell_type": "code",
      "execution_count": null,
      "metadata": {
        "id": "5nB9fmxm5X7D"
      },
      "outputs": [],
      "source": [
        "!wget https://raw.githubusercontent.com/santiagxf/E72102/master/docs/develop/prep/code/expectations.txt \\\n",
        "    --quiet --no-clobber\n",
        "!pip install -r expectations.txt"
      ]
    },
    {
      "cell_type": "code",
      "execution_count": 1,
      "metadata": {
        "id": "g0thoZjV5X7F"
      },
      "outputs": [],
      "source": [
        "import warnings\n",
        "import ruamel.yaml\n",
        "\n",
        "warnings.filterwarnings(\"ignore\")\n",
        "warnings.simplefilter('ignore', ruamel.yaml.error.UnsafeLoaderWarning)"
      ]
    },
    {
      "cell_type": "markdown",
      "source": [
        "Descargamos los conjuntos de datos:"
      ],
      "metadata": {
        "id": "Mkms0w1A6Q65"
      }
    },
    {
      "cell_type": "code",
      "source": [
        "!wget https://raw.githubusercontent.com/santiagxf/E72102/master/docs/develop/prep/code/datasets/nyc_taxi/yellow_tripdata_sample_2019-01.csv \\\n",
        "    --quiet --no-clobber --directory-prefix datasets/nyc_taxi/\n",
        "!wget https://raw.githubusercontent.com/santiagxf/E72102/master/docs/develop/prep/code/datasets/nyc_taxi/yellow_tripdata_sample_2019-02.csv \\\n",
        "    --quiet --no-clobber --directory-prefix datasets/nyc_taxi/"
      ],
      "metadata": {
        "id": "tp-GsRIK6WRH"
      },
      "execution_count": 2,
      "outputs": []
    },
    {
      "cell_type": "markdown",
      "metadata": {
        "id": "dQNsRZ7Y5X7F"
      },
      "source": [
        "Ejemplo\n",
        "-------\n",
        "Utilizaremos el conjunto de datos [NYC Taxi data](https://www1.nyc.gov/site/tlc/about/tlc-trip-record-data.page). Cada registro en los datos corresponde a un viaje en taxi y contiene información como el lugar donde se toma el taxi y el lugar donde el pasajero se baja del mismo, el monto del pago y el número de pasajeros, entre otros.\n",
        "\n",
        "Si bien este conjunto de datos es actualizado cada mes, en nuestro caso sólo utilizaremos dos archivos CSV correspondientes a 2 meses, cada uno con una muestra de 10,000 filas del conjunto Yellow Taxi Trip Records:\n",
        "\n",
        "- yellow_tripdata_sample_2019-01.csv: una muestra de los datos de taxis de enero de 2019\n",
        "\n",
        "- yellow_tripdata_sample_2019-02.csv: una muestra de los datos de taxis de febrero de 2019"
      ]
    },
    {
      "cell_type": "code",
      "execution_count": 3,
      "metadata": {
        "scrolled": true,
        "colab": {
          "base_uri": "https://localhost:8080/",
          "height": 313
        },
        "id": "7tPGg_nw5X7G",
        "outputId": "f5dfa5cb-42db-43a7-87a4-24d804b5b2f2"
      },
      "outputs": [
        {
          "output_type": "execute_result",
          "data": {
            "text/plain": [
              "   vendor_id      pickup_datetime     dropoff_datetime  passenger_count  \\\n",
              "0          1  2019-02-07 15:48:06  2019-02-07 16:00:40                2   \n",
              "1          2  2019-02-11 15:19:56  2019-02-11 15:40:10                1   \n",
              "2          2  2019-02-15 20:03:53  2019-02-15 20:08:34                1   \n",
              "3          2  2019-02-03 15:16:04  2019-02-03 15:21:49                1   \n",
              "4          2  2019-02-15 09:23:09  2019-02-15 09:42:51                6   \n",
              "\n",
              "   trip_distance  rate_code_id store_and_fwd_flag  pickup_location_id  \\\n",
              "0           1.30             1                  N                 234   \n",
              "1           2.37             1                  N                 161   \n",
              "2           0.48             1                  N                 237   \n",
              "3           0.64             1                  N                 100   \n",
              "4           2.56             1                  N                 114   \n",
              "\n",
              "   dropoff_location_id  payment_type  fare_amount  extra  mta_tax  tip_amount  \\\n",
              "0                  211             1          9.0    2.5      0.5        2.46   \n",
              "1                  249             1         14.0    0.0      0.5        3.46   \n",
              "2                  161             1          5.0    0.5      0.5        1.50   \n",
              "3                   48             1          5.5    0.0      0.5        1.76   \n",
              "4                  230             1         13.5    0.0      0.5        3.36   \n",
              "\n",
              "   tolls_amount  improvement_surcharge  total_amount  congestion_surcharge  \n",
              "0           0.0                    0.3         14.76                   2.5  \n",
              "1           0.0                    0.3         20.76                   2.5  \n",
              "2           0.0                    0.3         10.30                   2.5  \n",
              "3           0.0                    0.3         10.56                   2.5  \n",
              "4           0.0                    0.3         20.16                   2.5  "
            ],
            "text/html": [
              "\n",
              "  <div id=\"df-c0085508-76e2-470d-8317-bf305d4999ad\" class=\"colab-df-container\">\n",
              "    <div>\n",
              "<style scoped>\n",
              "    .dataframe tbody tr th:only-of-type {\n",
              "        vertical-align: middle;\n",
              "    }\n",
              "\n",
              "    .dataframe tbody tr th {\n",
              "        vertical-align: top;\n",
              "    }\n",
              "\n",
              "    .dataframe thead th {\n",
              "        text-align: right;\n",
              "    }\n",
              "</style>\n",
              "<table border=\"1\" class=\"dataframe\">\n",
              "  <thead>\n",
              "    <tr style=\"text-align: right;\">\n",
              "      <th></th>\n",
              "      <th>vendor_id</th>\n",
              "      <th>pickup_datetime</th>\n",
              "      <th>dropoff_datetime</th>\n",
              "      <th>passenger_count</th>\n",
              "      <th>trip_distance</th>\n",
              "      <th>rate_code_id</th>\n",
              "      <th>store_and_fwd_flag</th>\n",
              "      <th>pickup_location_id</th>\n",
              "      <th>dropoff_location_id</th>\n",
              "      <th>payment_type</th>\n",
              "      <th>fare_amount</th>\n",
              "      <th>extra</th>\n",
              "      <th>mta_tax</th>\n",
              "      <th>tip_amount</th>\n",
              "      <th>tolls_amount</th>\n",
              "      <th>improvement_surcharge</th>\n",
              "      <th>total_amount</th>\n",
              "      <th>congestion_surcharge</th>\n",
              "    </tr>\n",
              "  </thead>\n",
              "  <tbody>\n",
              "    <tr>\n",
              "      <th>0</th>\n",
              "      <td>1</td>\n",
              "      <td>2019-02-07 15:48:06</td>\n",
              "      <td>2019-02-07 16:00:40</td>\n",
              "      <td>2</td>\n",
              "      <td>1.30</td>\n",
              "      <td>1</td>\n",
              "      <td>N</td>\n",
              "      <td>234</td>\n",
              "      <td>211</td>\n",
              "      <td>1</td>\n",
              "      <td>9.0</td>\n",
              "      <td>2.5</td>\n",
              "      <td>0.5</td>\n",
              "      <td>2.46</td>\n",
              "      <td>0.0</td>\n",
              "      <td>0.3</td>\n",
              "      <td>14.76</td>\n",
              "      <td>2.5</td>\n",
              "    </tr>\n",
              "    <tr>\n",
              "      <th>1</th>\n",
              "      <td>2</td>\n",
              "      <td>2019-02-11 15:19:56</td>\n",
              "      <td>2019-02-11 15:40:10</td>\n",
              "      <td>1</td>\n",
              "      <td>2.37</td>\n",
              "      <td>1</td>\n",
              "      <td>N</td>\n",
              "      <td>161</td>\n",
              "      <td>249</td>\n",
              "      <td>1</td>\n",
              "      <td>14.0</td>\n",
              "      <td>0.0</td>\n",
              "      <td>0.5</td>\n",
              "      <td>3.46</td>\n",
              "      <td>0.0</td>\n",
              "      <td>0.3</td>\n",
              "      <td>20.76</td>\n",
              "      <td>2.5</td>\n",
              "    </tr>\n",
              "    <tr>\n",
              "      <th>2</th>\n",
              "      <td>2</td>\n",
              "      <td>2019-02-15 20:03:53</td>\n",
              "      <td>2019-02-15 20:08:34</td>\n",
              "      <td>1</td>\n",
              "      <td>0.48</td>\n",
              "      <td>1</td>\n",
              "      <td>N</td>\n",
              "      <td>237</td>\n",
              "      <td>161</td>\n",
              "      <td>1</td>\n",
              "      <td>5.0</td>\n",
              "      <td>0.5</td>\n",
              "      <td>0.5</td>\n",
              "      <td>1.50</td>\n",
              "      <td>0.0</td>\n",
              "      <td>0.3</td>\n",
              "      <td>10.30</td>\n",
              "      <td>2.5</td>\n",
              "    </tr>\n",
              "    <tr>\n",
              "      <th>3</th>\n",
              "      <td>2</td>\n",
              "      <td>2019-02-03 15:16:04</td>\n",
              "      <td>2019-02-03 15:21:49</td>\n",
              "      <td>1</td>\n",
              "      <td>0.64</td>\n",
              "      <td>1</td>\n",
              "      <td>N</td>\n",
              "      <td>100</td>\n",
              "      <td>48</td>\n",
              "      <td>1</td>\n",
              "      <td>5.5</td>\n",
              "      <td>0.0</td>\n",
              "      <td>0.5</td>\n",
              "      <td>1.76</td>\n",
              "      <td>0.0</td>\n",
              "      <td>0.3</td>\n",
              "      <td>10.56</td>\n",
              "      <td>2.5</td>\n",
              "    </tr>\n",
              "    <tr>\n",
              "      <th>4</th>\n",
              "      <td>2</td>\n",
              "      <td>2019-02-15 09:23:09</td>\n",
              "      <td>2019-02-15 09:42:51</td>\n",
              "      <td>6</td>\n",
              "      <td>2.56</td>\n",
              "      <td>1</td>\n",
              "      <td>N</td>\n",
              "      <td>114</td>\n",
              "      <td>230</td>\n",
              "      <td>1</td>\n",
              "      <td>13.5</td>\n",
              "      <td>0.0</td>\n",
              "      <td>0.5</td>\n",
              "      <td>3.36</td>\n",
              "      <td>0.0</td>\n",
              "      <td>0.3</td>\n",
              "      <td>20.16</td>\n",
              "      <td>2.5</td>\n",
              "    </tr>\n",
              "  </tbody>\n",
              "</table>\n",
              "</div>\n",
              "    <div class=\"colab-df-buttons\">\n",
              "\n",
              "  <div class=\"colab-df-container\">\n",
              "    <button class=\"colab-df-convert\" onclick=\"convertToInteractive('df-c0085508-76e2-470d-8317-bf305d4999ad')\"\n",
              "            title=\"Convert this dataframe to an interactive table.\"\n",
              "            style=\"display:none;\">\n",
              "\n",
              "  <svg xmlns=\"http://www.w3.org/2000/svg\" height=\"24px\" viewBox=\"0 -960 960 960\">\n",
              "    <path d=\"M120-120v-720h720v720H120Zm60-500h600v-160H180v160Zm220 220h160v-160H400v160Zm0 220h160v-160H400v160ZM180-400h160v-160H180v160Zm440 0h160v-160H620v160ZM180-180h160v-160H180v160Zm440 0h160v-160H620v160Z\"/>\n",
              "  </svg>\n",
              "    </button>\n",
              "\n",
              "  <style>\n",
              "    .colab-df-container {\n",
              "      display:flex;\n",
              "      gap: 12px;\n",
              "    }\n",
              "\n",
              "    .colab-df-convert {\n",
              "      background-color: #E8F0FE;\n",
              "      border: none;\n",
              "      border-radius: 50%;\n",
              "      cursor: pointer;\n",
              "      display: none;\n",
              "      fill: #1967D2;\n",
              "      height: 32px;\n",
              "      padding: 0 0 0 0;\n",
              "      width: 32px;\n",
              "    }\n",
              "\n",
              "    .colab-df-convert:hover {\n",
              "      background-color: #E2EBFA;\n",
              "      box-shadow: 0px 1px 2px rgba(60, 64, 67, 0.3), 0px 1px 3px 1px rgba(60, 64, 67, 0.15);\n",
              "      fill: #174EA6;\n",
              "    }\n",
              "\n",
              "    .colab-df-buttons div {\n",
              "      margin-bottom: 4px;\n",
              "    }\n",
              "\n",
              "    [theme=dark] .colab-df-convert {\n",
              "      background-color: #3B4455;\n",
              "      fill: #D2E3FC;\n",
              "    }\n",
              "\n",
              "    [theme=dark] .colab-df-convert:hover {\n",
              "      background-color: #434B5C;\n",
              "      box-shadow: 0px 1px 3px 1px rgba(0, 0, 0, 0.15);\n",
              "      filter: drop-shadow(0px 1px 2px rgba(0, 0, 0, 0.3));\n",
              "      fill: #FFFFFF;\n",
              "    }\n",
              "  </style>\n",
              "\n",
              "    <script>\n",
              "      const buttonEl =\n",
              "        document.querySelector('#df-c0085508-76e2-470d-8317-bf305d4999ad button.colab-df-convert');\n",
              "      buttonEl.style.display =\n",
              "        google.colab.kernel.accessAllowed ? 'block' : 'none';\n",
              "\n",
              "      async function convertToInteractive(key) {\n",
              "        const element = document.querySelector('#df-c0085508-76e2-470d-8317-bf305d4999ad');\n",
              "        const dataTable =\n",
              "          await google.colab.kernel.invokeFunction('convertToInteractive',\n",
              "                                                    [key], {});\n",
              "        if (!dataTable) return;\n",
              "\n",
              "        const docLinkHtml = 'Like what you see? Visit the ' +\n",
              "          '<a target=\"_blank\" href=https://colab.research.google.com/notebooks/data_table.ipynb>data table notebook</a>'\n",
              "          + ' to learn more about interactive tables.';\n",
              "        element.innerHTML = '';\n",
              "        dataTable['output_type'] = 'display_data';\n",
              "        await google.colab.output.renderOutput(dataTable, element);\n",
              "        const docLink = document.createElement('div');\n",
              "        docLink.innerHTML = docLinkHtml;\n",
              "        element.appendChild(docLink);\n",
              "      }\n",
              "    </script>\n",
              "  </div>\n",
              "\n",
              "\n",
              "    <div id=\"df-1eaf153e-2c35-4452-b14d-71896f0dfb16\">\n",
              "      <button class=\"colab-df-quickchart\" onclick=\"quickchart('df-1eaf153e-2c35-4452-b14d-71896f0dfb16')\"\n",
              "                title=\"Suggest charts\"\n",
              "                style=\"display:none;\">\n",
              "\n",
              "<svg xmlns=\"http://www.w3.org/2000/svg\" height=\"24px\"viewBox=\"0 0 24 24\"\n",
              "     width=\"24px\">\n",
              "    <g>\n",
              "        <path d=\"M19 3H5c-1.1 0-2 .9-2 2v14c0 1.1.9 2 2 2h14c1.1 0 2-.9 2-2V5c0-1.1-.9-2-2-2zM9 17H7v-7h2v7zm4 0h-2V7h2v10zm4 0h-2v-4h2v4z\"/>\n",
              "    </g>\n",
              "</svg>\n",
              "      </button>\n",
              "\n",
              "<style>\n",
              "  .colab-df-quickchart {\n",
              "      --bg-color: #E8F0FE;\n",
              "      --fill-color: #1967D2;\n",
              "      --hover-bg-color: #E2EBFA;\n",
              "      --hover-fill-color: #174EA6;\n",
              "      --disabled-fill-color: #AAA;\n",
              "      --disabled-bg-color: #DDD;\n",
              "  }\n",
              "\n",
              "  [theme=dark] .colab-df-quickchart {\n",
              "      --bg-color: #3B4455;\n",
              "      --fill-color: #D2E3FC;\n",
              "      --hover-bg-color: #434B5C;\n",
              "      --hover-fill-color: #FFFFFF;\n",
              "      --disabled-bg-color: #3B4455;\n",
              "      --disabled-fill-color: #666;\n",
              "  }\n",
              "\n",
              "  .colab-df-quickchart {\n",
              "    background-color: var(--bg-color);\n",
              "    border: none;\n",
              "    border-radius: 50%;\n",
              "    cursor: pointer;\n",
              "    display: none;\n",
              "    fill: var(--fill-color);\n",
              "    height: 32px;\n",
              "    padding: 0;\n",
              "    width: 32px;\n",
              "  }\n",
              "\n",
              "  .colab-df-quickchart:hover {\n",
              "    background-color: var(--hover-bg-color);\n",
              "    box-shadow: 0 1px 2px rgba(60, 64, 67, 0.3), 0 1px 3px 1px rgba(60, 64, 67, 0.15);\n",
              "    fill: var(--button-hover-fill-color);\n",
              "  }\n",
              "\n",
              "  .colab-df-quickchart-complete:disabled,\n",
              "  .colab-df-quickchart-complete:disabled:hover {\n",
              "    background-color: var(--disabled-bg-color);\n",
              "    fill: var(--disabled-fill-color);\n",
              "    box-shadow: none;\n",
              "  }\n",
              "\n",
              "  .colab-df-spinner {\n",
              "    border: 2px solid var(--fill-color);\n",
              "    border-color: transparent;\n",
              "    border-bottom-color: var(--fill-color);\n",
              "    animation:\n",
              "      spin 1s steps(1) infinite;\n",
              "  }\n",
              "\n",
              "  @keyframes spin {\n",
              "    0% {\n",
              "      border-color: transparent;\n",
              "      border-bottom-color: var(--fill-color);\n",
              "      border-left-color: var(--fill-color);\n",
              "    }\n",
              "    20% {\n",
              "      border-color: transparent;\n",
              "      border-left-color: var(--fill-color);\n",
              "      border-top-color: var(--fill-color);\n",
              "    }\n",
              "    30% {\n",
              "      border-color: transparent;\n",
              "      border-left-color: var(--fill-color);\n",
              "      border-top-color: var(--fill-color);\n",
              "      border-right-color: var(--fill-color);\n",
              "    }\n",
              "    40% {\n",
              "      border-color: transparent;\n",
              "      border-right-color: var(--fill-color);\n",
              "      border-top-color: var(--fill-color);\n",
              "    }\n",
              "    60% {\n",
              "      border-color: transparent;\n",
              "      border-right-color: var(--fill-color);\n",
              "    }\n",
              "    80% {\n",
              "      border-color: transparent;\n",
              "      border-right-color: var(--fill-color);\n",
              "      border-bottom-color: var(--fill-color);\n",
              "    }\n",
              "    90% {\n",
              "      border-color: transparent;\n",
              "      border-bottom-color: var(--fill-color);\n",
              "    }\n",
              "  }\n",
              "</style>\n",
              "\n",
              "      <script>\n",
              "        async function quickchart(key) {\n",
              "          const quickchartButtonEl =\n",
              "            document.querySelector('#' + key + ' button');\n",
              "          quickchartButtonEl.disabled = true;  // To prevent multiple clicks.\n",
              "          quickchartButtonEl.classList.add('colab-df-spinner');\n",
              "          try {\n",
              "            const charts = await google.colab.kernel.invokeFunction(\n",
              "                'suggestCharts', [key], {});\n",
              "          } catch (error) {\n",
              "            console.error('Error during call to suggestCharts:', error);\n",
              "          }\n",
              "          quickchartButtonEl.classList.remove('colab-df-spinner');\n",
              "          quickchartButtonEl.classList.add('colab-df-quickchart-complete');\n",
              "        }\n",
              "        (() => {\n",
              "          let quickchartButtonEl =\n",
              "            document.querySelector('#df-1eaf153e-2c35-4452-b14d-71896f0dfb16 button');\n",
              "          quickchartButtonEl.style.display =\n",
              "            google.colab.kernel.accessAllowed ? 'block' : 'none';\n",
              "        })();\n",
              "      </script>\n",
              "    </div>\n",
              "\n",
              "    </div>\n",
              "  </div>\n"
            ],
            "application/vnd.google.colaboratory.intrinsic+json": {
              "type": "dataframe",
              "variable_name": "df",
              "summary": "{\n  \"name\": \"df\",\n  \"rows\": 20000,\n  \"fields\": [\n    {\n      \"column\": \"vendor_id\",\n      \"properties\": {\n        \"dtype\": \"number\",\n        \"std\": 0,\n        \"min\": 1,\n        \"max\": 4,\n        \"num_unique_values\": 3,\n        \"samples\": [\n          1,\n          2,\n          4\n        ],\n        \"semantic_type\": \"\",\n        \"description\": \"\"\n      }\n    },\n    {\n      \"column\": \"pickup_datetime\",\n      \"properties\": {\n        \"dtype\": \"date\",\n        \"min\": \"2019-01-01 00:00:50\",\n        \"max\": \"2019-02-28 23:56:53\",\n        \"num_unique_values\": 19950,\n        \"samples\": [\n          \"2019-02-28 12:06:22\",\n          \"2019-02-08 10:21:37\",\n          \"2019-01-07 18:37:42\"\n        ],\n        \"semantic_type\": \"\",\n        \"description\": \"\"\n      }\n    },\n    {\n      \"column\": \"dropoff_datetime\",\n      \"properties\": {\n        \"dtype\": \"date\",\n        \"min\": \"2019-01-01 00:26:46\",\n        \"max\": \"2019-03-01 16:25:46\",\n        \"num_unique_values\": 19939,\n        \"samples\": [\n          \"2019-01-05 02:37:48\",\n          \"2019-02-14 13:15:06\",\n          \"2019-02-11 10:41:47\"\n        ],\n        \"semantic_type\": \"\",\n        \"description\": \"\"\n      }\n    },\n    {\n      \"column\": \"passenger_count\",\n      \"properties\": {\n        \"dtype\": \"number\",\n        \"std\": 1,\n        \"min\": 0,\n        \"max\": 6,\n        \"num_unique_values\": 7,\n        \"samples\": [\n          2,\n          1,\n          4\n        ],\n        \"semantic_type\": \"\",\n        \"description\": \"\"\n      }\n    },\n    {\n      \"column\": \"trip_distance\",\n      \"properties\": {\n        \"dtype\": \"number\",\n        \"std\": 3.677373874058307,\n        \"min\": 0.0,\n        \"max\": 57.95,\n        \"num_unique_values\": 1540,\n        \"samples\": [\n          1.86,\n          5.29,\n          0.8\n        ],\n        \"semantic_type\": \"\",\n        \"description\": \"\"\n      }\n    },\n    {\n      \"column\": \"rate_code_id\",\n      \"properties\": {\n        \"dtype\": \"number\",\n        \"std\": 0,\n        \"min\": 1,\n        \"max\": 99,\n        \"num_unique_values\": 7,\n        \"samples\": [\n          1,\n          2,\n          99\n        ],\n        \"semantic_type\": \"\",\n        \"description\": \"\"\n      }\n    },\n    {\n      \"column\": \"store_and_fwd_flag\",\n      \"properties\": {\n        \"dtype\": \"category\",\n        \"num_unique_values\": 2,\n        \"samples\": [\n          \"Y\",\n          \"N\"\n        ],\n        \"semantic_type\": \"\",\n        \"description\": \"\"\n      }\n    },\n    {\n      \"column\": \"pickup_location_id\",\n      \"properties\": {\n        \"dtype\": \"number\",\n        \"std\": 65,\n        \"min\": 1,\n        \"max\": 265,\n        \"num_unique_values\": 180,\n        \"samples\": [\n          107,\n          91\n        ],\n        \"semantic_type\": \"\",\n        \"description\": \"\"\n      }\n    },\n    {\n      \"column\": \"dropoff_location_id\",\n      \"properties\": {\n        \"dtype\": \"number\",\n        \"std\": 70,\n        \"min\": 1,\n        \"max\": 265,\n        \"num_unique_values\": 223,\n        \"samples\": [\n          143,\n          24\n        ],\n        \"semantic_type\": \"\",\n        \"description\": \"\"\n      }\n    },\n    {\n      \"column\": \"payment_type\",\n      \"properties\": {\n        \"dtype\": \"number\",\n        \"std\": 0,\n        \"min\": 1,\n        \"max\": 4,\n        \"num_unique_values\": 4,\n        \"samples\": [\n          2,\n          4\n        ],\n        \"semantic_type\": \"\",\n        \"description\": \"\"\n      }\n    },\n    {\n      \"column\": \"fare_amount\",\n      \"properties\": {\n        \"dtype\": \"number\",\n        \"std\": 24.382407231107234,\n        \"min\": -52.0,\n        \"max\": 3004.0,\n        \"num_unique_values\": 262,\n        \"samples\": [\n          47.22,\n          61.68\n        ],\n        \"semantic_type\": \"\",\n        \"description\": \"\"\n      }\n    },\n    {\n      \"column\": \"extra\",\n      \"properties\": {\n        \"dtype\": \"number\",\n        \"std\": 1.0683918252842248,\n        \"min\": -36.71,\n        \"max\": 7.0,\n        \"num_unique_values\": 12,\n        \"samples\": [\n          0.8,\n          -0.5\n        ],\n        \"semantic_type\": \"\",\n        \"description\": \"\"\n      }\n    },\n    {\n      \"column\": \"mta_tax\",\n      \"properties\": {\n        \"dtype\": \"number\",\n        \"std\": 0.26603584317394,\n        \"min\": -0.5,\n        \"max\": 37.51,\n        \"num_unique_values\": 4,\n        \"samples\": [\n          0.0,\n          37.51\n        ],\n        \"semantic_type\": \"\",\n        \"description\": \"\"\n      }\n    },\n    {\n      \"column\": \"tip_amount\",\n      \"properties\": {\n        \"dtype\": \"number\",\n        \"std\": 2.502923491048584,\n        \"min\": 0.0,\n        \"max\": 75.0,\n        \"num_unique_values\": 736,\n        \"samples\": [\n          1.04,\n          8.36\n        ],\n        \"semantic_type\": \"\",\n        \"description\": \"\"\n      }\n    },\n    {\n      \"column\": \"tolls_amount\",\n      \"properties\": {\n        \"dtype\": \"number\",\n        \"std\": 3.8213011477679797,\n        \"min\": 0.0,\n        \"max\": 500.05,\n        \"num_unique_values\": 38,\n        \"samples\": [\n          5.5,\n          24.02\n        ],\n        \"semantic_type\": \"\",\n        \"description\": \"\"\n      }\n    },\n    {\n      \"column\": \"improvement_surcharge\",\n      \"properties\": {\n        \"dtype\": \"number\",\n        \"std\": 0.02066243262072718,\n        \"min\": -0.3,\n        \"max\": 0.3,\n        \"num_unique_values\": 3,\n        \"samples\": [\n          0.3,\n          -0.3\n        ],\n        \"semantic_type\": \"\",\n        \"description\": \"\"\n      }\n    },\n    {\n      \"column\": \"total_amount\",\n      \"properties\": {\n        \"dtype\": \"number\",\n        \"std\": 25.942786307606177,\n        \"min\": -52.8,\n        \"max\": 3004.8,\n        \"num_unique_values\": 1369,\n        \"samples\": [\n          19.24,\n          44.16\n        ],\n        \"semantic_type\": \"\",\n        \"description\": \"\"\n      }\n    },\n    {\n      \"column\": \"congestion_surcharge\",\n      \"properties\": {\n        \"dtype\": \"number\",\n        \"std\": 1.2047597382449229,\n        \"min\": -2.5,\n        \"max\": 2.5,\n        \"num_unique_values\": 3,\n        \"samples\": [\n          2.5,\n          0.0\n        ],\n        \"semantic_type\": \"\",\n        \"description\": \"\"\n      }\n    }\n  ]\n}"
            }
          },
          "metadata": {},
          "execution_count": 3
        }
      ],
      "source": [
        "import pandas as pd\n",
        "import glob\n",
        "\n",
        "df = pd.concat(map(lambda file: pd.read_csv(file), glob.glob(\"datasets/nyc_taxi/*.csv\")))\n",
        "df.head(5)"
      ]
    },
    {
      "cell_type": "markdown",
      "metadata": {
        "id": "ZMA9dkh05X7I"
      },
      "source": [
        "### Configurando Great Expectations\n",
        "\n",
        "En Great Expectations es necesario crear un contexto de datos para comenzar a trabajar. El contexto administra la configuración del proyecto en el que estamos trabajando. Los contextos de datos permiten reutilizar conjuntos de expectativas, orígenes de datos y puntos de control previamente configurados.\n",
        "\n",
        "El siguiente código crea un contexto en el directorio `/proyecto`:\n"
      ]
    },
    {
      "cell_type": "code",
      "execution_count": 4,
      "metadata": {
        "id": "2EtV996V5X7I"
      },
      "outputs": [],
      "source": [
        "import great_expectations as gx\n",
        "\n",
        "context = gx.get_context(mode=\"file\", project_root_dir=\"proyecto\")"
      ]
    },
    {
      "cell_type": "markdown",
      "metadata": {
        "id": "AzL7xfaM5X7J"
      },
      "source": [
        "Una vez creado, podemos obtener información al respecto:"
      ]
    },
    {
      "cell_type": "code",
      "execution_count": 5,
      "metadata": {
        "id": "B2tSf0NT5X7K",
        "colab": {
          "base_uri": "https://localhost:8080/"
        },
        "outputId": "765a4446-37a2-46cf-baf2-1a69b659614f"
      },
      "outputs": [
        {
          "output_type": "stream",
          "name": "stdout",
          "text": [
            "{\n",
            "  \"checkpoint_store_name\": \"checkpoint_store\",\n",
            "  \"config_variables_file_path\": \"uncommitted/config_variables.yml\",\n",
            "  \"config_version\": 4.0,\n",
            "  \"data_context_id\": \"c0a6adb8-2e0c-4dde-8083-569c9fba0969\",\n",
            "  \"data_docs_sites\": {\n",
            "    \"local_site\": {\n",
            "      \"class_name\": \"SiteBuilder\",\n",
            "      \"show_how_to_buttons\": true,\n",
            "      \"store_backend\": {\n",
            "        \"class_name\": \"TupleFilesystemStoreBackend\",\n",
            "        \"base_directory\": \"uncommitted/data_docs/local_site/\"\n",
            "      },\n",
            "      \"site_index_builder\": {\n",
            "        \"class_name\": \"DefaultSiteIndexBuilder\"\n",
            "      }\n",
            "    }\n",
            "  },\n",
            "  \"expectations_store_name\": \"expectations_store\",\n",
            "  \"fluent_datasources\": {},\n",
            "  \"plugins_directory\": \"plugins/\",\n",
            "  \"stores\": {\n",
            "    \"expectations_store\": {\n",
            "      \"class_name\": \"ExpectationsStore\",\n",
            "      \"store_backend\": {\n",
            "        \"class_name\": \"TupleFilesystemStoreBackend\",\n",
            "        \"base_directory\": \"expectations/\"\n",
            "      }\n",
            "    },\n",
            "    \"validation_results_store\": {\n",
            "      \"class_name\": \"ValidationResultsStore\",\n",
            "      \"store_backend\": {\n",
            "        \"class_name\": \"TupleFilesystemStoreBackend\",\n",
            "        \"base_directory\": \"uncommitted/validations/\"\n",
            "      }\n",
            "    },\n",
            "    \"checkpoint_store\": {\n",
            "      \"class_name\": \"CheckpointStore\",\n",
            "      \"store_backend\": {\n",
            "        \"class_name\": \"TupleFilesystemStoreBackend\",\n",
            "        \"suppress_store_backend_id\": true,\n",
            "        \"base_directory\": \"checkpoints/\"\n",
            "      }\n",
            "    },\n",
            "    \"validation_definition_store\": {\n",
            "      \"class_name\": \"ValidationDefinitionStore\",\n",
            "      \"store_backend\": {\n",
            "        \"class_name\": \"TupleFilesystemStoreBackend\",\n",
            "        \"base_directory\": \"validation_definitions/\"\n",
            "      }\n",
            "    }\n",
            "  },\n",
            "  \"validation_results_store_name\": \"validation_results_store\"\n",
            "}\n"
          ]
        }
      ],
      "source": [
        "print(context)"
      ]
    },
    {
      "cell_type": "markdown",
      "source": [
        "### Conectandose a origenes de datos\n",
        "\n",
        "Librerias empresariales suelen utilizar el concepto de fuente de datos para acceder a la información. Como vimos en adquisición de datos, existen multiples plataformas donde esta información puede residir. En general, debe familiarizarce con 3 ideas:\n",
        "\n",
        "1. Origen de datos\n",
        "2. Conjunto de datos\n",
        "3. Batch de datos\n",
        "\n",
        "Para este ejemplo, utilizaremos datos que se encuentran en un conjunto de datos en formato CSV.\n",
        "\n"
      ],
      "metadata": {
        "id": "ToXGSjhhwa_l"
      }
    },
    {
      "cell_type": "markdown",
      "source": [
        "Primero, defina los parámetros de la fuente de datos. La siguiente fuente de datos lee información de un directorio local llamado `datasets`. Otros origenes de datos podrían ser bases de datos de SQL o motores de datos como Spark."
      ],
      "metadata": {
        "id": "s0moS4Aew8sO"
      }
    },
    {
      "cell_type": "code",
      "source": [
        "source_folder = \"./datasets\"\n",
        "data_source_name = \"datasets\""
      ],
      "metadata": {
        "id": "LfRZK3Giwau0"
      },
      "execution_count": 6,
      "outputs": []
    },
    {
      "cell_type": "code",
      "source": [
        "data_source = context.data_sources.add_or_update_pandas_filesystem(\n",
        "    name=data_source_name, base_directory=source_folder\n",
        ")"
      ],
      "metadata": {
        "id": "JLtmN0B7xLMN"
      },
      "execution_count": 7,
      "outputs": []
    },
    {
      "cell_type": "markdown",
      "source": [
        "Luego, definamos un conjunto de datos dentro del origen:"
      ],
      "metadata": {
        "id": "7K9s60GkzlzC"
      }
    },
    {
      "cell_type": "code",
      "source": [
        "asset_name = \"nyc_taxi\"\n",
        "data_directory = \"./nyc_taxi/*.csv\""
      ],
      "metadata": {
        "id": "vb0sSDKbx0-_"
      },
      "execution_count": 8,
      "outputs": []
    },
    {
      "cell_type": "code",
      "source": [
        "directory_csv_asset = data_source.add_csv_asset(\n",
        "    name=asset_name, glob_directive=data_directory\n",
        ")"
      ],
      "metadata": {
        "id": "XfvQjtTFxWnz"
      },
      "execution_count": 9,
      "outputs": []
    },
    {
      "cell_type": "markdown",
      "source": [
        "Cuando los origenes de datos son grandes, leer los datos de forma cuidadosa es importante. Great Expectations usa la idea de sets de información (batch).\n",
        "\n",
        "Usted puede estar familiarizado con leer todos los datos de una sola vez cuando hace, por ejemplo, `pandas.read_csv`. Lo mismo lo podría hacer de la siguiente forma:"
      ],
      "metadata": {
        "id": "4qOuga9wz6eQ"
      }
    },
    {
      "cell_type": "code",
      "source": [
        "batch_definition = directory_csv_asset.add_batch_definition(\n",
        "    name=\"all_records\"\n",
        ")"
      ],
      "metadata": {
        "id": "P1HSDqQU0SGg"
      },
      "execution_count": 10,
      "outputs": []
    },
    {
      "cell_type": "code",
      "source": [
        "batch = batch_definition.get_batch()\n",
        "batch.head()"
      ],
      "metadata": {
        "colab": {
          "base_uri": "https://localhost:8080/",
          "height": 518,
          "referenced_widgets": [
            "c145453c2b6542ada3e59c669658b7c3",
            "1b27282f029e4b0f9eb6c5a00e02b11a",
            "3ee9e28628ba40baafc85064f6f3cd3e",
            "d116bc593bd44958a65b2bfded1b0947",
            "5fe2fce2639b471497f2dc8f9d93b955",
            "41a185a1337e4fa6b49d06c53d8af555",
            "61eb65e8d30e4bae96ae45748f8af980",
            "93d0cad115ff4966a9f274e8fd000d5d",
            "c25db094b899401895e0830445f24a1b",
            "6f1b8fdbed2549f1b9ba1f3ffd70652e",
            "8e371d7f17a94d5894af1dd8891d693a"
          ]
        },
        "id": "e2bl1GJb0iK0",
        "outputId": "4e9eaf3d-d6b5-4398-f97c-b11f5099e0a0"
      },
      "execution_count": 11,
      "outputs": [
        {
          "output_type": "display_data",
          "data": {
            "text/plain": [
              "Calculating Metrics:   0%|          | 0/1 [00:00<?, ?it/s]"
            ],
            "application/vnd.jupyter.widget-view+json": {
              "version_major": 2,
              "version_minor": 0,
              "model_id": "c145453c2b6542ada3e59c669658b7c3"
            }
          },
          "metadata": {}
        },
        {
          "output_type": "execute_result",
          "data": {
            "text/plain": [
              "   vendor_id      pickup_datetime     dropoff_datetime  passenger_count  \\\n",
              "0          1  2019-02-07 15:48:06  2019-02-07 16:00:40                2   \n",
              "1          2  2019-02-11 15:19:56  2019-02-11 15:40:10                1   \n",
              "2          2  2019-02-15 20:03:53  2019-02-15 20:08:34                1   \n",
              "3          2  2019-02-03 15:16:04  2019-02-03 15:21:49                1   \n",
              "4          2  2019-02-15 09:23:09  2019-02-15 09:42:51                6   \n",
              "\n",
              "   trip_distance  rate_code_id store_and_fwd_flag  pickup_location_id  \\\n",
              "0           1.30             1                  N                 234   \n",
              "1           2.37             1                  N                 161   \n",
              "2           0.48             1                  N                 237   \n",
              "3           0.64             1                  N                 100   \n",
              "4           2.56             1                  N                 114   \n",
              "\n",
              "   dropoff_location_id  payment_type  fare_amount  extra  mta_tax  tip_amount  \\\n",
              "0                  211             1          9.0    2.5      0.5        2.46   \n",
              "1                  249             1         14.0    0.0      0.5        3.46   \n",
              "2                  161             1          5.0    0.5      0.5        1.50   \n",
              "3                   48             1          5.5    0.0      0.5        1.76   \n",
              "4                  230             1         13.5    0.0      0.5        3.36   \n",
              "\n",
              "   tolls_amount  improvement_surcharge  total_amount  congestion_surcharge  \n",
              "0           0.0                    0.3         14.76                   2.5  \n",
              "1           0.0                    0.3         20.76                   2.5  \n",
              "2           0.0                    0.3         10.30                   2.5  \n",
              "3           0.0                    0.3         10.56                   2.5  \n",
              "4           0.0                    0.3         20.16                   2.5  "
            ]
          },
          "metadata": {},
          "execution_count": 11
        }
      ]
    },
    {
      "cell_type": "markdown",
      "source": [
        "En general, esta forma de leer datos no le parecerá con sentido alguno. Y es que Great Expectations diseña estas modalidades para cuando la lectura de datos tiene que ser mas cuidadosa. Por ejemplo, puede leer datos basado en:\n",
        "\n",
        "* Una partición de los datos, como un cliente, una provincia, o un pais.\n",
        "* Una fecha en particular o rango, incluyendo año, mes, dia, o tiempo.\n",
        "* Un directorio o estructura de directios en particular."
      ],
      "metadata": {
        "id": "tPzpZQcg0lDJ"
      }
    },
    {
      "cell_type": "markdown",
      "metadata": {
        "id": "l2dH92iv5X7K"
      },
      "source": [
        "### Diseñando expectativas"
      ]
    },
    {
      "cell_type": "markdown",
      "metadata": {
        "id": "YvomjyZm5X7L"
      },
      "source": [
        "Para diseñar nuestras expectativas, una de las formas más sencillas es realizarlo de forma interactiva, donde podemos ir validando las mismas a medida que las diseñamos:"
      ]
    },
    {
      "cell_type": "markdown",
      "metadata": {
        "id": "sy7UwKh_5X7M"
      },
      "source": [
        "Cuando ejecutamos una expectativa, se validará inmediatamente con el conjunto de datos. El objeto que devuelve este método contendrá el resultado y una lista de valores que no cumplen con la expectativa. Esta información nos ayuda a concentrarnos en datos que no esperamos tener muy rápidamente, eliminando muchas conjeturas de la exploración de datos.\n"
      ]
    },
    {
      "cell_type": "markdown",
      "metadata": {
        "id": "aXB_sDCY5X7N"
      },
      "source": [
        "La siguiente expectativa indica que la cantidad de pasajeros del viaje debe ser al menos 1."
      ]
    },
    {
      "cell_type": "code",
      "execution_count": 13,
      "metadata": {
        "id": "62oUCMgO5X7N"
      },
      "outputs": [],
      "source": [
        "preset_expectation = gx.expectations.ExpectColumnMaxToBeBetween(\n",
        "    column=\"passenger_count\", min_value=1\n",
        ")"
      ]
    },
    {
      "cell_type": "markdown",
      "source": [
        "Podemos validar una expectativa sobre un lote de datos, donde la misma a tenido éxito (`success=true`)"
      ],
      "metadata": {
        "id": "_M2NIpxD3o3Y"
      }
    },
    {
      "cell_type": "code",
      "source": [
        "batch.validate(preset_expectation)"
      ],
      "metadata": {
        "colab": {
          "base_uri": "https://localhost:8080/",
          "height": 414,
          "referenced_widgets": [
            "56facd34bd384b27ba19ce7e9ec246be",
            "89afcdda846b448bbe2f486b6e6e13f4",
            "8175274d70534f9dbc6ee179e046a643",
            "a7ab079b5f6a48cc96b1fbf929d4e0f7",
            "d8b584f09a8a433abb5635d95ac66e8e",
            "2ea79feb44084a9d9a564f9da991004e",
            "d7cdadc069604057a0a2df62b3930d51",
            "91783a7b1ffb436bb8784aa387c4d4d4",
            "b7337269a6e8449191315220fbcd4e1e",
            "9ad337ce18ff4fdf905c6b9bb13f32df",
            "287c4a0b323a4793ade6dc949d8759f4"
          ]
        },
        "id": "px2J8rgm2FPY",
        "outputId": "e23e4bcb-df41-42b4-f139-35626a5a77a1"
      },
      "execution_count": 14,
      "outputs": [
        {
          "output_type": "display_data",
          "data": {
            "text/plain": [
              "Calculating Metrics:   0%|          | 0/4 [00:00<?, ?it/s]"
            ],
            "application/vnd.jupyter.widget-view+json": {
              "version_major": 2,
              "version_minor": 0,
              "model_id": "56facd34bd384b27ba19ce7e9ec246be"
            }
          },
          "metadata": {}
        },
        {
          "output_type": "execute_result",
          "data": {
            "text/plain": [
              "{\n",
              "  \"success\": true,\n",
              "  \"expectation_config\": {\n",
              "    \"type\": \"expect_column_max_to_be_between\",\n",
              "    \"kwargs\": {\n",
              "      \"batch_id\": \"datasets-nyc_taxi\",\n",
              "      \"column\": \"passenger_count\",\n",
              "      \"min_value\": 1.0\n",
              "    },\n",
              "    \"meta\": {}\n",
              "  },\n",
              "  \"result\": {\n",
              "    \"observed_value\": 6\n",
              "  },\n",
              "  \"meta\": {},\n",
              "  \"exception_info\": {\n",
              "    \"raised_exception\": false,\n",
              "    \"exception_traceback\": null,\n",
              "    \"exception_message\": null\n",
              "  }\n",
              "}"
            ]
          },
          "metadata": {},
          "execution_count": 14
        }
      ]
    },
    {
      "cell_type": "markdown",
      "source": [
        "Modifiquemos la expectativa e indiquemos que la cantidad máxima de pasajeros es 6:"
      ],
      "metadata": {
        "id": "sMGGN-F-4izv"
      }
    },
    {
      "cell_type": "code",
      "source": [
        "preset_expectation = gx.expectations.ExpectColumnMaxToBeBetween(\n",
        "    column=\"passenger_count\", min_value=1, max_value=6\n",
        ")"
      ],
      "metadata": {
        "id": "j7NR_9_34hRM"
      },
      "execution_count": 15,
      "outputs": []
    },
    {
      "cell_type": "code",
      "source": [
        "batch.validate(preset_expectation)"
      ],
      "metadata": {
        "colab": {
          "base_uri": "https://localhost:8080/",
          "height": 431,
          "referenced_widgets": [
            "58cbb18b4a284534a6160f9dfcdf7b12",
            "5f45b9be9bf4430a9f7a5fcb41cd7717",
            "3ff5adc6bbc44e0a82cfebc2871747e2",
            "70a7e6fa470d4d238e94780c3555559c",
            "0a23d432519b4178a78bd21767fef971",
            "fff5939e52544bee8292cfb48f8c1323",
            "d4bdb0cb4d4c4fb783ed005bb6c1e833",
            "121f22ea6d894a8c8725f1be03a6b7da",
            "e1b1764c19d44b8783019a758a297656",
            "5f67511960e9460cb18951c79bfa327e",
            "17ff3b0ae6514943b8cba77d8eef3be6"
          ]
        },
        "id": "GHo42t0P4qt7",
        "outputId": "7c2446df-2264-42d9-d5b2-79366d50accb"
      },
      "execution_count": 16,
      "outputs": [
        {
          "output_type": "display_data",
          "data": {
            "text/plain": [
              "Calculating Metrics:   0%|          | 0/4 [00:00<?, ?it/s]"
            ],
            "application/vnd.jupyter.widget-view+json": {
              "version_major": 2,
              "version_minor": 0,
              "model_id": "58cbb18b4a284534a6160f9dfcdf7b12"
            }
          },
          "metadata": {}
        },
        {
          "output_type": "execute_result",
          "data": {
            "text/plain": [
              "{\n",
              "  \"success\": true,\n",
              "  \"expectation_config\": {\n",
              "    \"type\": \"expect_column_max_to_be_between\",\n",
              "    \"kwargs\": {\n",
              "      \"batch_id\": \"datasets-nyc_taxi\",\n",
              "      \"column\": \"passenger_count\",\n",
              "      \"min_value\": 1.0,\n",
              "      \"max_value\": 6.0\n",
              "    },\n",
              "    \"meta\": {}\n",
              "  },\n",
              "  \"result\": {\n",
              "    \"observed_value\": 6\n",
              "  },\n",
              "  \"meta\": {},\n",
              "  \"exception_info\": {\n",
              "    \"raised_exception\": false,\n",
              "    \"exception_traceback\": null,\n",
              "    \"exception_message\": null\n",
              "  }\n",
              "}"
            ]
          },
          "metadata": {},
          "execution_count": 16
        }
      ]
    },
    {
      "cell_type": "markdown",
      "metadata": {
        "id": "pbEIFg_A5X7O"
      },
      "source": [
        "Es común encontrar problemas de datos donde no es necesario garantizar el 100% de adherencia. En estos casos, considere usar un parámetro `mostly`. Este parámetro es una opción para todas las Expectativas y permite controlar el nivel de margen tolerancia en el que la expectativa podría no cumplirse. Mire como en el próximo ejemplo, el parametro `mostly` hace que la expecativa retorne `true` en la propiedad `success`:"
      ]
    },
    {
      "cell_type": "code",
      "execution_count": 21,
      "metadata": {
        "id": "sKkP3LrL5X7O"
      },
      "outputs": [],
      "source": [
        "preset_expectation = gx.expectations.ExpectColumnValuesToNotBeNull(\n",
        "    column=\"vendor_id\", mostly=0.9\n",
        ")"
      ]
    },
    {
      "cell_type": "code",
      "source": [
        "batch.validate(preset_expectation)"
      ],
      "metadata": {
        "id": "_Y2hxwsRIPAN",
        "outputId": "60546d51-be1c-4b8f-9b14-503937f3dda2",
        "colab": {
          "base_uri": "https://localhost:8080/",
          "height": 500,
          "referenced_widgets": [
            "42f0d8a9c064448ea64c2a7d591c80a1",
            "e1b616267747426a9f1d2ffbd6ce4100",
            "9ec8c460708846fdbe647e1db54b657e",
            "89b4d2d268f54e96815ab610790c4849",
            "145283dd5b394bd8a57aa829f712a90b",
            "1f85455b91d444209bc060feaeebd4f4",
            "a1253189013e45178e3a31d0d744cd5c",
            "f20cd39eeb434e428fe5d7bacf8f2b7f",
            "d3253c4540fa47ddb4751e103bbe730d",
            "5189fa08675841ceb5e0027c689fafac",
            "3bc045db3d6b4c45a20e433e7054ee6f"
          ]
        }
      },
      "execution_count": 22,
      "outputs": [
        {
          "output_type": "display_data",
          "data": {
            "text/plain": [
              "Calculating Metrics:   0%|          | 0/8 [00:00<?, ?it/s]"
            ],
            "application/vnd.jupyter.widget-view+json": {
              "version_major": 2,
              "version_minor": 0,
              "model_id": "42f0d8a9c064448ea64c2a7d591c80a1"
            }
          },
          "metadata": {}
        },
        {
          "output_type": "execute_result",
          "data": {
            "text/plain": [
              "{\n",
              "  \"success\": true,\n",
              "  \"expectation_config\": {\n",
              "    \"type\": \"expect_column_values_to_not_be_null\",\n",
              "    \"kwargs\": {\n",
              "      \"batch_id\": \"datasets-nyc_taxi\",\n",
              "      \"column\": \"vendor_id\",\n",
              "      \"mostly\": 0.9\n",
              "    },\n",
              "    \"meta\": {}\n",
              "  },\n",
              "  \"result\": {\n",
              "    \"element_count\": 10000,\n",
              "    \"unexpected_count\": 0,\n",
              "    \"unexpected_percent\": 0.0,\n",
              "    \"partial_unexpected_list\": [],\n",
              "    \"partial_unexpected_counts\": [],\n",
              "    \"partial_unexpected_index_list\": []\n",
              "  },\n",
              "  \"meta\": {},\n",
              "  \"exception_info\": {\n",
              "    \"raised_exception\": false,\n",
              "    \"exception_traceback\": null,\n",
              "    \"exception_message\": null\n",
              "  }\n",
              "}"
            ]
          },
          "metadata": {},
          "execution_count": 22
        }
      ]
    },
    {
      "cell_type": "markdown",
      "metadata": {
        "id": "zAAgIy8L5X7O"
      },
      "source": [
        "Podemos también agregar documentación a nuestras expectativas para futura referencia:"
      ]
    },
    {
      "cell_type": "code",
      "execution_count": 24,
      "metadata": {
        "id": "JhuxOEmr5X7P"
      },
      "outputs": [],
      "source": [
        "preset_expectation = gx.expectations.ExpectColumnMaxToBeBetween(\n",
        "    column=\"passenger_count\", min_value=1, max_value=6,\n",
        "    meta = {\n",
        "        \"notes\": {\n",
        "            \"content\": [ \"Todos los viajes deben tener al menos un pasajero.\" ],\n",
        "            \"format\": \"markdown\",\n",
        "            \"source\": \"expectations\"\n",
        "        }\n",
        "    }\n",
        ")"
      ]
    },
    {
      "cell_type": "markdown",
      "metadata": {
        "id": "C0irQlH35X7P"
      },
      "source": [
        "Podemos crear expectativas dentro de una suite, que luego se ejecuten todas al mismo tiempo."
      ]
    },
    {
      "cell_type": "code",
      "source": [
        "expectation_suite_name = 'yellow_tripdata_sample_quality'\n",
        "suite = gx.ExpectationSuite(name=expectation_suite_name)"
      ],
      "metadata": {
        "id": "VPakNTUqLi6h"
      },
      "execution_count": null,
      "outputs": []
    },
    {
      "cell_type": "code",
      "execution_count": 28,
      "metadata": {
        "colab": {
          "base_uri": "https://localhost:8080/"
        },
        "id": "JzfC1WPn5X7P",
        "outputId": "490a9eb2-b707-4c61-8cde-800ffb547b3f"
      },
      "outputs": [
        {
          "output_type": "stream",
          "name": "stdout",
          "text": [
            "Listo\n"
          ]
        }
      ],
      "source": [
        "suite.add_expectation(gx.expectations.ExpectColumnValuesToBeInSet(column=\"store_and_fwd_flag\", value_set=['Y', 'N'],\n",
        "                                        meta = {\n",
        "                                            \"notes\": {\n",
        "                                               \"content\": [ \"Acepta valores de Si y No.\" ],\n",
        "                                               \"format\": \"markdown\",\n",
        "                                               \"source\": \"expectations\"\n",
        "                                            }\n",
        "                                        }))\n",
        "suite.add_expectation(gx.expectations.ExpectColumnValuesToBeInSet(column=\"payment_type\", value_set=[1, 2, 3, 4],\n",
        "                                        meta = {\n",
        "                                            \"notes\": {\n",
        "                                               \"content\": [ \"Solo formas de pago 1, 2, 3, y 5 son validas\" ],\n",
        "                                               \"format\": \"markdown\",\n",
        "                                               \"source\": \"expectations\"\n",
        "                                            }\n",
        "                                        }))\n",
        "suite.add_expectation(gx.expectations.ExpectColumnPairValuesAToBeGreaterThanB(column_A=\"dropoff_datetime\",\n",
        "                                                        column_B=\"pickup_datetime\",\n",
        "                                                        or_equal=True,\n",
        "                                                        meta = {\n",
        "                                                          \"notes\": {\n",
        "                                                              \"content\": [ \"Las fechas de inicio y fin de viaje deben coincidir.\" ],\n",
        "                                                              \"format\": \"markdown\",\n",
        "                                                              \"source\": \"expectations\"\n",
        "                                                          }\n",
        "                                                        })\n",
        ")\n",
        "\n",
        "print(\"Listo\")"
      ]
    },
    {
      "cell_type": "code",
      "source": [
        "suite = context.suites.add_or_update(suite)\n",
        "suite.save()"
      ],
      "metadata": {
        "id": "27FQzLkFMEij"
      },
      "execution_count": 31,
      "outputs": []
    },
    {
      "cell_type": "markdown",
      "source": [
        "### Validadores\n",
        "\n",
        "Los validadores le permite configurar una determinada suite sobre un conjunto de datos en particular."
      ],
      "metadata": {
        "id": "QP9v9-wDMXU0"
      }
    },
    {
      "cell_type": "code",
      "source": [
        "definition_name = \"my_validation_definition\"\n",
        "validation_definition = gx.ValidationDefinition(\n",
        "    data=batch_definition, suite=suite, name=definition_name\n",
        ")"
      ],
      "metadata": {
        "id": "BhQ6CXwVMe0O"
      },
      "execution_count": 32,
      "outputs": []
    },
    {
      "cell_type": "markdown",
      "source": [
        "Guardemos el validador en el contexto:"
      ],
      "metadata": {
        "id": "aquqcmPlMk13"
      }
    },
    {
      "cell_type": "code",
      "source": [
        "validation_definition = context.validation_definitions.add(validation_definition)"
      ],
      "metadata": {
        "id": "Qy36BPFYMi0G"
      },
      "execution_count": null,
      "outputs": []
    },
    {
      "cell_type": "markdown",
      "source": [
        "Ejecutemos el validador:"
      ],
      "metadata": {
        "id": "5fcME3MWMrYZ"
      }
    },
    {
      "cell_type": "code",
      "source": [
        "validation_results = validation_definition.run()"
      ],
      "metadata": {
        "id": "eIen7e8jMszS",
        "outputId": "785d1e20-643c-4ed3-8feb-bebcab0d778c",
        "colab": {
          "base_uri": "https://localhost:8080/",
          "height": 49,
          "referenced_widgets": [
            "dcaa10a74f70478f8dd5a4ecb4058dc7",
            "4f3c783874474d349841e624a8e1e990",
            "3ff798fdd4224018a87e9f8f46077064",
            "7be30a2409ce4a0e8ad16b615c074c06",
            "d66c79139dcb4db7bc1d9eed097d2b7a",
            "1728d96ff12146f1b57b1554bb487ab1",
            "69fa5082aab847be9f68aef797fe249d",
            "a83d20ba2900402e8c3eb6ff4e88c709",
            "ea61b8a3d6664cdb8d426f17ae0a38ed",
            "c82df6e108ed41c0a08cfc5674baf62f",
            "7574007aad344ae0aa0b74e233b1414c"
          ]
        }
      },
      "execution_count": 33,
      "outputs": [
        {
          "output_type": "display_data",
          "data": {
            "text/plain": [
              "Calculating Metrics:   0%|          | 0/26 [00:00<?, ?it/s]"
            ],
            "application/vnd.jupyter.widget-view+json": {
              "version_major": 2,
              "version_minor": 0,
              "model_id": "dcaa10a74f70478f8dd5a4ecb4058dc7"
            }
          },
          "metadata": {}
        }
      ]
    },
    {
      "cell_type": "code",
      "source": [
        "print(validation_results)"
      ],
      "metadata": {
        "id": "qLntSJ6yMwe5",
        "outputId": "2591975f-71bb-49c3-d643-20af8d544472",
        "colab": {
          "base_uri": "https://localhost:8080/"
        }
      },
      "execution_count": 35,
      "outputs": [
        {
          "output_type": "stream",
          "name": "stdout",
          "text": [
            "{\n",
            "  \"success\": true,\n",
            "  \"results\": [\n",
            "    {\n",
            "      \"success\": true,\n",
            "      \"expectation_config\": {\n",
            "        \"type\": \"expect_column_values_to_be_in_set\",\n",
            "        \"kwargs\": {\n",
            "          \"batch_id\": \"datasets-nyc_taxi\",\n",
            "          \"column\": \"store_and_fwd_flag\",\n",
            "          \"value_set\": [\n",
            "            \"Y\",\n",
            "            \"N\"\n",
            "          ]\n",
            "        },\n",
            "        \"meta\": {\n",
            "          \"notes\": {\n",
            "            \"content\": [\n",
            "              \"Acepta valores de Si y No.\"\n",
            "            ],\n",
            "            \"format\": \"markdown\",\n",
            "            \"source\": \"expectations\"\n",
            "          }\n",
            "        },\n",
            "        \"id\": \"83065803-b50c-4cde-ad79-a975e7213c29\"\n",
            "      },\n",
            "      \"result\": {\n",
            "        \"element_count\": 10000,\n",
            "        \"unexpected_count\": 0,\n",
            "        \"unexpected_percent\": 0.0,\n",
            "        \"partial_unexpected_list\": [],\n",
            "        \"missing_count\": 0,\n",
            "        \"missing_percent\": 0.0,\n",
            "        \"unexpected_percent_total\": 0.0,\n",
            "        \"unexpected_percent_nonmissing\": 0.0,\n",
            "        \"partial_unexpected_counts\": [],\n",
            "        \"partial_unexpected_index_list\": []\n",
            "      },\n",
            "      \"meta\": {},\n",
            "      \"exception_info\": {\n",
            "        \"raised_exception\": false,\n",
            "        \"exception_traceback\": null,\n",
            "        \"exception_message\": null\n",
            "      }\n",
            "    },\n",
            "    {\n",
            "      \"success\": true,\n",
            "      \"expectation_config\": {\n",
            "        \"type\": \"expect_column_values_to_be_in_set\",\n",
            "        \"kwargs\": {\n",
            "          \"batch_id\": \"datasets-nyc_taxi\",\n",
            "          \"column\": \"payment_type\",\n",
            "          \"value_set\": [\n",
            "            1,\n",
            "            2,\n",
            "            3,\n",
            "            4\n",
            "          ]\n",
            "        },\n",
            "        \"meta\": {\n",
            "          \"notes\": {\n",
            "            \"content\": [\n",
            "              \"Solo formas de pago 1, 2, 3, y 5 son validas\"\n",
            "            ],\n",
            "            \"format\": \"markdown\",\n",
            "            \"source\": \"expectations\"\n",
            "          }\n",
            "        },\n",
            "        \"id\": \"99afda73-92e4-4865-9d1d-1ca8556da0b2\"\n",
            "      },\n",
            "      \"result\": {\n",
            "        \"element_count\": 10000,\n",
            "        \"unexpected_count\": 0,\n",
            "        \"unexpected_percent\": 0.0,\n",
            "        \"partial_unexpected_list\": [],\n",
            "        \"missing_count\": 0,\n",
            "        \"missing_percent\": 0.0,\n",
            "        \"unexpected_percent_total\": 0.0,\n",
            "        \"unexpected_percent_nonmissing\": 0.0,\n",
            "        \"partial_unexpected_counts\": [],\n",
            "        \"partial_unexpected_index_list\": []\n",
            "      },\n",
            "      \"meta\": {},\n",
            "      \"exception_info\": {\n",
            "        \"raised_exception\": false,\n",
            "        \"exception_traceback\": null,\n",
            "        \"exception_message\": null\n",
            "      }\n",
            "    },\n",
            "    {\n",
            "      \"success\": true,\n",
            "      \"expectation_config\": {\n",
            "        \"type\": \"expect_column_pair_values_a_to_be_greater_than_b\",\n",
            "        \"kwargs\": {\n",
            "          \"batch_id\": \"datasets-nyc_taxi\",\n",
            "          \"column_A\": \"dropoff_datetime\",\n",
            "          \"column_B\": \"pickup_datetime\",\n",
            "          \"or_equal\": true\n",
            "        },\n",
            "        \"meta\": {\n",
            "          \"notes\": {\n",
            "            \"content\": [\n",
            "              \"Las fechas de inicio y fin de viaje deben coincidir.\"\n",
            "            ],\n",
            "            \"format\": \"markdown\",\n",
            "            \"source\": \"expectations\"\n",
            "          }\n",
            "        },\n",
            "        \"id\": \"ea2514d7-727e-4281-9abd-f0542ebdf878\"\n",
            "      },\n",
            "      \"result\": {\n",
            "        \"element_count\": 10000,\n",
            "        \"unexpected_count\": 0,\n",
            "        \"unexpected_percent\": 0.0,\n",
            "        \"partial_unexpected_list\": [],\n",
            "        \"missing_count\": 0,\n",
            "        \"missing_percent\": 0.0,\n",
            "        \"unexpected_percent_total\": 0.0,\n",
            "        \"unexpected_percent_nonmissing\": 0.0,\n",
            "        \"partial_unexpected_counts\": [],\n",
            "        \"partial_unexpected_index_list\": []\n",
            "      },\n",
            "      \"meta\": {},\n",
            "      \"exception_info\": {\n",
            "        \"raised_exception\": false,\n",
            "        \"exception_traceback\": null,\n",
            "        \"exception_message\": null\n",
            "      }\n",
            "    }\n",
            "  ],\n",
            "  \"suite_name\": \"yellow_tripdata_sample_quality\",\n",
            "  \"suite_parameters\": {},\n",
            "  \"statistics\": {\n",
            "    \"evaluated_expectations\": 3,\n",
            "    \"successful_expectations\": 3,\n",
            "    \"unsuccessful_expectations\": 0,\n",
            "    \"success_percent\": 100.0\n",
            "  },\n",
            "  \"meta\": {\n",
            "    \"great_expectations_version\": \"1.5.0\",\n",
            "    \"batch_spec\": {\n",
            "      \"path\": \"datasets/nyc_taxi/yellow_tripdata_sample_2019-02.csv\",\n",
            "      \"reader_method\": \"read_csv\",\n",
            "      \"reader_options\": {}\n",
            "    },\n",
            "    \"batch_markers\": {\n",
            "      \"ge_load_time\": \"20250609T193750.726883Z\",\n",
            "      \"pandas_data_fingerprint\": \"88b447d903f05fb594b87b13de399e45\"\n",
            "    },\n",
            "    \"active_batch_definition\": {\n",
            "      \"datasource_name\": \"datasets\",\n",
            "      \"data_connector_name\": \"fluent\",\n",
            "      \"data_asset_name\": \"nyc_taxi\",\n",
            "      \"batch_identifiers\": {\n",
            "        \"path\": \"nyc_taxi/yellow_tripdata_sample_2019-02.csv\"\n",
            "      },\n",
            "      \"batching_regex\": \"(?P<path>.*)\"\n",
            "    },\n",
            "    \"validation_id\": \"a798f47f-fa72-457a-9083-ab77057e8823\",\n",
            "    \"checkpoint_id\": null,\n",
            "    \"run_id\": {\n",
            "      \"run_name\": null,\n",
            "      \"run_time\": \"2025-06-09T19:37:51.090303+00:00\"\n",
            "    },\n",
            "    \"validation_time\": \"2025-06-09T19:37:51.090303+00:00\",\n",
            "    \"batch_parameters\": null\n",
            "  },\n",
            "  \"id\": null\n",
            "}\n"
          ]
        }
      ]
    },
    {
      "cell_type": "markdown",
      "metadata": {
        "id": "oJNjsMmi5X7Z"
      },
      "source": [
        "### Construyendo la documentación de expectativas"
      ]
    },
    {
      "cell_type": "markdown",
      "metadata": {
        "id": "6PrOnjLx5X7Z"
      },
      "source": [
        "Una forma más amena de explorar estas expectativas es construyendo su documentación. Esta documentación se genera automáticamente leyendo las expectativas de los datos que se generaron. Esto es una excelente forma de comunicar a los diferentes equipos de la organización lo que pueden esperar de estos datos:"
      ]
    },
    {
      "cell_type": "markdown",
      "source": [
        "Configure la generación del sitio. Cambie el parametro `base_directory` con el directorio donde desea guardar los archivos:"
      ],
      "metadata": {
        "id": "vokfWLHdOEJe"
      }
    },
    {
      "cell_type": "code",
      "source": [
        "site_name = \"NYCTaxi\"\n",
        "site_config = {\n",
        "    \"class_name\": \"SiteBuilder\",\n",
        "    \"site_index_builder\": {\"class_name\": \"DefaultSiteIndexBuilder\"},\n",
        "    \"store_backend\": {\n",
        "        \"class_name\": \"TupleFilesystemStoreBackend\",\n",
        "        \"base_directory\": \"docs\",\n",
        "    },\n",
        "}"
      ],
      "metadata": {
        "id": "dU_DRMo3NzMU"
      },
      "execution_count": 44,
      "outputs": []
    },
    {
      "cell_type": "markdown",
      "source": [
        "Agregue la configuración:"
      ],
      "metadata": {
        "id": "Vx0qtwByOVTS"
      }
    },
    {
      "cell_type": "code",
      "source": [
        "context.add_data_docs_site(site_name=site_name, site_config=site_config)"
      ],
      "metadata": {
        "id": "qjSpGZLeN6Im"
      },
      "execution_count": 47,
      "outputs": []
    },
    {
      "cell_type": "markdown",
      "source": [
        "Cree el sitio:"
      ],
      "metadata": {
        "id": "IdlQgd8rOXfM"
      }
    },
    {
      "cell_type": "code",
      "execution_count": 48,
      "metadata": {
        "colab": {
          "base_uri": "https://localhost:8080/"
        },
        "id": "pSDf2M1M5X7Z",
        "outputId": "ad86cc3e-ed24-4936-9ab3-26fceb78b575"
      },
      "outputs": [
        {
          "output_type": "execute_result",
          "data": {
            "text/plain": [
              "{'NYCTaxi': 'file:///content/proyecto/gx/docs/index.html'}"
            ]
          },
          "metadata": {},
          "execution_count": 48
        }
      ],
      "source": [
        "context.build_data_docs(site_names=site_name)"
      ]
    },
    {
      "cell_type": "markdown",
      "source": [
        "Puede abrir el sitio web en su navegador o agregarlo al repositorio de código con el que esté trabajando. Si está trabajando en Google Colab, descargue el contenido de la carpeta `/content/proyecto/gx/docs`"
      ],
      "metadata": {
        "id": "wvTddgoXOZRX"
      }
    },
    {
      "cell_type": "code",
      "source": [
        "context.open_data_docs()"
      ],
      "metadata": {
        "id": "glp0Mo96Nr4K"
      },
      "execution_count": 43,
      "outputs": []
    },
    {
      "cell_type": "markdown",
      "metadata": {
        "id": "MjSXREAA5X7a"
      },
      "source": [
        "Por ejemplo, la siguiente documentación se genera automáticamente:\n",
        "\n",
        "![Sample](https://raw.githubusercontent.com/santiagxf/E72102/main/docs/develop/_images/prep_ge_sample.png)"
      ]
    }
  ],
  "metadata": {
    "interpreter": {
      "hash": "bea38c2984299ac640e8421861d34b2e05ee614f6236d2975c05eeb77366835f"
    },
    "kernelspec": {
      "display_name": "Python 3",
      "language": "python",
      "name": "python3"
    },
    "language_info": {
      "codemirror_mode": {
        "name": "ipython",
        "version": 3
      },
      "file_extension": ".py",
      "mimetype": "text/x-python",
      "name": "python",
      "nbconvert_exporter": "python",
      "pygments_lexer": "ipython3",
      "version": "3.8.11"
    },
    "colab": {
      "name": "expectations.ipynb",
      "provenance": []
    },
    "widgets": {
      "application/vnd.jupyter.widget-state+json": {
        "c145453c2b6542ada3e59c669658b7c3": {
          "model_module": "@jupyter-widgets/controls",
          "model_name": "HBoxModel",
          "model_module_version": "1.5.0",
          "state": {
            "_dom_classes": [],
            "_model_module": "@jupyter-widgets/controls",
            "_model_module_version": "1.5.0",
            "_model_name": "HBoxModel",
            "_view_count": null,
            "_view_module": "@jupyter-widgets/controls",
            "_view_module_version": "1.5.0",
            "_view_name": "HBoxView",
            "box_style": "",
            "children": [
              "IPY_MODEL_1b27282f029e4b0f9eb6c5a00e02b11a",
              "IPY_MODEL_3ee9e28628ba40baafc85064f6f3cd3e",
              "IPY_MODEL_d116bc593bd44958a65b2bfded1b0947"
            ],
            "layout": "IPY_MODEL_5fe2fce2639b471497f2dc8f9d93b955"
          }
        },
        "1b27282f029e4b0f9eb6c5a00e02b11a": {
          "model_module": "@jupyter-widgets/controls",
          "model_name": "HTMLModel",
          "model_module_version": "1.5.0",
          "state": {
            "_dom_classes": [],
            "_model_module": "@jupyter-widgets/controls",
            "_model_module_version": "1.5.0",
            "_model_name": "HTMLModel",
            "_view_count": null,
            "_view_module": "@jupyter-widgets/controls",
            "_view_module_version": "1.5.0",
            "_view_name": "HTMLView",
            "description": "",
            "description_tooltip": null,
            "layout": "IPY_MODEL_41a185a1337e4fa6b49d06c53d8af555",
            "placeholder": "​",
            "style": "IPY_MODEL_61eb65e8d30e4bae96ae45748f8af980",
            "value": "Calculating Metrics: 100%"
          }
        },
        "3ee9e28628ba40baafc85064f6f3cd3e": {
          "model_module": "@jupyter-widgets/controls",
          "model_name": "FloatProgressModel",
          "model_module_version": "1.5.0",
          "state": {
            "_dom_classes": [],
            "_model_module": "@jupyter-widgets/controls",
            "_model_module_version": "1.5.0",
            "_model_name": "FloatProgressModel",
            "_view_count": null,
            "_view_module": "@jupyter-widgets/controls",
            "_view_module_version": "1.5.0",
            "_view_name": "ProgressView",
            "bar_style": "success",
            "description": "",
            "description_tooltip": null,
            "layout": "IPY_MODEL_93d0cad115ff4966a9f274e8fd000d5d",
            "max": 1,
            "min": 0,
            "orientation": "horizontal",
            "style": "IPY_MODEL_c25db094b899401895e0830445f24a1b",
            "value": 1
          }
        },
        "d116bc593bd44958a65b2bfded1b0947": {
          "model_module": "@jupyter-widgets/controls",
          "model_name": "HTMLModel",
          "model_module_version": "1.5.0",
          "state": {
            "_dom_classes": [],
            "_model_module": "@jupyter-widgets/controls",
            "_model_module_version": "1.5.0",
            "_model_name": "HTMLModel",
            "_view_count": null,
            "_view_module": "@jupyter-widgets/controls",
            "_view_module_version": "1.5.0",
            "_view_name": "HTMLView",
            "description": "",
            "description_tooltip": null,
            "layout": "IPY_MODEL_6f1b8fdbed2549f1b9ba1f3ffd70652e",
            "placeholder": "​",
            "style": "IPY_MODEL_8e371d7f17a94d5894af1dd8891d693a",
            "value": " 1/1 [00:00&lt;00:00, 30.41it/s]"
          }
        },
        "5fe2fce2639b471497f2dc8f9d93b955": {
          "model_module": "@jupyter-widgets/base",
          "model_name": "LayoutModel",
          "model_module_version": "1.2.0",
          "state": {
            "_model_module": "@jupyter-widgets/base",
            "_model_module_version": "1.2.0",
            "_model_name": "LayoutModel",
            "_view_count": null,
            "_view_module": "@jupyter-widgets/base",
            "_view_module_version": "1.2.0",
            "_view_name": "LayoutView",
            "align_content": null,
            "align_items": null,
            "align_self": null,
            "border": null,
            "bottom": null,
            "display": null,
            "flex": null,
            "flex_flow": null,
            "grid_area": null,
            "grid_auto_columns": null,
            "grid_auto_flow": null,
            "grid_auto_rows": null,
            "grid_column": null,
            "grid_gap": null,
            "grid_row": null,
            "grid_template_areas": null,
            "grid_template_columns": null,
            "grid_template_rows": null,
            "height": null,
            "justify_content": null,
            "justify_items": null,
            "left": null,
            "margin": null,
            "max_height": null,
            "max_width": null,
            "min_height": null,
            "min_width": null,
            "object_fit": null,
            "object_position": null,
            "order": null,
            "overflow": null,
            "overflow_x": null,
            "overflow_y": null,
            "padding": null,
            "right": null,
            "top": null,
            "visibility": null,
            "width": null
          }
        },
        "41a185a1337e4fa6b49d06c53d8af555": {
          "model_module": "@jupyter-widgets/base",
          "model_name": "LayoutModel",
          "model_module_version": "1.2.0",
          "state": {
            "_model_module": "@jupyter-widgets/base",
            "_model_module_version": "1.2.0",
            "_model_name": "LayoutModel",
            "_view_count": null,
            "_view_module": "@jupyter-widgets/base",
            "_view_module_version": "1.2.0",
            "_view_name": "LayoutView",
            "align_content": null,
            "align_items": null,
            "align_self": null,
            "border": null,
            "bottom": null,
            "display": null,
            "flex": null,
            "flex_flow": null,
            "grid_area": null,
            "grid_auto_columns": null,
            "grid_auto_flow": null,
            "grid_auto_rows": null,
            "grid_column": null,
            "grid_gap": null,
            "grid_row": null,
            "grid_template_areas": null,
            "grid_template_columns": null,
            "grid_template_rows": null,
            "height": null,
            "justify_content": null,
            "justify_items": null,
            "left": null,
            "margin": null,
            "max_height": null,
            "max_width": null,
            "min_height": null,
            "min_width": null,
            "object_fit": null,
            "object_position": null,
            "order": null,
            "overflow": null,
            "overflow_x": null,
            "overflow_y": null,
            "padding": null,
            "right": null,
            "top": null,
            "visibility": null,
            "width": null
          }
        },
        "61eb65e8d30e4bae96ae45748f8af980": {
          "model_module": "@jupyter-widgets/controls",
          "model_name": "DescriptionStyleModel",
          "model_module_version": "1.5.0",
          "state": {
            "_model_module": "@jupyter-widgets/controls",
            "_model_module_version": "1.5.0",
            "_model_name": "DescriptionStyleModel",
            "_view_count": null,
            "_view_module": "@jupyter-widgets/base",
            "_view_module_version": "1.2.0",
            "_view_name": "StyleView",
            "description_width": ""
          }
        },
        "93d0cad115ff4966a9f274e8fd000d5d": {
          "model_module": "@jupyter-widgets/base",
          "model_name": "LayoutModel",
          "model_module_version": "1.2.0",
          "state": {
            "_model_module": "@jupyter-widgets/base",
            "_model_module_version": "1.2.0",
            "_model_name": "LayoutModel",
            "_view_count": null,
            "_view_module": "@jupyter-widgets/base",
            "_view_module_version": "1.2.0",
            "_view_name": "LayoutView",
            "align_content": null,
            "align_items": null,
            "align_self": null,
            "border": null,
            "bottom": null,
            "display": null,
            "flex": null,
            "flex_flow": null,
            "grid_area": null,
            "grid_auto_columns": null,
            "grid_auto_flow": null,
            "grid_auto_rows": null,
            "grid_column": null,
            "grid_gap": null,
            "grid_row": null,
            "grid_template_areas": null,
            "grid_template_columns": null,
            "grid_template_rows": null,
            "height": null,
            "justify_content": null,
            "justify_items": null,
            "left": null,
            "margin": null,
            "max_height": null,
            "max_width": null,
            "min_height": null,
            "min_width": null,
            "object_fit": null,
            "object_position": null,
            "order": null,
            "overflow": null,
            "overflow_x": null,
            "overflow_y": null,
            "padding": null,
            "right": null,
            "top": null,
            "visibility": null,
            "width": null
          }
        },
        "c25db094b899401895e0830445f24a1b": {
          "model_module": "@jupyter-widgets/controls",
          "model_name": "ProgressStyleModel",
          "model_module_version": "1.5.0",
          "state": {
            "_model_module": "@jupyter-widgets/controls",
            "_model_module_version": "1.5.0",
            "_model_name": "ProgressStyleModel",
            "_view_count": null,
            "_view_module": "@jupyter-widgets/base",
            "_view_module_version": "1.2.0",
            "_view_name": "StyleView",
            "bar_color": null,
            "description_width": ""
          }
        },
        "6f1b8fdbed2549f1b9ba1f3ffd70652e": {
          "model_module": "@jupyter-widgets/base",
          "model_name": "LayoutModel",
          "model_module_version": "1.2.0",
          "state": {
            "_model_module": "@jupyter-widgets/base",
            "_model_module_version": "1.2.0",
            "_model_name": "LayoutModel",
            "_view_count": null,
            "_view_module": "@jupyter-widgets/base",
            "_view_module_version": "1.2.0",
            "_view_name": "LayoutView",
            "align_content": null,
            "align_items": null,
            "align_self": null,
            "border": null,
            "bottom": null,
            "display": null,
            "flex": null,
            "flex_flow": null,
            "grid_area": null,
            "grid_auto_columns": null,
            "grid_auto_flow": null,
            "grid_auto_rows": null,
            "grid_column": null,
            "grid_gap": null,
            "grid_row": null,
            "grid_template_areas": null,
            "grid_template_columns": null,
            "grid_template_rows": null,
            "height": null,
            "justify_content": null,
            "justify_items": null,
            "left": null,
            "margin": null,
            "max_height": null,
            "max_width": null,
            "min_height": null,
            "min_width": null,
            "object_fit": null,
            "object_position": null,
            "order": null,
            "overflow": null,
            "overflow_x": null,
            "overflow_y": null,
            "padding": null,
            "right": null,
            "top": null,
            "visibility": null,
            "width": null
          }
        },
        "8e371d7f17a94d5894af1dd8891d693a": {
          "model_module": "@jupyter-widgets/controls",
          "model_name": "DescriptionStyleModel",
          "model_module_version": "1.5.0",
          "state": {
            "_model_module": "@jupyter-widgets/controls",
            "_model_module_version": "1.5.0",
            "_model_name": "DescriptionStyleModel",
            "_view_count": null,
            "_view_module": "@jupyter-widgets/base",
            "_view_module_version": "1.2.0",
            "_view_name": "StyleView",
            "description_width": ""
          }
        },
        "56facd34bd384b27ba19ce7e9ec246be": {
          "model_module": "@jupyter-widgets/controls",
          "model_name": "HBoxModel",
          "model_module_version": "1.5.0",
          "state": {
            "_dom_classes": [],
            "_model_module": "@jupyter-widgets/controls",
            "_model_module_version": "1.5.0",
            "_model_name": "HBoxModel",
            "_view_count": null,
            "_view_module": "@jupyter-widgets/controls",
            "_view_module_version": "1.5.0",
            "_view_name": "HBoxView",
            "box_style": "",
            "children": [
              "IPY_MODEL_89afcdda846b448bbe2f486b6e6e13f4",
              "IPY_MODEL_8175274d70534f9dbc6ee179e046a643",
              "IPY_MODEL_a7ab079b5f6a48cc96b1fbf929d4e0f7"
            ],
            "layout": "IPY_MODEL_d8b584f09a8a433abb5635d95ac66e8e"
          }
        },
        "89afcdda846b448bbe2f486b6e6e13f4": {
          "model_module": "@jupyter-widgets/controls",
          "model_name": "HTMLModel",
          "model_module_version": "1.5.0",
          "state": {
            "_dom_classes": [],
            "_model_module": "@jupyter-widgets/controls",
            "_model_module_version": "1.5.0",
            "_model_name": "HTMLModel",
            "_view_count": null,
            "_view_module": "@jupyter-widgets/controls",
            "_view_module_version": "1.5.0",
            "_view_name": "HTMLView",
            "description": "",
            "description_tooltip": null,
            "layout": "IPY_MODEL_2ea79feb44084a9d9a564f9da991004e",
            "placeholder": "​",
            "style": "IPY_MODEL_d7cdadc069604057a0a2df62b3930d51",
            "value": "Calculating Metrics: 100%"
          }
        },
        "8175274d70534f9dbc6ee179e046a643": {
          "model_module": "@jupyter-widgets/controls",
          "model_name": "FloatProgressModel",
          "model_module_version": "1.5.0",
          "state": {
            "_dom_classes": [],
            "_model_module": "@jupyter-widgets/controls",
            "_model_module_version": "1.5.0",
            "_model_name": "FloatProgressModel",
            "_view_count": null,
            "_view_module": "@jupyter-widgets/controls",
            "_view_module_version": "1.5.0",
            "_view_name": "ProgressView",
            "bar_style": "success",
            "description": "",
            "description_tooltip": null,
            "layout": "IPY_MODEL_91783a7b1ffb436bb8784aa387c4d4d4",
            "max": 4,
            "min": 0,
            "orientation": "horizontal",
            "style": "IPY_MODEL_b7337269a6e8449191315220fbcd4e1e",
            "value": 4
          }
        },
        "a7ab079b5f6a48cc96b1fbf929d4e0f7": {
          "model_module": "@jupyter-widgets/controls",
          "model_name": "HTMLModel",
          "model_module_version": "1.5.0",
          "state": {
            "_dom_classes": [],
            "_model_module": "@jupyter-widgets/controls",
            "_model_module_version": "1.5.0",
            "_model_name": "HTMLModel",
            "_view_count": null,
            "_view_module": "@jupyter-widgets/controls",
            "_view_module_version": "1.5.0",
            "_view_name": "HTMLView",
            "description": "",
            "description_tooltip": null,
            "layout": "IPY_MODEL_9ad337ce18ff4fdf905c6b9bb13f32df",
            "placeholder": "​",
            "style": "IPY_MODEL_287c4a0b323a4793ade6dc949d8759f4",
            "value": " 4/4 [00:00&lt;00:00, 134.19it/s]"
          }
        },
        "d8b584f09a8a433abb5635d95ac66e8e": {
          "model_module": "@jupyter-widgets/base",
          "model_name": "LayoutModel",
          "model_module_version": "1.2.0",
          "state": {
            "_model_module": "@jupyter-widgets/base",
            "_model_module_version": "1.2.0",
            "_model_name": "LayoutModel",
            "_view_count": null,
            "_view_module": "@jupyter-widgets/base",
            "_view_module_version": "1.2.0",
            "_view_name": "LayoutView",
            "align_content": null,
            "align_items": null,
            "align_self": null,
            "border": null,
            "bottom": null,
            "display": null,
            "flex": null,
            "flex_flow": null,
            "grid_area": null,
            "grid_auto_columns": null,
            "grid_auto_flow": null,
            "grid_auto_rows": null,
            "grid_column": null,
            "grid_gap": null,
            "grid_row": null,
            "grid_template_areas": null,
            "grid_template_columns": null,
            "grid_template_rows": null,
            "height": null,
            "justify_content": null,
            "justify_items": null,
            "left": null,
            "margin": null,
            "max_height": null,
            "max_width": null,
            "min_height": null,
            "min_width": null,
            "object_fit": null,
            "object_position": null,
            "order": null,
            "overflow": null,
            "overflow_x": null,
            "overflow_y": null,
            "padding": null,
            "right": null,
            "top": null,
            "visibility": null,
            "width": null
          }
        },
        "2ea79feb44084a9d9a564f9da991004e": {
          "model_module": "@jupyter-widgets/base",
          "model_name": "LayoutModel",
          "model_module_version": "1.2.0",
          "state": {
            "_model_module": "@jupyter-widgets/base",
            "_model_module_version": "1.2.0",
            "_model_name": "LayoutModel",
            "_view_count": null,
            "_view_module": "@jupyter-widgets/base",
            "_view_module_version": "1.2.0",
            "_view_name": "LayoutView",
            "align_content": null,
            "align_items": null,
            "align_self": null,
            "border": null,
            "bottom": null,
            "display": null,
            "flex": null,
            "flex_flow": null,
            "grid_area": null,
            "grid_auto_columns": null,
            "grid_auto_flow": null,
            "grid_auto_rows": null,
            "grid_column": null,
            "grid_gap": null,
            "grid_row": null,
            "grid_template_areas": null,
            "grid_template_columns": null,
            "grid_template_rows": null,
            "height": null,
            "justify_content": null,
            "justify_items": null,
            "left": null,
            "margin": null,
            "max_height": null,
            "max_width": null,
            "min_height": null,
            "min_width": null,
            "object_fit": null,
            "object_position": null,
            "order": null,
            "overflow": null,
            "overflow_x": null,
            "overflow_y": null,
            "padding": null,
            "right": null,
            "top": null,
            "visibility": null,
            "width": null
          }
        },
        "d7cdadc069604057a0a2df62b3930d51": {
          "model_module": "@jupyter-widgets/controls",
          "model_name": "DescriptionStyleModel",
          "model_module_version": "1.5.0",
          "state": {
            "_model_module": "@jupyter-widgets/controls",
            "_model_module_version": "1.5.0",
            "_model_name": "DescriptionStyleModel",
            "_view_count": null,
            "_view_module": "@jupyter-widgets/base",
            "_view_module_version": "1.2.0",
            "_view_name": "StyleView",
            "description_width": ""
          }
        },
        "91783a7b1ffb436bb8784aa387c4d4d4": {
          "model_module": "@jupyter-widgets/base",
          "model_name": "LayoutModel",
          "model_module_version": "1.2.0",
          "state": {
            "_model_module": "@jupyter-widgets/base",
            "_model_module_version": "1.2.0",
            "_model_name": "LayoutModel",
            "_view_count": null,
            "_view_module": "@jupyter-widgets/base",
            "_view_module_version": "1.2.0",
            "_view_name": "LayoutView",
            "align_content": null,
            "align_items": null,
            "align_self": null,
            "border": null,
            "bottom": null,
            "display": null,
            "flex": null,
            "flex_flow": null,
            "grid_area": null,
            "grid_auto_columns": null,
            "grid_auto_flow": null,
            "grid_auto_rows": null,
            "grid_column": null,
            "grid_gap": null,
            "grid_row": null,
            "grid_template_areas": null,
            "grid_template_columns": null,
            "grid_template_rows": null,
            "height": null,
            "justify_content": null,
            "justify_items": null,
            "left": null,
            "margin": null,
            "max_height": null,
            "max_width": null,
            "min_height": null,
            "min_width": null,
            "object_fit": null,
            "object_position": null,
            "order": null,
            "overflow": null,
            "overflow_x": null,
            "overflow_y": null,
            "padding": null,
            "right": null,
            "top": null,
            "visibility": null,
            "width": null
          }
        },
        "b7337269a6e8449191315220fbcd4e1e": {
          "model_module": "@jupyter-widgets/controls",
          "model_name": "ProgressStyleModel",
          "model_module_version": "1.5.0",
          "state": {
            "_model_module": "@jupyter-widgets/controls",
            "_model_module_version": "1.5.0",
            "_model_name": "ProgressStyleModel",
            "_view_count": null,
            "_view_module": "@jupyter-widgets/base",
            "_view_module_version": "1.2.0",
            "_view_name": "StyleView",
            "bar_color": null,
            "description_width": ""
          }
        },
        "9ad337ce18ff4fdf905c6b9bb13f32df": {
          "model_module": "@jupyter-widgets/base",
          "model_name": "LayoutModel",
          "model_module_version": "1.2.0",
          "state": {
            "_model_module": "@jupyter-widgets/base",
            "_model_module_version": "1.2.0",
            "_model_name": "LayoutModel",
            "_view_count": null,
            "_view_module": "@jupyter-widgets/base",
            "_view_module_version": "1.2.0",
            "_view_name": "LayoutView",
            "align_content": null,
            "align_items": null,
            "align_self": null,
            "border": null,
            "bottom": null,
            "display": null,
            "flex": null,
            "flex_flow": null,
            "grid_area": null,
            "grid_auto_columns": null,
            "grid_auto_flow": null,
            "grid_auto_rows": null,
            "grid_column": null,
            "grid_gap": null,
            "grid_row": null,
            "grid_template_areas": null,
            "grid_template_columns": null,
            "grid_template_rows": null,
            "height": null,
            "justify_content": null,
            "justify_items": null,
            "left": null,
            "margin": null,
            "max_height": null,
            "max_width": null,
            "min_height": null,
            "min_width": null,
            "object_fit": null,
            "object_position": null,
            "order": null,
            "overflow": null,
            "overflow_x": null,
            "overflow_y": null,
            "padding": null,
            "right": null,
            "top": null,
            "visibility": null,
            "width": null
          }
        },
        "287c4a0b323a4793ade6dc949d8759f4": {
          "model_module": "@jupyter-widgets/controls",
          "model_name": "DescriptionStyleModel",
          "model_module_version": "1.5.0",
          "state": {
            "_model_module": "@jupyter-widgets/controls",
            "_model_module_version": "1.5.0",
            "_model_name": "DescriptionStyleModel",
            "_view_count": null,
            "_view_module": "@jupyter-widgets/base",
            "_view_module_version": "1.2.0",
            "_view_name": "StyleView",
            "description_width": ""
          }
        },
        "58cbb18b4a284534a6160f9dfcdf7b12": {
          "model_module": "@jupyter-widgets/controls",
          "model_name": "HBoxModel",
          "model_module_version": "1.5.0",
          "state": {
            "_dom_classes": [],
            "_model_module": "@jupyter-widgets/controls",
            "_model_module_version": "1.5.0",
            "_model_name": "HBoxModel",
            "_view_count": null,
            "_view_module": "@jupyter-widgets/controls",
            "_view_module_version": "1.5.0",
            "_view_name": "HBoxView",
            "box_style": "",
            "children": [
              "IPY_MODEL_5f45b9be9bf4430a9f7a5fcb41cd7717",
              "IPY_MODEL_3ff5adc6bbc44e0a82cfebc2871747e2",
              "IPY_MODEL_70a7e6fa470d4d238e94780c3555559c"
            ],
            "layout": "IPY_MODEL_0a23d432519b4178a78bd21767fef971"
          }
        },
        "5f45b9be9bf4430a9f7a5fcb41cd7717": {
          "model_module": "@jupyter-widgets/controls",
          "model_name": "HTMLModel",
          "model_module_version": "1.5.0",
          "state": {
            "_dom_classes": [],
            "_model_module": "@jupyter-widgets/controls",
            "_model_module_version": "1.5.0",
            "_model_name": "HTMLModel",
            "_view_count": null,
            "_view_module": "@jupyter-widgets/controls",
            "_view_module_version": "1.5.0",
            "_view_name": "HTMLView",
            "description": "",
            "description_tooltip": null,
            "layout": "IPY_MODEL_fff5939e52544bee8292cfb48f8c1323",
            "placeholder": "​",
            "style": "IPY_MODEL_d4bdb0cb4d4c4fb783ed005bb6c1e833",
            "value": "Calculating Metrics: 100%"
          }
        },
        "3ff5adc6bbc44e0a82cfebc2871747e2": {
          "model_module": "@jupyter-widgets/controls",
          "model_name": "FloatProgressModel",
          "model_module_version": "1.5.0",
          "state": {
            "_dom_classes": [],
            "_model_module": "@jupyter-widgets/controls",
            "_model_module_version": "1.5.0",
            "_model_name": "FloatProgressModel",
            "_view_count": null,
            "_view_module": "@jupyter-widgets/controls",
            "_view_module_version": "1.5.0",
            "_view_name": "ProgressView",
            "bar_style": "success",
            "description": "",
            "description_tooltip": null,
            "layout": "IPY_MODEL_121f22ea6d894a8c8725f1be03a6b7da",
            "max": 4,
            "min": 0,
            "orientation": "horizontal",
            "style": "IPY_MODEL_e1b1764c19d44b8783019a758a297656",
            "value": 4
          }
        },
        "70a7e6fa470d4d238e94780c3555559c": {
          "model_module": "@jupyter-widgets/controls",
          "model_name": "HTMLModel",
          "model_module_version": "1.5.0",
          "state": {
            "_dom_classes": [],
            "_model_module": "@jupyter-widgets/controls",
            "_model_module_version": "1.5.0",
            "_model_name": "HTMLModel",
            "_view_count": null,
            "_view_module": "@jupyter-widgets/controls",
            "_view_module_version": "1.5.0",
            "_view_name": "HTMLView",
            "description": "",
            "description_tooltip": null,
            "layout": "IPY_MODEL_5f67511960e9460cb18951c79bfa327e",
            "placeholder": "​",
            "style": "IPY_MODEL_17ff3b0ae6514943b8cba77d8eef3be6",
            "value": " 4/4 [00:00&lt;00:00, 209.16it/s]"
          }
        },
        "0a23d432519b4178a78bd21767fef971": {
          "model_module": "@jupyter-widgets/base",
          "model_name": "LayoutModel",
          "model_module_version": "1.2.0",
          "state": {
            "_model_module": "@jupyter-widgets/base",
            "_model_module_version": "1.2.0",
            "_model_name": "LayoutModel",
            "_view_count": null,
            "_view_module": "@jupyter-widgets/base",
            "_view_module_version": "1.2.0",
            "_view_name": "LayoutView",
            "align_content": null,
            "align_items": null,
            "align_self": null,
            "border": null,
            "bottom": null,
            "display": null,
            "flex": null,
            "flex_flow": null,
            "grid_area": null,
            "grid_auto_columns": null,
            "grid_auto_flow": null,
            "grid_auto_rows": null,
            "grid_column": null,
            "grid_gap": null,
            "grid_row": null,
            "grid_template_areas": null,
            "grid_template_columns": null,
            "grid_template_rows": null,
            "height": null,
            "justify_content": null,
            "justify_items": null,
            "left": null,
            "margin": null,
            "max_height": null,
            "max_width": null,
            "min_height": null,
            "min_width": null,
            "object_fit": null,
            "object_position": null,
            "order": null,
            "overflow": null,
            "overflow_x": null,
            "overflow_y": null,
            "padding": null,
            "right": null,
            "top": null,
            "visibility": null,
            "width": null
          }
        },
        "fff5939e52544bee8292cfb48f8c1323": {
          "model_module": "@jupyter-widgets/base",
          "model_name": "LayoutModel",
          "model_module_version": "1.2.0",
          "state": {
            "_model_module": "@jupyter-widgets/base",
            "_model_module_version": "1.2.0",
            "_model_name": "LayoutModel",
            "_view_count": null,
            "_view_module": "@jupyter-widgets/base",
            "_view_module_version": "1.2.0",
            "_view_name": "LayoutView",
            "align_content": null,
            "align_items": null,
            "align_self": null,
            "border": null,
            "bottom": null,
            "display": null,
            "flex": null,
            "flex_flow": null,
            "grid_area": null,
            "grid_auto_columns": null,
            "grid_auto_flow": null,
            "grid_auto_rows": null,
            "grid_column": null,
            "grid_gap": null,
            "grid_row": null,
            "grid_template_areas": null,
            "grid_template_columns": null,
            "grid_template_rows": null,
            "height": null,
            "justify_content": null,
            "justify_items": null,
            "left": null,
            "margin": null,
            "max_height": null,
            "max_width": null,
            "min_height": null,
            "min_width": null,
            "object_fit": null,
            "object_position": null,
            "order": null,
            "overflow": null,
            "overflow_x": null,
            "overflow_y": null,
            "padding": null,
            "right": null,
            "top": null,
            "visibility": null,
            "width": null
          }
        },
        "d4bdb0cb4d4c4fb783ed005bb6c1e833": {
          "model_module": "@jupyter-widgets/controls",
          "model_name": "DescriptionStyleModel",
          "model_module_version": "1.5.0",
          "state": {
            "_model_module": "@jupyter-widgets/controls",
            "_model_module_version": "1.5.0",
            "_model_name": "DescriptionStyleModel",
            "_view_count": null,
            "_view_module": "@jupyter-widgets/base",
            "_view_module_version": "1.2.0",
            "_view_name": "StyleView",
            "description_width": ""
          }
        },
        "121f22ea6d894a8c8725f1be03a6b7da": {
          "model_module": "@jupyter-widgets/base",
          "model_name": "LayoutModel",
          "model_module_version": "1.2.0",
          "state": {
            "_model_module": "@jupyter-widgets/base",
            "_model_module_version": "1.2.0",
            "_model_name": "LayoutModel",
            "_view_count": null,
            "_view_module": "@jupyter-widgets/base",
            "_view_module_version": "1.2.0",
            "_view_name": "LayoutView",
            "align_content": null,
            "align_items": null,
            "align_self": null,
            "border": null,
            "bottom": null,
            "display": null,
            "flex": null,
            "flex_flow": null,
            "grid_area": null,
            "grid_auto_columns": null,
            "grid_auto_flow": null,
            "grid_auto_rows": null,
            "grid_column": null,
            "grid_gap": null,
            "grid_row": null,
            "grid_template_areas": null,
            "grid_template_columns": null,
            "grid_template_rows": null,
            "height": null,
            "justify_content": null,
            "justify_items": null,
            "left": null,
            "margin": null,
            "max_height": null,
            "max_width": null,
            "min_height": null,
            "min_width": null,
            "object_fit": null,
            "object_position": null,
            "order": null,
            "overflow": null,
            "overflow_x": null,
            "overflow_y": null,
            "padding": null,
            "right": null,
            "top": null,
            "visibility": null,
            "width": null
          }
        },
        "e1b1764c19d44b8783019a758a297656": {
          "model_module": "@jupyter-widgets/controls",
          "model_name": "ProgressStyleModel",
          "model_module_version": "1.5.0",
          "state": {
            "_model_module": "@jupyter-widgets/controls",
            "_model_module_version": "1.5.0",
            "_model_name": "ProgressStyleModel",
            "_view_count": null,
            "_view_module": "@jupyter-widgets/base",
            "_view_module_version": "1.2.0",
            "_view_name": "StyleView",
            "bar_color": null,
            "description_width": ""
          }
        },
        "5f67511960e9460cb18951c79bfa327e": {
          "model_module": "@jupyter-widgets/base",
          "model_name": "LayoutModel",
          "model_module_version": "1.2.0",
          "state": {
            "_model_module": "@jupyter-widgets/base",
            "_model_module_version": "1.2.0",
            "_model_name": "LayoutModel",
            "_view_count": null,
            "_view_module": "@jupyter-widgets/base",
            "_view_module_version": "1.2.0",
            "_view_name": "LayoutView",
            "align_content": null,
            "align_items": null,
            "align_self": null,
            "border": null,
            "bottom": null,
            "display": null,
            "flex": null,
            "flex_flow": null,
            "grid_area": null,
            "grid_auto_columns": null,
            "grid_auto_flow": null,
            "grid_auto_rows": null,
            "grid_column": null,
            "grid_gap": null,
            "grid_row": null,
            "grid_template_areas": null,
            "grid_template_columns": null,
            "grid_template_rows": null,
            "height": null,
            "justify_content": null,
            "justify_items": null,
            "left": null,
            "margin": null,
            "max_height": null,
            "max_width": null,
            "min_height": null,
            "min_width": null,
            "object_fit": null,
            "object_position": null,
            "order": null,
            "overflow": null,
            "overflow_x": null,
            "overflow_y": null,
            "padding": null,
            "right": null,
            "top": null,
            "visibility": null,
            "width": null
          }
        },
        "17ff3b0ae6514943b8cba77d8eef3be6": {
          "model_module": "@jupyter-widgets/controls",
          "model_name": "DescriptionStyleModel",
          "model_module_version": "1.5.0",
          "state": {
            "_model_module": "@jupyter-widgets/controls",
            "_model_module_version": "1.5.0",
            "_model_name": "DescriptionStyleModel",
            "_view_count": null,
            "_view_module": "@jupyter-widgets/base",
            "_view_module_version": "1.2.0",
            "_view_name": "StyleView",
            "description_width": ""
          }
        },
        "42f0d8a9c064448ea64c2a7d591c80a1": {
          "model_module": "@jupyter-widgets/controls",
          "model_name": "HBoxModel",
          "model_module_version": "1.5.0",
          "state": {
            "_dom_classes": [],
            "_model_module": "@jupyter-widgets/controls",
            "_model_module_version": "1.5.0",
            "_model_name": "HBoxModel",
            "_view_count": null,
            "_view_module": "@jupyter-widgets/controls",
            "_view_module_version": "1.5.0",
            "_view_name": "HBoxView",
            "box_style": "",
            "children": [
              "IPY_MODEL_e1b616267747426a9f1d2ffbd6ce4100",
              "IPY_MODEL_9ec8c460708846fdbe647e1db54b657e",
              "IPY_MODEL_89b4d2d268f54e96815ab610790c4849"
            ],
            "layout": "IPY_MODEL_145283dd5b394bd8a57aa829f712a90b"
          }
        },
        "e1b616267747426a9f1d2ffbd6ce4100": {
          "model_module": "@jupyter-widgets/controls",
          "model_name": "HTMLModel",
          "model_module_version": "1.5.0",
          "state": {
            "_dom_classes": [],
            "_model_module": "@jupyter-widgets/controls",
            "_model_module_version": "1.5.0",
            "_model_name": "HTMLModel",
            "_view_count": null,
            "_view_module": "@jupyter-widgets/controls",
            "_view_module_version": "1.5.0",
            "_view_name": "HTMLView",
            "description": "",
            "description_tooltip": null,
            "layout": "IPY_MODEL_1f85455b91d444209bc060feaeebd4f4",
            "placeholder": "​",
            "style": "IPY_MODEL_a1253189013e45178e3a31d0d744cd5c",
            "value": "Calculating Metrics: 100%"
          }
        },
        "9ec8c460708846fdbe647e1db54b657e": {
          "model_module": "@jupyter-widgets/controls",
          "model_name": "FloatProgressModel",
          "model_module_version": "1.5.0",
          "state": {
            "_dom_classes": [],
            "_model_module": "@jupyter-widgets/controls",
            "_model_module_version": "1.5.0",
            "_model_name": "FloatProgressModel",
            "_view_count": null,
            "_view_module": "@jupyter-widgets/controls",
            "_view_module_version": "1.5.0",
            "_view_name": "ProgressView",
            "bar_style": "success",
            "description": "",
            "description_tooltip": null,
            "layout": "IPY_MODEL_f20cd39eeb434e428fe5d7bacf8f2b7f",
            "max": 8,
            "min": 0,
            "orientation": "horizontal",
            "style": "IPY_MODEL_d3253c4540fa47ddb4751e103bbe730d",
            "value": 8
          }
        },
        "89b4d2d268f54e96815ab610790c4849": {
          "model_module": "@jupyter-widgets/controls",
          "model_name": "HTMLModel",
          "model_module_version": "1.5.0",
          "state": {
            "_dom_classes": [],
            "_model_module": "@jupyter-widgets/controls",
            "_model_module_version": "1.5.0",
            "_model_name": "HTMLModel",
            "_view_count": null,
            "_view_module": "@jupyter-widgets/controls",
            "_view_module_version": "1.5.0",
            "_view_name": "HTMLView",
            "description": "",
            "description_tooltip": null,
            "layout": "IPY_MODEL_5189fa08675841ceb5e0027c689fafac",
            "placeholder": "​",
            "style": "IPY_MODEL_3bc045db3d6b4c45a20e433e7054ee6f",
            "value": " 8/8 [00:00&lt;00:00, 256.76it/s]"
          }
        },
        "145283dd5b394bd8a57aa829f712a90b": {
          "model_module": "@jupyter-widgets/base",
          "model_name": "LayoutModel",
          "model_module_version": "1.2.0",
          "state": {
            "_model_module": "@jupyter-widgets/base",
            "_model_module_version": "1.2.0",
            "_model_name": "LayoutModel",
            "_view_count": null,
            "_view_module": "@jupyter-widgets/base",
            "_view_module_version": "1.2.0",
            "_view_name": "LayoutView",
            "align_content": null,
            "align_items": null,
            "align_self": null,
            "border": null,
            "bottom": null,
            "display": null,
            "flex": null,
            "flex_flow": null,
            "grid_area": null,
            "grid_auto_columns": null,
            "grid_auto_flow": null,
            "grid_auto_rows": null,
            "grid_column": null,
            "grid_gap": null,
            "grid_row": null,
            "grid_template_areas": null,
            "grid_template_columns": null,
            "grid_template_rows": null,
            "height": null,
            "justify_content": null,
            "justify_items": null,
            "left": null,
            "margin": null,
            "max_height": null,
            "max_width": null,
            "min_height": null,
            "min_width": null,
            "object_fit": null,
            "object_position": null,
            "order": null,
            "overflow": null,
            "overflow_x": null,
            "overflow_y": null,
            "padding": null,
            "right": null,
            "top": null,
            "visibility": null,
            "width": null
          }
        },
        "1f85455b91d444209bc060feaeebd4f4": {
          "model_module": "@jupyter-widgets/base",
          "model_name": "LayoutModel",
          "model_module_version": "1.2.0",
          "state": {
            "_model_module": "@jupyter-widgets/base",
            "_model_module_version": "1.2.0",
            "_model_name": "LayoutModel",
            "_view_count": null,
            "_view_module": "@jupyter-widgets/base",
            "_view_module_version": "1.2.0",
            "_view_name": "LayoutView",
            "align_content": null,
            "align_items": null,
            "align_self": null,
            "border": null,
            "bottom": null,
            "display": null,
            "flex": null,
            "flex_flow": null,
            "grid_area": null,
            "grid_auto_columns": null,
            "grid_auto_flow": null,
            "grid_auto_rows": null,
            "grid_column": null,
            "grid_gap": null,
            "grid_row": null,
            "grid_template_areas": null,
            "grid_template_columns": null,
            "grid_template_rows": null,
            "height": null,
            "justify_content": null,
            "justify_items": null,
            "left": null,
            "margin": null,
            "max_height": null,
            "max_width": null,
            "min_height": null,
            "min_width": null,
            "object_fit": null,
            "object_position": null,
            "order": null,
            "overflow": null,
            "overflow_x": null,
            "overflow_y": null,
            "padding": null,
            "right": null,
            "top": null,
            "visibility": null,
            "width": null
          }
        },
        "a1253189013e45178e3a31d0d744cd5c": {
          "model_module": "@jupyter-widgets/controls",
          "model_name": "DescriptionStyleModel",
          "model_module_version": "1.5.0",
          "state": {
            "_model_module": "@jupyter-widgets/controls",
            "_model_module_version": "1.5.0",
            "_model_name": "DescriptionStyleModel",
            "_view_count": null,
            "_view_module": "@jupyter-widgets/base",
            "_view_module_version": "1.2.0",
            "_view_name": "StyleView",
            "description_width": ""
          }
        },
        "f20cd39eeb434e428fe5d7bacf8f2b7f": {
          "model_module": "@jupyter-widgets/base",
          "model_name": "LayoutModel",
          "model_module_version": "1.2.0",
          "state": {
            "_model_module": "@jupyter-widgets/base",
            "_model_module_version": "1.2.0",
            "_model_name": "LayoutModel",
            "_view_count": null,
            "_view_module": "@jupyter-widgets/base",
            "_view_module_version": "1.2.0",
            "_view_name": "LayoutView",
            "align_content": null,
            "align_items": null,
            "align_self": null,
            "border": null,
            "bottom": null,
            "display": null,
            "flex": null,
            "flex_flow": null,
            "grid_area": null,
            "grid_auto_columns": null,
            "grid_auto_flow": null,
            "grid_auto_rows": null,
            "grid_column": null,
            "grid_gap": null,
            "grid_row": null,
            "grid_template_areas": null,
            "grid_template_columns": null,
            "grid_template_rows": null,
            "height": null,
            "justify_content": null,
            "justify_items": null,
            "left": null,
            "margin": null,
            "max_height": null,
            "max_width": null,
            "min_height": null,
            "min_width": null,
            "object_fit": null,
            "object_position": null,
            "order": null,
            "overflow": null,
            "overflow_x": null,
            "overflow_y": null,
            "padding": null,
            "right": null,
            "top": null,
            "visibility": null,
            "width": null
          }
        },
        "d3253c4540fa47ddb4751e103bbe730d": {
          "model_module": "@jupyter-widgets/controls",
          "model_name": "ProgressStyleModel",
          "model_module_version": "1.5.0",
          "state": {
            "_model_module": "@jupyter-widgets/controls",
            "_model_module_version": "1.5.0",
            "_model_name": "ProgressStyleModel",
            "_view_count": null,
            "_view_module": "@jupyter-widgets/base",
            "_view_module_version": "1.2.0",
            "_view_name": "StyleView",
            "bar_color": null,
            "description_width": ""
          }
        },
        "5189fa08675841ceb5e0027c689fafac": {
          "model_module": "@jupyter-widgets/base",
          "model_name": "LayoutModel",
          "model_module_version": "1.2.0",
          "state": {
            "_model_module": "@jupyter-widgets/base",
            "_model_module_version": "1.2.0",
            "_model_name": "LayoutModel",
            "_view_count": null,
            "_view_module": "@jupyter-widgets/base",
            "_view_module_version": "1.2.0",
            "_view_name": "LayoutView",
            "align_content": null,
            "align_items": null,
            "align_self": null,
            "border": null,
            "bottom": null,
            "display": null,
            "flex": null,
            "flex_flow": null,
            "grid_area": null,
            "grid_auto_columns": null,
            "grid_auto_flow": null,
            "grid_auto_rows": null,
            "grid_column": null,
            "grid_gap": null,
            "grid_row": null,
            "grid_template_areas": null,
            "grid_template_columns": null,
            "grid_template_rows": null,
            "height": null,
            "justify_content": null,
            "justify_items": null,
            "left": null,
            "margin": null,
            "max_height": null,
            "max_width": null,
            "min_height": null,
            "min_width": null,
            "object_fit": null,
            "object_position": null,
            "order": null,
            "overflow": null,
            "overflow_x": null,
            "overflow_y": null,
            "padding": null,
            "right": null,
            "top": null,
            "visibility": null,
            "width": null
          }
        },
        "3bc045db3d6b4c45a20e433e7054ee6f": {
          "model_module": "@jupyter-widgets/controls",
          "model_name": "DescriptionStyleModel",
          "model_module_version": "1.5.0",
          "state": {
            "_model_module": "@jupyter-widgets/controls",
            "_model_module_version": "1.5.0",
            "_model_name": "DescriptionStyleModel",
            "_view_count": null,
            "_view_module": "@jupyter-widgets/base",
            "_view_module_version": "1.2.0",
            "_view_name": "StyleView",
            "description_width": ""
          }
        },
        "dcaa10a74f70478f8dd5a4ecb4058dc7": {
          "model_module": "@jupyter-widgets/controls",
          "model_name": "HBoxModel",
          "model_module_version": "1.5.0",
          "state": {
            "_dom_classes": [],
            "_model_module": "@jupyter-widgets/controls",
            "_model_module_version": "1.5.0",
            "_model_name": "HBoxModel",
            "_view_count": null,
            "_view_module": "@jupyter-widgets/controls",
            "_view_module_version": "1.5.0",
            "_view_name": "HBoxView",
            "box_style": "",
            "children": [
              "IPY_MODEL_4f3c783874474d349841e624a8e1e990",
              "IPY_MODEL_3ff798fdd4224018a87e9f8f46077064",
              "IPY_MODEL_7be30a2409ce4a0e8ad16b615c074c06"
            ],
            "layout": "IPY_MODEL_d66c79139dcb4db7bc1d9eed097d2b7a"
          }
        },
        "4f3c783874474d349841e624a8e1e990": {
          "model_module": "@jupyter-widgets/controls",
          "model_name": "HTMLModel",
          "model_module_version": "1.5.0",
          "state": {
            "_dom_classes": [],
            "_model_module": "@jupyter-widgets/controls",
            "_model_module_version": "1.5.0",
            "_model_name": "HTMLModel",
            "_view_count": null,
            "_view_module": "@jupyter-widgets/controls",
            "_view_module_version": "1.5.0",
            "_view_name": "HTMLView",
            "description": "",
            "description_tooltip": null,
            "layout": "IPY_MODEL_1728d96ff12146f1b57b1554bb487ab1",
            "placeholder": "​",
            "style": "IPY_MODEL_69fa5082aab847be9f68aef797fe249d",
            "value": "Calculating Metrics: 100%"
          }
        },
        "3ff798fdd4224018a87e9f8f46077064": {
          "model_module": "@jupyter-widgets/controls",
          "model_name": "FloatProgressModel",
          "model_module_version": "1.5.0",
          "state": {
            "_dom_classes": [],
            "_model_module": "@jupyter-widgets/controls",
            "_model_module_version": "1.5.0",
            "_model_name": "FloatProgressModel",
            "_view_count": null,
            "_view_module": "@jupyter-widgets/controls",
            "_view_module_version": "1.5.0",
            "_view_name": "ProgressView",
            "bar_style": "success",
            "description": "",
            "description_tooltip": null,
            "layout": "IPY_MODEL_a83d20ba2900402e8c3eb6ff4e88c709",
            "max": 26,
            "min": 0,
            "orientation": "horizontal",
            "style": "IPY_MODEL_ea61b8a3d6664cdb8d426f17ae0a38ed",
            "value": 26
          }
        },
        "7be30a2409ce4a0e8ad16b615c074c06": {
          "model_module": "@jupyter-widgets/controls",
          "model_name": "HTMLModel",
          "model_module_version": "1.5.0",
          "state": {
            "_dom_classes": [],
            "_model_module": "@jupyter-widgets/controls",
            "_model_module_version": "1.5.0",
            "_model_name": "HTMLModel",
            "_view_count": null,
            "_view_module": "@jupyter-widgets/controls",
            "_view_module_version": "1.5.0",
            "_view_name": "HTMLView",
            "description": "",
            "description_tooltip": null,
            "layout": "IPY_MODEL_c82df6e108ed41c0a08cfc5674baf62f",
            "placeholder": "​",
            "style": "IPY_MODEL_7574007aad344ae0aa0b74e233b1414c",
            "value": " 26/26 [00:00&lt;00:00, 78.76it/s]"
          }
        },
        "d66c79139dcb4db7bc1d9eed097d2b7a": {
          "model_module": "@jupyter-widgets/base",
          "model_name": "LayoutModel",
          "model_module_version": "1.2.0",
          "state": {
            "_model_module": "@jupyter-widgets/base",
            "_model_module_version": "1.2.0",
            "_model_name": "LayoutModel",
            "_view_count": null,
            "_view_module": "@jupyter-widgets/base",
            "_view_module_version": "1.2.0",
            "_view_name": "LayoutView",
            "align_content": null,
            "align_items": null,
            "align_self": null,
            "border": null,
            "bottom": null,
            "display": null,
            "flex": null,
            "flex_flow": null,
            "grid_area": null,
            "grid_auto_columns": null,
            "grid_auto_flow": null,
            "grid_auto_rows": null,
            "grid_column": null,
            "grid_gap": null,
            "grid_row": null,
            "grid_template_areas": null,
            "grid_template_columns": null,
            "grid_template_rows": null,
            "height": null,
            "justify_content": null,
            "justify_items": null,
            "left": null,
            "margin": null,
            "max_height": null,
            "max_width": null,
            "min_height": null,
            "min_width": null,
            "object_fit": null,
            "object_position": null,
            "order": null,
            "overflow": null,
            "overflow_x": null,
            "overflow_y": null,
            "padding": null,
            "right": null,
            "top": null,
            "visibility": null,
            "width": null
          }
        },
        "1728d96ff12146f1b57b1554bb487ab1": {
          "model_module": "@jupyter-widgets/base",
          "model_name": "LayoutModel",
          "model_module_version": "1.2.0",
          "state": {
            "_model_module": "@jupyter-widgets/base",
            "_model_module_version": "1.2.0",
            "_model_name": "LayoutModel",
            "_view_count": null,
            "_view_module": "@jupyter-widgets/base",
            "_view_module_version": "1.2.0",
            "_view_name": "LayoutView",
            "align_content": null,
            "align_items": null,
            "align_self": null,
            "border": null,
            "bottom": null,
            "display": null,
            "flex": null,
            "flex_flow": null,
            "grid_area": null,
            "grid_auto_columns": null,
            "grid_auto_flow": null,
            "grid_auto_rows": null,
            "grid_column": null,
            "grid_gap": null,
            "grid_row": null,
            "grid_template_areas": null,
            "grid_template_columns": null,
            "grid_template_rows": null,
            "height": null,
            "justify_content": null,
            "justify_items": null,
            "left": null,
            "margin": null,
            "max_height": null,
            "max_width": null,
            "min_height": null,
            "min_width": null,
            "object_fit": null,
            "object_position": null,
            "order": null,
            "overflow": null,
            "overflow_x": null,
            "overflow_y": null,
            "padding": null,
            "right": null,
            "top": null,
            "visibility": null,
            "width": null
          }
        },
        "69fa5082aab847be9f68aef797fe249d": {
          "model_module": "@jupyter-widgets/controls",
          "model_name": "DescriptionStyleModel",
          "model_module_version": "1.5.0",
          "state": {
            "_model_module": "@jupyter-widgets/controls",
            "_model_module_version": "1.5.0",
            "_model_name": "DescriptionStyleModel",
            "_view_count": null,
            "_view_module": "@jupyter-widgets/base",
            "_view_module_version": "1.2.0",
            "_view_name": "StyleView",
            "description_width": ""
          }
        },
        "a83d20ba2900402e8c3eb6ff4e88c709": {
          "model_module": "@jupyter-widgets/base",
          "model_name": "LayoutModel",
          "model_module_version": "1.2.0",
          "state": {
            "_model_module": "@jupyter-widgets/base",
            "_model_module_version": "1.2.0",
            "_model_name": "LayoutModel",
            "_view_count": null,
            "_view_module": "@jupyter-widgets/base",
            "_view_module_version": "1.2.0",
            "_view_name": "LayoutView",
            "align_content": null,
            "align_items": null,
            "align_self": null,
            "border": null,
            "bottom": null,
            "display": null,
            "flex": null,
            "flex_flow": null,
            "grid_area": null,
            "grid_auto_columns": null,
            "grid_auto_flow": null,
            "grid_auto_rows": null,
            "grid_column": null,
            "grid_gap": null,
            "grid_row": null,
            "grid_template_areas": null,
            "grid_template_columns": null,
            "grid_template_rows": null,
            "height": null,
            "justify_content": null,
            "justify_items": null,
            "left": null,
            "margin": null,
            "max_height": null,
            "max_width": null,
            "min_height": null,
            "min_width": null,
            "object_fit": null,
            "object_position": null,
            "order": null,
            "overflow": null,
            "overflow_x": null,
            "overflow_y": null,
            "padding": null,
            "right": null,
            "top": null,
            "visibility": null,
            "width": null
          }
        },
        "ea61b8a3d6664cdb8d426f17ae0a38ed": {
          "model_module": "@jupyter-widgets/controls",
          "model_name": "ProgressStyleModel",
          "model_module_version": "1.5.0",
          "state": {
            "_model_module": "@jupyter-widgets/controls",
            "_model_module_version": "1.5.0",
            "_model_name": "ProgressStyleModel",
            "_view_count": null,
            "_view_module": "@jupyter-widgets/base",
            "_view_module_version": "1.2.0",
            "_view_name": "StyleView",
            "bar_color": null,
            "description_width": ""
          }
        },
        "c82df6e108ed41c0a08cfc5674baf62f": {
          "model_module": "@jupyter-widgets/base",
          "model_name": "LayoutModel",
          "model_module_version": "1.2.0",
          "state": {
            "_model_module": "@jupyter-widgets/base",
            "_model_module_version": "1.2.0",
            "_model_name": "LayoutModel",
            "_view_count": null,
            "_view_module": "@jupyter-widgets/base",
            "_view_module_version": "1.2.0",
            "_view_name": "LayoutView",
            "align_content": null,
            "align_items": null,
            "align_self": null,
            "border": null,
            "bottom": null,
            "display": null,
            "flex": null,
            "flex_flow": null,
            "grid_area": null,
            "grid_auto_columns": null,
            "grid_auto_flow": null,
            "grid_auto_rows": null,
            "grid_column": null,
            "grid_gap": null,
            "grid_row": null,
            "grid_template_areas": null,
            "grid_template_columns": null,
            "grid_template_rows": null,
            "height": null,
            "justify_content": null,
            "justify_items": null,
            "left": null,
            "margin": null,
            "max_height": null,
            "max_width": null,
            "min_height": null,
            "min_width": null,
            "object_fit": null,
            "object_position": null,
            "order": null,
            "overflow": null,
            "overflow_x": null,
            "overflow_y": null,
            "padding": null,
            "right": null,
            "top": null,
            "visibility": null,
            "width": null
          }
        },
        "7574007aad344ae0aa0b74e233b1414c": {
          "model_module": "@jupyter-widgets/controls",
          "model_name": "DescriptionStyleModel",
          "model_module_version": "1.5.0",
          "state": {
            "_model_module": "@jupyter-widgets/controls",
            "_model_module_version": "1.5.0",
            "_model_name": "DescriptionStyleModel",
            "_view_count": null,
            "_view_module": "@jupyter-widgets/base",
            "_view_module_version": "1.2.0",
            "_view_name": "StyleView",
            "description_width": ""
          }
        }
      }
    }
  },
  "nbformat": 4,
  "nbformat_minor": 0
}