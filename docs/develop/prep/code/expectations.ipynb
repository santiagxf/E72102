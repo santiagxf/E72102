{
  "cells": [
    {
      "cell_type": "markdown",
      "metadata": {
        "id": "QupqCPhy5X66"
      },
      "source": [
        "Verificación de calidad de datos con Great Expectations\n",
        "======================================================="
      ]
    },
    {
      "cell_type": "markdown",
      "source": [
        "<div class=\"admonition warning\">PRECAUCIÓN 😱: El tema presentado en esta sección está clasificado como avanzado. El entendimiento de este contenido es totalmente opcional.</div>"
      ],
      "metadata": {
        "id": "roxYP2GR_YqW"
      }
    },
    {
      "cell_type": "markdown",
      "metadata": {
        "id": "IsoazwAM5X7A"
      },
      "source": [
        "Great Expectations\n",
        "------------------\n",
        "\n",
        "`Great expentations` es una libreria en `Python` y una utilidad de linea de comandos que provee un lenguaje declarativo y flexible para describir nuestras expectativas sobre como los datos deben lucir. Permite validar y documentar la calidad de los datos para luego facilmente comunicar los resultados.\n",
        "\n",
        "Podemos instalar `Great Expectations` en `Python` como sigue:\n",
        "\n",
        "```\n",
        "pip install great_expectations\n",
        "```\n",
        "\n",
        "La librería Great Expectations’ más de 50 `expectations` ya listas para utilizar:\n",
        "\n",
        "- `expect_column_values_to_not_be_null`\n",
        "- `expect_column_values_to_match_regex`\n",
        "- `expect_column_values_to_be_unique`\n",
        "- `expect_column_values_to_match_strftime_format`\n",
        "- `expect_table_row_count_to_be_between`\n",
        "- `expect_column_median_to_be_between`\n",
        "\n",
        "Para más información sobre esta librería puede ver [su sitio web](https://docs.greatexpectations.io/docs/)."
      ]
    },
    {
      "cell_type": "markdown",
      "metadata": {
        "id": "1zG1ooiL5X7C"
      },
      "source": [
        "### Preparación del notebook"
      ]
    },
    {
      "cell_type": "markdown",
      "metadata": {
        "id": "HGZaIG3A5X7D"
      },
      "source": [
        "Instalamos las librerías necesarias:"
      ]
    },
    {
      "cell_type": "code",
      "execution_count": 4,
      "metadata": {
        "id": "5nB9fmxm5X7D",
        "outputId": "9a38438e-57f2-4240-beeb-2748b6f09cfc",
        "colab": {
          "base_uri": "https://localhost:8080/"
        }
      },
      "outputs": [
        {
          "output_type": "stream",
          "name": "stdout",
          "text": [
            "Requirement already satisfied: great_expectations in /usr/local/lib/python3.11/dist-packages (from -r expectations.txt (line 1)) (1.5.0)\n",
            "Requirement already satisfied: altair<5.0.0,>=4.2.1 in /usr/local/lib/python3.11/dist-packages (from great_expectations->-r expectations.txt (line 1)) (4.2.2)\n",
            "Requirement already satisfied: cryptography>=3.2 in /usr/local/lib/python3.11/dist-packages (from great_expectations->-r expectations.txt (line 1)) (43.0.3)\n",
            "Requirement already satisfied: jinja2>=3 in /usr/local/lib/python3.11/dist-packages (from great_expectations->-r expectations.txt (line 1)) (3.1.6)\n",
            "Requirement already satisfied: jsonschema>=2.5.1 in /usr/local/lib/python3.11/dist-packages (from great_expectations->-r expectations.txt (line 1)) (4.24.0)\n",
            "Requirement already satisfied: marshmallow<4.0.0,>=3.7.1 in /usr/local/lib/python3.11/dist-packages (from great_expectations->-r expectations.txt (line 1)) (3.26.1)\n",
            "Requirement already satisfied: mistune>=0.8.4 in /usr/local/lib/python3.11/dist-packages (from great_expectations->-r expectations.txt (line 1)) (3.1.3)\n",
            "Requirement already satisfied: packaging in /usr/local/lib/python3.11/dist-packages (from great_expectations->-r expectations.txt (line 1)) (24.2)\n",
            "Requirement already satisfied: posthog<4,>3 in /usr/local/lib/python3.11/dist-packages (from great_expectations->-r expectations.txt (line 1)) (3.25.0)\n",
            "Requirement already satisfied: pydantic>=1.10.7 in /usr/local/lib/python3.11/dist-packages (from great_expectations->-r expectations.txt (line 1)) (2.11.5)\n",
            "Requirement already satisfied: pyparsing>=2.4 in /usr/local/lib/python3.11/dist-packages (from great_expectations->-r expectations.txt (line 1)) (3.2.3)\n",
            "Requirement already satisfied: python-dateutil>=2.8.1 in /usr/local/lib/python3.11/dist-packages (from great_expectations->-r expectations.txt (line 1)) (2.9.0.post0)\n",
            "Requirement already satisfied: requests>=2.20 in /usr/local/lib/python3.11/dist-packages (from great_expectations->-r expectations.txt (line 1)) (2.32.3)\n",
            "Requirement already satisfied: ruamel.yaml>=0.16 in /usr/local/lib/python3.11/dist-packages (from great_expectations->-r expectations.txt (line 1)) (0.18.14)\n",
            "Requirement already satisfied: scipy>=1.6.0 in /usr/local/lib/python3.11/dist-packages (from great_expectations->-r expectations.txt (line 1)) (1.15.3)\n",
            "Requirement already satisfied: tqdm>=4.59.0 in /usr/local/lib/python3.11/dist-packages (from great_expectations->-r expectations.txt (line 1)) (4.67.1)\n",
            "Requirement already satisfied: typing-extensions>=4.1.0 in /usr/local/lib/python3.11/dist-packages (from great_expectations->-r expectations.txt (line 1)) (4.14.0)\n",
            "Requirement already satisfied: tzlocal>=1.2 in /usr/local/lib/python3.11/dist-packages (from great_expectations->-r expectations.txt (line 1)) (5.3.1)\n",
            "Requirement already satisfied: numpy>=1.22.4 in /usr/local/lib/python3.11/dist-packages (from great_expectations->-r expectations.txt (line 1)) (1.26.4)\n",
            "Requirement already satisfied: pandas<2.2,>=1.3.0 in /usr/local/lib/python3.11/dist-packages (from great_expectations->-r expectations.txt (line 1)) (2.1.4)\n",
            "Requirement already satisfied: entrypoints in /usr/local/lib/python3.11/dist-packages (from altair<5.0.0,>=4.2.1->great_expectations->-r expectations.txt (line 1)) (0.4)\n",
            "Requirement already satisfied: toolz in /usr/local/lib/python3.11/dist-packages (from altair<5.0.0,>=4.2.1->great_expectations->-r expectations.txt (line 1)) (0.12.1)\n",
            "Requirement already satisfied: cffi>=1.12 in /usr/local/lib/python3.11/dist-packages (from cryptography>=3.2->great_expectations->-r expectations.txt (line 1)) (1.17.1)\n",
            "Requirement already satisfied: MarkupSafe>=2.0 in /usr/local/lib/python3.11/dist-packages (from jinja2>=3->great_expectations->-r expectations.txt (line 1)) (3.0.2)\n",
            "Requirement already satisfied: attrs>=22.2.0 in /usr/local/lib/python3.11/dist-packages (from jsonschema>=2.5.1->great_expectations->-r expectations.txt (line 1)) (25.3.0)\n",
            "Requirement already satisfied: jsonschema-specifications>=2023.03.6 in /usr/local/lib/python3.11/dist-packages (from jsonschema>=2.5.1->great_expectations->-r expectations.txt (line 1)) (2025.4.1)\n",
            "Requirement already satisfied: referencing>=0.28.4 in /usr/local/lib/python3.11/dist-packages (from jsonschema>=2.5.1->great_expectations->-r expectations.txt (line 1)) (0.36.2)\n",
            "Requirement already satisfied: rpds-py>=0.7.1 in /usr/local/lib/python3.11/dist-packages (from jsonschema>=2.5.1->great_expectations->-r expectations.txt (line 1)) (0.25.1)\n",
            "Requirement already satisfied: pytz>=2020.1 in /usr/local/lib/python3.11/dist-packages (from pandas<2.2,>=1.3.0->great_expectations->-r expectations.txt (line 1)) (2025.2)\n",
            "Requirement already satisfied: tzdata>=2022.1 in /usr/local/lib/python3.11/dist-packages (from pandas<2.2,>=1.3.0->great_expectations->-r expectations.txt (line 1)) (2025.2)\n",
            "Requirement already satisfied: six>=1.5 in /usr/local/lib/python3.11/dist-packages (from posthog<4,>3->great_expectations->-r expectations.txt (line 1)) (1.17.0)\n",
            "Requirement already satisfied: monotonic>=1.5 in /usr/local/lib/python3.11/dist-packages (from posthog<4,>3->great_expectations->-r expectations.txt (line 1)) (1.6)\n",
            "Requirement already satisfied: backoff>=1.10.0 in /usr/local/lib/python3.11/dist-packages (from posthog<4,>3->great_expectations->-r expectations.txt (line 1)) (2.2.1)\n",
            "Requirement already satisfied: distro>=1.5.0 in /usr/local/lib/python3.11/dist-packages (from posthog<4,>3->great_expectations->-r expectations.txt (line 1)) (1.9.0)\n",
            "Requirement already satisfied: annotated-types>=0.6.0 in /usr/local/lib/python3.11/dist-packages (from pydantic>=1.10.7->great_expectations->-r expectations.txt (line 1)) (0.7.0)\n",
            "Requirement already satisfied: pydantic-core==2.33.2 in /usr/local/lib/python3.11/dist-packages (from pydantic>=1.10.7->great_expectations->-r expectations.txt (line 1)) (2.33.2)\n",
            "Requirement already satisfied: typing-inspection>=0.4.0 in /usr/local/lib/python3.11/dist-packages (from pydantic>=1.10.7->great_expectations->-r expectations.txt (line 1)) (0.4.1)\n",
            "Requirement already satisfied: charset-normalizer<4,>=2 in /usr/local/lib/python3.11/dist-packages (from requests>=2.20->great_expectations->-r expectations.txt (line 1)) (3.4.2)\n",
            "Requirement already satisfied: idna<4,>=2.5 in /usr/local/lib/python3.11/dist-packages (from requests>=2.20->great_expectations->-r expectations.txt (line 1)) (3.10)\n",
            "Requirement already satisfied: urllib3<3,>=1.21.1 in /usr/local/lib/python3.11/dist-packages (from requests>=2.20->great_expectations->-r expectations.txt (line 1)) (2.4.0)\n",
            "Requirement already satisfied: certifi>=2017.4.17 in /usr/local/lib/python3.11/dist-packages (from requests>=2.20->great_expectations->-r expectations.txt (line 1)) (2025.4.26)\n",
            "Requirement already satisfied: ruamel.yaml.clib>=0.2.7 in /usr/local/lib/python3.11/dist-packages (from ruamel.yaml>=0.16->great_expectations->-r expectations.txt (line 1)) (0.2.12)\n",
            "Requirement already satisfied: pycparser in /usr/local/lib/python3.11/dist-packages (from cffi>=1.12->cryptography>=3.2->great_expectations->-r expectations.txt (line 1)) (2.22)\n"
          ]
        }
      ],
      "source": [
        "!wget https://raw.githubusercontent.com/santiagxf/E72102/master/docs/develop/prep/code/expectations.txt \\\n",
        "    --quiet --no-clobber\n",
        "!pip install -r expectations.txt"
      ]
    },
    {
      "cell_type": "code",
      "execution_count": 2,
      "metadata": {
        "id": "g0thoZjV5X7F"
      },
      "outputs": [],
      "source": [
        "import warnings\n",
        "import ruamel.yaml\n",
        "\n",
        "warnings.filterwarnings(\"ignore\")\n",
        "warnings.simplefilter('ignore', ruamel.yaml.error.UnsafeLoaderWarning)"
      ]
    },
    {
      "cell_type": "markdown",
      "source": [
        "Descargamos los conjuntos de datos:"
      ],
      "metadata": {
        "id": "Mkms0w1A6Q65"
      }
    },
    {
      "cell_type": "code",
      "source": [
        "!wget https://raw.githubusercontent.com/santiagxf/E72102/master/docs/develop/prep/code/datasets/nyc_taxi/yellow_tripdata_sample_2019-01.csv \\\n",
        "    --quiet --no-clobber --directory-prefix datasets/nyc_taxi/\n",
        "!wget https://raw.githubusercontent.com/santiagxf/E72102/master/docs/develop/prep/code/datasets/nyc_taxi/yellow_tripdata_sample_2019-02.csv \\\n",
        "    --quiet --no-clobber --directory-prefix datasets/nyc_taxi/"
      ],
      "metadata": {
        "id": "tp-GsRIK6WRH"
      },
      "execution_count": 3,
      "outputs": []
    },
    {
      "cell_type": "markdown",
      "metadata": {
        "id": "dQNsRZ7Y5X7F"
      },
      "source": [
        "Ejemplo\n",
        "-------\n",
        "Utilizaremos el conjunto de datos [NYC Taxi data](https://www1.nyc.gov/site/tlc/about/tlc-trip-record-data.page). Cada registro en los datos corresponde a un viaje en taxi y contiene información como el lugar donde se toma el taxi y el lugar donde el pasajero se baja del mismo, el monto del pago y el número de pasajeros, entre otros.\n",
        "\n",
        "Si bien este conjunto de datos es actualizado cada mes, en nuestro caso sólo utilizaremos dos archivos CSV correspondientes a 2 meses, cada uno con una muestra de 10,000 filas del conjunto Yellow Taxi Trip Records:\n",
        "\n",
        "- yellow_tripdata_sample_2019-01.csv: una muestra de los datos de taxis de enero de 2019\n",
        "\n",
        "- yellow_tripdata_sample_2019-02.csv: una muestra de los datos de taxis de febrero de 2019"
      ]
    },
    {
      "cell_type": "code",
      "execution_count": 1,
      "metadata": {
        "scrolled": true,
        "colab": {
          "base_uri": "https://localhost:8080/",
          "height": 313
        },
        "id": "7tPGg_nw5X7G",
        "outputId": "24340578-402a-4ef9-dd7b-5849235d594e"
      },
      "outputs": [
        {
          "output_type": "execute_result",
          "data": {
            "text/plain": [
              "   vendor_id      pickup_datetime     dropoff_datetime  passenger_count  \\\n",
              "0          1  2019-02-07 15:48:06  2019-02-07 16:00:40                2   \n",
              "1          2  2019-02-11 15:19:56  2019-02-11 15:40:10                1   \n",
              "2          2  2019-02-15 20:03:53  2019-02-15 20:08:34                1   \n",
              "3          2  2019-02-03 15:16:04  2019-02-03 15:21:49                1   \n",
              "4          2  2019-02-15 09:23:09  2019-02-15 09:42:51                6   \n",
              "\n",
              "   trip_distance  rate_code_id store_and_fwd_flag  pickup_location_id  \\\n",
              "0           1.30             1                  N                 234   \n",
              "1           2.37             1                  N                 161   \n",
              "2           0.48             1                  N                 237   \n",
              "3           0.64             1                  N                 100   \n",
              "4           2.56             1                  N                 114   \n",
              "\n",
              "   dropoff_location_id  payment_type  fare_amount  extra  mta_tax  tip_amount  \\\n",
              "0                  211             1          9.0    2.5      0.5        2.46   \n",
              "1                  249             1         14.0    0.0      0.5        3.46   \n",
              "2                  161             1          5.0    0.5      0.5        1.50   \n",
              "3                   48             1          5.5    0.0      0.5        1.76   \n",
              "4                  230             1         13.5    0.0      0.5        3.36   \n",
              "\n",
              "   tolls_amount  improvement_surcharge  total_amount  congestion_surcharge  \n",
              "0           0.0                    0.3         14.76                   2.5  \n",
              "1           0.0                    0.3         20.76                   2.5  \n",
              "2           0.0                    0.3         10.30                   2.5  \n",
              "3           0.0                    0.3         10.56                   2.5  \n",
              "4           0.0                    0.3         20.16                   2.5  "
            ],
            "text/html": [
              "\n",
              "  <div id=\"df-67aead80-6bd5-47a5-8c50-1ad56992eeff\" class=\"colab-df-container\">\n",
              "    <div>\n",
              "<style scoped>\n",
              "    .dataframe tbody tr th:only-of-type {\n",
              "        vertical-align: middle;\n",
              "    }\n",
              "\n",
              "    .dataframe tbody tr th {\n",
              "        vertical-align: top;\n",
              "    }\n",
              "\n",
              "    .dataframe thead th {\n",
              "        text-align: right;\n",
              "    }\n",
              "</style>\n",
              "<table border=\"1\" class=\"dataframe\">\n",
              "  <thead>\n",
              "    <tr style=\"text-align: right;\">\n",
              "      <th></th>\n",
              "      <th>vendor_id</th>\n",
              "      <th>pickup_datetime</th>\n",
              "      <th>dropoff_datetime</th>\n",
              "      <th>passenger_count</th>\n",
              "      <th>trip_distance</th>\n",
              "      <th>rate_code_id</th>\n",
              "      <th>store_and_fwd_flag</th>\n",
              "      <th>pickup_location_id</th>\n",
              "      <th>dropoff_location_id</th>\n",
              "      <th>payment_type</th>\n",
              "      <th>fare_amount</th>\n",
              "      <th>extra</th>\n",
              "      <th>mta_tax</th>\n",
              "      <th>tip_amount</th>\n",
              "      <th>tolls_amount</th>\n",
              "      <th>improvement_surcharge</th>\n",
              "      <th>total_amount</th>\n",
              "      <th>congestion_surcharge</th>\n",
              "    </tr>\n",
              "  </thead>\n",
              "  <tbody>\n",
              "    <tr>\n",
              "      <th>0</th>\n",
              "      <td>1</td>\n",
              "      <td>2019-02-07 15:48:06</td>\n",
              "      <td>2019-02-07 16:00:40</td>\n",
              "      <td>2</td>\n",
              "      <td>1.30</td>\n",
              "      <td>1</td>\n",
              "      <td>N</td>\n",
              "      <td>234</td>\n",
              "      <td>211</td>\n",
              "      <td>1</td>\n",
              "      <td>9.0</td>\n",
              "      <td>2.5</td>\n",
              "      <td>0.5</td>\n",
              "      <td>2.46</td>\n",
              "      <td>0.0</td>\n",
              "      <td>0.3</td>\n",
              "      <td>14.76</td>\n",
              "      <td>2.5</td>\n",
              "    </tr>\n",
              "    <tr>\n",
              "      <th>1</th>\n",
              "      <td>2</td>\n",
              "      <td>2019-02-11 15:19:56</td>\n",
              "      <td>2019-02-11 15:40:10</td>\n",
              "      <td>1</td>\n",
              "      <td>2.37</td>\n",
              "      <td>1</td>\n",
              "      <td>N</td>\n",
              "      <td>161</td>\n",
              "      <td>249</td>\n",
              "      <td>1</td>\n",
              "      <td>14.0</td>\n",
              "      <td>0.0</td>\n",
              "      <td>0.5</td>\n",
              "      <td>3.46</td>\n",
              "      <td>0.0</td>\n",
              "      <td>0.3</td>\n",
              "      <td>20.76</td>\n",
              "      <td>2.5</td>\n",
              "    </tr>\n",
              "    <tr>\n",
              "      <th>2</th>\n",
              "      <td>2</td>\n",
              "      <td>2019-02-15 20:03:53</td>\n",
              "      <td>2019-02-15 20:08:34</td>\n",
              "      <td>1</td>\n",
              "      <td>0.48</td>\n",
              "      <td>1</td>\n",
              "      <td>N</td>\n",
              "      <td>237</td>\n",
              "      <td>161</td>\n",
              "      <td>1</td>\n",
              "      <td>5.0</td>\n",
              "      <td>0.5</td>\n",
              "      <td>0.5</td>\n",
              "      <td>1.50</td>\n",
              "      <td>0.0</td>\n",
              "      <td>0.3</td>\n",
              "      <td>10.30</td>\n",
              "      <td>2.5</td>\n",
              "    </tr>\n",
              "    <tr>\n",
              "      <th>3</th>\n",
              "      <td>2</td>\n",
              "      <td>2019-02-03 15:16:04</td>\n",
              "      <td>2019-02-03 15:21:49</td>\n",
              "      <td>1</td>\n",
              "      <td>0.64</td>\n",
              "      <td>1</td>\n",
              "      <td>N</td>\n",
              "      <td>100</td>\n",
              "      <td>48</td>\n",
              "      <td>1</td>\n",
              "      <td>5.5</td>\n",
              "      <td>0.0</td>\n",
              "      <td>0.5</td>\n",
              "      <td>1.76</td>\n",
              "      <td>0.0</td>\n",
              "      <td>0.3</td>\n",
              "      <td>10.56</td>\n",
              "      <td>2.5</td>\n",
              "    </tr>\n",
              "    <tr>\n",
              "      <th>4</th>\n",
              "      <td>2</td>\n",
              "      <td>2019-02-15 09:23:09</td>\n",
              "      <td>2019-02-15 09:42:51</td>\n",
              "      <td>6</td>\n",
              "      <td>2.56</td>\n",
              "      <td>1</td>\n",
              "      <td>N</td>\n",
              "      <td>114</td>\n",
              "      <td>230</td>\n",
              "      <td>1</td>\n",
              "      <td>13.5</td>\n",
              "      <td>0.0</td>\n",
              "      <td>0.5</td>\n",
              "      <td>3.36</td>\n",
              "      <td>0.0</td>\n",
              "      <td>0.3</td>\n",
              "      <td>20.16</td>\n",
              "      <td>2.5</td>\n",
              "    </tr>\n",
              "  </tbody>\n",
              "</table>\n",
              "</div>\n",
              "    <div class=\"colab-df-buttons\">\n",
              "\n",
              "  <div class=\"colab-df-container\">\n",
              "    <button class=\"colab-df-convert\" onclick=\"convertToInteractive('df-67aead80-6bd5-47a5-8c50-1ad56992eeff')\"\n",
              "            title=\"Convert this dataframe to an interactive table.\"\n",
              "            style=\"display:none;\">\n",
              "\n",
              "  <svg xmlns=\"http://www.w3.org/2000/svg\" height=\"24px\" viewBox=\"0 -960 960 960\">\n",
              "    <path d=\"M120-120v-720h720v720H120Zm60-500h600v-160H180v160Zm220 220h160v-160H400v160Zm0 220h160v-160H400v160ZM180-400h160v-160H180v160Zm440 0h160v-160H620v160ZM180-180h160v-160H180v160Zm440 0h160v-160H620v160Z\"/>\n",
              "  </svg>\n",
              "    </button>\n",
              "\n",
              "  <style>\n",
              "    .colab-df-container {\n",
              "      display:flex;\n",
              "      gap: 12px;\n",
              "    }\n",
              "\n",
              "    .colab-df-convert {\n",
              "      background-color: #E8F0FE;\n",
              "      border: none;\n",
              "      border-radius: 50%;\n",
              "      cursor: pointer;\n",
              "      display: none;\n",
              "      fill: #1967D2;\n",
              "      height: 32px;\n",
              "      padding: 0 0 0 0;\n",
              "      width: 32px;\n",
              "    }\n",
              "\n",
              "    .colab-df-convert:hover {\n",
              "      background-color: #E2EBFA;\n",
              "      box-shadow: 0px 1px 2px rgba(60, 64, 67, 0.3), 0px 1px 3px 1px rgba(60, 64, 67, 0.15);\n",
              "      fill: #174EA6;\n",
              "    }\n",
              "\n",
              "    .colab-df-buttons div {\n",
              "      margin-bottom: 4px;\n",
              "    }\n",
              "\n",
              "    [theme=dark] .colab-df-convert {\n",
              "      background-color: #3B4455;\n",
              "      fill: #D2E3FC;\n",
              "    }\n",
              "\n",
              "    [theme=dark] .colab-df-convert:hover {\n",
              "      background-color: #434B5C;\n",
              "      box-shadow: 0px 1px 3px 1px rgba(0, 0, 0, 0.15);\n",
              "      filter: drop-shadow(0px 1px 2px rgba(0, 0, 0, 0.3));\n",
              "      fill: #FFFFFF;\n",
              "    }\n",
              "  </style>\n",
              "\n",
              "    <script>\n",
              "      const buttonEl =\n",
              "        document.querySelector('#df-67aead80-6bd5-47a5-8c50-1ad56992eeff button.colab-df-convert');\n",
              "      buttonEl.style.display =\n",
              "        google.colab.kernel.accessAllowed ? 'block' : 'none';\n",
              "\n",
              "      async function convertToInteractive(key) {\n",
              "        const element = document.querySelector('#df-67aead80-6bd5-47a5-8c50-1ad56992eeff');\n",
              "        const dataTable =\n",
              "          await google.colab.kernel.invokeFunction('convertToInteractive',\n",
              "                                                    [key], {});\n",
              "        if (!dataTable) return;\n",
              "\n",
              "        const docLinkHtml = 'Like what you see? Visit the ' +\n",
              "          '<a target=\"_blank\" href=https://colab.research.google.com/notebooks/data_table.ipynb>data table notebook</a>'\n",
              "          + ' to learn more about interactive tables.';\n",
              "        element.innerHTML = '';\n",
              "        dataTable['output_type'] = 'display_data';\n",
              "        await google.colab.output.renderOutput(dataTable, element);\n",
              "        const docLink = document.createElement('div');\n",
              "        docLink.innerHTML = docLinkHtml;\n",
              "        element.appendChild(docLink);\n",
              "      }\n",
              "    </script>\n",
              "  </div>\n",
              "\n",
              "\n",
              "    <div id=\"df-6cfd30f9-1212-451a-a27e-8dfcc04be000\">\n",
              "      <button class=\"colab-df-quickchart\" onclick=\"quickchart('df-6cfd30f9-1212-451a-a27e-8dfcc04be000')\"\n",
              "                title=\"Suggest charts\"\n",
              "                style=\"display:none;\">\n",
              "\n",
              "<svg xmlns=\"http://www.w3.org/2000/svg\" height=\"24px\"viewBox=\"0 0 24 24\"\n",
              "     width=\"24px\">\n",
              "    <g>\n",
              "        <path d=\"M19 3H5c-1.1 0-2 .9-2 2v14c0 1.1.9 2 2 2h14c1.1 0 2-.9 2-2V5c0-1.1-.9-2-2-2zM9 17H7v-7h2v7zm4 0h-2V7h2v10zm4 0h-2v-4h2v4z\"/>\n",
              "    </g>\n",
              "</svg>\n",
              "      </button>\n",
              "\n",
              "<style>\n",
              "  .colab-df-quickchart {\n",
              "      --bg-color: #E8F0FE;\n",
              "      --fill-color: #1967D2;\n",
              "      --hover-bg-color: #E2EBFA;\n",
              "      --hover-fill-color: #174EA6;\n",
              "      --disabled-fill-color: #AAA;\n",
              "      --disabled-bg-color: #DDD;\n",
              "  }\n",
              "\n",
              "  [theme=dark] .colab-df-quickchart {\n",
              "      --bg-color: #3B4455;\n",
              "      --fill-color: #D2E3FC;\n",
              "      --hover-bg-color: #434B5C;\n",
              "      --hover-fill-color: #FFFFFF;\n",
              "      --disabled-bg-color: #3B4455;\n",
              "      --disabled-fill-color: #666;\n",
              "  }\n",
              "\n",
              "  .colab-df-quickchart {\n",
              "    background-color: var(--bg-color);\n",
              "    border: none;\n",
              "    border-radius: 50%;\n",
              "    cursor: pointer;\n",
              "    display: none;\n",
              "    fill: var(--fill-color);\n",
              "    height: 32px;\n",
              "    padding: 0;\n",
              "    width: 32px;\n",
              "  }\n",
              "\n",
              "  .colab-df-quickchart:hover {\n",
              "    background-color: var(--hover-bg-color);\n",
              "    box-shadow: 0 1px 2px rgba(60, 64, 67, 0.3), 0 1px 3px 1px rgba(60, 64, 67, 0.15);\n",
              "    fill: var(--button-hover-fill-color);\n",
              "  }\n",
              "\n",
              "  .colab-df-quickchart-complete:disabled,\n",
              "  .colab-df-quickchart-complete:disabled:hover {\n",
              "    background-color: var(--disabled-bg-color);\n",
              "    fill: var(--disabled-fill-color);\n",
              "    box-shadow: none;\n",
              "  }\n",
              "\n",
              "  .colab-df-spinner {\n",
              "    border: 2px solid var(--fill-color);\n",
              "    border-color: transparent;\n",
              "    border-bottom-color: var(--fill-color);\n",
              "    animation:\n",
              "      spin 1s steps(1) infinite;\n",
              "  }\n",
              "\n",
              "  @keyframes spin {\n",
              "    0% {\n",
              "      border-color: transparent;\n",
              "      border-bottom-color: var(--fill-color);\n",
              "      border-left-color: var(--fill-color);\n",
              "    }\n",
              "    20% {\n",
              "      border-color: transparent;\n",
              "      border-left-color: var(--fill-color);\n",
              "      border-top-color: var(--fill-color);\n",
              "    }\n",
              "    30% {\n",
              "      border-color: transparent;\n",
              "      border-left-color: var(--fill-color);\n",
              "      border-top-color: var(--fill-color);\n",
              "      border-right-color: var(--fill-color);\n",
              "    }\n",
              "    40% {\n",
              "      border-color: transparent;\n",
              "      border-right-color: var(--fill-color);\n",
              "      border-top-color: var(--fill-color);\n",
              "    }\n",
              "    60% {\n",
              "      border-color: transparent;\n",
              "      border-right-color: var(--fill-color);\n",
              "    }\n",
              "    80% {\n",
              "      border-color: transparent;\n",
              "      border-right-color: var(--fill-color);\n",
              "      border-bottom-color: var(--fill-color);\n",
              "    }\n",
              "    90% {\n",
              "      border-color: transparent;\n",
              "      border-bottom-color: var(--fill-color);\n",
              "    }\n",
              "  }\n",
              "</style>\n",
              "\n",
              "      <script>\n",
              "        async function quickchart(key) {\n",
              "          const quickchartButtonEl =\n",
              "            document.querySelector('#' + key + ' button');\n",
              "          quickchartButtonEl.disabled = true;  // To prevent multiple clicks.\n",
              "          quickchartButtonEl.classList.add('colab-df-spinner');\n",
              "          try {\n",
              "            const charts = await google.colab.kernel.invokeFunction(\n",
              "                'suggestCharts', [key], {});\n",
              "          } catch (error) {\n",
              "            console.error('Error during call to suggestCharts:', error);\n",
              "          }\n",
              "          quickchartButtonEl.classList.remove('colab-df-spinner');\n",
              "          quickchartButtonEl.classList.add('colab-df-quickchart-complete');\n",
              "        }\n",
              "        (() => {\n",
              "          let quickchartButtonEl =\n",
              "            document.querySelector('#df-6cfd30f9-1212-451a-a27e-8dfcc04be000 button');\n",
              "          quickchartButtonEl.style.display =\n",
              "            google.colab.kernel.accessAllowed ? 'block' : 'none';\n",
              "        })();\n",
              "      </script>\n",
              "    </div>\n",
              "\n",
              "    </div>\n",
              "  </div>\n"
            ],
            "application/vnd.google.colaboratory.intrinsic+json": {
              "type": "dataframe",
              "variable_name": "df",
              "summary": "{\n  \"name\": \"df\",\n  \"rows\": 20000,\n  \"fields\": [\n    {\n      \"column\": \"vendor_id\",\n      \"properties\": {\n        \"dtype\": \"number\",\n        \"std\": 0,\n        \"min\": 1,\n        \"max\": 4,\n        \"num_unique_values\": 3,\n        \"samples\": [\n          1,\n          2,\n          4\n        ],\n        \"semantic_type\": \"\",\n        \"description\": \"\"\n      }\n    },\n    {\n      \"column\": \"pickup_datetime\",\n      \"properties\": {\n        \"dtype\": \"date\",\n        \"min\": \"2019-01-01 00:00:50\",\n        \"max\": \"2019-02-28 23:56:53\",\n        \"num_unique_values\": 19950,\n        \"samples\": [\n          \"2019-02-28 12:06:22\",\n          \"2019-02-08 10:21:37\",\n          \"2019-01-07 18:37:42\"\n        ],\n        \"semantic_type\": \"\",\n        \"description\": \"\"\n      }\n    },\n    {\n      \"column\": \"dropoff_datetime\",\n      \"properties\": {\n        \"dtype\": \"date\",\n        \"min\": \"2019-01-01 00:26:46\",\n        \"max\": \"2019-03-01 16:25:46\",\n        \"num_unique_values\": 19939,\n        \"samples\": [\n          \"2019-01-05 02:37:48\",\n          \"2019-02-14 13:15:06\",\n          \"2019-02-11 10:41:47\"\n        ],\n        \"semantic_type\": \"\",\n        \"description\": \"\"\n      }\n    },\n    {\n      \"column\": \"passenger_count\",\n      \"properties\": {\n        \"dtype\": \"number\",\n        \"std\": 1,\n        \"min\": 0,\n        \"max\": 6,\n        \"num_unique_values\": 7,\n        \"samples\": [\n          2,\n          1,\n          4\n        ],\n        \"semantic_type\": \"\",\n        \"description\": \"\"\n      }\n    },\n    {\n      \"column\": \"trip_distance\",\n      \"properties\": {\n        \"dtype\": \"number\",\n        \"std\": 3.677373874058307,\n        \"min\": 0.0,\n        \"max\": 57.95,\n        \"num_unique_values\": 1540,\n        \"samples\": [\n          1.86,\n          5.29,\n          0.8\n        ],\n        \"semantic_type\": \"\",\n        \"description\": \"\"\n      }\n    },\n    {\n      \"column\": \"rate_code_id\",\n      \"properties\": {\n        \"dtype\": \"number\",\n        \"std\": 0,\n        \"min\": 1,\n        \"max\": 99,\n        \"num_unique_values\": 7,\n        \"samples\": [\n          1,\n          2,\n          99\n        ],\n        \"semantic_type\": \"\",\n        \"description\": \"\"\n      }\n    },\n    {\n      \"column\": \"store_and_fwd_flag\",\n      \"properties\": {\n        \"dtype\": \"category\",\n        \"num_unique_values\": 2,\n        \"samples\": [\n          \"Y\",\n          \"N\"\n        ],\n        \"semantic_type\": \"\",\n        \"description\": \"\"\n      }\n    },\n    {\n      \"column\": \"pickup_location_id\",\n      \"properties\": {\n        \"dtype\": \"number\",\n        \"std\": 65,\n        \"min\": 1,\n        \"max\": 265,\n        \"num_unique_values\": 180,\n        \"samples\": [\n          107,\n          91\n        ],\n        \"semantic_type\": \"\",\n        \"description\": \"\"\n      }\n    },\n    {\n      \"column\": \"dropoff_location_id\",\n      \"properties\": {\n        \"dtype\": \"number\",\n        \"std\": 70,\n        \"min\": 1,\n        \"max\": 265,\n        \"num_unique_values\": 223,\n        \"samples\": [\n          143,\n          24\n        ],\n        \"semantic_type\": \"\",\n        \"description\": \"\"\n      }\n    },\n    {\n      \"column\": \"payment_type\",\n      \"properties\": {\n        \"dtype\": \"number\",\n        \"std\": 0,\n        \"min\": 1,\n        \"max\": 4,\n        \"num_unique_values\": 4,\n        \"samples\": [\n          2,\n          4\n        ],\n        \"semantic_type\": \"\",\n        \"description\": \"\"\n      }\n    },\n    {\n      \"column\": \"fare_amount\",\n      \"properties\": {\n        \"dtype\": \"number\",\n        \"std\": 24.382407231107234,\n        \"min\": -52.0,\n        \"max\": 3004.0,\n        \"num_unique_values\": 262,\n        \"samples\": [\n          47.22,\n          61.68\n        ],\n        \"semantic_type\": \"\",\n        \"description\": \"\"\n      }\n    },\n    {\n      \"column\": \"extra\",\n      \"properties\": {\n        \"dtype\": \"number\",\n        \"std\": 1.0683918252842248,\n        \"min\": -36.71,\n        \"max\": 7.0,\n        \"num_unique_values\": 12,\n        \"samples\": [\n          0.8,\n          -0.5\n        ],\n        \"semantic_type\": \"\",\n        \"description\": \"\"\n      }\n    },\n    {\n      \"column\": \"mta_tax\",\n      \"properties\": {\n        \"dtype\": \"number\",\n        \"std\": 0.26603584317394,\n        \"min\": -0.5,\n        \"max\": 37.51,\n        \"num_unique_values\": 4,\n        \"samples\": [\n          0.0,\n          37.51\n        ],\n        \"semantic_type\": \"\",\n        \"description\": \"\"\n      }\n    },\n    {\n      \"column\": \"tip_amount\",\n      \"properties\": {\n        \"dtype\": \"number\",\n        \"std\": 2.502923491048584,\n        \"min\": 0.0,\n        \"max\": 75.0,\n        \"num_unique_values\": 736,\n        \"samples\": [\n          1.04,\n          8.36\n        ],\n        \"semantic_type\": \"\",\n        \"description\": \"\"\n      }\n    },\n    {\n      \"column\": \"tolls_amount\",\n      \"properties\": {\n        \"dtype\": \"number\",\n        \"std\": 3.8213011477679797,\n        \"min\": 0.0,\n        \"max\": 500.05,\n        \"num_unique_values\": 38,\n        \"samples\": [\n          5.5,\n          24.02\n        ],\n        \"semantic_type\": \"\",\n        \"description\": \"\"\n      }\n    },\n    {\n      \"column\": \"improvement_surcharge\",\n      \"properties\": {\n        \"dtype\": \"number\",\n        \"std\": 0.02066243262072718,\n        \"min\": -0.3,\n        \"max\": 0.3,\n        \"num_unique_values\": 3,\n        \"samples\": [\n          0.3,\n          -0.3\n        ],\n        \"semantic_type\": \"\",\n        \"description\": \"\"\n      }\n    },\n    {\n      \"column\": \"total_amount\",\n      \"properties\": {\n        \"dtype\": \"number\",\n        \"std\": 25.942786307606177,\n        \"min\": -52.8,\n        \"max\": 3004.8,\n        \"num_unique_values\": 1369,\n        \"samples\": [\n          19.24,\n          44.16\n        ],\n        \"semantic_type\": \"\",\n        \"description\": \"\"\n      }\n    },\n    {\n      \"column\": \"congestion_surcharge\",\n      \"properties\": {\n        \"dtype\": \"number\",\n        \"std\": 1.2047597382449229,\n        \"min\": -2.5,\n        \"max\": 2.5,\n        \"num_unique_values\": 3,\n        \"samples\": [\n          2.5,\n          0.0\n        ],\n        \"semantic_type\": \"\",\n        \"description\": \"\"\n      }\n    }\n  ]\n}"
            }
          },
          "metadata": {},
          "execution_count": 1
        }
      ],
      "source": [
        "import pandas as pd\n",
        "import glob\n",
        "\n",
        "df = pd.concat(map(lambda file: pd.read_csv(file), glob.glob(\"datasets/nyc_taxi/*.csv\")))\n",
        "df.head(5)"
      ]
    },
    {
      "cell_type": "markdown",
      "metadata": {
        "id": "ZMA9dkh05X7I"
      },
      "source": [
        "### Configurando Great Expectations\n",
        "\n",
        "En Great Expectations es necesario crear un contexto de datos para comenzar a trabajar. El contexto administra la configuración del proyecto en el que estamos trabajando. Los contextos de datos permiten reutilizar conjuntos de expectativas, orígenes de datos y puntos de control previamente configurados.\n",
        "\n",
        "El siguiente código crea un contexto en el directorio `/proyecto`:\n"
      ]
    },
    {
      "cell_type": "code",
      "execution_count": 11,
      "metadata": {
        "id": "2EtV996V5X7I"
      },
      "outputs": [],
      "source": [
        "import great_expectations as gx\n",
        "\n",
        "context = gx.get_context(mode=\"file\", project_root_dir=\"proyecto\")"
      ]
    },
    {
      "cell_type": "markdown",
      "metadata": {
        "id": "AzL7xfaM5X7J"
      },
      "source": [
        "Una vez creado, podemos obtener información al respecto:"
      ]
    },
    {
      "cell_type": "code",
      "execution_count": 12,
      "metadata": {
        "id": "B2tSf0NT5X7K",
        "outputId": "b765fdb3-0af7-4fab-f7bf-90c03b378baa",
        "colab": {
          "base_uri": "https://localhost:8080/"
        }
      },
      "outputs": [
        {
          "output_type": "stream",
          "name": "stdout",
          "text": [
            "{\n",
            "  \"checkpoint_store_name\": \"checkpoint_store\",\n",
            "  \"config_variables_file_path\": \"uncommitted/config_variables.yml\",\n",
            "  \"config_version\": 4.0,\n",
            "  \"data_context_id\": \"89c3eb48-013c-4c6a-bf9d-1174549c1fd8\",\n",
            "  \"data_docs_sites\": {\n",
            "    \"local_site\": {\n",
            "      \"class_name\": \"SiteBuilder\",\n",
            "      \"show_how_to_buttons\": true,\n",
            "      \"store_backend\": {\n",
            "        \"class_name\": \"TupleFilesystemStoreBackend\",\n",
            "        \"base_directory\": \"uncommitted/data_docs/local_site/\"\n",
            "      },\n",
            "      \"site_index_builder\": {\n",
            "        \"class_name\": \"DefaultSiteIndexBuilder\"\n",
            "      }\n",
            "    }\n",
            "  },\n",
            "  \"expectations_store_name\": \"expectations_store\",\n",
            "  \"fluent_datasources\": {},\n",
            "  \"plugins_directory\": \"plugins/\",\n",
            "  \"stores\": {\n",
            "    \"expectations_store\": {\n",
            "      \"class_name\": \"ExpectationsStore\",\n",
            "      \"store_backend\": {\n",
            "        \"class_name\": \"TupleFilesystemStoreBackend\",\n",
            "        \"base_directory\": \"expectations/\"\n",
            "      }\n",
            "    },\n",
            "    \"validation_results_store\": {\n",
            "      \"class_name\": \"ValidationResultsStore\",\n",
            "      \"store_backend\": {\n",
            "        \"class_name\": \"TupleFilesystemStoreBackend\",\n",
            "        \"base_directory\": \"uncommitted/validations/\"\n",
            "      }\n",
            "    },\n",
            "    \"checkpoint_store\": {\n",
            "      \"class_name\": \"CheckpointStore\",\n",
            "      \"store_backend\": {\n",
            "        \"class_name\": \"TupleFilesystemStoreBackend\",\n",
            "        \"suppress_store_backend_id\": true,\n",
            "        \"base_directory\": \"checkpoints/\"\n",
            "      }\n",
            "    },\n",
            "    \"validation_definition_store\": {\n",
            "      \"class_name\": \"ValidationDefinitionStore\",\n",
            "      \"store_backend\": {\n",
            "        \"class_name\": \"TupleFilesystemStoreBackend\",\n",
            "        \"base_directory\": \"validation_definitions/\"\n",
            "      }\n",
            "    }\n",
            "  },\n",
            "  \"validation_results_store_name\": \"validation_results_store\"\n",
            "}\n"
          ]
        }
      ],
      "source": [
        "print(context)"
      ]
    },
    {
      "cell_type": "markdown",
      "source": [
        "### Conectandose a origenes de datos\n",
        "\n",
        "Librerias empresariales suelen utilizar el concepto de fuente de datos para acceder a la información. Como vimos en adquisición de datos, existen multiples plataformas donde esta información puede residir. En general, debe familiarizarce con 3 ideas:\n",
        "\n",
        "1. Origen de datos\n",
        "2. Conjunto de datos\n",
        "3. Batch de datos\n",
        "\n",
        "Para este ejemplo, utilizaremos datos que se encuentran en un conjunto de datos en formato CSV.\n",
        "\n"
      ],
      "metadata": {
        "id": "ToXGSjhhwa_l"
      }
    },
    {
      "cell_type": "markdown",
      "source": [
        "Primero, defina los parámetros de la fuente de datos. La siguiente fuente de datos lee información de un directorio local llamado `datasets`. Otros origenes de datos podrían ser bases de datos de SQL o motores de datos como Spark."
      ],
      "metadata": {
        "id": "s0moS4Aew8sO"
      }
    },
    {
      "cell_type": "code",
      "source": [
        "source_folder = \"./datasets\"\n",
        "data_source_name = \"datasets\""
      ],
      "metadata": {
        "id": "LfRZK3Giwau0"
      },
      "execution_count": 22,
      "outputs": []
    },
    {
      "cell_type": "code",
      "source": [
        "data_source = context.data_sources.add_or_update_pandas_filesystem(\n",
        "    name=data_source_name, base_directory=source_folder\n",
        ")"
      ],
      "metadata": {
        "id": "JLtmN0B7xLMN"
      },
      "execution_count": 30,
      "outputs": []
    },
    {
      "cell_type": "markdown",
      "source": [
        "Luego, definamos un conjunto de datos dentro del origen:"
      ],
      "metadata": {
        "id": "7K9s60GkzlzC"
      }
    },
    {
      "cell_type": "code",
      "source": [
        "asset_name = \"nyc_taxi\"\n",
        "data_directory = \"./nyc_taxi/*.csv\""
      ],
      "metadata": {
        "id": "vb0sSDKbx0-_"
      },
      "execution_count": 34,
      "outputs": []
    },
    {
      "cell_type": "code",
      "source": [
        "directory_csv_asset = data_source.add_csv_asset(\n",
        "    name=asset_name, glob_directive=data_directory\n",
        ")"
      ],
      "metadata": {
        "id": "XfvQjtTFxWnz"
      },
      "execution_count": 35,
      "outputs": []
    },
    {
      "cell_type": "markdown",
      "source": [
        "Cuando los origenes de datos son grandes, leer los datos de forma cuidadosa es importante. Great Expectations usa la idea de sets de información (batch).\n",
        "\n",
        "Usted puede estar familiarizado con leer todos los datos de una sola vez cuando hace, por ejemplo, `pandas.read_csv`. Lo mismo lo podría hacer de la siguiente forma:"
      ],
      "metadata": {
        "id": "4qOuga9wz6eQ"
      }
    },
    {
      "cell_type": "code",
      "source": [
        "batch_definition = directory_csv_asset.add_batch_definition(\n",
        "    name=\"all_records\"\n",
        ")"
      ],
      "metadata": {
        "id": "P1HSDqQU0SGg"
      },
      "execution_count": 38,
      "outputs": []
    },
    {
      "cell_type": "code",
      "source": [
        "batch = batch_definition.get_batch()\n",
        "batch.head()"
      ],
      "metadata": {
        "id": "e2bl1GJb0iK0",
        "outputId": "c1a532b2-6de0-4de2-a0a4-85a432843dc9",
        "colab": {
          "base_uri": "https://localhost:8080/",
          "height": 518,
          "referenced_widgets": [
            "2368ac59f7a1401c98a0f9787a0e390c",
            "2d975d80598c4c0baf95cd7dc131890a",
            "b5024dd7847a4124956533d15c7e03f3",
            "65dceda7cd6544319b1e0744a812b604",
            "eb937b60c3384ef481d29420814da509",
            "db13e8db95b4480d9838f8328f74280c",
            "e55f3139dbdf4985ada9fb2d0bf24c71",
            "0551f52cd87348838c0fe0d262b4deb3",
            "dde7c8f482fb4ee782c3fc09265d6c84",
            "1148bf3cce8344d38254df93d843e313",
            "5cf8f3ad52a6456ebd71daf4730b8573"
          ]
        }
      },
      "execution_count": 40,
      "outputs": [
        {
          "output_type": "display_data",
          "data": {
            "text/plain": [
              "Calculating Metrics:   0%|          | 0/1 [00:00<?, ?it/s]"
            ],
            "application/vnd.jupyter.widget-view+json": {
              "version_major": 2,
              "version_minor": 0,
              "model_id": "2368ac59f7a1401c98a0f9787a0e390c"
            }
          },
          "metadata": {}
        },
        {
          "output_type": "execute_result",
          "data": {
            "text/plain": [
              "   vendor_id      pickup_datetime     dropoff_datetime  passenger_count  \\\n",
              "0          1  2019-02-07 15:48:06  2019-02-07 16:00:40                2   \n",
              "1          2  2019-02-11 15:19:56  2019-02-11 15:40:10                1   \n",
              "2          2  2019-02-15 20:03:53  2019-02-15 20:08:34                1   \n",
              "3          2  2019-02-03 15:16:04  2019-02-03 15:21:49                1   \n",
              "4          2  2019-02-15 09:23:09  2019-02-15 09:42:51                6   \n",
              "\n",
              "   trip_distance  rate_code_id store_and_fwd_flag  pickup_location_id  \\\n",
              "0           1.30             1                  N                 234   \n",
              "1           2.37             1                  N                 161   \n",
              "2           0.48             1                  N                 237   \n",
              "3           0.64             1                  N                 100   \n",
              "4           2.56             1                  N                 114   \n",
              "\n",
              "   dropoff_location_id  payment_type  fare_amount  extra  mta_tax  tip_amount  \\\n",
              "0                  211             1          9.0    2.5      0.5        2.46   \n",
              "1                  249             1         14.0    0.0      0.5        3.46   \n",
              "2                  161             1          5.0    0.5      0.5        1.50   \n",
              "3                   48             1          5.5    0.0      0.5        1.76   \n",
              "4                  230             1         13.5    0.0      0.5        3.36   \n",
              "\n",
              "   tolls_amount  improvement_surcharge  total_amount  congestion_surcharge  \n",
              "0           0.0                    0.3         14.76                   2.5  \n",
              "1           0.0                    0.3         20.76                   2.5  \n",
              "2           0.0                    0.3         10.30                   2.5  \n",
              "3           0.0                    0.3         10.56                   2.5  \n",
              "4           0.0                    0.3         20.16                   2.5  "
            ]
          },
          "metadata": {},
          "execution_count": 40
        }
      ]
    },
    {
      "cell_type": "markdown",
      "source": [
        "En general, esta forma de leer datos no le parecerá con sentido alguno. Y es que Great Expectations diseña estas modalidades para cuando la lectura de datos tiene que ser mas cuidadosa. Por ejemplo, puede leer datos basado en:\n",
        "\n",
        "* Una partición de los datos, como un cliente, una provincia, o un pais.\n",
        "* Una fecha en particular o rango, incluyendo año, mes, dia, o tiempo.\n",
        "* Un directorio o estructura de directios en particular."
      ],
      "metadata": {
        "id": "tPzpZQcg0lDJ"
      }
    },
    {
      "cell_type": "markdown",
      "metadata": {
        "id": "l2dH92iv5X7K"
      },
      "source": [
        "### Diseñando expectativas"
      ]
    },
    {
      "cell_type": "markdown",
      "metadata": {
        "id": "YvomjyZm5X7L"
      },
      "source": [
        "Para diseñar nuestras expectativas, una de las formas más sencillas es realizarlo de forma interactiva, donde podemos ir validando las mismas a medida que las diseñamos:"
      ]
    },
    {
      "cell_type": "markdown",
      "metadata": {
        "id": "sy7UwKh_5X7M"
      },
      "source": [
        "Cuando ejecutamos una expectativa, se validará inmediatamente con el conjunto de datos. El objeto que devuelve este método contendrá el resultado y una lista de valores que no cumplen con la expectativa. Esta información nos ayuda a concentrarnos en datos que no esperamos tener muy rápidamente, eliminando muchas conjeturas de la exploración de datos.\n",
        "\n",
        "Primero demosle un nombre al conjunto de expectativas que crearemos para este set de datos:"
      ]
    },
    {
      "cell_type": "code",
      "execution_count": 42,
      "metadata": {
        "id": "X_ijzZ6X5X7M"
      },
      "outputs": [],
      "source": [
        "expectation_suite_name = 'yellow_tripdata_sample_quality'\n",
        "suite = gx.ExpectationSuite(name=expectation_suite_name)"
      ]
    },
    {
      "cell_type": "markdown",
      "metadata": {
        "id": "aXB_sDCY5X7N"
      },
      "source": [
        "La siguiente expectativa indica que la cantidad de pasajeros del viaje debe ser al menos 1."
      ]
    },
    {
      "cell_type": "code",
      "execution_count": 43,
      "metadata": {
        "id": "62oUCMgO5X7N"
      },
      "outputs": [],
      "source": [
        "preset_expectation = gx.expectations.ExpectColumnMaxToBeBetween(\n",
        "    column=\"passenger_count\", min_value=1\n",
        ")"
      ]
    },
    {
      "cell_type": "markdown",
      "source": [
        "Podemos validar una expectativa sobre un lote de datos, donde la misma a tenido éxito (`success=true`)"
      ],
      "metadata": {
        "id": "_M2NIpxD3o3Y"
      }
    },
    {
      "cell_type": "code",
      "source": [
        "batch.validate(preset_expectation)"
      ],
      "metadata": {
        "id": "px2J8rgm2FPY",
        "outputId": "2aaf1b97-312d-4eeb-b269-eba0b74238c8",
        "colab": {
          "base_uri": "https://localhost:8080/",
          "height": 414,
          "referenced_widgets": [
            "1baac6424a8c4acca87174a252e3aeba",
            "74f740d1887045c69561b56676b7fe48",
            "11efbd80cb804fe8b6d27d5288607972",
            "d61dae9e341c40a88e8e7253e6c8985b",
            "0635315e552b4a2ab6869e91881ea0f2",
            "8ae2f93f9a0d4ea7a3e60fdc186f8405",
            "ee21131ad306484f84ee724204bafaa8",
            "c500d37afef04dc3b0bf3aae45403cd4",
            "6c7b93bb582643d7b857c5ee428f5dc0",
            "44dcae154e644381a58ca0a80392e622",
            "a040107698ec4630b7ef9247585b9105"
          ]
        }
      },
      "execution_count": 48,
      "outputs": [
        {
          "output_type": "display_data",
          "data": {
            "text/plain": [
              "Calculating Metrics:   0%|          | 0/4 [00:00<?, ?it/s]"
            ],
            "application/vnd.jupyter.widget-view+json": {
              "version_major": 2,
              "version_minor": 0,
              "model_id": "1baac6424a8c4acca87174a252e3aeba"
            }
          },
          "metadata": {}
        },
        {
          "output_type": "execute_result",
          "data": {
            "text/plain": [
              "{\n",
              "  \"success\": true,\n",
              "  \"expectation_config\": {\n",
              "    \"type\": \"expect_column_max_to_be_between\",\n",
              "    \"kwargs\": {\n",
              "      \"batch_id\": \"datasets-nyc_taxi\",\n",
              "      \"column\": \"passenger_count\",\n",
              "      \"min_value\": 1.0\n",
              "    },\n",
              "    \"meta\": {}\n",
              "  },\n",
              "  \"result\": {\n",
              "    \"observed_value\": 6\n",
              "  },\n",
              "  \"meta\": {},\n",
              "  \"exception_info\": {\n",
              "    \"raised_exception\": false,\n",
              "    \"exception_traceback\": null,\n",
              "    \"exception_message\": null\n",
              "  }\n",
              "}"
            ]
          },
          "metadata": {},
          "execution_count": 48
        }
      ]
    },
    {
      "cell_type": "markdown",
      "source": [
        "Modifiquemos la expectativa e indiquemos que la cantidad máxima de pasajeros es 6:"
      ],
      "metadata": {
        "id": "sMGGN-F-4izv"
      }
    },
    {
      "cell_type": "code",
      "source": [
        "preset_expectation = gx.expectations.ExpectColumnMaxToBeBetween(\n",
        "    column=\"passenger_count\", min_value=1, max_value=6\n",
        ")"
      ],
      "metadata": {
        "id": "j7NR_9_34hRM"
      },
      "execution_count": 49,
      "outputs": []
    },
    {
      "cell_type": "code",
      "source": [
        "batch.validate(preset_expectation)"
      ],
      "metadata": {
        "id": "GHo42t0P4qt7",
        "outputId": "e3a22fad-6d73-45c1-dcfa-65e3d5b2a138",
        "colab": {
          "base_uri": "https://localhost:8080/",
          "height": 431,
          "referenced_widgets": [
            "06905193b3ac4a008e4a8027a8f69328",
            "24c535a2f56440fe8992baaec48ff718",
            "48addff158bb4a33a6c9a4f950e941a1",
            "0411d8a8d2a0481ebef13a6a7d4f151a",
            "2a6e97d213414bcdad0c7f41a4a978e4",
            "77dd389f53a544379701df5eeaee5dfc",
            "f618c7c9a7974f3cadb057359b7348b4",
            "1fcf64c444a04b85b03dc738f96ce638",
            "5d1ea2c1935342ebbf67bace9eb54515",
            "fb53078e0d3d444fa3168d64a41fba36",
            "f0a7117ddeec49eab899d21f622aa7a7"
          ]
        }
      },
      "execution_count": 50,
      "outputs": [
        {
          "output_type": "display_data",
          "data": {
            "text/plain": [
              "Calculating Metrics:   0%|          | 0/4 [00:00<?, ?it/s]"
            ],
            "application/vnd.jupyter.widget-view+json": {
              "version_major": 2,
              "version_minor": 0,
              "model_id": "06905193b3ac4a008e4a8027a8f69328"
            }
          },
          "metadata": {}
        },
        {
          "output_type": "execute_result",
          "data": {
            "text/plain": [
              "{\n",
              "  \"success\": true,\n",
              "  \"expectation_config\": {\n",
              "    \"type\": \"expect_column_max_to_be_between\",\n",
              "    \"kwargs\": {\n",
              "      \"batch_id\": \"datasets-nyc_taxi\",\n",
              "      \"column\": \"passenger_count\",\n",
              "      \"min_value\": 1.0,\n",
              "      \"max_value\": 6.0\n",
              "    },\n",
              "    \"meta\": {}\n",
              "  },\n",
              "  \"result\": {\n",
              "    \"observed_value\": 6\n",
              "  },\n",
              "  \"meta\": {},\n",
              "  \"exception_info\": {\n",
              "    \"raised_exception\": false,\n",
              "    \"exception_traceback\": null,\n",
              "    \"exception_message\": null\n",
              "  }\n",
              "}"
            ]
          },
          "metadata": {},
          "execution_count": 50
        }
      ]
    },
    {
      "cell_type": "markdown",
      "metadata": {
        "id": "pbEIFg_A5X7O"
      },
      "source": [
        "Es común encontrar problemas de datos donde no es necesario garantizar el 100% de adherencia. En estos casos, considere usar un parámetro `mostly`. Este parámetro es una opción para todas las Expectativas y permite controlar el nivel de margen tolerancia en el que la expectativa podría no cumplirse. Mire como en el próximo ejemplo, el parametro `mostly` hace que la expecativa retorne `true` en la propiedad `success`:"
      ]
    },
    {
      "cell_type": "code",
      "execution_count": null,
      "metadata": {
        "colab": {
          "base_uri": "https://localhost:8080/"
        },
        "id": "sKkP3LrL5X7O",
        "outputId": "a5c727d1-c601-49ec-f830-ded3fb9653c6"
      },
      "outputs": [
        {
          "output_type": "execute_result",
          "data": {
            "text/plain": [
              "{\n",
              "  \"exception_info\": {\n",
              "    \"raised_exception\": false,\n",
              "    \"exception_traceback\": null,\n",
              "    \"exception_message\": null\n",
              "  },\n",
              "  \"result\": {\n",
              "    \"element_count\": 20000,\n",
              "    \"missing_count\": 0,\n",
              "    \"missing_percent\": 0.0,\n",
              "    \"unexpected_count\": 1579,\n",
              "    \"unexpected_percent\": 7.8950000000000005,\n",
              "    \"unexpected_percent_total\": 7.8950000000000005,\n",
              "    \"unexpected_percent_nonmissing\": 7.8950000000000005,\n",
              "    \"partial_unexpected_list\": [\n",
              "      0,\n",
              "      0,\n",
              "      0,\n",
              "      0,\n",
              "      0,\n",
              "      0,\n",
              "      0,\n",
              "      0,\n",
              "      0,\n",
              "      0,\n",
              "      0,\n",
              "      0,\n",
              "      0,\n",
              "      0,\n",
              "      0,\n",
              "      0,\n",
              "      0,\n",
              "      0,\n",
              "      0,\n",
              "      0\n",
              "    ]\n",
              "  },\n",
              "  \"meta\": {},\n",
              "  \"success\": true,\n",
              "  \"expectation_config\": {\n",
              "    \"expectation_type\": \"expect_column_values_to_be_between\",\n",
              "    \"meta\": {},\n",
              "    \"kwargs\": {\n",
              "      \"column\": \"passenger_count\",\n",
              "      \"min_value\": 1,\n",
              "      \"mostly\": 0.9,\n",
              "      \"result_format\": \"BASIC\"\n",
              "    }\n",
              "  }\n",
              "}"
            ]
          },
          "metadata": {},
          "execution_count": 20
        }
      ],
      "source": [
        "gedf.expect_column_values_to_be_between(\"passenger_count\", min_value=1, mostly=.90)"
      ]
    },
    {
      "cell_type": "markdown",
      "metadata": {
        "id": "zAAgIy8L5X7O"
      },
      "source": [
        "Podemos también agregar documentación a nuestras expectativas para futura referencia:"
      ]
    },
    {
      "cell_type": "code",
      "execution_count": null,
      "metadata": {
        "colab": {
          "base_uri": "https://localhost:8080/"
        },
        "id": "JhuxOEmr5X7P",
        "outputId": "638852d3-6cb4-4b44-aade-19f1a74889a5"
      },
      "outputs": [
        {
          "output_type": "execute_result",
          "data": {
            "text/plain": [
              "{\n",
              "  \"exception_info\": {\n",
              "    \"raised_exception\": false,\n",
              "    \"exception_traceback\": null,\n",
              "    \"exception_message\": null\n",
              "  },\n",
              "  \"result\": {\n",
              "    \"element_count\": 20000,\n",
              "    \"missing_count\": 0,\n",
              "    \"missing_percent\": 0.0,\n",
              "    \"unexpected_count\": 1579,\n",
              "    \"unexpected_percent\": 7.8950000000000005,\n",
              "    \"unexpected_percent_total\": 7.8950000000000005,\n",
              "    \"unexpected_percent_nonmissing\": 7.8950000000000005,\n",
              "    \"partial_unexpected_list\": [\n",
              "      0,\n",
              "      0,\n",
              "      0,\n",
              "      0,\n",
              "      0,\n",
              "      0,\n",
              "      0,\n",
              "      0,\n",
              "      0,\n",
              "      0,\n",
              "      0,\n",
              "      0,\n",
              "      0,\n",
              "      0,\n",
              "      0,\n",
              "      0,\n",
              "      0,\n",
              "      0,\n",
              "      0,\n",
              "      0\n",
              "    ]\n",
              "  },\n",
              "  \"meta\": {\n",
              "    \"notes\": {\n",
              "      \"content\": [\n",
              "        \"Todos los viajes deben tener al menos un pasajero.\"\n",
              "      ],\n",
              "      \"format\": \"markdown\",\n",
              "      \"source\": \"expectations\"\n",
              "    }\n",
              "  },\n",
              "  \"success\": false,\n",
              "  \"expectation_config\": {\n",
              "    \"expectation_type\": \"expect_column_values_to_be_between\",\n",
              "    \"meta\": {\n",
              "      \"notes\": {\n",
              "        \"content\": [\n",
              "          \"Todos los viajes deben tener al menos un pasajero.\"\n",
              "        ],\n",
              "        \"format\": \"markdown\",\n",
              "        \"source\": \"expectations\"\n",
              "      }\n",
              "    },\n",
              "    \"kwargs\": {\n",
              "      \"column\": \"passenger_count\",\n",
              "      \"min_value\": 1,\n",
              "      \"result_format\": \"BASIC\"\n",
              "    }\n",
              "  }\n",
              "}"
            ]
          },
          "metadata": {},
          "execution_count": 21
        }
      ],
      "source": [
        "gedf.expect_column_values_to_be_between(\"passenger_count\", min_value=1,\n",
        "                                        meta = {\n",
        "                                            \"notes\": {\n",
        "                                               \"content\": [ \"Todos los viajes deben tener al menos un pasajero.\" ],\n",
        "                                               \"format\": \"markdown\",\n",
        "                                               \"source\": \"expectations\"\n",
        "                                            }\n",
        "                                        })"
      ]
    },
    {
      "cell_type": "markdown",
      "metadata": {
        "id": "C0irQlH35X7P"
      },
      "source": [
        "Creemos algunas otras expectativas:"
      ]
    },
    {
      "cell_type": "code",
      "execution_count": null,
      "metadata": {
        "colab": {
          "base_uri": "https://localhost:8080/"
        },
        "id": "JzfC1WPn5X7P",
        "outputId": "3b9b654d-16ae-4603-ed60-57c0bec3dad1"
      },
      "outputs": [
        {
          "output_type": "stream",
          "name": "stdout",
          "text": [
            "Listo\n"
          ]
        }
      ],
      "source": [
        "gedf.expect_column_values_to_be_in_set(\"store_and_fwd_flag\", ['Y', 'N'],\n",
        "                                        meta = {\n",
        "                                            \"notes\": {\n",
        "                                               \"content\": [ \"Acepta valores de Si y No.\" ],\n",
        "                                               \"format\": \"markdown\",\n",
        "                                               \"source\": \"expectations\"\n",
        "                                            }\n",
        "                                        })\n",
        "gedf.expect_column_values_to_be_in_set(\"payment_type\", [1, 2, 3, 4],\n",
        "                                        meta = {\n",
        "                                            \"notes\": {\n",
        "                                               \"content\": [ \"Solo formas de pago 1, 2, 3, y 5 son validas\" ],\n",
        "                                               \"format\": \"markdown\",\n",
        "                                               \"source\": \"expectations\"\n",
        "                                            }\n",
        "                                        })\n",
        "gedf.expect_column_pair_values_A_to_be_greater_than_B(column_A=\"dropoff_datetime\",\n",
        "                                                      column_B=\"pickup_datetime\",\n",
        "                                                      or_equal=True,\n",
        "                                                      meta = {\n",
        "                                                         \"notes\": {\n",
        "                                                            \"content\": [ \"Las fechas de inicio y fin de viaje deben coincidir.\" ],\n",
        "                                                            \"format\": \"markdown\",\n",
        "                                                            \"source\": \"expectations\"\n",
        "                                                         }\n",
        "                                                      })\n",
        "\n",
        "print(\"Listo\")"
      ]
    },
    {
      "cell_type": "markdown",
      "metadata": {
        "id": "KAAOfQ3M5X7Q"
      },
      "source": [
        "Una vez que completamos nuestras expectativas, podemos extraer toda la configuración como sigue:"
      ]
    },
    {
      "cell_type": "code",
      "execution_count": null,
      "metadata": {
        "id": "ucYSESFW5X7Q"
      },
      "outputs": [],
      "source": [
        "expectations = gedf.get_expectation_suite(discard_failed_expectations=False)"
      ]
    },
    {
      "cell_type": "markdown",
      "metadata": {
        "id": "RH-byxqp5X7R"
      },
      "source": [
        "Podemos persistir estas expectativas como un archivo `JSON` que luego podemos cargar y aplicar a nuevos lotes de datos cada vez que se realiza el proceso de preparación de datos:"
      ]
    },
    {
      "cell_type": "code",
      "execution_count": null,
      "metadata": {
        "id": "C-F4CYxD5X7R"
      },
      "outputs": [],
      "source": [
        "import json\n",
        "import os\n",
        "\n",
        "os.makedirs(\"great_expectations/expectations/nyc_data\", exist_ok=True)\n",
        "with open(\"great_expectations/expectations/nyc_data/data_quality.json\", \"w\") as f:\n",
        "    f.write(\n",
        "        json.dumps(expectations.to_json_dict())\n",
        "    )"
      ]
    },
    {
      "cell_type": "markdown",
      "metadata": {
        "id": "Y4wO51Td5X7R"
      },
      "source": [
        "### Configurando datos como un origen de datos"
      ]
    },
    {
      "cell_type": "markdown",
      "metadata": {
        "id": "_ruXnSW35X7R"
      },
      "source": [
        "Si bien leer los datos desde un `DataFrame` de `Pandas` es práctico, si registramos este conjunto de datos como un `origen de datos` dentro de Great Expectations, podremos acceder a otras funcionalidades."
      ]
    },
    {
      "cell_type": "markdown",
      "metadata": {
        "id": "klUGyDWF5X7R"
      },
      "source": [
        "Identificamos el directorio donde se encuentran los datos:"
      ]
    },
    {
      "cell_type": "code",
      "execution_count": null,
      "metadata": {
        "id": "DiRsw0aD5X7R"
      },
      "outputs": [],
      "source": [
        "datasource_name = \"nyc_taxi\"\n",
        "base_data_directory = \"../datasets/nyc_taxi\""
      ]
    },
    {
      "cell_type": "markdown",
      "metadata": {
        "id": "NS4jpcA_5X7S"
      },
      "source": [
        "Configuraremos un nuevo origen de datos donde `great_expectations` podrá acceder a los datos:"
      ]
    },
    {
      "cell_type": "code",
      "execution_count": null,
      "metadata": {
        "colab": {
          "base_uri": "https://localhost:8080/"
        },
        "id": "fzzpJZyp5X7S",
        "outputId": "ec6ab0ae-4740-4caf-98ae-b652726eb474"
      },
      "outputs": [
        {
          "output_type": "stream",
          "name": "stdout",
          "text": [
            "\n",
            "name: nyc_taxi\n",
            "class_name: Datasource\n",
            "execution_engine:\n",
            "  class_name: PandasExecutionEngine\n",
            "data_connectors:\n",
            "  nyc_taxi_data_connector:\n",
            "    class_name: InferredAssetFilesystemDataConnector\n",
            "    base_directory: ../datasets/nyc_taxi\n",
            "    default_regex:\n",
            "      group_names: \n",
            "        - data_asset_name\n",
            "        - year\n",
            "        - month\n",
            "      pattern: (.*)_(\\d{4})-(\\d{2})\\.csv\n",
            "\n"
          ]
        }
      ],
      "source": [
        "example_yaml = f\"\"\"\n",
        "name: {datasource_name}\n",
        "class_name: Datasource\n",
        "execution_engine:\n",
        "  class_name: PandasExecutionEngine\n",
        "data_connectors:\n",
        "  nyc_taxi_data_connector:\n",
        "    class_name: InferredAssetFilesystemDataConnector\n",
        "    base_directory: {base_data_directory}\n",
        "    default_regex:\n",
        "      group_names:\n",
        "        - data_asset_name\n",
        "        - year\n",
        "        - month\n",
        "      pattern: (.*)_(\\\\d{{4}})-(\\\\d{{2}})\\\\.csv\n",
        "\"\"\"\n",
        "print(example_yaml)"
      ]
    },
    {
      "cell_type": "code",
      "execution_count": null,
      "metadata": {
        "colab": {
          "base_uri": "https://localhost:8080/"
        },
        "id": "zp3HVr0I5X7S",
        "outputId": "6ae85570-0fd2-4ee1-cd33-99d4c77d9ef6"
      },
      "outputs": [
        {
          "output_type": "stream",
          "name": "stdout",
          "text": [
            "Attempting to instantiate class from config...\n",
            "\tInstantiating as a Datasource, since class_name is Datasource\n",
            "\tSuccessfully instantiated Datasource\n",
            "\n",
            "\n",
            "ExecutionEngine class name: PandasExecutionEngine\n",
            "Data Connectors:\n",
            "\tnyc_taxi_data_connector : InferredAssetFilesystemDataConnector\n",
            "\n",
            "\tAvailable data_asset_names (1 of 1):\n",
            "\t\tyellow_tripdata_sample (2 of 2): ['yellow_tripdata_sample_2019-01.csv', 'yellow_tripdata_sample_2019-02.csv']\n",
            "\n",
            "\tUnmatched data_references (0 of 0):[]\n",
            "\n"
          ]
        },
        {
          "output_type": "execute_result",
          "data": {
            "text/plain": [
              "<great_expectations.datasource.new_datasource.Datasource at 0x7f11d2133e10>"
            ]
          },
          "metadata": {},
          "execution_count": 28
        }
      ],
      "source": [
        "context.test_yaml_config(yaml_config=example_yaml)"
      ]
    },
    {
      "cell_type": "markdown",
      "metadata": {
        "id": "Wbn2swxa5X7T"
      },
      "source": [
        "Agregamos el origen de datos:"
      ]
    },
    {
      "cell_type": "code",
      "execution_count": null,
      "metadata": {
        "id": "zLNj5-6L5X7T"
      },
      "outputs": [],
      "source": [
        "from ruamel import yaml\n",
        "\n",
        "ds = context.add_datasource(**yaml.load(example_yaml))"
      ]
    },
    {
      "cell_type": "markdown",
      "metadata": {
        "id": "EQQiL7mR5X7T"
      },
      "source": [
        "### Creando expectativas utilizando un Profiler\n",
        "\n",
        "Un `profile` o perfil de datos es una forma de caracterizar un conjunto de datos de forma automática. Permite, utilizando una pequeña porción de datos, extraer las características que existen en este conjunto de datos para escribir las expectativas. Esto significa que esta pequeña porción de datos debe estar curada y contener las cualidades que queremos tener.\n",
        "\n",
        "> Nota: El hecho de utilizar una pequeña porción de datos en lugar de todo el set de datos completo radica en que en ambientes productivos, los conjuntos de datos podrían ser muy grandes. Es común utilizar una pequeña porción de los datos para inferir las propiedades y luego si validarlas sobre todo el conjunto de datos."
      ]
    },
    {
      "cell_type": "code",
      "execution_count": null,
      "metadata": {
        "id": "f0g99iGs5X7T"
      },
      "outputs": [],
      "source": [
        "from great_expectations.profile.user_configurable_profiler import UserConfigurableProfiler"
      ]
    },
    {
      "cell_type": "markdown",
      "metadata": {
        "id": "cRlVJNRh5X7U"
      },
      "source": [
        "Creamos una nueva suite de expectativas"
      ]
    },
    {
      "cell_type": "code",
      "execution_count": null,
      "metadata": {
        "id": "jo6VpHAD5X7U"
      },
      "outputs": [],
      "source": [
        "expectation_suite_name = \"nyc_data_profile\"\n",
        "suite = context.create_expectation_suite(\n",
        "    expectation_suite_name\n",
        ")"
      ]
    },
    {
      "cell_type": "markdown",
      "metadata": {
        "id": "ZqV-UpYC5X7U"
      },
      "source": [
        "Primero debemos especificar como obtener este pequeño conjunto de datos. Note como ahora especificamos el nombre del origen de datos al que queremos aplicar el perfilado:"
      ]
    },
    {
      "cell_type": "code",
      "execution_count": null,
      "metadata": {
        "id": "yMIIE1RV5X7U"
      },
      "outputs": [],
      "source": [
        "batch_request = ge.core.batch.BatchRequest(datasource_name=\"nyc_taxi\",\n",
        "                                           data_connector_name=\"nyc_taxi_data_connector\",\n",
        "                                           data_asset_name=\"yellow_tripdata_sample\",\n",
        "                                           limit=100)"
      ]
    },
    {
      "cell_type": "markdown",
      "metadata": {
        "id": "jj2ZvL2B5X7V"
      },
      "source": [
        "Podemos obtener la muestra de datos:"
      ]
    },
    {
      "cell_type": "code",
      "execution_count": null,
      "metadata": {
        "colab": {
          "base_uri": "https://localhost:8080/"
        },
        "id": "26_eTs4S5X7V",
        "outputId": "8c08181c-2ef9-4b39-cf21-71bcee781ebf"
      },
      "outputs": [
        {
          "output_type": "execute_result",
          "data": {
            "text/plain": [
              "[<great_expectations.core.batch.Batch at 0x7f11d23fa790>,\n",
              " <great_expectations.core.batch.Batch at 0x7f11ec507950>]"
            ]
          },
          "metadata": {},
          "execution_count": 33
        }
      ],
      "source": [
        "context.get_batch_list(batch_request=batch_request)"
      ]
    },
    {
      "cell_type": "markdown",
      "metadata": {
        "id": "gagyhkIb5X7V"
      },
      "source": [
        "Vemos que hay 2 lotes de datos disponibles:"
      ]
    },
    {
      "cell_type": "code",
      "execution_count": null,
      "metadata": {
        "colab": {
          "base_uri": "https://localhost:8080/"
        },
        "id": "ZDQOJ6m75X7V",
        "outputId": "3f74d931-cef2-4ea0-819a-509be144f922"
      },
      "outputs": [
        {
          "output_type": "execute_result",
          "data": {
            "text/plain": [
              "{'path': '/content/great_expectations/../datasets/nyc_taxi/yellow_tripdata_sample_2019-01.csv'}"
            ]
          },
          "metadata": {},
          "execution_count": 34
        }
      ],
      "source": [
        "context.get_batch_list(batch_request=batch_request)[0].batch_spec"
      ]
    },
    {
      "cell_type": "code",
      "execution_count": null,
      "metadata": {
        "colab": {
          "base_uri": "https://localhost:8080/"
        },
        "id": "4xv4P0yy5X7W",
        "outputId": "079c8eb0-f4d9-4a28-97af-13d012ee38f0"
      },
      "outputs": [
        {
          "output_type": "execute_result",
          "data": {
            "text/plain": [
              "{'path': '/content/great_expectations/../datasets/nyc_taxi/yellow_tripdata_sample_2019-02.csv'}"
            ]
          },
          "metadata": {},
          "execution_count": 35
        }
      ],
      "source": [
        "context.get_batch_list(batch_request=batch_request)[1].batch_spec"
      ]
    },
    {
      "cell_type": "markdown",
      "metadata": {
        "id": "6-Kv1A0-5X7W"
      },
      "source": [
        "Podemos obtener una muestra de los datos:"
      ]
    },
    {
      "cell_type": "code",
      "execution_count": null,
      "metadata": {
        "colab": {
          "base_uri": "https://localhost:8080/",
          "height": 357
        },
        "id": "kfzIJIgh5X7W",
        "outputId": "a3c57594-8cca-4118-bdb9-a76879b79640"
      },
      "outputs": [
        {
          "output_type": "execute_result",
          "data": {
            "text/plain": [
              "   vendor_id      pickup_datetime     dropoff_datetime  passenger_count  \\\n",
              "0          1  2019-01-15 03:36:12  2019-01-15 03:42:19                1   \n",
              "1          1  2019-01-25 18:20:32  2019-01-25 18:26:55                1   \n",
              "2          1  2019-01-05 06:47:31  2019-01-05 06:52:19                1   \n",
              "3          1  2019-01-09 15:08:02  2019-01-09 15:20:17                1   \n",
              "4          1  2019-01-25 18:49:51  2019-01-25 18:56:44                1   \n",
              "\n",
              "   trip_distance  rate_code_id store_and_fwd_flag  pickup_location_id  \\\n",
              "0            1.0             1                  N                 230   \n",
              "1            0.8             1                  N                 112   \n",
              "2            1.1             1                  N                 107   \n",
              "3            2.5             1                  N                 143   \n",
              "4            0.8             1                  N                 246   \n",
              "\n",
              "   dropoff_location_id  payment_type  fare_amount  extra  mta_tax  tip_amount  \\\n",
              "0                   48             1          6.5    0.5      0.5        1.95   \n",
              "1                  112             1          6.0    1.0      0.5        1.55   \n",
              "2                    4             2          6.0    0.0      0.5        0.00   \n",
              "3                  158             1         11.0    0.0      0.5        3.00   \n",
              "4                   90             1          6.5    1.0      0.5        1.65   \n",
              "\n",
              "   tolls_amount  improvement_surcharge  total_amount  congestion_surcharge  \n",
              "0           0.0                    0.3          9.75                   NaN  \n",
              "1           0.0                    0.3          9.35                   0.0  \n",
              "2           0.0                    0.3          6.80                   NaN  \n",
              "3           0.0                    0.3         14.80                   NaN  \n",
              "4           0.0                    0.3          9.95                   0.0  "
            ],
            "text/html": [
              "\n",
              "  <div id=\"df-091b9b97-513f-41ec-96cd-916a66264e08\">\n",
              "    <div class=\"colab-df-container\">\n",
              "      <div>\n",
              "<style scoped>\n",
              "    .dataframe tbody tr th:only-of-type {\n",
              "        vertical-align: middle;\n",
              "    }\n",
              "\n",
              "    .dataframe tbody tr th {\n",
              "        vertical-align: top;\n",
              "    }\n",
              "\n",
              "    .dataframe thead th {\n",
              "        text-align: right;\n",
              "    }\n",
              "</style>\n",
              "<table border=\"1\" class=\"dataframe\">\n",
              "  <thead>\n",
              "    <tr style=\"text-align: right;\">\n",
              "      <th></th>\n",
              "      <th>vendor_id</th>\n",
              "      <th>pickup_datetime</th>\n",
              "      <th>dropoff_datetime</th>\n",
              "      <th>passenger_count</th>\n",
              "      <th>trip_distance</th>\n",
              "      <th>rate_code_id</th>\n",
              "      <th>store_and_fwd_flag</th>\n",
              "      <th>pickup_location_id</th>\n",
              "      <th>dropoff_location_id</th>\n",
              "      <th>payment_type</th>\n",
              "      <th>fare_amount</th>\n",
              "      <th>extra</th>\n",
              "      <th>mta_tax</th>\n",
              "      <th>tip_amount</th>\n",
              "      <th>tolls_amount</th>\n",
              "      <th>improvement_surcharge</th>\n",
              "      <th>total_amount</th>\n",
              "      <th>congestion_surcharge</th>\n",
              "    </tr>\n",
              "  </thead>\n",
              "  <tbody>\n",
              "    <tr>\n",
              "      <th>0</th>\n",
              "      <td>1</td>\n",
              "      <td>2019-01-15 03:36:12</td>\n",
              "      <td>2019-01-15 03:42:19</td>\n",
              "      <td>1</td>\n",
              "      <td>1.0</td>\n",
              "      <td>1</td>\n",
              "      <td>N</td>\n",
              "      <td>230</td>\n",
              "      <td>48</td>\n",
              "      <td>1</td>\n",
              "      <td>6.5</td>\n",
              "      <td>0.5</td>\n",
              "      <td>0.5</td>\n",
              "      <td>1.95</td>\n",
              "      <td>0.0</td>\n",
              "      <td>0.3</td>\n",
              "      <td>9.75</td>\n",
              "      <td>NaN</td>\n",
              "    </tr>\n",
              "    <tr>\n",
              "      <th>1</th>\n",
              "      <td>1</td>\n",
              "      <td>2019-01-25 18:20:32</td>\n",
              "      <td>2019-01-25 18:26:55</td>\n",
              "      <td>1</td>\n",
              "      <td>0.8</td>\n",
              "      <td>1</td>\n",
              "      <td>N</td>\n",
              "      <td>112</td>\n",
              "      <td>112</td>\n",
              "      <td>1</td>\n",
              "      <td>6.0</td>\n",
              "      <td>1.0</td>\n",
              "      <td>0.5</td>\n",
              "      <td>1.55</td>\n",
              "      <td>0.0</td>\n",
              "      <td>0.3</td>\n",
              "      <td>9.35</td>\n",
              "      <td>0.0</td>\n",
              "    </tr>\n",
              "    <tr>\n",
              "      <th>2</th>\n",
              "      <td>1</td>\n",
              "      <td>2019-01-05 06:47:31</td>\n",
              "      <td>2019-01-05 06:52:19</td>\n",
              "      <td>1</td>\n",
              "      <td>1.1</td>\n",
              "      <td>1</td>\n",
              "      <td>N</td>\n",
              "      <td>107</td>\n",
              "      <td>4</td>\n",
              "      <td>2</td>\n",
              "      <td>6.0</td>\n",
              "      <td>0.0</td>\n",
              "      <td>0.5</td>\n",
              "      <td>0.00</td>\n",
              "      <td>0.0</td>\n",
              "      <td>0.3</td>\n",
              "      <td>6.80</td>\n",
              "      <td>NaN</td>\n",
              "    </tr>\n",
              "    <tr>\n",
              "      <th>3</th>\n",
              "      <td>1</td>\n",
              "      <td>2019-01-09 15:08:02</td>\n",
              "      <td>2019-01-09 15:20:17</td>\n",
              "      <td>1</td>\n",
              "      <td>2.5</td>\n",
              "      <td>1</td>\n",
              "      <td>N</td>\n",
              "      <td>143</td>\n",
              "      <td>158</td>\n",
              "      <td>1</td>\n",
              "      <td>11.0</td>\n",
              "      <td>0.0</td>\n",
              "      <td>0.5</td>\n",
              "      <td>3.00</td>\n",
              "      <td>0.0</td>\n",
              "      <td>0.3</td>\n",
              "      <td>14.80</td>\n",
              "      <td>NaN</td>\n",
              "    </tr>\n",
              "    <tr>\n",
              "      <th>4</th>\n",
              "      <td>1</td>\n",
              "      <td>2019-01-25 18:49:51</td>\n",
              "      <td>2019-01-25 18:56:44</td>\n",
              "      <td>1</td>\n",
              "      <td>0.8</td>\n",
              "      <td>1</td>\n",
              "      <td>N</td>\n",
              "      <td>246</td>\n",
              "      <td>90</td>\n",
              "      <td>1</td>\n",
              "      <td>6.5</td>\n",
              "      <td>1.0</td>\n",
              "      <td>0.5</td>\n",
              "      <td>1.65</td>\n",
              "      <td>0.0</td>\n",
              "      <td>0.3</td>\n",
              "      <td>9.95</td>\n",
              "      <td>0.0</td>\n",
              "    </tr>\n",
              "  </tbody>\n",
              "</table>\n",
              "</div>\n",
              "      <button class=\"colab-df-convert\" onclick=\"convertToInteractive('df-091b9b97-513f-41ec-96cd-916a66264e08')\"\n",
              "              title=\"Convert this dataframe to an interactive table.\"\n",
              "              style=\"display:none;\">\n",
              "        \n",
              "  <svg xmlns=\"http://www.w3.org/2000/svg\" height=\"24px\"viewBox=\"0 0 24 24\"\n",
              "       width=\"24px\">\n",
              "    <path d=\"M0 0h24v24H0V0z\" fill=\"none\"/>\n",
              "    <path d=\"M18.56 5.44l.94 2.06.94-2.06 2.06-.94-2.06-.94-.94-2.06-.94 2.06-2.06.94zm-11 1L8.5 8.5l.94-2.06 2.06-.94-2.06-.94L8.5 2.5l-.94 2.06-2.06.94zm10 10l.94 2.06.94-2.06 2.06-.94-2.06-.94-.94-2.06-.94 2.06-2.06.94z\"/><path d=\"M17.41 7.96l-1.37-1.37c-.4-.4-.92-.59-1.43-.59-.52 0-1.04.2-1.43.59L10.3 9.45l-7.72 7.72c-.78.78-.78 2.05 0 2.83L4 21.41c.39.39.9.59 1.41.59.51 0 1.02-.2 1.41-.59l7.78-7.78 2.81-2.81c.8-.78.8-2.07 0-2.86zM5.41 20L4 18.59l7.72-7.72 1.47 1.35L5.41 20z\"/>\n",
              "  </svg>\n",
              "      </button>\n",
              "      \n",
              "  <style>\n",
              "    .colab-df-container {\n",
              "      display:flex;\n",
              "      flex-wrap:wrap;\n",
              "      gap: 12px;\n",
              "    }\n",
              "\n",
              "    .colab-df-convert {\n",
              "      background-color: #E8F0FE;\n",
              "      border: none;\n",
              "      border-radius: 50%;\n",
              "      cursor: pointer;\n",
              "      display: none;\n",
              "      fill: #1967D2;\n",
              "      height: 32px;\n",
              "      padding: 0 0 0 0;\n",
              "      width: 32px;\n",
              "    }\n",
              "\n",
              "    .colab-df-convert:hover {\n",
              "      background-color: #E2EBFA;\n",
              "      box-shadow: 0px 1px 2px rgba(60, 64, 67, 0.3), 0px 1px 3px 1px rgba(60, 64, 67, 0.15);\n",
              "      fill: #174EA6;\n",
              "    }\n",
              "\n",
              "    [theme=dark] .colab-df-convert {\n",
              "      background-color: #3B4455;\n",
              "      fill: #D2E3FC;\n",
              "    }\n",
              "\n",
              "    [theme=dark] .colab-df-convert:hover {\n",
              "      background-color: #434B5C;\n",
              "      box-shadow: 0px 1px 3px 1px rgba(0, 0, 0, 0.15);\n",
              "      filter: drop-shadow(0px 1px 2px rgba(0, 0, 0, 0.3));\n",
              "      fill: #FFFFFF;\n",
              "    }\n",
              "  </style>\n",
              "\n",
              "      <script>\n",
              "        const buttonEl =\n",
              "          document.querySelector('#df-091b9b97-513f-41ec-96cd-916a66264e08 button.colab-df-convert');\n",
              "        buttonEl.style.display =\n",
              "          google.colab.kernel.accessAllowed ? 'block' : 'none';\n",
              "\n",
              "        async function convertToInteractive(key) {\n",
              "          const element = document.querySelector('#df-091b9b97-513f-41ec-96cd-916a66264e08');\n",
              "          const dataTable =\n",
              "            await google.colab.kernel.invokeFunction('convertToInteractive',\n",
              "                                                     [key], {});\n",
              "          if (!dataTable) return;\n",
              "\n",
              "          const docLinkHtml = 'Like what you see? Visit the ' +\n",
              "            '<a target=\"_blank\" href=https://colab.research.google.com/notebooks/data_table.ipynb>data table notebook</a>'\n",
              "            + ' to learn more about interactive tables.';\n",
              "          element.innerHTML = '';\n",
              "          dataTable['output_type'] = 'display_data';\n",
              "          await google.colab.output.renderOutput(dataTable, element);\n",
              "          const docLink = document.createElement('div');\n",
              "          docLink.innerHTML = docLinkHtml;\n",
              "          element.appendChild(docLink);\n",
              "        }\n",
              "      </script>\n",
              "    </div>\n",
              "  </div>\n",
              "  "
            ]
          },
          "metadata": {},
          "execution_count": 36
        }
      ],
      "source": [
        "batch = context.get_batch_list(batch_request=batch_request)[0]\n",
        "batch.head()"
      ]
    },
    {
      "cell_type": "markdown",
      "metadata": {
        "id": "Bc01EK4k5X7X"
      },
      "source": [
        "Ahora instanciamos nuestro generador del perfil de los datos:"
      ]
    },
    {
      "cell_type": "code",
      "execution_count": null,
      "metadata": {
        "id": "MdWw0kPm5X7X"
      },
      "outputs": [],
      "source": [
        "profiler = UserConfigurableProfiler(profile_dataset=batch,\n",
        "                                    ignored_columns=['vendor_id'])"
      ]
    },
    {
      "cell_type": "markdown",
      "metadata": {
        "id": "vjrR-s1h5X7X"
      },
      "source": [
        "Una vez que se generó el perfil de los datos, podemos construir nuestro suite de expectativas:"
      ]
    },
    {
      "cell_type": "code",
      "execution_count": null,
      "metadata": {
        "id": "jMAqdGo35X7X"
      },
      "outputs": [],
      "source": [
        "suite = profiler.build_suite()"
      ]
    },
    {
      "cell_type": "markdown",
      "metadata": {
        "id": "6VY0uWIE5X7Y"
      },
      "source": [
        "Guardamos nuestras expectativas"
      ]
    },
    {
      "cell_type": "code",
      "execution_count": null,
      "metadata": {
        "id": "M-Bej5ch5X7Y"
      },
      "outputs": [],
      "source": [
        "context.save_expectation_suite(suite, expectation_suite_name)"
      ]
    },
    {
      "cell_type": "markdown",
      "metadata": {
        "id": "p8CHklNr5X7Y"
      },
      "source": [
        "Inspeccionemos la suite:"
      ]
    },
    {
      "cell_type": "code",
      "execution_count": null,
      "metadata": {
        "colab": {
          "base_uri": "https://localhost:8080/",
          "height": 35
        },
        "id": "VXr2adAJ5X7Y",
        "outputId": "1d986a7e-9aad-4720-a8e9-633ec154eb03"
      },
      "outputs": [
        {
          "output_type": "execute_result",
          "data": {
            "text/plain": [
              "'expect_table_columns_to_match_ordered_list'"
            ],
            "application/vnd.google.colaboratory.intrinsic+json": {
              "type": "string"
            }
          },
          "metadata": {},
          "execution_count": 40
        }
      ],
      "source": [
        "suite.expectations[0].expectation_type"
      ]
    },
    {
      "cell_type": "markdown",
      "metadata": {
        "id": "jhszIFIl5X7Z"
      },
      "source": [
        "Vemos que la primera expectativa creada indica que las columnas en el conjunto de datos deben ser las siguientes, y en el orden esperado:"
      ]
    },
    {
      "cell_type": "code",
      "execution_count": null,
      "metadata": {
        "colab": {
          "base_uri": "https://localhost:8080/"
        },
        "id": "Qq-hgpUF5X7Z",
        "outputId": "edcc87e0-9d40-4ce6-e3e3-6515cbb0153a"
      },
      "outputs": [
        {
          "output_type": "execute_result",
          "data": {
            "text/plain": [
              "['vendor_id',\n",
              " 'pickup_datetime',\n",
              " 'dropoff_datetime',\n",
              " 'passenger_count',\n",
              " 'trip_distance',\n",
              " 'rate_code_id',\n",
              " 'store_and_fwd_flag',\n",
              " 'pickup_location_id',\n",
              " 'dropoff_location_id',\n",
              " 'payment_type',\n",
              " 'fare_amount',\n",
              " 'extra',\n",
              " 'mta_tax',\n",
              " 'tip_amount',\n",
              " 'tolls_amount',\n",
              " 'improvement_surcharge',\n",
              " 'total_amount',\n",
              " 'congestion_surcharge']"
            ]
          },
          "metadata": {},
          "execution_count": 41
        }
      ],
      "source": [
        "suite.expectations[0].kwargs[\"column_list\"]"
      ]
    },
    {
      "cell_type": "markdown",
      "metadata": {
        "id": "SCMvZs8S5X7Z"
      },
      "source": [
        "> **Importante:** Cuando utilizamos `profiler`, todas las expectativas se aplican a todas las columnas. Esto puede resultar en una conjunto de validaciones demasiado rígidas que son dificiles que se repitan nuevamente en un conjunto de datos. Por ejemplo, una expectativa podría forzar a que la media de una columna sea exactamente 45.3. En algunos casos esto puede ser requerido, en otros no. En general, esta técnica se utiliza para generar una expectativa base sobre la que se puede ir iterando y refinando."
      ]
    },
    {
      "cell_type": "markdown",
      "metadata": {
        "id": "oJNjsMmi5X7Z"
      },
      "source": [
        "### Construyendo la documentación de expectativas"
      ]
    },
    {
      "cell_type": "markdown",
      "metadata": {
        "id": "6PrOnjLx5X7Z"
      },
      "source": [
        "Una forma más amena de explorar estas expectativas es construyendo su documentación. Esta documentación se genera automáticamente leyendo las expectativas de los datos que se generaron. Esto es una excelente forma de comunicar a los diferentes equipos de la organización lo que pueden esperar de estos datos:"
      ]
    },
    {
      "cell_type": "code",
      "execution_count": null,
      "metadata": {
        "colab": {
          "base_uri": "https://localhost:8080/"
        },
        "id": "pSDf2M1M5X7Z",
        "outputId": "c3a6c481-ab36-4c38-8c20-21b06513ceb6"
      },
      "outputs": [
        {
          "output_type": "stream",
          "name": "stderr",
          "text": [
            "/usr/local/lib/python3.7/dist-packages/jinja2/environment.py:1088: DeprecationWarning: 'soft_unicode' has been renamed to 'soft_str'. The old name will be removed in MarkupSafe 2.1.\n",
            "  return concat(self.root_render_func(self.new_context(vars)))\n"
          ]
        },
        {
          "output_type": "execute_result",
          "data": {
            "text/plain": [
              "{'local_site': 'file:///content/great_expectations/uncommitted/data_docs/local_site/index.html'}"
            ]
          },
          "metadata": {},
          "execution_count": 42
        }
      ],
      "source": [
        "context.build_data_docs()"
      ]
    },
    {
      "cell_type": "markdown",
      "metadata": {
        "id": "MjSXREAA5X7a"
      },
      "source": [
        "Por ejemplo, la siguiente documentación se genera automáticamente:\n",
        "\n",
        "![Sample](https://raw.githubusercontent.com/santiagxf/E72102/main/docs/develop/_images/prep_ge_sample.png)"
      ]
    },
    {
      "cell_type": "code",
      "source": [],
      "metadata": {
        "id": "mOA73hMG-9YD"
      },
      "execution_count": null,
      "outputs": []
    }
  ],
  "metadata": {
    "interpreter": {
      "hash": "bea38c2984299ac640e8421861d34b2e05ee614f6236d2975c05eeb77366835f"
    },
    "kernelspec": {
      "display_name": "Python 3",
      "language": "python",
      "name": "python3"
    },
    "language_info": {
      "codemirror_mode": {
        "name": "ipython",
        "version": 3
      },
      "file_extension": ".py",
      "mimetype": "text/x-python",
      "name": "python",
      "nbconvert_exporter": "python",
      "pygments_lexer": "ipython3",
      "version": "3.8.11"
    },
    "colab": {
      "name": "expectations.ipynb",
      "provenance": [],
      "toc_visible": true
    },
    "widgets": {
      "application/vnd.jupyter.widget-state+json": {
        "2368ac59f7a1401c98a0f9787a0e390c": {
          "model_module": "@jupyter-widgets/controls",
          "model_name": "HBoxModel",
          "model_module_version": "1.5.0",
          "state": {
            "_dom_classes": [],
            "_model_module": "@jupyter-widgets/controls",
            "_model_module_version": "1.5.0",
            "_model_name": "HBoxModel",
            "_view_count": null,
            "_view_module": "@jupyter-widgets/controls",
            "_view_module_version": "1.5.0",
            "_view_name": "HBoxView",
            "box_style": "",
            "children": [
              "IPY_MODEL_2d975d80598c4c0baf95cd7dc131890a",
              "IPY_MODEL_b5024dd7847a4124956533d15c7e03f3",
              "IPY_MODEL_65dceda7cd6544319b1e0744a812b604"
            ],
            "layout": "IPY_MODEL_eb937b60c3384ef481d29420814da509"
          }
        },
        "2d975d80598c4c0baf95cd7dc131890a": {
          "model_module": "@jupyter-widgets/controls",
          "model_name": "HTMLModel",
          "model_module_version": "1.5.0",
          "state": {
            "_dom_classes": [],
            "_model_module": "@jupyter-widgets/controls",
            "_model_module_version": "1.5.0",
            "_model_name": "HTMLModel",
            "_view_count": null,
            "_view_module": "@jupyter-widgets/controls",
            "_view_module_version": "1.5.0",
            "_view_name": "HTMLView",
            "description": "",
            "description_tooltip": null,
            "layout": "IPY_MODEL_db13e8db95b4480d9838f8328f74280c",
            "placeholder": "​",
            "style": "IPY_MODEL_e55f3139dbdf4985ada9fb2d0bf24c71",
            "value": "Calculating Metrics: 100%"
          }
        },
        "b5024dd7847a4124956533d15c7e03f3": {
          "model_module": "@jupyter-widgets/controls",
          "model_name": "FloatProgressModel",
          "model_module_version": "1.5.0",
          "state": {
            "_dom_classes": [],
            "_model_module": "@jupyter-widgets/controls",
            "_model_module_version": "1.5.0",
            "_model_name": "FloatProgressModel",
            "_view_count": null,
            "_view_module": "@jupyter-widgets/controls",
            "_view_module_version": "1.5.0",
            "_view_name": "ProgressView",
            "bar_style": "success",
            "description": "",
            "description_tooltip": null,
            "layout": "IPY_MODEL_0551f52cd87348838c0fe0d262b4deb3",
            "max": 1,
            "min": 0,
            "orientation": "horizontal",
            "style": "IPY_MODEL_dde7c8f482fb4ee782c3fc09265d6c84",
            "value": 1
          }
        },
        "65dceda7cd6544319b1e0744a812b604": {
          "model_module": "@jupyter-widgets/controls",
          "model_name": "HTMLModel",
          "model_module_version": "1.5.0",
          "state": {
            "_dom_classes": [],
            "_model_module": "@jupyter-widgets/controls",
            "_model_module_version": "1.5.0",
            "_model_name": "HTMLModel",
            "_view_count": null,
            "_view_module": "@jupyter-widgets/controls",
            "_view_module_version": "1.5.0",
            "_view_name": "HTMLView",
            "description": "",
            "description_tooltip": null,
            "layout": "IPY_MODEL_1148bf3cce8344d38254df93d843e313",
            "placeholder": "​",
            "style": "IPY_MODEL_5cf8f3ad52a6456ebd71daf4730b8573",
            "value": " 1/1 [00:00&lt;00:00, 16.31it/s]"
          }
        },
        "eb937b60c3384ef481d29420814da509": {
          "model_module": "@jupyter-widgets/base",
          "model_name": "LayoutModel",
          "model_module_version": "1.2.0",
          "state": {
            "_model_module": "@jupyter-widgets/base",
            "_model_module_version": "1.2.0",
            "_model_name": "LayoutModel",
            "_view_count": null,
            "_view_module": "@jupyter-widgets/base",
            "_view_module_version": "1.2.0",
            "_view_name": "LayoutView",
            "align_content": null,
            "align_items": null,
            "align_self": null,
            "border": null,
            "bottom": null,
            "display": null,
            "flex": null,
            "flex_flow": null,
            "grid_area": null,
            "grid_auto_columns": null,
            "grid_auto_flow": null,
            "grid_auto_rows": null,
            "grid_column": null,
            "grid_gap": null,
            "grid_row": null,
            "grid_template_areas": null,
            "grid_template_columns": null,
            "grid_template_rows": null,
            "height": null,
            "justify_content": null,
            "justify_items": null,
            "left": null,
            "margin": null,
            "max_height": null,
            "max_width": null,
            "min_height": null,
            "min_width": null,
            "object_fit": null,
            "object_position": null,
            "order": null,
            "overflow": null,
            "overflow_x": null,
            "overflow_y": null,
            "padding": null,
            "right": null,
            "top": null,
            "visibility": null,
            "width": null
          }
        },
        "db13e8db95b4480d9838f8328f74280c": {
          "model_module": "@jupyter-widgets/base",
          "model_name": "LayoutModel",
          "model_module_version": "1.2.0",
          "state": {
            "_model_module": "@jupyter-widgets/base",
            "_model_module_version": "1.2.0",
            "_model_name": "LayoutModel",
            "_view_count": null,
            "_view_module": "@jupyter-widgets/base",
            "_view_module_version": "1.2.0",
            "_view_name": "LayoutView",
            "align_content": null,
            "align_items": null,
            "align_self": null,
            "border": null,
            "bottom": null,
            "display": null,
            "flex": null,
            "flex_flow": null,
            "grid_area": null,
            "grid_auto_columns": null,
            "grid_auto_flow": null,
            "grid_auto_rows": null,
            "grid_column": null,
            "grid_gap": null,
            "grid_row": null,
            "grid_template_areas": null,
            "grid_template_columns": null,
            "grid_template_rows": null,
            "height": null,
            "justify_content": null,
            "justify_items": null,
            "left": null,
            "margin": null,
            "max_height": null,
            "max_width": null,
            "min_height": null,
            "min_width": null,
            "object_fit": null,
            "object_position": null,
            "order": null,
            "overflow": null,
            "overflow_x": null,
            "overflow_y": null,
            "padding": null,
            "right": null,
            "top": null,
            "visibility": null,
            "width": null
          }
        },
        "e55f3139dbdf4985ada9fb2d0bf24c71": {
          "model_module": "@jupyter-widgets/controls",
          "model_name": "DescriptionStyleModel",
          "model_module_version": "1.5.0",
          "state": {
            "_model_module": "@jupyter-widgets/controls",
            "_model_module_version": "1.5.0",
            "_model_name": "DescriptionStyleModel",
            "_view_count": null,
            "_view_module": "@jupyter-widgets/base",
            "_view_module_version": "1.2.0",
            "_view_name": "StyleView",
            "description_width": ""
          }
        },
        "0551f52cd87348838c0fe0d262b4deb3": {
          "model_module": "@jupyter-widgets/base",
          "model_name": "LayoutModel",
          "model_module_version": "1.2.0",
          "state": {
            "_model_module": "@jupyter-widgets/base",
            "_model_module_version": "1.2.0",
            "_model_name": "LayoutModel",
            "_view_count": null,
            "_view_module": "@jupyter-widgets/base",
            "_view_module_version": "1.2.0",
            "_view_name": "LayoutView",
            "align_content": null,
            "align_items": null,
            "align_self": null,
            "border": null,
            "bottom": null,
            "display": null,
            "flex": null,
            "flex_flow": null,
            "grid_area": null,
            "grid_auto_columns": null,
            "grid_auto_flow": null,
            "grid_auto_rows": null,
            "grid_column": null,
            "grid_gap": null,
            "grid_row": null,
            "grid_template_areas": null,
            "grid_template_columns": null,
            "grid_template_rows": null,
            "height": null,
            "justify_content": null,
            "justify_items": null,
            "left": null,
            "margin": null,
            "max_height": null,
            "max_width": null,
            "min_height": null,
            "min_width": null,
            "object_fit": null,
            "object_position": null,
            "order": null,
            "overflow": null,
            "overflow_x": null,
            "overflow_y": null,
            "padding": null,
            "right": null,
            "top": null,
            "visibility": null,
            "width": null
          }
        },
        "dde7c8f482fb4ee782c3fc09265d6c84": {
          "model_module": "@jupyter-widgets/controls",
          "model_name": "ProgressStyleModel",
          "model_module_version": "1.5.0",
          "state": {
            "_model_module": "@jupyter-widgets/controls",
            "_model_module_version": "1.5.0",
            "_model_name": "ProgressStyleModel",
            "_view_count": null,
            "_view_module": "@jupyter-widgets/base",
            "_view_module_version": "1.2.0",
            "_view_name": "StyleView",
            "bar_color": null,
            "description_width": ""
          }
        },
        "1148bf3cce8344d38254df93d843e313": {
          "model_module": "@jupyter-widgets/base",
          "model_name": "LayoutModel",
          "model_module_version": "1.2.0",
          "state": {
            "_model_module": "@jupyter-widgets/base",
            "_model_module_version": "1.2.0",
            "_model_name": "LayoutModel",
            "_view_count": null,
            "_view_module": "@jupyter-widgets/base",
            "_view_module_version": "1.2.0",
            "_view_name": "LayoutView",
            "align_content": null,
            "align_items": null,
            "align_self": null,
            "border": null,
            "bottom": null,
            "display": null,
            "flex": null,
            "flex_flow": null,
            "grid_area": null,
            "grid_auto_columns": null,
            "grid_auto_flow": null,
            "grid_auto_rows": null,
            "grid_column": null,
            "grid_gap": null,
            "grid_row": null,
            "grid_template_areas": null,
            "grid_template_columns": null,
            "grid_template_rows": null,
            "height": null,
            "justify_content": null,
            "justify_items": null,
            "left": null,
            "margin": null,
            "max_height": null,
            "max_width": null,
            "min_height": null,
            "min_width": null,
            "object_fit": null,
            "object_position": null,
            "order": null,
            "overflow": null,
            "overflow_x": null,
            "overflow_y": null,
            "padding": null,
            "right": null,
            "top": null,
            "visibility": null,
            "width": null
          }
        },
        "5cf8f3ad52a6456ebd71daf4730b8573": {
          "model_module": "@jupyter-widgets/controls",
          "model_name": "DescriptionStyleModel",
          "model_module_version": "1.5.0",
          "state": {
            "_model_module": "@jupyter-widgets/controls",
            "_model_module_version": "1.5.0",
            "_model_name": "DescriptionStyleModel",
            "_view_count": null,
            "_view_module": "@jupyter-widgets/base",
            "_view_module_version": "1.2.0",
            "_view_name": "StyleView",
            "description_width": ""
          }
        },
        "1baac6424a8c4acca87174a252e3aeba": {
          "model_module": "@jupyter-widgets/controls",
          "model_name": "HBoxModel",
          "model_module_version": "1.5.0",
          "state": {
            "_dom_classes": [],
            "_model_module": "@jupyter-widgets/controls",
            "_model_module_version": "1.5.0",
            "_model_name": "HBoxModel",
            "_view_count": null,
            "_view_module": "@jupyter-widgets/controls",
            "_view_module_version": "1.5.0",
            "_view_name": "HBoxView",
            "box_style": "",
            "children": [
              "IPY_MODEL_74f740d1887045c69561b56676b7fe48",
              "IPY_MODEL_11efbd80cb804fe8b6d27d5288607972",
              "IPY_MODEL_d61dae9e341c40a88e8e7253e6c8985b"
            ],
            "layout": "IPY_MODEL_0635315e552b4a2ab6869e91881ea0f2"
          }
        },
        "74f740d1887045c69561b56676b7fe48": {
          "model_module": "@jupyter-widgets/controls",
          "model_name": "HTMLModel",
          "model_module_version": "1.5.0",
          "state": {
            "_dom_classes": [],
            "_model_module": "@jupyter-widgets/controls",
            "_model_module_version": "1.5.0",
            "_model_name": "HTMLModel",
            "_view_count": null,
            "_view_module": "@jupyter-widgets/controls",
            "_view_module_version": "1.5.0",
            "_view_name": "HTMLView",
            "description": "",
            "description_tooltip": null,
            "layout": "IPY_MODEL_8ae2f93f9a0d4ea7a3e60fdc186f8405",
            "placeholder": "​",
            "style": "IPY_MODEL_ee21131ad306484f84ee724204bafaa8",
            "value": "Calculating Metrics: 100%"
          }
        },
        "11efbd80cb804fe8b6d27d5288607972": {
          "model_module": "@jupyter-widgets/controls",
          "model_name": "FloatProgressModel",
          "model_module_version": "1.5.0",
          "state": {
            "_dom_classes": [],
            "_model_module": "@jupyter-widgets/controls",
            "_model_module_version": "1.5.0",
            "_model_name": "FloatProgressModel",
            "_view_count": null,
            "_view_module": "@jupyter-widgets/controls",
            "_view_module_version": "1.5.0",
            "_view_name": "ProgressView",
            "bar_style": "success",
            "description": "",
            "description_tooltip": null,
            "layout": "IPY_MODEL_c500d37afef04dc3b0bf3aae45403cd4",
            "max": 4,
            "min": 0,
            "orientation": "horizontal",
            "style": "IPY_MODEL_6c7b93bb582643d7b857c5ee428f5dc0",
            "value": 4
          }
        },
        "d61dae9e341c40a88e8e7253e6c8985b": {
          "model_module": "@jupyter-widgets/controls",
          "model_name": "HTMLModel",
          "model_module_version": "1.5.0",
          "state": {
            "_dom_classes": [],
            "_model_module": "@jupyter-widgets/controls",
            "_model_module_version": "1.5.0",
            "_model_name": "HTMLModel",
            "_view_count": null,
            "_view_module": "@jupyter-widgets/controls",
            "_view_module_version": "1.5.0",
            "_view_name": "HTMLView",
            "description": "",
            "description_tooltip": null,
            "layout": "IPY_MODEL_44dcae154e644381a58ca0a80392e622",
            "placeholder": "​",
            "style": "IPY_MODEL_a040107698ec4630b7ef9247585b9105",
            "value": " 4/4 [00:00&lt;00:00, 69.06it/s]"
          }
        },
        "0635315e552b4a2ab6869e91881ea0f2": {
          "model_module": "@jupyter-widgets/base",
          "model_name": "LayoutModel",
          "model_module_version": "1.2.0",
          "state": {
            "_model_module": "@jupyter-widgets/base",
            "_model_module_version": "1.2.0",
            "_model_name": "LayoutModel",
            "_view_count": null,
            "_view_module": "@jupyter-widgets/base",
            "_view_module_version": "1.2.0",
            "_view_name": "LayoutView",
            "align_content": null,
            "align_items": null,
            "align_self": null,
            "border": null,
            "bottom": null,
            "display": null,
            "flex": null,
            "flex_flow": null,
            "grid_area": null,
            "grid_auto_columns": null,
            "grid_auto_flow": null,
            "grid_auto_rows": null,
            "grid_column": null,
            "grid_gap": null,
            "grid_row": null,
            "grid_template_areas": null,
            "grid_template_columns": null,
            "grid_template_rows": null,
            "height": null,
            "justify_content": null,
            "justify_items": null,
            "left": null,
            "margin": null,
            "max_height": null,
            "max_width": null,
            "min_height": null,
            "min_width": null,
            "object_fit": null,
            "object_position": null,
            "order": null,
            "overflow": null,
            "overflow_x": null,
            "overflow_y": null,
            "padding": null,
            "right": null,
            "top": null,
            "visibility": null,
            "width": null
          }
        },
        "8ae2f93f9a0d4ea7a3e60fdc186f8405": {
          "model_module": "@jupyter-widgets/base",
          "model_name": "LayoutModel",
          "model_module_version": "1.2.0",
          "state": {
            "_model_module": "@jupyter-widgets/base",
            "_model_module_version": "1.2.0",
            "_model_name": "LayoutModel",
            "_view_count": null,
            "_view_module": "@jupyter-widgets/base",
            "_view_module_version": "1.2.0",
            "_view_name": "LayoutView",
            "align_content": null,
            "align_items": null,
            "align_self": null,
            "border": null,
            "bottom": null,
            "display": null,
            "flex": null,
            "flex_flow": null,
            "grid_area": null,
            "grid_auto_columns": null,
            "grid_auto_flow": null,
            "grid_auto_rows": null,
            "grid_column": null,
            "grid_gap": null,
            "grid_row": null,
            "grid_template_areas": null,
            "grid_template_columns": null,
            "grid_template_rows": null,
            "height": null,
            "justify_content": null,
            "justify_items": null,
            "left": null,
            "margin": null,
            "max_height": null,
            "max_width": null,
            "min_height": null,
            "min_width": null,
            "object_fit": null,
            "object_position": null,
            "order": null,
            "overflow": null,
            "overflow_x": null,
            "overflow_y": null,
            "padding": null,
            "right": null,
            "top": null,
            "visibility": null,
            "width": null
          }
        },
        "ee21131ad306484f84ee724204bafaa8": {
          "model_module": "@jupyter-widgets/controls",
          "model_name": "DescriptionStyleModel",
          "model_module_version": "1.5.0",
          "state": {
            "_model_module": "@jupyter-widgets/controls",
            "_model_module_version": "1.5.0",
            "_model_name": "DescriptionStyleModel",
            "_view_count": null,
            "_view_module": "@jupyter-widgets/base",
            "_view_module_version": "1.2.0",
            "_view_name": "StyleView",
            "description_width": ""
          }
        },
        "c500d37afef04dc3b0bf3aae45403cd4": {
          "model_module": "@jupyter-widgets/base",
          "model_name": "LayoutModel",
          "model_module_version": "1.2.0",
          "state": {
            "_model_module": "@jupyter-widgets/base",
            "_model_module_version": "1.2.0",
            "_model_name": "LayoutModel",
            "_view_count": null,
            "_view_module": "@jupyter-widgets/base",
            "_view_module_version": "1.2.0",
            "_view_name": "LayoutView",
            "align_content": null,
            "align_items": null,
            "align_self": null,
            "border": null,
            "bottom": null,
            "display": null,
            "flex": null,
            "flex_flow": null,
            "grid_area": null,
            "grid_auto_columns": null,
            "grid_auto_flow": null,
            "grid_auto_rows": null,
            "grid_column": null,
            "grid_gap": null,
            "grid_row": null,
            "grid_template_areas": null,
            "grid_template_columns": null,
            "grid_template_rows": null,
            "height": null,
            "justify_content": null,
            "justify_items": null,
            "left": null,
            "margin": null,
            "max_height": null,
            "max_width": null,
            "min_height": null,
            "min_width": null,
            "object_fit": null,
            "object_position": null,
            "order": null,
            "overflow": null,
            "overflow_x": null,
            "overflow_y": null,
            "padding": null,
            "right": null,
            "top": null,
            "visibility": null,
            "width": null
          }
        },
        "6c7b93bb582643d7b857c5ee428f5dc0": {
          "model_module": "@jupyter-widgets/controls",
          "model_name": "ProgressStyleModel",
          "model_module_version": "1.5.0",
          "state": {
            "_model_module": "@jupyter-widgets/controls",
            "_model_module_version": "1.5.0",
            "_model_name": "ProgressStyleModel",
            "_view_count": null,
            "_view_module": "@jupyter-widgets/base",
            "_view_module_version": "1.2.0",
            "_view_name": "StyleView",
            "bar_color": null,
            "description_width": ""
          }
        },
        "44dcae154e644381a58ca0a80392e622": {
          "model_module": "@jupyter-widgets/base",
          "model_name": "LayoutModel",
          "model_module_version": "1.2.0",
          "state": {
            "_model_module": "@jupyter-widgets/base",
            "_model_module_version": "1.2.0",
            "_model_name": "LayoutModel",
            "_view_count": null,
            "_view_module": "@jupyter-widgets/base",
            "_view_module_version": "1.2.0",
            "_view_name": "LayoutView",
            "align_content": null,
            "align_items": null,
            "align_self": null,
            "border": null,
            "bottom": null,
            "display": null,
            "flex": null,
            "flex_flow": null,
            "grid_area": null,
            "grid_auto_columns": null,
            "grid_auto_flow": null,
            "grid_auto_rows": null,
            "grid_column": null,
            "grid_gap": null,
            "grid_row": null,
            "grid_template_areas": null,
            "grid_template_columns": null,
            "grid_template_rows": null,
            "height": null,
            "justify_content": null,
            "justify_items": null,
            "left": null,
            "margin": null,
            "max_height": null,
            "max_width": null,
            "min_height": null,
            "min_width": null,
            "object_fit": null,
            "object_position": null,
            "order": null,
            "overflow": null,
            "overflow_x": null,
            "overflow_y": null,
            "padding": null,
            "right": null,
            "top": null,
            "visibility": null,
            "width": null
          }
        },
        "a040107698ec4630b7ef9247585b9105": {
          "model_module": "@jupyter-widgets/controls",
          "model_name": "DescriptionStyleModel",
          "model_module_version": "1.5.0",
          "state": {
            "_model_module": "@jupyter-widgets/controls",
            "_model_module_version": "1.5.0",
            "_model_name": "DescriptionStyleModel",
            "_view_count": null,
            "_view_module": "@jupyter-widgets/base",
            "_view_module_version": "1.2.0",
            "_view_name": "StyleView",
            "description_width": ""
          }
        },
        "06905193b3ac4a008e4a8027a8f69328": {
          "model_module": "@jupyter-widgets/controls",
          "model_name": "HBoxModel",
          "model_module_version": "1.5.0",
          "state": {
            "_dom_classes": [],
            "_model_module": "@jupyter-widgets/controls",
            "_model_module_version": "1.5.0",
            "_model_name": "HBoxModel",
            "_view_count": null,
            "_view_module": "@jupyter-widgets/controls",
            "_view_module_version": "1.5.0",
            "_view_name": "HBoxView",
            "box_style": "",
            "children": [
              "IPY_MODEL_24c535a2f56440fe8992baaec48ff718",
              "IPY_MODEL_48addff158bb4a33a6c9a4f950e941a1",
              "IPY_MODEL_0411d8a8d2a0481ebef13a6a7d4f151a"
            ],
            "layout": "IPY_MODEL_2a6e97d213414bcdad0c7f41a4a978e4"
          }
        },
        "24c535a2f56440fe8992baaec48ff718": {
          "model_module": "@jupyter-widgets/controls",
          "model_name": "HTMLModel",
          "model_module_version": "1.5.0",
          "state": {
            "_dom_classes": [],
            "_model_module": "@jupyter-widgets/controls",
            "_model_module_version": "1.5.0",
            "_model_name": "HTMLModel",
            "_view_count": null,
            "_view_module": "@jupyter-widgets/controls",
            "_view_module_version": "1.5.0",
            "_view_name": "HTMLView",
            "description": "",
            "description_tooltip": null,
            "layout": "IPY_MODEL_77dd389f53a544379701df5eeaee5dfc",
            "placeholder": "​",
            "style": "IPY_MODEL_f618c7c9a7974f3cadb057359b7348b4",
            "value": "Calculating Metrics: 100%"
          }
        },
        "48addff158bb4a33a6c9a4f950e941a1": {
          "model_module": "@jupyter-widgets/controls",
          "model_name": "FloatProgressModel",
          "model_module_version": "1.5.0",
          "state": {
            "_dom_classes": [],
            "_model_module": "@jupyter-widgets/controls",
            "_model_module_version": "1.5.0",
            "_model_name": "FloatProgressModel",
            "_view_count": null,
            "_view_module": "@jupyter-widgets/controls",
            "_view_module_version": "1.5.0",
            "_view_name": "ProgressView",
            "bar_style": "success",
            "description": "",
            "description_tooltip": null,
            "layout": "IPY_MODEL_1fcf64c444a04b85b03dc738f96ce638",
            "max": 4,
            "min": 0,
            "orientation": "horizontal",
            "style": "IPY_MODEL_5d1ea2c1935342ebbf67bace9eb54515",
            "value": 4
          }
        },
        "0411d8a8d2a0481ebef13a6a7d4f151a": {
          "model_module": "@jupyter-widgets/controls",
          "model_name": "HTMLModel",
          "model_module_version": "1.5.0",
          "state": {
            "_dom_classes": [],
            "_model_module": "@jupyter-widgets/controls",
            "_model_module_version": "1.5.0",
            "_model_name": "HTMLModel",
            "_view_count": null,
            "_view_module": "@jupyter-widgets/controls",
            "_view_module_version": "1.5.0",
            "_view_name": "HTMLView",
            "description": "",
            "description_tooltip": null,
            "layout": "IPY_MODEL_fb53078e0d3d444fa3168d64a41fba36",
            "placeholder": "​",
            "style": "IPY_MODEL_f0a7117ddeec49eab899d21f622aa7a7",
            "value": " 4/4 [00:00&lt;00:00, 209.45it/s]"
          }
        },
        "2a6e97d213414bcdad0c7f41a4a978e4": {
          "model_module": "@jupyter-widgets/base",
          "model_name": "LayoutModel",
          "model_module_version": "1.2.0",
          "state": {
            "_model_module": "@jupyter-widgets/base",
            "_model_module_version": "1.2.0",
            "_model_name": "LayoutModel",
            "_view_count": null,
            "_view_module": "@jupyter-widgets/base",
            "_view_module_version": "1.2.0",
            "_view_name": "LayoutView",
            "align_content": null,
            "align_items": null,
            "align_self": null,
            "border": null,
            "bottom": null,
            "display": null,
            "flex": null,
            "flex_flow": null,
            "grid_area": null,
            "grid_auto_columns": null,
            "grid_auto_flow": null,
            "grid_auto_rows": null,
            "grid_column": null,
            "grid_gap": null,
            "grid_row": null,
            "grid_template_areas": null,
            "grid_template_columns": null,
            "grid_template_rows": null,
            "height": null,
            "justify_content": null,
            "justify_items": null,
            "left": null,
            "margin": null,
            "max_height": null,
            "max_width": null,
            "min_height": null,
            "min_width": null,
            "object_fit": null,
            "object_position": null,
            "order": null,
            "overflow": null,
            "overflow_x": null,
            "overflow_y": null,
            "padding": null,
            "right": null,
            "top": null,
            "visibility": null,
            "width": null
          }
        },
        "77dd389f53a544379701df5eeaee5dfc": {
          "model_module": "@jupyter-widgets/base",
          "model_name": "LayoutModel",
          "model_module_version": "1.2.0",
          "state": {
            "_model_module": "@jupyter-widgets/base",
            "_model_module_version": "1.2.0",
            "_model_name": "LayoutModel",
            "_view_count": null,
            "_view_module": "@jupyter-widgets/base",
            "_view_module_version": "1.2.0",
            "_view_name": "LayoutView",
            "align_content": null,
            "align_items": null,
            "align_self": null,
            "border": null,
            "bottom": null,
            "display": null,
            "flex": null,
            "flex_flow": null,
            "grid_area": null,
            "grid_auto_columns": null,
            "grid_auto_flow": null,
            "grid_auto_rows": null,
            "grid_column": null,
            "grid_gap": null,
            "grid_row": null,
            "grid_template_areas": null,
            "grid_template_columns": null,
            "grid_template_rows": null,
            "height": null,
            "justify_content": null,
            "justify_items": null,
            "left": null,
            "margin": null,
            "max_height": null,
            "max_width": null,
            "min_height": null,
            "min_width": null,
            "object_fit": null,
            "object_position": null,
            "order": null,
            "overflow": null,
            "overflow_x": null,
            "overflow_y": null,
            "padding": null,
            "right": null,
            "top": null,
            "visibility": null,
            "width": null
          }
        },
        "f618c7c9a7974f3cadb057359b7348b4": {
          "model_module": "@jupyter-widgets/controls",
          "model_name": "DescriptionStyleModel",
          "model_module_version": "1.5.0",
          "state": {
            "_model_module": "@jupyter-widgets/controls",
            "_model_module_version": "1.5.0",
            "_model_name": "DescriptionStyleModel",
            "_view_count": null,
            "_view_module": "@jupyter-widgets/base",
            "_view_module_version": "1.2.0",
            "_view_name": "StyleView",
            "description_width": ""
          }
        },
        "1fcf64c444a04b85b03dc738f96ce638": {
          "model_module": "@jupyter-widgets/base",
          "model_name": "LayoutModel",
          "model_module_version": "1.2.0",
          "state": {
            "_model_module": "@jupyter-widgets/base",
            "_model_module_version": "1.2.0",
            "_model_name": "LayoutModel",
            "_view_count": null,
            "_view_module": "@jupyter-widgets/base",
            "_view_module_version": "1.2.0",
            "_view_name": "LayoutView",
            "align_content": null,
            "align_items": null,
            "align_self": null,
            "border": null,
            "bottom": null,
            "display": null,
            "flex": null,
            "flex_flow": null,
            "grid_area": null,
            "grid_auto_columns": null,
            "grid_auto_flow": null,
            "grid_auto_rows": null,
            "grid_column": null,
            "grid_gap": null,
            "grid_row": null,
            "grid_template_areas": null,
            "grid_template_columns": null,
            "grid_template_rows": null,
            "height": null,
            "justify_content": null,
            "justify_items": null,
            "left": null,
            "margin": null,
            "max_height": null,
            "max_width": null,
            "min_height": null,
            "min_width": null,
            "object_fit": null,
            "object_position": null,
            "order": null,
            "overflow": null,
            "overflow_x": null,
            "overflow_y": null,
            "padding": null,
            "right": null,
            "top": null,
            "visibility": null,
            "width": null
          }
        },
        "5d1ea2c1935342ebbf67bace9eb54515": {
          "model_module": "@jupyter-widgets/controls",
          "model_name": "ProgressStyleModel",
          "model_module_version": "1.5.0",
          "state": {
            "_model_module": "@jupyter-widgets/controls",
            "_model_module_version": "1.5.0",
            "_model_name": "ProgressStyleModel",
            "_view_count": null,
            "_view_module": "@jupyter-widgets/base",
            "_view_module_version": "1.2.0",
            "_view_name": "StyleView",
            "bar_color": null,
            "description_width": ""
          }
        },
        "fb53078e0d3d444fa3168d64a41fba36": {
          "model_module": "@jupyter-widgets/base",
          "model_name": "LayoutModel",
          "model_module_version": "1.2.0",
          "state": {
            "_model_module": "@jupyter-widgets/base",
            "_model_module_version": "1.2.0",
            "_model_name": "LayoutModel",
            "_view_count": null,
            "_view_module": "@jupyter-widgets/base",
            "_view_module_version": "1.2.0",
            "_view_name": "LayoutView",
            "align_content": null,
            "align_items": null,
            "align_self": null,
            "border": null,
            "bottom": null,
            "display": null,
            "flex": null,
            "flex_flow": null,
            "grid_area": null,
            "grid_auto_columns": null,
            "grid_auto_flow": null,
            "grid_auto_rows": null,
            "grid_column": null,
            "grid_gap": null,
            "grid_row": null,
            "grid_template_areas": null,
            "grid_template_columns": null,
            "grid_template_rows": null,
            "height": null,
            "justify_content": null,
            "justify_items": null,
            "left": null,
            "margin": null,
            "max_height": null,
            "max_width": null,
            "min_height": null,
            "min_width": null,
            "object_fit": null,
            "object_position": null,
            "order": null,
            "overflow": null,
            "overflow_x": null,
            "overflow_y": null,
            "padding": null,
            "right": null,
            "top": null,
            "visibility": null,
            "width": null
          }
        },
        "f0a7117ddeec49eab899d21f622aa7a7": {
          "model_module": "@jupyter-widgets/controls",
          "model_name": "DescriptionStyleModel",
          "model_module_version": "1.5.0",
          "state": {
            "_model_module": "@jupyter-widgets/controls",
            "_model_module_version": "1.5.0",
            "_model_name": "DescriptionStyleModel",
            "_view_count": null,
            "_view_module": "@jupyter-widgets/base",
            "_view_module_version": "1.2.0",
            "_view_name": "StyleView",
            "description_width": ""
          }
        }
      }
    }
  },
  "nbformat": 4,
  "nbformat_minor": 0
}